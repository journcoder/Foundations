{
 "cells": [
  {
   "cell_type": "markdown",
   "metadata": {},
   "source": [
    "#Homework 11\n",
    "Lindsay Friedman\n",
    "\n",
    "**NOTEBOOKS FROM CLASS**\n",
    "\n",
    "    Homework: https://github.com/jsoma/lede-notes/blob/master/10-homework-walkthrough.ipynb\n",
    "    NYT: https://github.com/jsoma/lede-notes/blob/master/NYT-API.ipynb\n",
    "\n",
    "**HOT TIP**\n",
    "\n",
    "Apparently the requests library is made out of magic, and might save you a lot of time and typing:\n",
    "\n",
    "    import requests\n",
    "    response = requests.get(url)\n",
    "    data = requests.json()\n",
    "\n",
    "That'll download a page and parse the json instead of you doing the whole import urllib2/json dance.\n",
    "\n",
    "    All APIs: http://developer.nytimes.com/docs\n",
    "    Best-seller API: http://developer.nytimes.com/docs/books_api/Books_API_Best_Sellers\n",
    "    Article search API: http://developer.nytimes.com/docs/read/article_search_api_v2\n",
    "    Test/build queries: http://developer.nytimes.com/io-docs\n"
   ]
  },
  {
   "cell_type": "markdown",
   "metadata": {},
   "source": [
    "**1) What books topped the NYT best-sellers list on the day you were born?**\n"
   ]
  },
  {
   "cell_type": "code",
   "execution_count": 165,
   "metadata": {
    "collapsed": false
   },
   "outputs": [
    {
     "name": "stdout",
     "output_type": "stream",
     "text": [
      "COLUMBINE\n",
      "ARE YOU KIDDING ME?\n",
      "THE LOST CITY OF Z\n",
      "PRISONER OF THE STATE\n",
      "PAUL NEWMAN\n",
      "UNFINISHED BUSINESS\n",
      "THE FOOD OF A YOUNGER LAND\n",
      "FOOL'S GOLD\n",
      "CRAZY FOR THE STORM\n",
      "MANNAHATTA\n"
     ]
    }
   ],
   "source": [
    "import urllib2\n",
    "import json\n",
    "api_key=\"128bd31981f726dd4b186ba5fb0a1108:10:66383733\"\n",
    "url = \"http://api.nytimes.com/svc/books/v3/lists/2009-06-16/hardcover-nonfiction.json?offset=20&api-key=128bd31981f726dd4b186ba5fb0a1108%3A10%3A66383733\"\n",
    "response = urllib2.urlopen(url)\n",
    "contents = response.read()\n",
    "data = json.loads(contents)\n",
    "for i in range(10):\n",
    "   print data['results']['books'][i]['title']"
   ]
  },
  {
   "cell_type": "markdown",
   "metadata": {},
   "source": [
    "**2) Muammar Gaddafi's name can be transliterated many many ways. There are a million and one versions used for his last name - Gadafi, Gaddafi, Kadafi, and Qaddafi to name a few. How many times has the New York Times referred to him by each of those names?**\n",
    "\n",
    "    Tip: Add \"Libya\" to your search to make sure (-ish) you're talking about the right guy."
   ]
  },
  {
   "cell_type": "code",
   "execution_count": 144,
   "metadata": {
    "collapsed": false
   },
   "outputs": [
    {
     "data": {
      "text/plain": [
       "(\"The spelling 'Gaddafi' was used:\", 917, 'times.')"
      ]
     },
     "execution_count": 144,
     "metadata": {},
     "output_type": "execute_result"
    }
   ],
   "source": [
    "import requests\n",
    "#Gaddafi\n",
    "url1=\"http://api.nytimes.com/svc/search/v2/articlesearch.json?q=%27Gaddafi%27&api-key=5fff243f14c12178ec0deb4f0eaa7da2%3A0%3A66383733\"\n",
    "response = requests.get(url1)\n",
    "data = response.json()\n",
    "\"The spelling 'Gaddafi' was used:\", data['response']['meta']['hits'],\"times.\""
   ]
  },
  {
   "cell_type": "code",
   "execution_count": 166,
   "metadata": {
    "collapsed": false
   },
   "outputs": [
    {
     "data": {
      "text/plain": [
       "(\"The spelling 'Qaddafi' was used\", 6690, 'times.')"
      ]
     },
     "execution_count": 166,
     "metadata": {},
     "output_type": "execute_result"
    }
   ],
   "source": [
    "#Qaddafi\n",
    "url2 = \"http://api.nytimes.com/svc/search/v2/articlesearch.json?q=%27Qaddafi%27&api-key=5fff243f14c12178ec0deb4f0eaa7da2%3A0%3A66383733\"\n",
    "response = requests.get(url2)\n",
    "data = response.json()\n",
    "\"The spelling 'Qaddafi' was used\", data['response']['meta']['hits'] ,\"times.\"\n"
   ]
  },
  {
   "cell_type": "code",
   "execution_count": 167,
   "metadata": {
    "collapsed": false
   },
   "outputs": [
    {
     "data": {
      "text/plain": [
       "(\"The spelling 'Gadafi' was used\", 0, 'times.')"
      ]
     },
     "execution_count": 167,
     "metadata": {},
     "output_type": "execute_result"
    }
   ],
   "source": [
    "#Gadafi\n",
    "url3 = \"http://api.nytimes.com/svc/search/v2/articlesearch.json?q=%27Gadafi%27&api-key=5fff243f14c12178ec0deb4f0eaa7da2%3A0%3A66383733\"\n",
    "response = requests.get(url3)\n",
    "data = response.json()\n",
    "\"The spelling 'Gadafi' was used\", data['response']['meta']['hits'] ,\"times.\" #must not be in style book for NYT?"
   ]
  },
  {
   "cell_type": "code",
   "execution_count": 206,
   "metadata": {
    "collapsed": false
   },
   "outputs": [
    {
     "data": {
      "text/plain": [
       "(\"The spelling 'Kadafi' was used\", 4, 'times.')"
      ]
     },
     "execution_count": 206,
     "metadata": {},
     "output_type": "execute_result"
    }
   ],
   "source": [
    "#Kadafi\n",
    "url4 = \"http://api.nytimes.com/svc/search/v2/articlesearch.json?q=%27Kadafi%27&api-key=5fff243f14c12178ec0deb4f0eaa7da2%3A0%3A66383733\"\n",
    "response = requests.get(url4)\n",
    "data = response.json()\n",
    "\"The spelling 'Kadafi' was used\", data['response']['meta']['hits'] ,\"times.\""
   ]
  },
  {
   "cell_type": "markdown",
   "metadata": {},
   "source": [
    "**3) What's the title of the first story to mention the word 'hipster' in 1995? What's the first paragraph?**"
   ]
  },
  {
   "cell_type": "code",
   "execution_count": 171,
   "metadata": {
    "collapsed": false
   },
   "outputs": [
    {
     "name": "stdout",
     "output_type": "stream",
     "text": [
      "The fist story to mention 'hipster' in 1955 was: Reviews/Fashion;Where Supermodels Still Reign\n"
     ]
    }
   ],
   "source": [
    "url = \"http://api.nytimes.com/svc/search/v2/articlesearch.json?q=%22hipster%22+&fq=pub_year%3A+%221995%22&sort=oldest&page=2&api-key=5fff243f14c12178ec0deb4f0eaa7da2%3A0%3A66383733\"\n",
    "import requests\n",
    "response = requests.get(url)\n",
    "data = response.json()\n",
    "print \"The fist story to mention 'hipster' in 1955 was:\", data['response']['docs'][0]['headline']['main']\n"
   ]
  },
  {
   "cell_type": "code",
   "execution_count": 143,
   "metadata": {
    "collapsed": false
   },
   "outputs": [
    {
     "name": "stdout",
     "output_type": "stream",
     "text": [
      "The article's lead paragaph was: IT certainly wasn't for charity, but a tribute of sorts for that endangered species the supermodel took place last night on the runways of two designers, Todd Oldham and Tanya Sarne, whose clothes cater to the supermodel life. If supermodels are to make their last stand, there was probably no better place to do it than at one of Mr. Oldham's larger-than-life shows, where big-idea clothes fill the runway and B-list celebrities fill the front-row seats.\n"
     ]
    }
   ],
   "source": [
    "print \"The article's lead paragaph was:\", data['response']['docs'][0]['lead_paragraph']"
   ]
  },
  {
   "cell_type": "markdown",
   "metadata": {},
   "source": [
    "**4) How many times was gay marriage mentioned in the NYT between 1950-1959, 1960-1969, 1970-1978, 1980-1989, 1990-2099, 2000-2009, and 2010-present?**"
   ]
  },
  {
   "cell_type": "code",
   "execution_count": 205,
   "metadata": {
    "collapsed": false
   },
   "outputs": [
    {
     "name": "stdout",
     "output_type": "stream",
     "text": [
      "The NYT mentions gay marriage in the 50s 439 times, 360 times in the 60s, 420 times in the 70s, 368 times in the 80s, 1110 times in the 90s, 4862 times in the 00s and 4862 times in the 10s.\n"
     ]
    }
   ],
   "source": [
    "import urllib2\n",
    "import json\n",
    "\n",
    "url7= \"http://api.nytimes.com/svc/search/v2/articlesearch.json?q=%27gay+marriage%27&begin_date=19500101&end_date=19591231&api-key=5fff243f14c12178ec0deb4f0eaa7da2%3A0%3A66383733\"\n",
    "#1950-59\n",
    "response7 = urllib2.urlopen(url7)\n",
    "contents7 = response7.read()\n",
    "\n",
    "url8 = \"http://api.nytimes.com/svc/search/v2/articlesearch.json?q=%27gay+marriage%27&begin_date=19600101&end_date=19691231&api-key=5fff243f14c12178ec0deb4f0eaa7da2%3A0%3A66383733\"\n",
    "#1960-69\n",
    "response8 = urllib2.urlopen(url8)\n",
    "contents8 = response8.read()\n",
    "\n",
    "url9 = \"http://api.nytimes.com/svc/search/v2/articlesearch.json?q=%27gay+marriage%27&begin_date=19700101&end_date=19791231&api-key=5fff243f14c12178ec0deb4f0eaa7da2%3A0%3A66383733\"\n",
    "#1970- 79\n",
    "response9 = urllib2.urlopen(url9)\n",
    "contents9 = response9.read()\n",
    "\n",
    "url10 = \"http://api.nytimes.com/svc/search/v2/articlesearch.json?q=%27gay+marriage%27&begin_date=19800101&end_date=19891231&api-key=5fff243f14c12178ec0deb4f0eaa7da2%3A0%3A66383733\"\n",
    "#1980-89\n",
    "response10 = urllib2.urlopen(url10)\n",
    "contents10 = response10.read()\n",
    "\n",
    "url11 = \"http://api.nytimes.com/svc/search/v2/articlesearch.json?q=%27gay+marriage%27&begin_date=19900101&end_date=19991231&api-key=5fff243f14c12178ec0deb4f0eaa7da2%3A0%3A66383733\"\n",
    "#1990 - 99\n",
    "response11 = urllib2.urlopen(url11)\n",
    "contents11 = response11.read()\n",
    "\n",
    "url12 = \"http://api.nytimes.com/svc/search/v2/articlesearch.json?q=%27gay+marriage%27&begin_date=20000101&end_date=20091231&api-key=5fff243f14c12178ec0deb4f0eaa7da2%3A0%3A66383733\"\n",
    "#2000 - 2009\n",
    "response12 = urllib2.urlopen(url12)\n",
    "contents12 = response12.read()\n",
    "\n",
    "url13 = \"http://api.nytimes.com/svc/search/v2/articlesearch.json?q=%27gay+marriage%27&begin_date=20000101&end_date=20091231&api-key=5fff243f14c12178ec0deb4f0eaa7da2%3A0%3A66383733\"\n",
    "#2010 + \n",
    "response13 = urllib2.urlopen(url13)\n",
    "contents13 = response13.read()\n",
    "\n",
    "gay_marriage_50s = json.loads(contents7)\n",
    "gay_marriage_60s = json.loads(contents8)\n",
    "gay_marriage_70s = json.loads(contents9)\n",
    "gay_marriage_80s = json.loads(contents10)\n",
    "gay_marriage_90s = json.loads(contents11)\n",
    "gay_marriage_00s = json.loads(contents12)\n",
    "gay_marriage_10s = json.loads(contents13)\n",
    "\n",
    "print \"The NYT mentions gay marriage in the 50s\", gay_marriage_50s['response']['meta']['hits'],\"times,\",gay_marriage_60s['response']['meta']['hits'],\"times in the 60s,\", gay_marriage_70s['response']['meta']['hits'], \"times in the 70s,\",gay_marriage_80s['response']['meta']['hits'],\"times in the 80s,\", gay_marriage_90s['response']['meta']['hits'],\"times in the 90s,\",gay_marriage_00s['response']['meta']['hits'],\"times in the 00s and\",gay_marriage_10s['response']['meta']['hits'],\"times in the 10s.\""
   ]
  },
  {
   "cell_type": "markdown",
   "metadata": {
    "collapsed": false
   },
   "source": [
    "**5) What section talks about motorcycles the most?**"
   ]
  },
  {
   "cell_type": "code",
   "execution_count": 199,
   "metadata": {
    "collapsed": false
   },
   "outputs": [
    {
     "name": "stdout",
     "output_type": "stream",
     "text": [
      "Motorcyles are mentioned, 1465 times in the World section.\n",
      "Motorcyles are mentioned, 1030 times in the Sports section.\n",
      "Motorcyles are mentioned, 1025 times in the New York and Region section.\n",
      "Motorcyles are mentioned, 1008 times in the U.S. section.\n",
      "The NYT World section refers to motorcyles the most.\n"
     ]
    }
   ],
   "source": [
    "url = \"http://api.nytimes.com/svc/search/v2/articlesearch.json?q=%27motorcycle%27&facet_field=section_name&facet_filter=True&api-key=5fff243f14c12178ec0deb4f0eaa7da2%3A0%3A66383733\"\n",
    "import requests\n",
    "response = requests.get(url)\n",
    "data = response.json()\n",
    "\n",
    "for i in range(4):\n",
    "    print \"Motorcyles are mentioned,\", data['response']['facets']['section_name']['terms'][i]['count'], \"times in the\" , data['response']['facets']['section_name']['terms'][i]['term'],\"section.\"\n",
    "\n",
    "print \"The NYT World section refers to motorcyles the most.\"\n"
   ]
  },
  {
   "cell_type": "code",
   "execution_count": null,
   "metadata": {
    "collapsed": false
   },
   "outputs": [],
   "source": []
  },
  {
   "cell_type": "code",
   "execution_count": null,
   "metadata": {
    "collapsed": false
   },
   "outputs": [],
   "source": []
  },
  {
   "cell_type": "code",
   "execution_count": null,
   "metadata": {
    "collapsed": true
   },
   "outputs": [],
   "source": []
  }
 ],
 "metadata": {
  "kernelspec": {
   "display_name": "Python 2",
   "language": "python",
   "name": "python2"
  },
  "language_info": {
   "codemirror_mode": {
    "name": "ipython",
    "version": 2
   },
   "file_extension": ".py",
   "mimetype": "text/x-python",
   "name": "python",
   "nbconvert_exporter": "python",
   "pygments_lexer": "ipython2",
   "version": "2.7.10"
  }
 },
 "nbformat": 4,
 "nbformat_minor": 0
}
