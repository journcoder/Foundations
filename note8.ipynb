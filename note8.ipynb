{
 "cells": [
  {
   "cell_type": "markdown",
   "metadata": {},
   "source": [
    "#**Do Now Monday, June 29, 2015**\n",
    "\n",
    "*Reviewing: functions, lists*\n",
    "\n",
    "**1) Write a function called is_even that returns whether a value is even or not.**\n",
    "\n",
    "**2) Add together the second and fourth members of the list below.**\n",
    "\n",
    "    num = [4, 99, 32.0, 45.0, 2 ]\n",
    "\n",
    "**3) Count the number of Democrats that represent New York State in the Senate.**\n",
    "\n",
    "    senators = [\n",
    "    { 'name': 'Gillibrand', 'party': 'Democrat' },\n",
    "    { 'name': 'Schumer', 'party': 'Democrat' }\n",
    "    ]\n",
    "\n",
    "    Tip: list comprehension + .count() method\n",
    "\n",
    "**4a) Using the code below, make a list of all of the Supreme Court Justices' names. **\n",
    "\n",
    "    justices = [{ 'name': 'Scalia', 'vote': 'dissent' }, { 'name': 'Kennedy', 'vote': 'majority' }, { \n",
    "    'name':'Ginsburg', 'vote': 'majority' }, { 'name': 'Kagan', 'vote': 'majority' }, { 'name': 'Roberts', 'vote': \n",
    "    'dissent' }, { 'name': 'Alito', 'vote': 'dissent' }, { 'name': 'Thomas', 'vote': 'dissent' }, { 'name': \n",
    "    'Breyer', 'vote': 'majority' }, { 'name': 'Sotomayor', 'vote': 'majority' } ]\n",
    "\n",
    "**4b) Using a single list comprehension, list only the judges who sided with the majority opinion.** \n"
   ]
  },
  {
   "cell_type": "markdown",
   "metadata": {},
   "source": [
    "**1) Write a function called is_even that returns whether a value is even or not.**"
   ]
  },
  {
   "cell_type": "code",
   "execution_count": 2,
   "metadata": {
    "collapsed": false
   },
   "outputs": [
    {
     "name": "stdout",
     "output_type": "stream",
     "text": [
      "woof\n"
     ]
    }
   ],
   "source": [
    "is_even = True\n",
    "if is_even:\n",
    "    print 'woof'\n",
    "else: \n",
    "    print 'meow'"
   ]
  },
  {
   "cell_type": "markdown",
   "metadata": {},
   "source": [
    "**2) Add together the second and fourth members of the list below.**\n",
    "\n",
    "    num = [4, 99, 32.0, 45.0, 2 ]\n"
   ]
  },
  {
   "cell_type": "code",
   "execution_count": 11,
   "metadata": {
    "collapsed": false
   },
   "outputs": [
    {
     "data": {
      "text/plain": [
       "144.0"
      ]
     },
     "execution_count": 11,
     "metadata": {},
     "output_type": "execute_result"
    }
   ],
   "source": [
    "num =  [4, 99, 32.0, 45.0, 2 ]\n",
    "num[1] + num[3]\n"
   ]
  },
  {
   "cell_type": "markdown",
   "metadata": {},
   "source": [
    "**3) Count the number of Democrats that represent New York State in the Senate.**\n",
    "\n",
    "    senators = [\n",
    "    { 'name': 'Gillibrand', 'party': 'Democrat' },\n",
    "    { 'name': 'Schumer', 'party': 'Democrat' }\n",
    "    ]\n"
   ]
  },
  {
   "cell_type": "code",
   "execution_count": 8,
   "metadata": {
    "collapsed": false
   },
   "outputs": [
    {
     "data": {
      "text/plain": [
       "['Democrat', 'Democrat']"
      ]
     },
     "execution_count": 8,
     "metadata": {},
     "output_type": "execute_result"
    }
   ],
   "source": [
    "senators = [\n",
    "{ 'name': 'Gillibrand', 'party': 'Democrat' },\n",
    "{ 'name': 'Schumer', 'party': 'Democrat' }\n",
    "]\n",
    "\n",
    "[senator['party'] for senator in senators]"
   ]
  },
  {
   "cell_type": "markdown",
   "metadata": {},
   "source": [
    "**4a) Using the code below, make a list of all of the Supreme Court Justices' names.**\n",
    "\n",
    "    justices = [{ 'name': 'Scalia', 'vote': 'dissent' }, { 'name': 'Kennedy', 'vote': 'majority' }, { \n",
    "    'name':'Ginsburg', 'vote': 'majority' }, { 'name': 'Kagan', 'vote': 'majority' }, { 'name': 'Roberts', 'vote': \n",
    "    'dissent' }, { 'name': 'Alito', 'vote': 'dissent' }, { 'name': 'Thomas', 'vote': 'dissent' }, { 'name': \n",
    "    'Breyer', 'vote': 'majority' }, { 'name': 'Sotomayor', 'vote': 'majority' } ]\n"
   ]
  },
  {
   "cell_type": "code",
   "execution_count": 14,
   "metadata": {
    "collapsed": false
   },
   "outputs": [
    {
     "data": {
      "text/plain": [
       "['Scalia',\n",
       " 'Kennedy',\n",
       " 'Ginsburg',\n",
       " 'Kagan',\n",
       " 'Roberts',\n",
       " 'Alito',\n",
       " 'Thomas',\n",
       " 'Breyer',\n",
       " 'Sotomayor']"
      ]
     },
     "execution_count": 14,
     "metadata": {},
     "output_type": "execute_result"
    }
   ],
   "source": [
    "justices = [{ 'name': 'Scalia', 'vote': 'dissent' }, { 'name': 'Kennedy', 'vote': 'majority' }, { 'name': 'Ginsburg', 'vote': 'majority' }, { 'name': 'Kagan', 'vote': 'majority' }, { 'name': 'Roberts', 'vote': 'dissent' }, { 'name': 'Alito', 'vote': 'dissent' }, { 'name': 'Thomas', 'vote': 'dissent' }, { 'name': 'Breyer', 'vote': 'majority' }, { 'name': 'Sotomayor', 'vote': 'majority' } ]\n",
    "\n",
    "[justice['name'] for justice in justices]"
   ]
  },
  {
   "cell_type": "markdown",
   "metadata": {},
   "source": [
    "**4b) Using a single list comprehension, list only the judges who sided with the majority opinion.** \n",
    "\n"
   ]
  },
  {
   "cell_type": "code",
   "execution_count": 17,
   "metadata": {
    "collapsed": false
   },
   "outputs": [
    {
     "data": {
      "text/plain": [
       "['Kennedy', 'Ginsburg', 'Kagan', 'Breyer', 'Sotomayor']"
      ]
     },
     "execution_count": 17,
     "metadata": {},
     "output_type": "execute_result"
    }
   ],
   "source": [
    "[justice['name'] for justice in justices if justice['vote'] == 'majority']"
   ]
  },
  {
   "cell_type": "markdown",
   "metadata": {},
   "source": [
    "#CLASS NOTES \n",
    "\n",
    "**API** = Application Programming Interface \n",
    "\n",
    "visit site: http://forecast.io\n",
    "\n"
   ]
  },
  {
   "cell_type": "code",
   "execution_count": 20,
   "metadata": {
    "collapsed": false
   },
   "outputs": [
    {
     "data": {
      "text/plain": [
       "<addinfourl at 4372403264 whose fp = <socket._fileobject object at 0x1049fc6d0>>"
      ]
     },
     "execution_count": 20,
     "metadata": {},
     "output_type": "execute_result"
    }
   ],
   "source": [
    "import urllib2\n",
    "\n",
    "response = urllib2.urlopen('http://forecast.io')\n",
    "response"
   ]
  },
  {
   "cell_type": "code",
   "execution_count": 21,
   "metadata": {
    "collapsed": false
   },
   "outputs": [
    {
     "data": {
      "text/plain": [
       "'<!doctype html>\\n<html manifest=\"cache.desktop.manifest\">\\n<head>\\n  <meta charset=\"utf-8\">\\n  <title>Forecast</title>\\n\\n  <meta name=\"description\" content=\"Full-featured, global weather service, complete with 7-day forecasts that cover world, beautiful weather visualizations, and a time machine for exploring the weather in the past and far future.\">\\n  <meta name=\"apple-mobile-web-app-capable\" content=\"yes\">\\n  <meta name=\"apple-mobile-web-app-status-bar-style\" content=\"black\">\\n  <meta name=\"format-detection\" content=\"telephone=no\">\\n\\n  <script>\\n  window.mobile = false\\n  window.desktop = true\\n  \\n// FIXME: uncomment\\n//     if(navigator.userAgent.toLowerCase().indexOf(\"android\") > -1)\\n//       document.write(\\'<meta name=\"viewport\" content=\"width=882, maximum-scale=1.0\">\\')\\n//     else\\n//       document.write(\\'<meta name=\"viewport\" content=\"width=882, user-scalable=no\">\\')\\n  </script>\\n\\n  <link rel=\"apple-touch-icon-precomposed\" href=\"images/icons/54.png\">\\n  <link rel=\"apple-touch-icon-precomposed\" sizes=\"72x72\" href=\"images/icons/72.png\">\\n  <link rel=\"apple-touch-icon-precomposed\" sizes=\"114x114\" href=\"images/icons/114.png\">\\n  <link rel=\"apple-touch-icon-precomposed\" sizes=\"144x144\" href=\"images/icons/144.png\">\\n\\n  <link rel=\"stylesheet\" href=\"http://fast.fonts.com/t/1.css?apiType=css&projectid=278562c8-71b8-4a51-999f-6bcf38989892\">\\n\\n  <link rel=\"stylesheet\" href=\"css/desktop.css?rel=1421366657919\">\\n</head>\\n<body class=\"desktop show_sponsor\">\\n  <!-- BuySellAds Ad Code -->\\n  <script type=\"text/javascript\">\\n  (function(){\\n    var bsa = document.createElement(\\'script\\');\\n       bsa.type = \\'text/javascript\\';\\n       bsa.async = true;\\n       bsa.src = \\'http://s3.buysellads.com/ac/bsa.js\\';\\n    (document.getElementsByTagName(\\'head\\')[0]||document.getElementsByTagName(\\'body\\')[0]).appendChild(bsa);\\n  })();\\n  </script>\\n  <!-- End BuySellAds Ad Code -->\\n\\n  <!-- TEST -->\\n  <div class=\"inner\">\\n    \\n    <div id=\"search_area\">\\n      <div class=\"inner\">\\n        \\n        <div class=\"logo\"><a href=\"/\">Forecast.io</a></div>\\n        \\n        <div class=\"refresh loading\">\\n          <span class=\"pictos icon\">1</span>\\n          <span class=\"text\">refresh</span>\\n          <span class=\"pictos dotdotdot\">.</span>\\n        </div>\\n        \\n        <div class=\"location_controls\">\\n          <input class=\"location_field\" type=\"text\" placeholder=\"Enter a location\" x-webkit-speech />\\n          <div class=\"clear pictos\">*</div>\\n        </div>\\n        \\n        <div class=\"buttons\">\\n          <div class=\"forecast button\">\\n            <span class=\"icon\">Y</span>\\n            <span class=\"label\">forecast</span>\\n          </div>\\n          \\n          <div class=\"time_machine button\">\\n            <span class=\"icon\">t</span>\\n            <span class=\"label\">time machine</span>\\n          </div>\\n          \\n          <div class=\"stats button\" style=\"display:none\">\\n            <span class=\"icon\">Y</span>\\n            <span class=\"label\">stats</span>\\n          </div>\\n          \\n          <div class=\"time_machine_modal\">\\n            <div class=\"inner\">\\n              <h2>Enter a date to explore the weather at this location in the past or the future.</h2>\\n              \\n              <span class=\"datepicker\">\\n                <span class=\"pictos\">\\\\</span>\\n                <input type=\"text\" />\\n              </span>\\n              \\n              <input type=\"text\" class=\"time_field\" placeholder=\"e.g. December 18, 1981\" />\\n              \\n              <div class=\"time_submit no-select\">\\n                <div class=\"inner\">\\n                  <span class=\"pictos\">,</span>\\n                  Activate Time Machine!\\n                </div>\\n              </div>\\n              \\n              <div class=\"error\">Oops! Invalid date.</div>\\n            </div>\\n          </div>\\n          \\n        </div>\\n        \\n        <a href=\"javascript:;\" class=\"stats_forecast_link\" style=\"display:none\">\\n          <span class=\"icon\"></span>\\n          <span class=\"text\"></span>\\n        </a>\\n        \\n        <div id=\"units_toggle\">\\n          <span class=\"f selected\">&deg;F</span>\\n          <span class=\"slash\">/</span>\\n          <span class=\"c\">&deg;C</span>\\n        </div>\\n        \\n      </div>\\n    </div>\\n\\n    <div id=\"location_strip\">\\n      \\n      <div id=\"current_location_entry\" class=\"saved_forecast permanent\">\\n        <span class=\"forecast_name\">\\n          <img width=\"13\" height=\"13\" style=\"position: relative; top: 1px\" alt=\"Location Services\" src=\"data:image/png;base64,iVBORw0KGgoAAAANSUhEUgAAABoAAAAaCAYAAACpSkzOAAACHklEQVR42rWVT2iSYRzHN2fNZovtHaztJd6IRsIaY64RYx6kw6BA6FCEeejgMW/dskNQeBjCmHQwQshLgh2CtIjx8m7gVfAm6EEQEUEUBMV/KNr3J0+8oeNNk+cHH17e33P48H2e38Mzw6lmwWVgAHODTr/fn4aLBPNgBUhgjcmmFg0nEMAGOHC73c/S6bSL+lOLmOASWAK3SWC3253JZPIz1s8VRTlATzeV6C/BLbBvs9lexOPxQK/XOydJuVw+GWwjq/8R6ME1cBPct1qtz2OxmL/b7Z6RgHEWjUZ3B4lZTSpYBBLYM5vNT2VZ/tDpdBRVAECxWDz6czZji9h4XgU3wK7JZHociUSOW62WPCwgsHVKKBS6y9Ko9Q+BEYhgR5IkWzgcPmo2m6ejApVCofBOTaMhYlOyANbBtiAID4PB4PtqtfpLS8DSyIFAYGMkDWpYcAVcB1tGo/HQ7/e/rVQqP7QFKrlc7g2bxtFiAgNYBZt6vf6B1+t9XSqVvo8rIDB1pz6fT5rRqDmwDO4ggRPz/3V8gUo2m31Fk6kl0uXz+X1M0ceJBQyM+E+Px7OuJZn0sooXiTKZzEtKw1XUbrejLpdrhRa5ilKplJPOmasI5/rN4XAs0wJXEZ4DB6XhKmo0GmGLxbJITa6iRCLxhK4GL9EaSWq12hdRFBeox0skkAgv6SNKw1NkwKR9oi/98xTp6vX6PfpyEGkzbv0GanL/1xkqi7UAAAAASUVORK5CYII=\">\\n          Current Location\\n        </span>\\n      </div>\\n      \\n      <div id=\"location_list\">\\n        <script id=\"saved_forecast_template\" type=\"text/x-handlebars-template\">\\n          <div class=\"saved_forecast editable\" data-lat=\"{{lat}}\" data-lon=\"{{lon}}\">\\n            <span class=\"forecast_name\">{{name}}</span>\\n            <span class=\"delete_button\"></span>\\n          </div>\\n        </script>\\n      </div>\\n\\n      <div id=\"location_editing\" class=\"btn-group\">\\n        <button id=\"add_location_button\" class=\"btn btn-mini btn-inverse\"><span>Add</span></button>\\n        <button id=\"edit_locations_button\" class=\"btn btn-mini btn-inverse\"><span>Edit</span></button>\\n      </div>\\n\\n    </div>\\n\\n    <div id=\"main\">\\n      \\n      <!-- Loading screen -->\\n      <div id=\"loading\" class=\"revealed\">\\n        LOADING\\xe2\\x80\\xa6\\n<!-- \\n        <canvas id=\"loader_canvas\" width=\"256\" height=\"256\"></canvas>\\n -->\\n      </div>\\n      \\n      <!-- The main forecast page, including current conditions, radar, and 7 day outlook -->\\n      <div id=\"forecast\" class=\"page\" style=\"display:none\">\\n        \\n        <div id=\"alerts\" style=\"display:none\">\\n          <div class=\"inner\"></div>\\n          \\n          <div class=\"pagination\">\\n            <a href=\"javascript:;\" onclick=\"UIManager.next_alert()\">\\n              <span class=\"num\">1 of 2</span>\\n              <span class=\"pictos\">]</span>\\n            </a>\\n          </div>\\n        </div>\\n        \\n        <div id=\"map\" class=\"hide_controls\">\\n          <div class=\"top_bar\">\\n            <div class=\"label\">Precip Map</div>\\n            <ul class=\"levels segmented-control\"></ul>\\n            <div class=\"time\"><span></span></div>\\n          </div>\\n          \\n          <div class=\"global_shadow\"></div>\\n          \\n          <div class=\"mask\">\\n            <div class=\"mask_top\"></div>\\n            <div class=\"mask_bottom\"></div>\\n            <div class=\"mask_left\"></div>\\n            <div class=\"mask_right\"></div>\\n          </div>\\n          \\n          <div class=\"map_container\">\\n            <canvas width=\"500\" height=\"500\" style=\"width:500px; height: 500px\"></canvas>\\n            <div class=\"cities\"></div>\\n            <div class=\"location\">\\n              <span class=\"pointer\"></span>\\n              <span class=\"shadow\"></span>\\n            </div>\\n            <div class=\"loading\">LOADING</div>\\n            <div class=\"disabled\">NO RADAR AVAILABLE AT THIS TIME</div>\\n          </div>\\n          \\n          <div id=\"fps\"></div>\\n          \\n          <div class=\"controls\">\\n            \\n            <div class=\"timeline\">\\n              <div class=\"progress\">\\n                <span class=\"pre\"></span>\\n                <span class=\"post\"></span>\\n              </div>\\n              <div class=\"labels\"></div>\\n              <div class=\"slider\">\\n                <div class=\"handle\">\\n                  <span class=\"line\"></span>\\n                </div>\\n              </div>\\n            </div>\\n            \\n            <div class=\"play_button paused\"></div>\\n          </div>\\n          \\n          <div class=\"load_animation\">\\n            <span class=\"pictos\">9</span>\\n            <span>Click to load animation</span>\\n          </div>\\n          \\n          <div class=\"load_animation_small\">\\n            <span class=\"pictos\">9</span>\\n          </div>\\n          \\n        </div>\\n        \\n        <div class=\"overview_container clear\">\\n          <div class=\"inner\">\\n          \\n            <section class=\"currently section\">\\n              <div class=\"inner\">\\n                <h2>RIGHT NOW <span class=\"more_button pictos\">+</span></h2>\\n                \\n                <div class=\"current_container\">\\n                  <div class=\"less\">\\n                    <canvas id=\"icon_current\" width=\"82\" height=\"82\" style=\"width:82px; height: 82px\"></canvas>\\n                    <div class=\"temp\"></div>\\n                    <div class=\"desc\"></div>\\n                  </div>\\n                  \\n                  <div class=\"more\">\\n                    <div class=\"temps\">\\n                      <div class=\"dir m\"></div>\\n                      <div class=\"high_low\"></div>\\n                    </div>\\n                    \\n                    <div class=\"table\">\\n                      <div class=\"wind\">\\n                        <span class=\"label\">Wind:</span>\\n                        <span class=\"val\"></span>\\n                      </div>\\n                      <div class=\"humidity\">\\n                        <span class=\"label\">Humidity:</span>\\n                        <span class=\"val\"></span>\\n                      </div>\\n                      <div class=\"dewpoint\">\\n                        <span class=\"label\">Dew Pt:</span>\\n                        <span class=\"val\"></span>\\n                      </div>\\n                      <div class=\"visibility\">\\n                        <span class=\"label\">Visibility:</span>\\n                        <span class=\"val\"></span>\\n                      </div>\\n                      <div class=\"pressure\">\\n                        <span class=\"label\">Pressure:</span>\\n                        <span class=\"val\"></span>\\n                      </div>\\n                    </div>\\n                  </div>\\n                </div>\\n                \\n              </div>\\n            </section>\\n            \\n            <section class=\"next_hour section\">\\n              <div class=\"inner\">\\n                <h2>NEXT HOUR</h2>\\n                <div class=\"desc\"></div>\\n              </div>\\n            </section>\\n            \\n            <section class=\"next_24_hours section\">\\n              <div class=\"inner\">\\n                <h2>NEXT 24 HOURS</h2>\\n                <div class=\"desc\"></div>\\n              </div>\\n            </section>\\n            \\n            <section class=\"next_7_days section\">\\n              <div class=\"inner\">\\n                <h2>NEXT 7 DAYS</h2>\\n                <div class=\"desc\"></div>\\n              </div>\\n            </section>\\n            \\n          </div>\\n        </div>\\n        \\n        <div style=\"clear: left\"></div>\\n        \\n        <div id=\"bannerad\" style=\"margin:10px auto 26px;width:728px;height:90px;\">\\n          <!-- BuySellAds Zone Code -->\\n          <div id=\"bsap_1300774\" class=\"bsarocks bsap_1bc4b9f2994d5428847752e67167714e\"></div>\\n          <!-- End BuySellAds Zone Code -->\\n        </div>\\n  \\n        <script id=\"day_template\" type=\"text/x-handlebars-template\">\\n          <div data-time=\"{{date}}\" class=\"day panel {{conditions}}\">\\n            <div class=\"top\">\\n              <div class=\"state_color\"><span></span></div>\\n              <div class=\"day_name\">{{name}}</div>\\n              <div class=\"day_icon\"></div>\\n              <div class=\"day_text_wrapper\">\\n                <p class=\"day_text\">{{summary}}</p>\\n              </div>\\n              <div class=\"temperature_range\">\\n                <div class=\"ranger\">\\n                  <span class=\"temperature_min\">{{temperature_min}}&deg;</span>  \\n                  <span class=\"temperature_max\">{{temperature_max}}&deg;</span>\\n                </div>\\n              </div>\\n              \\n              <div class=\"button\">\\n                <span class=\"plus\">+</span>\\n                <span class=\"minus\">-</span>\\n              </div>\\n            </div>\\n            \\n            <div class=\"loading\" style=\"display:none\">\\n              LOADING\\n            </div>\\n            \\n            <div class=\"details\" style=\"display:none\">\\n              <div class=\"text\"></div>\\n              \\n              <div class=\"timeline_container\">\\n                <div class=\"timeline\">\\n                  <div class=\"stripes\"></div>\\n                  <div class=\"hour_ticks\"></div>\\n                  <div class=\"hours\"></div>\\n                  <div class=\"temps\"></div>\\n                </div>\\n              </div>\\n\\n            </div>\\n            \\n          </div>\\n        </script>\\n        \\n        <div id=\"outlook\"></div>\\n        \\n        <div id=\"forecast_lines\">\\n          <h2>\\n          <a href=\"/lines\">FORECAST LINES</a>\\n          </h2>\\n          \\n          <p>\\n          View <a href=\"/lines\">detailed forecast graphs</a> for this location.\\n          These graphs show you the range of possible forecasts overlaid with our \"best guess\", so you can see at a glance what will happen over the course of the next week and where we are most\\xe2\\x80\\x93 and least\\xe2\\x80\\x93confident in our predictions.\\n          </p>\\n          \\n          <a href=\"/lines\">\\n            <div id=\"temp_lines\"></div>\\n            <div id=\"precip_lines\"></div>\\n          </a>\\n          \\n          <div class=\"labels\">\\n            <span>Temperature</span>\\n            <span>Precipitation</span>\\n          </div>\\n        </div>\\n        \\n        <div id=\"weather_maps\">\\n          <h2>\\n          <a href=\"/atlas\">WEATHER ATLAS</a>\\n          </h2>\\n          \\n          <p>\\n          View <a href=\"/atlas\">high-definition maps</a> of current temperature and precipitation around the world. These images give you the big picture of what\\'s happening right now, everywhere on Planet Earth.</a>\\n          </p>\\n          \\n          <a href=\"/atlas\" class=\"img_link temperature\">\\n            <img src=\"\" width=\"400\" height=\"250\" />\\n            <span>Temperature</span>\\n          </a>\\n          \\n          <a href=\"/atlas\" class=\"img_link precipitation\">\\n            <img src=\"\" width=\"400\" height=\"250\" />\\n            <span>Precipitation</span>\\n          </a>\\n        </div>\\n  \\n      </div>\\n      \\n      \\n      <!-- Location stats page -->\\n      <div id=\"location_stats\" class=\"page\" style=\"display:none\">\\n        <h2>Average Yearly Temperature</h2>\\n        <div class=\"plot_container\"></div>\\n        \\n        <h2>Monthly Stats</h2>\\n        <div class=\"monthly\"></div>\\n      </div>\\n      \\n      <!-- Time machine page -->\\n      <div id=\"time_machine\" class=\"page\" style=\"display:none\">\\n        \\n        <div class=\"overview\">\\n          <div class=\"back\">\\n            <a href=\"/\">Back to Forecast</a>\\n          </div>\\n          <div class=\"day_time\"></div>\\n          <div class=\"day_summary\"></div>\\n          <div class=\"beta_note\">(NOTE: Time Machine is still experimental. <a href=\"/contact.html\">Let us know</a> if you encounter any problems.)</div>\\n        </div>\\n        \\n        <div class=\"timeline_container\">\\n          <div class=\"timeline\">\\n            <div class=\"stripes\"></div>\\n            <div class=\"hour_ticks\"></div>\\n            <div class=\"hours\"></div>\\n            <div class=\"temps\"></div>\\n            \\n            <div class=\"slider\">\\n              <div class=\"handle minimized\">\\n                <span class=\"line\"></span>\\n              </div>\\n            </div>\\n          </div>\\n        </div>\\n        \\n        <div class=\"slider_details\">\\n          <div class=\"inner\">\\n            <div class=\"time\"></div>\\n            <div class=\"summary\"></div>\\n            \\n            <table>\\n              <thead>\\n                <tr></tr>\\n              </thead>\\n              <tbody>\\n                <tr class=\"val\"></tr>\\n                <tr class=\"error\"></tr>\\n              </tbody>\\n            </table>\\n          </div>\\n        </div>\\n        \\n        <div class=\"share\">\\n          <span>Share this day:</span>\\n          <a class=\"facebook\" target=\"_blank\" href=\"http://www.facebook.com/sharer/sharer.php?u=\"></a>\\n          <a class=\"twitter\" target=\"_blank\" href=\"http://twitter.com/home?status=\"></a>\\n          <a class=\"gplus\" target=\"_blank\" href=\"https://plusone.google.com/_/+1/confirm?hl=en&url=\"></a>\\n        </div>\\n        \\n      </div>\\n            \\n      <!-- Install to Home Screen display -->\\n      <div id=\"iphone_install\" style=\"display:none\">\\n        <div class=\"top\">\\n          Download the Forecast mobile app for free.\\n        </div>\\n        \\n        <p>\\n        Simply tap the <img class=\"share\" src=\"images/iphone_share.png\" /> button below, and choose \"Add to Home Screen\".\\n        </p>\\n        \\n        <p>\\n        The mobile app will then be installed as an icon on your home screen.\\n        </p>\\n        \\n        <p class=\"arrow\">\\xe2\\x86\\x93</p>\\n      </div>\\n      \\n      <!-- Mobile version link (for non-iPhones) -->\\n      <div id=\"mobile_link\" style=\"display:none\">\\n        <a href=\"?mobile=1\">View the mobile version.</a>\\n      </div>\\n      \\n      <!-- Error page -->\\n      <div id=\"error\" class=\"page\" style=\"display:none\">\\n        \\n        <div class=\"location error\" style=\"display:none\">\\n          <h2>Cannot find that location</h2>\\n          <div>Sorry about that! Make sure it is spelled correctly, or try some alternatives.</div>\\n        </div>\\n        \\n        <div class=\"forecast error\" style=\"display:none\">\\n          <h2>No forecast for this location</h2>\\n          <div>Looks like we don\\'t have a forecast for this location. Make sure it is spelled correctly, or try some alternatives.</div>\\n        </div>\\n        \\n        <div class=\"time_machine error\" style=\"display:none\">\\n          <h2>No data found</h2>\\n          <div>Looks like we don\\'t have historical data for this location at the given time. Sorry about that! Perhaps try a different time or place.</div>\\n        </div>\\n\\n        <div class=\"old_ie error\" style=\"display:none\">\\n          <h2>Sorry, Forecast does not support your version of Internet Explorer</h2>\\n          <p>We only support versions 9 and 10 of Internet Explorer. <a href=\"http://microsoft.com/ie\" target=\"_blank\">Click here to upgrade.</a></p>\\n        </div>\\n\\n        <div class=\"old_firefox error\" style=\"display:none\">\\n          <h2>I\\'m sorry, but you\\'ll need to <a href=\\'https://www.mozilla.org/firefox\\' target=\\'_blank\\'>update your version of Firefox</a></h2>\\n        </div>\\n\\n        <div class=\"old_safari error\" style=\"display:none\">\\n          <h2>I\\'m sorry, but your version of Safari is too old, please run Software Update</h2>\\n        </div>\\n\\n        <div class=\"beta_mobile_support error\" style=\"display:none\">\\n          <h2>Sorry, the Forecast beta does not yet work on mobile devices</h2>\\n        </div>\\n\\n        <div class=\"not_online error\" style=\"display:none\">\\n          <h2>Oops, but it looks like you aren\\'t connected to the Internet</h2>\\n        </div>\\n\\n      </div>\\n\\n    </div>\\n    \\n    <!-- Footer content -->\\n    <div id=\"footer\">\\n      <ul>\\n        <li class=\"heading\">Other Apps:</li>\\n        <li><a href=\"/\">Forecast.io</a></li>\\n        <li><a href=\"http://darkskyapp.com\">Dark Sky for <span style=\"text-transform:lowercase\">i</span>OS</a></li>\\n        <li><a href=\"/powered-by.html\">3rd Party Apps</a></li>\\n      </ul>\\n      \\n      <ul>\\n        <li class=\"heading\">Developers:</li>\\n        <li><a href=\"https://developer.forecast.io\">Forecast API</a></li>\\n        <li><a href=\"/raw\">Our Data Sources</a></li>\\n        <li><a href=\"http://blog.forecast.io/forecast-embeds/\">HTML Embed / Widget</a></li>\\n      </ul>\\n      \\n      <ul>\\n        <li><a href=\"http://blog.forecast.io\">Blog</a></li>\\n        <li><a href=\"/contact.html\">Contact</a></li>\\n        <li><a href=\"/privacy.html\">Privacy</a></li>\\n        <li><a href=\"/sponsors.html\">Advertise</a></li>\\n      </ul>\\n    </div>\\n    \\n  </div>\\n  <script src=\"js/desktop.min.js?rel=1421366657919\"></script>\\n  \\n  <script src=\"js/app/analytics.js\"></script>\\n\\n</body>\\n</html>'"
      ]
     },
     "execution_count": 21,
     "metadata": {},
     "output_type": "execute_result"
    }
   ],
   "source": [
    "content = response.read()\n",
    "content"
   ]
  },
  {
   "cell_type": "code",
   "execution_count": 22,
   "metadata": {
    "collapsed": true
   },
   "outputs": [],
   "source": [
    "#forecast.io API https://developer.forecast.io/"
   ]
  },
  {
   "cell_type": "code",
   "execution_count": 30,
   "metadata": {
    "collapsed": false
   },
   "outputs": [
    {
     "data": {
      "text/plain": [
       "'{\"latitude\":37.8267,\"longitude\":-122.423,\"timezone\":\"America/Los_Angeles\",\"offset\":-7,\"currently\":{\"time\":1435588787,\"summary\":\"Mostly Cloudy\",\"icon\":\"partly-cloudy-day\",\"nearestStormDistance\":0,\"precipIntensity\":0,\"precipProbability\":0,\"temperature\":57.49,\"apparentTemperature\":57.49,\"dewPoint\":53.26,\"humidity\":0.86,\"windSpeed\":6.11,\"windBearing\":273,\"visibility\":7.24,\"cloudCover\":0.87,\"pressure\":1015.46,\"ozone\":307.41},\"minutely\":{\"summary\":\"Mostly cloudy for the hour.\",\"icon\":\"partly-cloudy-day\",\"data\":[{\"time\":1435588740,\"precipIntensity\":0,\"precipProbability\":0},{\"time\":1435588800,\"precipIntensity\":0,\"precipProbability\":0},{\"time\":1435588860,\"precipIntensity\":0,\"precipProbability\":0},{\"time\":1435588920,\"precipIntensity\":0,\"precipProbability\":0},{\"time\":1435588980,\"precipIntensity\":0,\"precipProbability\":0},{\"time\":1435589040,\"precipIntensity\":0,\"precipProbability\":0},{\"time\":1435589100,\"precipIntensity\":0,\"precipProbability\":0},{\"time\":1435589160,\"precipIntensity\":0,\"precipProbability\":0},{\"time\":1435589220,\"precipIntensity\":0,\"precipProbability\":0},{\"time\":1435589280,\"precipIntensity\":0,\"precipProbability\":0},{\"time\":1435589340,\"precipIntensity\":0,\"precipProbability\":0},{\"time\":1435589400,\"precipIntensity\":0,\"precipProbability\":0},{\"time\":1435589460,\"precipIntensity\":0,\"precipProbability\":0},{\"time\":1435589520,\"precipIntensity\":0,\"precipProbability\":0},{\"time\":1435589580,\"precipIntensity\":0,\"precipProbability\":0},{\"time\":1435589640,\"precipIntensity\":0,\"precipProbability\":0},{\"time\":1435589700,\"precipIntensity\":0,\"precipProbability\":0},{\"time\":1435589760,\"precipIntensity\":0,\"precipProbability\":0},{\"time\":1435589820,\"precipIntensity\":0,\"precipProbability\":0},{\"time\":1435589880,\"precipIntensity\":0,\"precipProbability\":0},{\"time\":1435589940,\"precipIntensity\":0,\"precipProbability\":0},{\"time\":1435590000,\"precipIntensity\":0,\"precipProbability\":0},{\"time\":1435590060,\"precipIntensity\":0,\"precipProbability\":0},{\"time\":1435590120,\"precipIntensity\":0,\"precipProbability\":0},{\"time\":1435590180,\"precipIntensity\":0,\"precipProbability\":0},{\"time\":1435590240,\"precipIntensity\":0,\"precipProbability\":0},{\"time\":1435590300,\"precipIntensity\":0,\"precipProbability\":0},{\"time\":1435590360,\"precipIntensity\":0,\"precipProbability\":0},{\"time\":1435590420,\"precipIntensity\":0,\"precipProbability\":0},{\"time\":1435590480,\"precipIntensity\":0,\"precipProbability\":0},{\"time\":1435590540,\"precipIntensity\":0,\"precipProbability\":0},{\"time\":1435590600,\"precipIntensity\":0,\"precipProbability\":0},{\"time\":1435590660,\"precipIntensity\":0,\"precipProbability\":0},{\"time\":1435590720,\"precipIntensity\":0,\"precipProbability\":0},{\"time\":1435590780,\"precipIntensity\":0,\"precipProbability\":0},{\"time\":1435590840,\"precipIntensity\":0,\"precipProbability\":0},{\"time\":1435590900,\"precipIntensity\":0,\"precipProbability\":0},{\"time\":1435590960,\"precipIntensity\":0,\"precipProbability\":0},{\"time\":1435591020,\"precipIntensity\":0,\"precipProbability\":0},{\"time\":1435591080,\"precipIntensity\":0,\"precipProbability\":0},{\"time\":1435591140,\"precipIntensity\":0,\"precipProbability\":0},{\"time\":1435591200,\"precipIntensity\":0,\"precipProbability\":0},{\"time\":1435591260,\"precipIntensity\":0,\"precipProbability\":0},{\"time\":1435591320,\"precipIntensity\":0,\"precipProbability\":0},{\"time\":1435591380,\"precipIntensity\":0,\"precipProbability\":0},{\"time\":1435591440,\"precipIntensity\":0,\"precipProbability\":0},{\"time\":1435591500,\"precipIntensity\":0,\"precipProbability\":0},{\"time\":1435591560,\"precipIntensity\":0,\"precipProbability\":0},{\"time\":1435591620,\"precipIntensity\":0,\"precipProbability\":0},{\"time\":1435591680,\"precipIntensity\":0,\"precipProbability\":0},{\"time\":1435591740,\"precipIntensity\":0,\"precipProbability\":0},{\"time\":1435591800,\"precipIntensity\":0,\"precipProbability\":0},{\"time\":1435591860,\"precipIntensity\":0,\"precipProbability\":0},{\"time\":1435591920,\"precipIntensity\":0,\"precipProbability\":0},{\"time\":1435591980,\"precipIntensity\":0,\"precipProbability\":0},{\"time\":1435592040,\"precipIntensity\":0,\"precipProbability\":0},{\"time\":1435592100,\"precipIntensity\":0,\"precipProbability\":0},{\"time\":1435592160,\"precipIntensity\":0,\"precipProbability\":0},{\"time\":1435592220,\"precipIntensity\":0,\"precipProbability\":0},{\"time\":1435592280,\"precipIntensity\":0,\"precipProbability\":0},{\"time\":1435592340,\"precipIntensity\":0,\"precipProbability\":0}]},\"hourly\":{\"summary\":\"Foggy tomorrow morning.\",\"icon\":\"fog\",\"data\":[{\"time\":1435586400,\"summary\":\"Mostly Cloudy\",\"icon\":\"partly-cloudy-day\",\"precipIntensity\":0,\"precipProbability\":0,\"temperature\":56.73,\"apparentTemperature\":56.73,\"dewPoint\":53.27,\"humidity\":0.88,\"windSpeed\":6.28,\"windBearing\":270,\"visibility\":6.47,\"cloudCover\":0.87,\"pressure\":1015.36,\"ozone\":307.49},{\"time\":1435590000,\"summary\":\"Mostly Cloudy\",\"icon\":\"partly-cloudy-day\",\"precipIntensity\":0,\"precipProbability\":0,\"temperature\":57.89,\"apparentTemperature\":57.89,\"dewPoint\":53.25,\"humidity\":0.85,\"windSpeed\":6.03,\"windBearing\":275,\"visibility\":7.64,\"cloudCover\":0.86,\"pressure\":1015.51,\"ozone\":307.37},{\"time\":1435593600,\"summary\":\"Mostly Cloudy\",\"icon\":\"partly-cloudy-day\",\"precipIntensity\":0,\"precipProbability\":0,\"temperature\":59.52,\"apparentTemperature\":59.52,\"dewPoint\":53.06,\"humidity\":0.79,\"windSpeed\":6.54,\"windBearing\":278,\"visibility\":9.02,\"cloudCover\":0.84,\"pressure\":1015.58,\"ozone\":306.94},{\"time\":1435597200,\"summary\":\"Mostly Cloudy\",\"icon\":\"partly-cloudy-day\",\"precipIntensity\":0,\"precipProbability\":0,\"temperature\":61.46,\"apparentTemperature\":61.46,\"dewPoint\":53.16,\"humidity\":0.74,\"windSpeed\":7.56,\"windBearing\":278,\"visibility\":9.16,\"cloudCover\":0.82,\"pressure\":1015.59,\"ozone\":306.34},{\"time\":1435600800,\"summary\":\"Mostly Cloudy\",\"icon\":\"partly-cloudy-day\",\"precipIntensity\":0,\"precipProbability\":0,\"temperature\":63.93,\"apparentTemperature\":63.93,\"dewPoint\":53.87,\"humidity\":0.7,\"windSpeed\":8.71,\"windBearing\":278,\"visibility\":8.99,\"cloudCover\":0.73,\"pressure\":1015.5,\"ozone\":305.7},{\"time\":1435604400,\"summary\":\"Mostly Cloudy\",\"icon\":\"partly-cloudy-day\",\"precipIntensity\":0,\"precipProbability\":0,\"temperature\":66.63,\"apparentTemperature\":66.63,\"dewPoint\":55,\"humidity\":0.66,\"windSpeed\":9.8,\"windBearing\":281,\"visibility\":9.04,\"cloudCover\":0.71,\"pressure\":1015.24,\"ozone\":305.09},{\"time\":1435608000,\"summary\":\"Partly Cloudy\",\"icon\":\"partly-cloudy-day\",\"precipIntensity\":0,\"precipProbability\":0,\"temperature\":69.28,\"apparentTemperature\":69.28,\"dewPoint\":56.26,\"humidity\":0.63,\"windSpeed\":11.52,\"windBearing\":288,\"visibility\":9.11,\"cloudCover\":0.55,\"pressure\":1014.87,\"ozone\":304.46},{\"time\":1435611600,\"summary\":\"Partly Cloudy\",\"icon\":\"partly-cloudy-day\",\"precipIntensity\":0,\"precipProbability\":0,\"temperature\":70.64,\"apparentTemperature\":70.64,\"dewPoint\":57.05,\"humidity\":0.62,\"windSpeed\":12.59,\"windBearing\":289,\"visibility\":9.19,\"cloudCover\":0.43,\"pressure\":1014.45,\"ozone\":303.76},{\"time\":1435615200,\"summary\":\"Partly Cloudy\",\"icon\":\"partly-cloudy-day\",\"precipIntensity\":0,\"precipProbability\":0,\"temperature\":71.44,\"apparentTemperature\":71.44,\"dewPoint\":57.59,\"humidity\":0.62,\"windSpeed\":13.33,\"windBearing\":290,\"visibility\":9.42,\"cloudCover\":0.4,\"pressure\":1014,\"ozone\":302.96},{\"time\":1435618800,\"summary\":\"Clear\",\"icon\":\"clear-day\",\"precipIntensity\":0,\"precipProbability\":0,\"temperature\":70.89,\"apparentTemperature\":70.89,\"dewPoint\":56.75,\"humidity\":0.61,\"windSpeed\":13.31,\"windBearing\":289,\"visibility\":9.75,\"cloudCover\":0.23,\"pressure\":1013.53,\"ozone\":302.09},{\"time\":1435622400,\"summary\":\"Clear\",\"icon\":\"clear-day\",\"precipIntensity\":0,\"precipProbability\":0,\"temperature\":69.54,\"apparentTemperature\":69.54,\"dewPoint\":55.87,\"humidity\":0.62,\"windSpeed\":13.11,\"windBearing\":289,\"visibility\":9.77,\"cloudCover\":0.22,\"pressure\":1013.16,\"ozone\":301.27},{\"time\":1435626000,\"summary\":\"Partly Cloudy\",\"icon\":\"partly-cloudy-day\",\"precipIntensity\":0,\"precipProbability\":0,\"temperature\":67.76,\"apparentTemperature\":67.76,\"dewPoint\":55.1,\"humidity\":0.64,\"windSpeed\":12.31,\"windBearing\":288,\"visibility\":9.84,\"cloudCover\":0.34,\"pressure\":1012.9,\"ozone\":300.56},{\"time\":1435629600,\"summary\":\"Partly Cloudy\",\"icon\":\"partly-cloudy-day\",\"precipIntensity\":0,\"precipProbability\":0,\"temperature\":65.53,\"apparentTemperature\":65.53,\"dewPoint\":54.56,\"humidity\":0.68,\"windSpeed\":11.42,\"windBearing\":287,\"visibility\":9.88,\"cloudCover\":0.58,\"pressure\":1012.71,\"ozone\":299.89},{\"time\":1435633200,\"summary\":\"Mostly Cloudy\",\"icon\":\"partly-cloudy-day\",\"precipIntensity\":0,\"precipProbability\":0,\"temperature\":63.08,\"apparentTemperature\":63.08,\"dewPoint\":53.95,\"humidity\":0.72,\"windSpeed\":10.27,\"windBearing\":285,\"visibility\":9.58,\"cloudCover\":0.7,\"pressure\":1012.63,\"ozone\":299.15},{\"time\":1435636800,\"summary\":\"Mostly Cloudy\",\"icon\":\"partly-cloudy-night\",\"precipIntensity\":0,\"precipProbability\":0,\"temperature\":61.18,\"apparentTemperature\":61.18,\"dewPoint\":53.82,\"humidity\":0.77,\"windSpeed\":8.76,\"windBearing\":282,\"visibility\":8.76,\"cloudCover\":0.72,\"pressure\":1012.74,\"ozone\":298.26},{\"time\":1435640400,\"summary\":\"Mostly Cloudy\",\"icon\":\"partly-cloudy-night\",\"precipIntensity\":0,\"precipProbability\":0,\"temperature\":60.28,\"apparentTemperature\":60.28,\"dewPoint\":54.09,\"humidity\":0.8,\"windSpeed\":7.49,\"windBearing\":278,\"visibility\":7.61,\"cloudCover\":0.72,\"pressure\":1012.95,\"ozone\":297.28},{\"time\":1435644000,\"summary\":\"Mostly Cloudy\",\"icon\":\"partly-cloudy-night\",\"precipIntensity\":0,\"precipProbability\":0,\"temperature\":59.71,\"apparentTemperature\":59.71,\"dewPoint\":54.1,\"humidity\":0.82,\"windSpeed\":6.68,\"windBearing\":276,\"visibility\":6.72,\"cloudCover\":0.79,\"pressure\":1013.04,\"ozone\":296.31},{\"time\":1435647600,\"summary\":\"Mostly Cloudy\",\"icon\":\"partly-cloudy-night\",\"precipIntensity\":0,\"precipProbability\":0,\"temperature\":59.21,\"apparentTemperature\":59.21,\"dewPoint\":54.06,\"humidity\":0.83,\"windSpeed\":6.51,\"windBearing\":274,\"visibility\":6.38,\"cloudCover\":0.8,\"pressure\":1012.9,\"ozone\":295.26},{\"time\":1435651200,\"summary\":\"Mostly Cloudy\",\"icon\":\"partly-cloudy-night\",\"precipIntensity\":0,\"precipProbability\":0,\"temperature\":58.55,\"apparentTemperature\":58.55,\"dewPoint\":54.42,\"humidity\":0.86,\"windSpeed\":6.32,\"windBearing\":268,\"visibility\":4.97,\"cloudCover\":0.81,\"pressure\":1012.66,\"ozone\":294.21},{\"time\":1435654800,\"summary\":\"Mostly Cloudy\",\"icon\":\"partly-cloudy-night\",\"precipIntensity\":0,\"precipProbability\":0,\"temperature\":57.26,\"apparentTemperature\":57.26,\"dewPoint\":53.77,\"humidity\":0.88,\"windSpeed\":6.05,\"windBearing\":264,\"visibility\":3.57,\"cloudCover\":0.88,\"pressure\":1012.43,\"ozone\":293.41},{\"time\":1435658400,\"summary\":\"Mostly Cloudy\",\"icon\":\"partly-cloudy-night\",\"precipIntensity\":0,\"precipProbability\":0,\"temperature\":56.79,\"apparentTemperature\":56.79,\"dewPoint\":53.7,\"humidity\":0.89,\"windSpeed\":5.65,\"windBearing\":262,\"visibility\":2.38,\"cloudCover\":0.9,\"pressure\":1012.27,\"ozone\":292.99},{\"time\":1435662000,\"summary\":\"Foggy\",\"icon\":\"fog\",\"precipIntensity\":0,\"precipProbability\":0,\"temperature\":56.14,\"apparentTemperature\":56.14,\"dewPoint\":53.34,\"humidity\":0.9,\"windSpeed\":5.13,\"windBearing\":262,\"visibility\":1.64,\"cloudCover\":0.92,\"pressure\":1012.15,\"ozone\":292.82},{\"time\":1435665600,\"summary\":\"Foggy\",\"icon\":\"fog\",\"precipIntensity\":0,\"precipProbability\":0,\"temperature\":55.29,\"apparentTemperature\":55.29,\"dewPoint\":52.73,\"humidity\":0.91,\"windSpeed\":4.51,\"windBearing\":254,\"visibility\":0.88,\"cloudCover\":0.92,\"pressure\":1012.1,\"ozone\":292.86},{\"time\":1435669200,\"summary\":\"Foggy\",\"icon\":\"fog\",\"precipIntensity\":0,\"precipProbability\":0,\"temperature\":55.98,\"apparentTemperature\":55.98,\"dewPoint\":53.37,\"humidity\":0.91,\"windSpeed\":3.87,\"windBearing\":248,\"visibility\":1.07,\"cloudCover\":0.91,\"pressure\":1012.2,\"ozone\":293.13},{\"time\":1435672800,\"summary\":\"Foggy\",\"icon\":\"fog\",\"precipIntensity\":0,\"precipProbability\":0,\"temperature\":56.73,\"apparentTemperature\":56.73,\"dewPoint\":54.16,\"humidity\":0.91,\"windSpeed\":3.4,\"windBearing\":241,\"visibility\":1.41,\"cloudCover\":0.85,\"pressure\":1012.39,\"ozone\":293.6},{\"time\":1435676400,\"summary\":\"Mostly Cloudy\",\"icon\":\"partly-cloudy-day\",\"precipIntensity\":0,\"precipProbability\":0,\"temperature\":57.8,\"apparentTemperature\":57.8,\"dewPoint\":54.54,\"humidity\":0.89,\"windSpeed\":3.23,\"windBearing\":237,\"visibility\":2.19,\"cloudCover\":0.77,\"pressure\":1012.54,\"ozone\":294.16},{\"time\":1435680000,\"summary\":\"Mostly Cloudy\",\"icon\":\"partly-cloudy-day\",\"precipIntensity\":0,\"precipProbability\":0,\"temperature\":59.7,\"apparentTemperature\":59.7,\"dewPoint\":54.71,\"humidity\":0.84,\"windSpeed\":3.44,\"windBearing\":239,\"visibility\":3.83,\"cloudCover\":0.65,\"pressure\":1012.62,\"ozone\":294.78},{\"time\":1435683600,\"summary\":\"Partly Cloudy\",\"icon\":\"partly-cloudy-day\",\"precipIntensity\":0,\"precipProbability\":0,\"temperature\":62.81,\"apparentTemperature\":62.81,\"dewPoint\":55.27,\"humidity\":0.76,\"windSpeed\":4.14,\"windBearing\":246,\"visibility\":5.9,\"cloudCover\":0.51,\"pressure\":1012.64,\"ozone\":295.48},{\"time\":1435687200,\"summary\":\"Partly Cloudy\",\"icon\":\"partly-cloudy-day\",\"precipIntensity\":0,\"precipProbability\":0,\"temperature\":65.59,\"apparentTemperature\":65.59,\"dewPoint\":55.67,\"humidity\":0.7,\"windSpeed\":5.03,\"windBearing\":251,\"visibility\":7.48,\"cloudCover\":0.38,\"pressure\":1012.56,\"ozone\":296.3},{\"time\":1435690800,\"summary\":\"Partly Cloudy\",\"icon\":\"partly-cloudy-day\",\"precipIntensity\":0,\"precipProbability\":0,\"temperature\":68.34,\"apparentTemperature\":68.34,\"dewPoint\":56.49,\"humidity\":0.66,\"windSpeed\":6.21,\"windBearing\":256,\"visibility\":8.06,\"cloudCover\":0.29,\"pressure\":1012.4,\"ozone\":297.41},{\"time\":1435694400,\"summary\":\"Clear\",\"icon\":\"clear-day\",\"precipIntensity\":0,\"precipProbability\":0,\"temperature\":71.28,\"apparentTemperature\":71.28,\"dewPoint\":58.07,\"humidity\":0.63,\"windSpeed\":7.58,\"windBearing\":259,\"visibility\":8.14,\"cloudCover\":0.23,\"pressure\":1012.15,\"ozone\":298.63},{\"time\":1435698000,\"summary\":\"Clear\",\"icon\":\"clear-day\",\"precipIntensity\":0,\"precipProbability\":0,\"temperature\":73.73,\"apparentTemperature\":73.73,\"dewPoint\":59.56,\"humidity\":0.61,\"windSpeed\":8.68,\"windBearing\":261,\"visibility\":8.32,\"cloudCover\":0.19,\"pressure\":1011.81,\"ozone\":299.4},{\"time\":1435701600,\"summary\":\"Clear\",\"icon\":\"clear-day\",\"precipIntensity\":0,\"precipProbability\":0,\"temperature\":75.04,\"apparentTemperature\":75.04,\"dewPoint\":60.39,\"humidity\":0.6,\"windSpeed\":9.41,\"windBearing\":262,\"visibility\":8.88,\"cloudCover\":0.17,\"pressure\":1011.36,\"ozone\":299.31},{\"time\":1435705200,\"summary\":\"Clear\",\"icon\":\"clear-day\",\"precipIntensity\":0,\"precipProbability\":0,\"temperature\":74.34,\"apparentTemperature\":74.34,\"dewPoint\":59.8,\"humidity\":0.61,\"windSpeed\":9.87,\"windBearing\":263,\"visibility\":9.53,\"cloudCover\":0.16,\"pressure\":1010.86,\"ozone\":298.77},{\"time\":1435708800,\"summary\":\"Clear\",\"icon\":\"clear-day\",\"precipIntensity\":0,\"precipProbability\":0,\"temperature\":72.8,\"apparentTemperature\":72.8,\"dewPoint\":58.92,\"humidity\":0.62,\"windSpeed\":9.93,\"windBearing\":262,\"visibility\":10,\"cloudCover\":0.18,\"pressure\":1010.51,\"ozone\":298.48},{\"time\":1435712400,\"summary\":\"Partly Cloudy\",\"icon\":\"partly-cloudy-day\",\"precipIntensity\":0,\"precipProbability\":0,\"temperature\":70.51,\"apparentTemperature\":70.51,\"dewPoint\":57.92,\"humidity\":0.64,\"windSpeed\":9.36,\"windBearing\":260,\"visibility\":10,\"cloudCover\":0.25,\"pressure\":1010.39,\"ozone\":298.74},{\"time\":1435716000,\"summary\":\"Partly Cloudy\",\"icon\":\"partly-cloudy-day\",\"precipIntensity\":0,\"precipProbability\":0,\"temperature\":67.79,\"apparentTemperature\":67.79,\"dewPoint\":56.9,\"humidity\":0.68,\"windSpeed\":8.41,\"windBearing\":256,\"visibility\":10,\"cloudCover\":0.34,\"pressure\":1010.4,\"ozone\":299.24},{\"time\":1435719600,\"summary\":\"Partly Cloudy\",\"icon\":\"partly-cloudy-day\",\"precipIntensity\":0,\"precipProbability\":0,\"temperature\":65.35,\"apparentTemperature\":65.35,\"dewPoint\":56.08,\"humidity\":0.72,\"windSpeed\":7.59,\"windBearing\":251,\"visibility\":10,\"cloudCover\":0.41,\"pressure\":1010.51,\"ozone\":299.78},{\"time\":1435723200,\"summary\":\"Partly Cloudy\",\"icon\":\"partly-cloudy-night\",\"precipIntensity\":0,\"precipProbability\":0,\"temperature\":63.41,\"apparentTemperature\":63.41,\"dewPoint\":55.65,\"humidity\":0.76,\"windSpeed\":7.14,\"windBearing\":247,\"visibility\":9.29,\"cloudCover\":0.47,\"pressure\":1010.79,\"ozone\":300.38},{\"time\":1435726800,\"summary\":\"Partly Cloudy\",\"icon\":\"partly-cloudy-night\",\"precipIntensity\":0,\"precipProbability\":0,\"temperature\":61.78,\"apparentTemperature\":61.78,\"dewPoint\":55.44,\"humidity\":0.8,\"windSpeed\":6.84,\"windBearing\":243,\"visibility\":8.32,\"cloudCover\":0.52,\"pressure\":1011.15,\"ozone\":301.01},{\"time\":1435730400,\"summary\":\"Partly Cloudy\",\"icon\":\"partly-cloudy-night\",\"precipIntensity\":0,\"precipProbability\":0,\"temperature\":60.64,\"apparentTemperature\":60.64,\"dewPoint\":55.36,\"humidity\":0.83,\"windSpeed\":6.58,\"windBearing\":240,\"visibility\":7.62,\"cloudCover\":0.56,\"pressure\":1011.4,\"ozone\":301.42},{\"time\":1435734000,\"summary\":\"Partly Cloudy\",\"icon\":\"partly-cloudy-night\",\"precipIntensity\":0,\"precipProbability\":0,\"temperature\":60.04,\"apparentTemperature\":60.04,\"dewPoint\":55.36,\"humidity\":0.85,\"windSpeed\":6.34,\"windBearing\":238,\"visibility\":7.47,\"cloudCover\":0.56,\"pressure\":1011.48,\"ozone\":301.47},{\"time\":1435737600,\"summary\":\"Partly Cloudy\",\"icon\":\"partly-cloudy-night\",\"precipIntensity\":0,\"precipProbability\":0,\"temperature\":59.66,\"apparentTemperature\":59.66,\"dewPoint\":55.33,\"humidity\":0.86,\"windSpeed\":6.08,\"windBearing\":238,\"visibility\":7.6,\"cloudCover\":0.55,\"pressure\":1011.46,\"ozone\":301.3},{\"time\":1435741200,\"summary\":\"Partly Cloudy\",\"icon\":\"partly-cloudy-night\",\"precipIntensity\":0,\"precipProbability\":0,\"temperature\":59.25,\"apparentTemperature\":59.25,\"dewPoint\":55.19,\"humidity\":0.86,\"windSpeed\":5.78,\"windBearing\":238,\"visibility\":7.62,\"cloudCover\":0.53,\"pressure\":1011.42,\"ozone\":301.05},{\"time\":1435744800,\"summary\":\"Partly Cloudy\",\"icon\":\"partly-cloudy-night\",\"precipIntensity\":0,\"precipProbability\":0,\"temperature\":58.64,\"apparentTemperature\":58.64,\"dewPoint\":54.97,\"humidity\":0.88,\"windSpeed\":5.4,\"windBearing\":236,\"visibility\":7.28,\"cloudCover\":0.52,\"pressure\":1011.33,\"ozone\":300.69},{\"time\":1435748400,\"summary\":\"Partly Cloudy\",\"icon\":\"partly-cloudy-night\",\"precipIntensity\":0,\"precipProbability\":0,\"temperature\":58.06,\"apparentTemperature\":58.06,\"dewPoint\":54.7,\"humidity\":0.89,\"windSpeed\":4.83,\"windBearing\":232,\"visibility\":6.84,\"cloudCover\":0.5,\"pressure\":1011.24,\"ozone\":300.24},{\"time\":1435752000,\"summary\":\"Partly Cloudy\",\"icon\":\"partly-cloudy-night\",\"precipIntensity\":0,\"precipProbability\":0,\"temperature\":58.48,\"apparentTemperature\":58.48,\"dewPoint\":55.02,\"humidity\":0.88,\"windSpeed\":4.33,\"windBearing\":228,\"visibility\":6.68,\"cloudCover\":0.47,\"pressure\":1011.26,\"ozone\":299.97},{\"time\":1435755600,\"summary\":\"Partly Cloudy\",\"icon\":\"partly-cloudy-day\",\"precipIntensity\":0,\"precipProbability\":0,\"temperature\":59.17,\"apparentTemperature\":59.17,\"dewPoint\":55.02,\"humidity\":0.86,\"windSpeed\":4.1,\"windBearing\":230,\"visibility\":7.08,\"cloudCover\":0.45,\"pressure\":1011.52,\"ozone\":299.95},{\"time\":1435759200,\"summary\":\"Partly Cloudy\",\"icon\":\"partly-cloudy-day\",\"precipIntensity\":0,\"precipProbability\":0,\"temperature\":60.07,\"apparentTemperature\":60.07,\"dewPoint\":54.8,\"humidity\":0.83,\"windSpeed\":3.95,\"windBearing\":234,\"visibility\":7.76,\"cloudCover\":0.45,\"pressure\":1011.91,\"ozone\":300.11}]},\"daily\":{\"summary\":\"No precipitation throughout the week, with temperatures peaking at 78\\xc2\\xb0F on Wednesday.\",\"icon\":\"clear-day\",\"data\":[{\"time\":1435561200,\"summary\":\"Mostly cloudy throughout the day.\",\"icon\":\"partly-cloudy-day\",\"sunriseTime\":1435582295,\"sunsetTime\":1435635421,\"moonPhase\":0.42,\"precipIntensity\":0,\"precipIntensityMax\":0,\"precipProbability\":0,\"temperatureMin\":56.31,\"temperatureMinTime\":1435579200,\"temperatureMax\":71.44,\"temperatureMaxTime\":1435615200,\"apparentTemperatureMin\":56.31,\"apparentTemperatureMinTime\":1435579200,\"apparentTemperatureMax\":71.44,\"apparentTemperatureMaxTime\":1435615200,\"dewPoint\":54.67,\"humidity\":0.77,\"windSpeed\":8.71,\"windBearing\":281,\"visibility\":8.15,\"cloudCover\":0.61,\"pressure\":1014.5,\"ozone\":304.42},{\"time\":1435647600,\"summary\":\"Foggy in the morning.\",\"icon\":\"fog\",\"sunriseTime\":1435668720,\"sunsetTime\":1435721819,\"moonPhase\":0.45,\"precipIntensity\":0,\"precipIntensityMax\":0,\"precipProbability\":0,\"temperatureMin\":55.29,\"temperatureMinTime\":1435665600,\"temperatureMax\":75.04,\"temperatureMaxTime\":1435701600,\"apparentTemperatureMin\":55.29,\"apparentTemperatureMinTime\":1435665600,\"apparentTemperatureMax\":75.04,\"apparentTemperatureMaxTime\":1435701600,\"dewPoint\":55.85,\"humidity\":0.77,\"windSpeed\":6.37,\"windBearing\":256,\"visibility\":6.26,\"cloudCover\":0.54,\"pressure\":1011.8,\"ozone\":296.73},{\"time\":1435734000,\"summary\":\"Partly cloudy until afternoon.\",\"icon\":\"partly-cloudy-day\",\"sunriseTime\":1435755146,\"sunsetTime\":1435808215,\"moonPhase\":0.48,\"precipIntensity\":0,\"precipIntensityMax\":0,\"precipProbability\":0,\"temperatureMin\":58.06,\"temperatureMinTime\":1435748400,\"temperatureMax\":78.17,\"temperatureMaxTime\":1435791600,\"apparentTemperatureMin\":58.06,\"apparentTemperatureMinTime\":1435748400,\"apparentTemperatureMax\":78.17,\"apparentTemperatureMaxTime\":1435791600,\"dewPoint\":55.96,\"humidity\":0.71,\"windSpeed\":6.95,\"windBearing\":246,\"visibility\":8.74,\"cloudCover\":0.34,\"pressure\":1011.88,\"ozone\":301.78},{\"time\":1435820400,\"summary\":\"Mostly cloudy throughout the day.\",\"icon\":\"partly-cloudy-day\",\"sunriseTime\":1435841573,\"sunsetTime\":1435894609,\"moonPhase\":0.53,\"precipIntensity\":0,\"precipIntensityMax\":0,\"precipProbability\":0,\"temperatureMin\":61.34,\"temperatureMinTime\":1435834800,\"temperatureMax\":74.52,\"temperatureMaxTime\":1435870800,\"apparentTemperatureMin\":61.34,\"apparentTemperatureMinTime\":1435834800,\"apparentTemperatureMax\":74.52,\"apparentTemperatureMaxTime\":1435870800,\"dewPoint\":56.02,\"humidity\":0.71,\"windSpeed\":8.88,\"windBearing\":237,\"visibility\":10,\"cloudCover\":0.58,\"pressure\":1011.59,\"ozone\":302.53},{\"time\":1435906800,\"summary\":\"Mostly cloudy throughout the day.\",\"icon\":\"partly-cloudy-day\",\"sunriseTime\":1435928002,\"sunsetTime\":1435981001,\"moonPhase\":0.56,\"precipIntensity\":0,\"precipIntensityMax\":0,\"precipProbability\":0,\"temperatureMin\":60.77,\"temperatureMinTime\":1435921200,\"temperatureMax\":67.73,\"temperatureMaxTime\":1435960800,\"apparentTemperatureMin\":60.77,\"apparentTemperatureMinTime\":1435921200,\"apparentTemperatureMax\":67.73,\"apparentTemperatureMaxTime\":1435960800,\"dewPoint\":54.11,\"humidity\":0.72,\"windSpeed\":5.99,\"windBearing\":223,\"cloudCover\":0.7,\"pressure\":1009.84,\"ozone\":299.75},{\"time\":1435993200,\"summary\":\"Mostly cloudy until evening.\",\"icon\":\"partly-cloudy-day\",\"sunriseTime\":1436014433,\"sunsetTime\":1436067391,\"moonPhase\":0.6,\"precipIntensity\":0,\"precipIntensityMax\":0,\"precipProbability\":0,\"temperatureMin\":59.52,\"temperatureMinTime\":1436011200,\"temperatureMax\":65.13,\"temperatureMaxTime\":1436054400,\"apparentTemperatureMin\":59.52,\"apparentTemperatureMinTime\":1436011200,\"apparentTemperatureMax\":65.13,\"apparentTemperatureMaxTime\":1436054400,\"dewPoint\":54.26,\"humidity\":0.78,\"windSpeed\":5.57,\"windBearing\":224,\"cloudCover\":0.56,\"pressure\":1008.71,\"ozone\":297.04},{\"time\":1436079600,\"summary\":\"Mostly cloudy until afternoon.\",\"icon\":\"partly-cloudy-day\",\"sunriseTime\":1436100864,\"sunsetTime\":1436153780,\"moonPhase\":0.63,\"precipIntensity\":0.0001,\"precipIntensityMax\":0.0011,\"precipIntensityMaxTime\":1436108400,\"precipProbability\":0.01,\"precipType\":\"rain\",\"temperatureMin\":58.6,\"temperatureMinTime\":1436104800,\"temperatureMax\":65.86,\"temperatureMaxTime\":1436133600,\"apparentTemperatureMin\":58.6,\"apparentTemperatureMinTime\":1436104800,\"apparentTemperatureMax\":65.86,\"apparentTemperatureMaxTime\":1436133600,\"dewPoint\":53.77,\"humidity\":0.77,\"windSpeed\":6.37,\"windBearing\":229,\"cloudCover\":0.44,\"pressure\":1011.37,\"ozone\":302.75},{\"time\":1436166000,\"summary\":\"Mostly cloudy until afternoon.\",\"icon\":\"partly-cloudy-day\",\"sunriseTime\":1436187297,\"sunsetTime\":1436240167,\"moonPhase\":0.67,\"precipIntensity\":0,\"precipIntensityMax\":0,\"precipProbability\":0,\"temperatureMin\":57.93,\"temperatureMinTime\":1436191200,\"temperatureMax\":65.67,\"temperatureMaxTime\":1436216400,\"apparentTemperatureMin\":57.93,\"apparentTemperatureMinTime\":1436191200,\"apparentTemperatureMax\":65.67,\"apparentTemperatureMaxTime\":1436216400,\"dewPoint\":53.33,\"humidity\":0.79,\"windSpeed\":6.98,\"windBearing\":237,\"cloudCover\":0.31,\"pressure\":1013.29,\"ozone\":306.82}]},\"alerts\":[{\"title\":\"Special Weather Statement for Marin, CA\",\"time\":1435579860,\"expires\":1435595400,\"description\":\"A RIDGE OF HIGH PRESSURE IS EXPECTED TO BUILD OVER THE WESTERN\\\\nU.S. RESULTING IN A RAPID RISE IN TEMPERATURES OVER THE NEXT FEW\\\\nDAYS. TEMPERATURES ARE EXPECTED TO PEAK ON WEDNESDAY WITH\\\\nINLAND TEMPERATURES EXPECTED TO RISE INTO THE MID TO UPPER 90S\\\\nWITH WARMEST INLAND LOCATIONS REACHING UP TO 108 DEGREES. A\\\\nGENTLE SEA BREEZE WILL AID IN KEEPING THE IMMEDIATE COAST\\\\nINCLUDING MUCH OF THE SAN FRANCISCO BAY AREA COOLER. COASTAL\\\\nTEMPERATURES ARE EXPECTED TO BE IN THE LOW TO MID 70S.\\\\nIF YOU ARE PLANNING ON WORKING OR RECREATING OUTDOORS ON THURSDAY\\\\nPLEASE DRINK PLENTY OF WATER AND WHENEVER POSSIBLE SEEK SHELTER\\\\nFROM THE SUN. ALSO DON`T FORGET ABOUT YOUR PETS. NEVER LEAVE YOUR\\\\nPET UNATTENDED IN YOUR VEHICLE AND BE SURE TO PROVIDE PLENTY OF\\\\nWATER AND SHADE TO OUTDOOR ANIMALS. ALSO NEVER LEAVE CHILDREN\\\\nUNATTENDED IN YOUR VEHICLE. REMEMBER BEAT THE HEAT...CHECK THE\\\\nBACK SEAT.\\\\nSLIGHTLY COOLER TEMPERATURES ARE EXPECTED THROUGH THE SECOND HALF\\\\nOF THE WEEK AND INTO THE WEEKEND AS THE HIGH GRADUALLY WEAKENS.\\\\n\",\"uri\":\"http://alerts.weather.gov/cap/wwacapget.php?x=CA1253AF173C4C.SpecialWeatherStatement.1253AF17DFF8CA.MTRSPSMTR.8ebce3130a0ca9da0e2e83398b494807\"}],\"flags\":{\"sources\":[\"nwspa\",\"isd\",\"nearest-precip\",\"fnmoc\",\"sref\",\"rtma\",\"rap\",\"nam\",\"cmc\",\"gfs\",\"madis\",\"lamp\",\"darksky\"],\"isd-stations\":[\"724943-99999\",\"745039-99999\",\"745065-99999\",\"994016-99999\",\"999999-23272\"],\"madis-stations\":[\"AU915\",\"C5988\",\"C8158\",\"C9629\",\"D5422\",\"D7213\",\"D8533\",\"D8582\",\"E0426\",\"E6067\",\"FTPC1\",\"OKXC1\",\"OMHC1\",\"PPXC1\",\"PXOC1\",\"SFOC1\"],\"lamp-stations\":[\"KAPC\",\"KCCR\",\"KHWD\",\"KLVK\",\"KNUQ\",\"KOAK\",\"KPAO\",\"KSFO\",\"KSQL\"],\"darksky-stations\":[\"KMUX\"],\"units\":\"us\"}}'"
      ]
     },
     "execution_count": 30,
     "metadata": {},
     "output_type": "execute_result"
    }
   ],
   "source": [
    "url = 'https://api.forecast.io/forecast/79e09ab8f050fcb084270a66c8409501/37.8267,-122.423'\n",
    "response = urllib2.urlopen(url)\n",
    "response\n",
    "#get data out of response \n",
    "contents = response.read()\n",
    "contents"
   ]
  },
  {
   "cell_type": "code",
   "execution_count": 32,
   "metadata": {
    "collapsed": false
   },
   "outputs": [
    {
     "data": {
      "text/plain": [
       "str"
      ]
     },
     "execution_count": 32,
     "metadata": {},
     "output_type": "execute_result"
    }
   ],
   "source": [
    "type(contents) ##STUFF ON THE OUTSIDE IS WHAT MATTERS. The quote at the beginning and end keeps it from being a dict. "
   ]
  },
  {
   "cell_type": "markdown",
   "metadata": {},
   "source": [
    "Actually, it's not a dictionary anyway. It's a JSON. It looks like a dictionary. But is acutally JAVASCRIPT OBJECT NOTATION. Anytime you get data from an API you will use JSON. "
   ]
  },
  {
   "cell_type": "code",
   "execution_count": 34,
   "metadata": {
    "collapsed": false
   },
   "outputs": [
    {
     "data": {
      "text/plain": [
       "{u'alerts': [{u'description': u'A RIDGE OF HIGH PRESSURE IS EXPECTED TO BUILD OVER THE WESTERN\\nU.S. RESULTING IN A RAPID RISE IN TEMPERATURES OVER THE NEXT FEW\\nDAYS. TEMPERATURES ARE EXPECTED TO PEAK ON WEDNESDAY WITH\\nINLAND TEMPERATURES EXPECTED TO RISE INTO THE MID TO UPPER 90S\\nWITH WARMEST INLAND LOCATIONS REACHING UP TO 108 DEGREES. A\\nGENTLE SEA BREEZE WILL AID IN KEEPING THE IMMEDIATE COAST\\nINCLUDING MUCH OF THE SAN FRANCISCO BAY AREA COOLER. COASTAL\\nTEMPERATURES ARE EXPECTED TO BE IN THE LOW TO MID 70S.\\nIF YOU ARE PLANNING ON WORKING OR RECREATING OUTDOORS ON THURSDAY\\nPLEASE DRINK PLENTY OF WATER AND WHENEVER POSSIBLE SEEK SHELTER\\nFROM THE SUN. ALSO DON`T FORGET ABOUT YOUR PETS. NEVER LEAVE YOUR\\nPET UNATTENDED IN YOUR VEHICLE AND BE SURE TO PROVIDE PLENTY OF\\nWATER AND SHADE TO OUTDOOR ANIMALS. ALSO NEVER LEAVE CHILDREN\\nUNATTENDED IN YOUR VEHICLE. REMEMBER BEAT THE HEAT...CHECK THE\\nBACK SEAT.\\nSLIGHTLY COOLER TEMPERATURES ARE EXPECTED THROUGH THE SECOND HALF\\nOF THE WEEK AND INTO THE WEEKEND AS THE HIGH GRADUALLY WEAKENS.\\n',\n",
       "   u'expires': 1435595400,\n",
       "   u'time': 1435579860,\n",
       "   u'title': u'Special Weather Statement for Marin, CA',\n",
       "   u'uri': u'http://alerts.weather.gov/cap/wwacapget.php?x=CA1253AF173C4C.SpecialWeatherStatement.1253AF17DFF8CA.MTRSPSMTR.8ebce3130a0ca9da0e2e83398b494807'}],\n",
       " u'currently': {u'apparentTemperature': 57.49,\n",
       "  u'cloudCover': 0.87,\n",
       "  u'dewPoint': 53.26,\n",
       "  u'humidity': 0.86,\n",
       "  u'icon': u'partly-cloudy-day',\n",
       "  u'nearestStormDistance': 0,\n",
       "  u'ozone': 307.41,\n",
       "  u'precipIntensity': 0,\n",
       "  u'precipProbability': 0,\n",
       "  u'pressure': 1015.46,\n",
       "  u'summary': u'Mostly Cloudy',\n",
       "  u'temperature': 57.49,\n",
       "  u'time': 1435588787,\n",
       "  u'visibility': 7.24,\n",
       "  u'windBearing': 273,\n",
       "  u'windSpeed': 6.11},\n",
       " u'daily': {u'data': [{u'apparentTemperatureMax': 71.44,\n",
       "    u'apparentTemperatureMaxTime': 1435615200,\n",
       "    u'apparentTemperatureMin': 56.31,\n",
       "    u'apparentTemperatureMinTime': 1435579200,\n",
       "    u'cloudCover': 0.61,\n",
       "    u'dewPoint': 54.67,\n",
       "    u'humidity': 0.77,\n",
       "    u'icon': u'partly-cloudy-day',\n",
       "    u'moonPhase': 0.42,\n",
       "    u'ozone': 304.42,\n",
       "    u'precipIntensity': 0,\n",
       "    u'precipIntensityMax': 0,\n",
       "    u'precipProbability': 0,\n",
       "    u'pressure': 1014.5,\n",
       "    u'summary': u'Mostly cloudy throughout the day.',\n",
       "    u'sunriseTime': 1435582295,\n",
       "    u'sunsetTime': 1435635421,\n",
       "    u'temperatureMax': 71.44,\n",
       "    u'temperatureMaxTime': 1435615200,\n",
       "    u'temperatureMin': 56.31,\n",
       "    u'temperatureMinTime': 1435579200,\n",
       "    u'time': 1435561200,\n",
       "    u'visibility': 8.15,\n",
       "    u'windBearing': 281,\n",
       "    u'windSpeed': 8.71},\n",
       "   {u'apparentTemperatureMax': 75.04,\n",
       "    u'apparentTemperatureMaxTime': 1435701600,\n",
       "    u'apparentTemperatureMin': 55.29,\n",
       "    u'apparentTemperatureMinTime': 1435665600,\n",
       "    u'cloudCover': 0.54,\n",
       "    u'dewPoint': 55.85,\n",
       "    u'humidity': 0.77,\n",
       "    u'icon': u'fog',\n",
       "    u'moonPhase': 0.45,\n",
       "    u'ozone': 296.73,\n",
       "    u'precipIntensity': 0,\n",
       "    u'precipIntensityMax': 0,\n",
       "    u'precipProbability': 0,\n",
       "    u'pressure': 1011.8,\n",
       "    u'summary': u'Foggy in the morning.',\n",
       "    u'sunriseTime': 1435668720,\n",
       "    u'sunsetTime': 1435721819,\n",
       "    u'temperatureMax': 75.04,\n",
       "    u'temperatureMaxTime': 1435701600,\n",
       "    u'temperatureMin': 55.29,\n",
       "    u'temperatureMinTime': 1435665600,\n",
       "    u'time': 1435647600,\n",
       "    u'visibility': 6.26,\n",
       "    u'windBearing': 256,\n",
       "    u'windSpeed': 6.37},\n",
       "   {u'apparentTemperatureMax': 78.17,\n",
       "    u'apparentTemperatureMaxTime': 1435791600,\n",
       "    u'apparentTemperatureMin': 58.06,\n",
       "    u'apparentTemperatureMinTime': 1435748400,\n",
       "    u'cloudCover': 0.34,\n",
       "    u'dewPoint': 55.96,\n",
       "    u'humidity': 0.71,\n",
       "    u'icon': u'partly-cloudy-day',\n",
       "    u'moonPhase': 0.48,\n",
       "    u'ozone': 301.78,\n",
       "    u'precipIntensity': 0,\n",
       "    u'precipIntensityMax': 0,\n",
       "    u'precipProbability': 0,\n",
       "    u'pressure': 1011.88,\n",
       "    u'summary': u'Partly cloudy until afternoon.',\n",
       "    u'sunriseTime': 1435755146,\n",
       "    u'sunsetTime': 1435808215,\n",
       "    u'temperatureMax': 78.17,\n",
       "    u'temperatureMaxTime': 1435791600,\n",
       "    u'temperatureMin': 58.06,\n",
       "    u'temperatureMinTime': 1435748400,\n",
       "    u'time': 1435734000,\n",
       "    u'visibility': 8.74,\n",
       "    u'windBearing': 246,\n",
       "    u'windSpeed': 6.95},\n",
       "   {u'apparentTemperatureMax': 74.52,\n",
       "    u'apparentTemperatureMaxTime': 1435870800,\n",
       "    u'apparentTemperatureMin': 61.34,\n",
       "    u'apparentTemperatureMinTime': 1435834800,\n",
       "    u'cloudCover': 0.58,\n",
       "    u'dewPoint': 56.02,\n",
       "    u'humidity': 0.71,\n",
       "    u'icon': u'partly-cloudy-day',\n",
       "    u'moonPhase': 0.53,\n",
       "    u'ozone': 302.53,\n",
       "    u'precipIntensity': 0,\n",
       "    u'precipIntensityMax': 0,\n",
       "    u'precipProbability': 0,\n",
       "    u'pressure': 1011.59,\n",
       "    u'summary': u'Mostly cloudy throughout the day.',\n",
       "    u'sunriseTime': 1435841573,\n",
       "    u'sunsetTime': 1435894609,\n",
       "    u'temperatureMax': 74.52,\n",
       "    u'temperatureMaxTime': 1435870800,\n",
       "    u'temperatureMin': 61.34,\n",
       "    u'temperatureMinTime': 1435834800,\n",
       "    u'time': 1435820400,\n",
       "    u'visibility': 10,\n",
       "    u'windBearing': 237,\n",
       "    u'windSpeed': 8.88},\n",
       "   {u'apparentTemperatureMax': 67.73,\n",
       "    u'apparentTemperatureMaxTime': 1435960800,\n",
       "    u'apparentTemperatureMin': 60.77,\n",
       "    u'apparentTemperatureMinTime': 1435921200,\n",
       "    u'cloudCover': 0.7,\n",
       "    u'dewPoint': 54.11,\n",
       "    u'humidity': 0.72,\n",
       "    u'icon': u'partly-cloudy-day',\n",
       "    u'moonPhase': 0.56,\n",
       "    u'ozone': 299.75,\n",
       "    u'precipIntensity': 0,\n",
       "    u'precipIntensityMax': 0,\n",
       "    u'precipProbability': 0,\n",
       "    u'pressure': 1009.84,\n",
       "    u'summary': u'Mostly cloudy throughout the day.',\n",
       "    u'sunriseTime': 1435928002,\n",
       "    u'sunsetTime': 1435981001,\n",
       "    u'temperatureMax': 67.73,\n",
       "    u'temperatureMaxTime': 1435960800,\n",
       "    u'temperatureMin': 60.77,\n",
       "    u'temperatureMinTime': 1435921200,\n",
       "    u'time': 1435906800,\n",
       "    u'windBearing': 223,\n",
       "    u'windSpeed': 5.99},\n",
       "   {u'apparentTemperatureMax': 65.13,\n",
       "    u'apparentTemperatureMaxTime': 1436054400,\n",
       "    u'apparentTemperatureMin': 59.52,\n",
       "    u'apparentTemperatureMinTime': 1436011200,\n",
       "    u'cloudCover': 0.56,\n",
       "    u'dewPoint': 54.26,\n",
       "    u'humidity': 0.78,\n",
       "    u'icon': u'partly-cloudy-day',\n",
       "    u'moonPhase': 0.6,\n",
       "    u'ozone': 297.04,\n",
       "    u'precipIntensity': 0,\n",
       "    u'precipIntensityMax': 0,\n",
       "    u'precipProbability': 0,\n",
       "    u'pressure': 1008.71,\n",
       "    u'summary': u'Mostly cloudy until evening.',\n",
       "    u'sunriseTime': 1436014433,\n",
       "    u'sunsetTime': 1436067391,\n",
       "    u'temperatureMax': 65.13,\n",
       "    u'temperatureMaxTime': 1436054400,\n",
       "    u'temperatureMin': 59.52,\n",
       "    u'temperatureMinTime': 1436011200,\n",
       "    u'time': 1435993200,\n",
       "    u'windBearing': 224,\n",
       "    u'windSpeed': 5.57},\n",
       "   {u'apparentTemperatureMax': 65.86,\n",
       "    u'apparentTemperatureMaxTime': 1436133600,\n",
       "    u'apparentTemperatureMin': 58.6,\n",
       "    u'apparentTemperatureMinTime': 1436104800,\n",
       "    u'cloudCover': 0.44,\n",
       "    u'dewPoint': 53.77,\n",
       "    u'humidity': 0.77,\n",
       "    u'icon': u'partly-cloudy-day',\n",
       "    u'moonPhase': 0.63,\n",
       "    u'ozone': 302.75,\n",
       "    u'precipIntensity': 0.0001,\n",
       "    u'precipIntensityMax': 0.0011,\n",
       "    u'precipIntensityMaxTime': 1436108400,\n",
       "    u'precipProbability': 0.01,\n",
       "    u'precipType': u'rain',\n",
       "    u'pressure': 1011.37,\n",
       "    u'summary': u'Mostly cloudy until afternoon.',\n",
       "    u'sunriseTime': 1436100864,\n",
       "    u'sunsetTime': 1436153780,\n",
       "    u'temperatureMax': 65.86,\n",
       "    u'temperatureMaxTime': 1436133600,\n",
       "    u'temperatureMin': 58.6,\n",
       "    u'temperatureMinTime': 1436104800,\n",
       "    u'time': 1436079600,\n",
       "    u'windBearing': 229,\n",
       "    u'windSpeed': 6.37},\n",
       "   {u'apparentTemperatureMax': 65.67,\n",
       "    u'apparentTemperatureMaxTime': 1436216400,\n",
       "    u'apparentTemperatureMin': 57.93,\n",
       "    u'apparentTemperatureMinTime': 1436191200,\n",
       "    u'cloudCover': 0.31,\n",
       "    u'dewPoint': 53.33,\n",
       "    u'humidity': 0.79,\n",
       "    u'icon': u'partly-cloudy-day',\n",
       "    u'moonPhase': 0.67,\n",
       "    u'ozone': 306.82,\n",
       "    u'precipIntensity': 0,\n",
       "    u'precipIntensityMax': 0,\n",
       "    u'precipProbability': 0,\n",
       "    u'pressure': 1013.29,\n",
       "    u'summary': u'Mostly cloudy until afternoon.',\n",
       "    u'sunriseTime': 1436187297,\n",
       "    u'sunsetTime': 1436240167,\n",
       "    u'temperatureMax': 65.67,\n",
       "    u'temperatureMaxTime': 1436216400,\n",
       "    u'temperatureMin': 57.93,\n",
       "    u'temperatureMinTime': 1436191200,\n",
       "    u'time': 1436166000,\n",
       "    u'windBearing': 237,\n",
       "    u'windSpeed': 6.98}],\n",
       "  u'icon': u'clear-day',\n",
       "  u'summary': u'No precipitation throughout the week, with temperatures peaking at 78\\xb0F on Wednesday.'},\n",
       " u'flags': {u'darksky-stations': [u'KMUX'],\n",
       "  u'isd-stations': [u'724943-99999',\n",
       "   u'745039-99999',\n",
       "   u'745065-99999',\n",
       "   u'994016-99999',\n",
       "   u'999999-23272'],\n",
       "  u'lamp-stations': [u'KAPC',\n",
       "   u'KCCR',\n",
       "   u'KHWD',\n",
       "   u'KLVK',\n",
       "   u'KNUQ',\n",
       "   u'KOAK',\n",
       "   u'KPAO',\n",
       "   u'KSFO',\n",
       "   u'KSQL'],\n",
       "  u'madis-stations': [u'AU915',\n",
       "   u'C5988',\n",
       "   u'C8158',\n",
       "   u'C9629',\n",
       "   u'D5422',\n",
       "   u'D7213',\n",
       "   u'D8533',\n",
       "   u'D8582',\n",
       "   u'E0426',\n",
       "   u'E6067',\n",
       "   u'FTPC1',\n",
       "   u'OKXC1',\n",
       "   u'OMHC1',\n",
       "   u'PPXC1',\n",
       "   u'PXOC1',\n",
       "   u'SFOC1'],\n",
       "  u'sources': [u'nwspa',\n",
       "   u'isd',\n",
       "   u'nearest-precip',\n",
       "   u'fnmoc',\n",
       "   u'sref',\n",
       "   u'rtma',\n",
       "   u'rap',\n",
       "   u'nam',\n",
       "   u'cmc',\n",
       "   u'gfs',\n",
       "   u'madis',\n",
       "   u'lamp',\n",
       "   u'darksky'],\n",
       "  u'units': u'us'},\n",
       " u'hourly': {u'data': [{u'apparentTemperature': 56.73,\n",
       "    u'cloudCover': 0.87,\n",
       "    u'dewPoint': 53.27,\n",
       "    u'humidity': 0.88,\n",
       "    u'icon': u'partly-cloudy-day',\n",
       "    u'ozone': 307.49,\n",
       "    u'precipIntensity': 0,\n",
       "    u'precipProbability': 0,\n",
       "    u'pressure': 1015.36,\n",
       "    u'summary': u'Mostly Cloudy',\n",
       "    u'temperature': 56.73,\n",
       "    u'time': 1435586400,\n",
       "    u'visibility': 6.47,\n",
       "    u'windBearing': 270,\n",
       "    u'windSpeed': 6.28},\n",
       "   {u'apparentTemperature': 57.89,\n",
       "    u'cloudCover': 0.86,\n",
       "    u'dewPoint': 53.25,\n",
       "    u'humidity': 0.85,\n",
       "    u'icon': u'partly-cloudy-day',\n",
       "    u'ozone': 307.37,\n",
       "    u'precipIntensity': 0,\n",
       "    u'precipProbability': 0,\n",
       "    u'pressure': 1015.51,\n",
       "    u'summary': u'Mostly Cloudy',\n",
       "    u'temperature': 57.89,\n",
       "    u'time': 1435590000,\n",
       "    u'visibility': 7.64,\n",
       "    u'windBearing': 275,\n",
       "    u'windSpeed': 6.03},\n",
       "   {u'apparentTemperature': 59.52,\n",
       "    u'cloudCover': 0.84,\n",
       "    u'dewPoint': 53.06,\n",
       "    u'humidity': 0.79,\n",
       "    u'icon': u'partly-cloudy-day',\n",
       "    u'ozone': 306.94,\n",
       "    u'precipIntensity': 0,\n",
       "    u'precipProbability': 0,\n",
       "    u'pressure': 1015.58,\n",
       "    u'summary': u'Mostly Cloudy',\n",
       "    u'temperature': 59.52,\n",
       "    u'time': 1435593600,\n",
       "    u'visibility': 9.02,\n",
       "    u'windBearing': 278,\n",
       "    u'windSpeed': 6.54},\n",
       "   {u'apparentTemperature': 61.46,\n",
       "    u'cloudCover': 0.82,\n",
       "    u'dewPoint': 53.16,\n",
       "    u'humidity': 0.74,\n",
       "    u'icon': u'partly-cloudy-day',\n",
       "    u'ozone': 306.34,\n",
       "    u'precipIntensity': 0,\n",
       "    u'precipProbability': 0,\n",
       "    u'pressure': 1015.59,\n",
       "    u'summary': u'Mostly Cloudy',\n",
       "    u'temperature': 61.46,\n",
       "    u'time': 1435597200,\n",
       "    u'visibility': 9.16,\n",
       "    u'windBearing': 278,\n",
       "    u'windSpeed': 7.56},\n",
       "   {u'apparentTemperature': 63.93,\n",
       "    u'cloudCover': 0.73,\n",
       "    u'dewPoint': 53.87,\n",
       "    u'humidity': 0.7,\n",
       "    u'icon': u'partly-cloudy-day',\n",
       "    u'ozone': 305.7,\n",
       "    u'precipIntensity': 0,\n",
       "    u'precipProbability': 0,\n",
       "    u'pressure': 1015.5,\n",
       "    u'summary': u'Mostly Cloudy',\n",
       "    u'temperature': 63.93,\n",
       "    u'time': 1435600800,\n",
       "    u'visibility': 8.99,\n",
       "    u'windBearing': 278,\n",
       "    u'windSpeed': 8.71},\n",
       "   {u'apparentTemperature': 66.63,\n",
       "    u'cloudCover': 0.71,\n",
       "    u'dewPoint': 55,\n",
       "    u'humidity': 0.66,\n",
       "    u'icon': u'partly-cloudy-day',\n",
       "    u'ozone': 305.09,\n",
       "    u'precipIntensity': 0,\n",
       "    u'precipProbability': 0,\n",
       "    u'pressure': 1015.24,\n",
       "    u'summary': u'Mostly Cloudy',\n",
       "    u'temperature': 66.63,\n",
       "    u'time': 1435604400,\n",
       "    u'visibility': 9.04,\n",
       "    u'windBearing': 281,\n",
       "    u'windSpeed': 9.8},\n",
       "   {u'apparentTemperature': 69.28,\n",
       "    u'cloudCover': 0.55,\n",
       "    u'dewPoint': 56.26,\n",
       "    u'humidity': 0.63,\n",
       "    u'icon': u'partly-cloudy-day',\n",
       "    u'ozone': 304.46,\n",
       "    u'precipIntensity': 0,\n",
       "    u'precipProbability': 0,\n",
       "    u'pressure': 1014.87,\n",
       "    u'summary': u'Partly Cloudy',\n",
       "    u'temperature': 69.28,\n",
       "    u'time': 1435608000,\n",
       "    u'visibility': 9.11,\n",
       "    u'windBearing': 288,\n",
       "    u'windSpeed': 11.52},\n",
       "   {u'apparentTemperature': 70.64,\n",
       "    u'cloudCover': 0.43,\n",
       "    u'dewPoint': 57.05,\n",
       "    u'humidity': 0.62,\n",
       "    u'icon': u'partly-cloudy-day',\n",
       "    u'ozone': 303.76,\n",
       "    u'precipIntensity': 0,\n",
       "    u'precipProbability': 0,\n",
       "    u'pressure': 1014.45,\n",
       "    u'summary': u'Partly Cloudy',\n",
       "    u'temperature': 70.64,\n",
       "    u'time': 1435611600,\n",
       "    u'visibility': 9.19,\n",
       "    u'windBearing': 289,\n",
       "    u'windSpeed': 12.59},\n",
       "   {u'apparentTemperature': 71.44,\n",
       "    u'cloudCover': 0.4,\n",
       "    u'dewPoint': 57.59,\n",
       "    u'humidity': 0.62,\n",
       "    u'icon': u'partly-cloudy-day',\n",
       "    u'ozone': 302.96,\n",
       "    u'precipIntensity': 0,\n",
       "    u'precipProbability': 0,\n",
       "    u'pressure': 1014,\n",
       "    u'summary': u'Partly Cloudy',\n",
       "    u'temperature': 71.44,\n",
       "    u'time': 1435615200,\n",
       "    u'visibility': 9.42,\n",
       "    u'windBearing': 290,\n",
       "    u'windSpeed': 13.33},\n",
       "   {u'apparentTemperature': 70.89,\n",
       "    u'cloudCover': 0.23,\n",
       "    u'dewPoint': 56.75,\n",
       "    u'humidity': 0.61,\n",
       "    u'icon': u'clear-day',\n",
       "    u'ozone': 302.09,\n",
       "    u'precipIntensity': 0,\n",
       "    u'precipProbability': 0,\n",
       "    u'pressure': 1013.53,\n",
       "    u'summary': u'Clear',\n",
       "    u'temperature': 70.89,\n",
       "    u'time': 1435618800,\n",
       "    u'visibility': 9.75,\n",
       "    u'windBearing': 289,\n",
       "    u'windSpeed': 13.31},\n",
       "   {u'apparentTemperature': 69.54,\n",
       "    u'cloudCover': 0.22,\n",
       "    u'dewPoint': 55.87,\n",
       "    u'humidity': 0.62,\n",
       "    u'icon': u'clear-day',\n",
       "    u'ozone': 301.27,\n",
       "    u'precipIntensity': 0,\n",
       "    u'precipProbability': 0,\n",
       "    u'pressure': 1013.16,\n",
       "    u'summary': u'Clear',\n",
       "    u'temperature': 69.54,\n",
       "    u'time': 1435622400,\n",
       "    u'visibility': 9.77,\n",
       "    u'windBearing': 289,\n",
       "    u'windSpeed': 13.11},\n",
       "   {u'apparentTemperature': 67.76,\n",
       "    u'cloudCover': 0.34,\n",
       "    u'dewPoint': 55.1,\n",
       "    u'humidity': 0.64,\n",
       "    u'icon': u'partly-cloudy-day',\n",
       "    u'ozone': 300.56,\n",
       "    u'precipIntensity': 0,\n",
       "    u'precipProbability': 0,\n",
       "    u'pressure': 1012.9,\n",
       "    u'summary': u'Partly Cloudy',\n",
       "    u'temperature': 67.76,\n",
       "    u'time': 1435626000,\n",
       "    u'visibility': 9.84,\n",
       "    u'windBearing': 288,\n",
       "    u'windSpeed': 12.31},\n",
       "   {u'apparentTemperature': 65.53,\n",
       "    u'cloudCover': 0.58,\n",
       "    u'dewPoint': 54.56,\n",
       "    u'humidity': 0.68,\n",
       "    u'icon': u'partly-cloudy-day',\n",
       "    u'ozone': 299.89,\n",
       "    u'precipIntensity': 0,\n",
       "    u'precipProbability': 0,\n",
       "    u'pressure': 1012.71,\n",
       "    u'summary': u'Partly Cloudy',\n",
       "    u'temperature': 65.53,\n",
       "    u'time': 1435629600,\n",
       "    u'visibility': 9.88,\n",
       "    u'windBearing': 287,\n",
       "    u'windSpeed': 11.42},\n",
       "   {u'apparentTemperature': 63.08,\n",
       "    u'cloudCover': 0.7,\n",
       "    u'dewPoint': 53.95,\n",
       "    u'humidity': 0.72,\n",
       "    u'icon': u'partly-cloudy-day',\n",
       "    u'ozone': 299.15,\n",
       "    u'precipIntensity': 0,\n",
       "    u'precipProbability': 0,\n",
       "    u'pressure': 1012.63,\n",
       "    u'summary': u'Mostly Cloudy',\n",
       "    u'temperature': 63.08,\n",
       "    u'time': 1435633200,\n",
       "    u'visibility': 9.58,\n",
       "    u'windBearing': 285,\n",
       "    u'windSpeed': 10.27},\n",
       "   {u'apparentTemperature': 61.18,\n",
       "    u'cloudCover': 0.72,\n",
       "    u'dewPoint': 53.82,\n",
       "    u'humidity': 0.77,\n",
       "    u'icon': u'partly-cloudy-night',\n",
       "    u'ozone': 298.26,\n",
       "    u'precipIntensity': 0,\n",
       "    u'precipProbability': 0,\n",
       "    u'pressure': 1012.74,\n",
       "    u'summary': u'Mostly Cloudy',\n",
       "    u'temperature': 61.18,\n",
       "    u'time': 1435636800,\n",
       "    u'visibility': 8.76,\n",
       "    u'windBearing': 282,\n",
       "    u'windSpeed': 8.76},\n",
       "   {u'apparentTemperature': 60.28,\n",
       "    u'cloudCover': 0.72,\n",
       "    u'dewPoint': 54.09,\n",
       "    u'humidity': 0.8,\n",
       "    u'icon': u'partly-cloudy-night',\n",
       "    u'ozone': 297.28,\n",
       "    u'precipIntensity': 0,\n",
       "    u'precipProbability': 0,\n",
       "    u'pressure': 1012.95,\n",
       "    u'summary': u'Mostly Cloudy',\n",
       "    u'temperature': 60.28,\n",
       "    u'time': 1435640400,\n",
       "    u'visibility': 7.61,\n",
       "    u'windBearing': 278,\n",
       "    u'windSpeed': 7.49},\n",
       "   {u'apparentTemperature': 59.71,\n",
       "    u'cloudCover': 0.79,\n",
       "    u'dewPoint': 54.1,\n",
       "    u'humidity': 0.82,\n",
       "    u'icon': u'partly-cloudy-night',\n",
       "    u'ozone': 296.31,\n",
       "    u'precipIntensity': 0,\n",
       "    u'precipProbability': 0,\n",
       "    u'pressure': 1013.04,\n",
       "    u'summary': u'Mostly Cloudy',\n",
       "    u'temperature': 59.71,\n",
       "    u'time': 1435644000,\n",
       "    u'visibility': 6.72,\n",
       "    u'windBearing': 276,\n",
       "    u'windSpeed': 6.68},\n",
       "   {u'apparentTemperature': 59.21,\n",
       "    u'cloudCover': 0.8,\n",
       "    u'dewPoint': 54.06,\n",
       "    u'humidity': 0.83,\n",
       "    u'icon': u'partly-cloudy-night',\n",
       "    u'ozone': 295.26,\n",
       "    u'precipIntensity': 0,\n",
       "    u'precipProbability': 0,\n",
       "    u'pressure': 1012.9,\n",
       "    u'summary': u'Mostly Cloudy',\n",
       "    u'temperature': 59.21,\n",
       "    u'time': 1435647600,\n",
       "    u'visibility': 6.38,\n",
       "    u'windBearing': 274,\n",
       "    u'windSpeed': 6.51},\n",
       "   {u'apparentTemperature': 58.55,\n",
       "    u'cloudCover': 0.81,\n",
       "    u'dewPoint': 54.42,\n",
       "    u'humidity': 0.86,\n",
       "    u'icon': u'partly-cloudy-night',\n",
       "    u'ozone': 294.21,\n",
       "    u'precipIntensity': 0,\n",
       "    u'precipProbability': 0,\n",
       "    u'pressure': 1012.66,\n",
       "    u'summary': u'Mostly Cloudy',\n",
       "    u'temperature': 58.55,\n",
       "    u'time': 1435651200,\n",
       "    u'visibility': 4.97,\n",
       "    u'windBearing': 268,\n",
       "    u'windSpeed': 6.32},\n",
       "   {u'apparentTemperature': 57.26,\n",
       "    u'cloudCover': 0.88,\n",
       "    u'dewPoint': 53.77,\n",
       "    u'humidity': 0.88,\n",
       "    u'icon': u'partly-cloudy-night',\n",
       "    u'ozone': 293.41,\n",
       "    u'precipIntensity': 0,\n",
       "    u'precipProbability': 0,\n",
       "    u'pressure': 1012.43,\n",
       "    u'summary': u'Mostly Cloudy',\n",
       "    u'temperature': 57.26,\n",
       "    u'time': 1435654800,\n",
       "    u'visibility': 3.57,\n",
       "    u'windBearing': 264,\n",
       "    u'windSpeed': 6.05},\n",
       "   {u'apparentTemperature': 56.79,\n",
       "    u'cloudCover': 0.9,\n",
       "    u'dewPoint': 53.7,\n",
       "    u'humidity': 0.89,\n",
       "    u'icon': u'partly-cloudy-night',\n",
       "    u'ozone': 292.99,\n",
       "    u'precipIntensity': 0,\n",
       "    u'precipProbability': 0,\n",
       "    u'pressure': 1012.27,\n",
       "    u'summary': u'Mostly Cloudy',\n",
       "    u'temperature': 56.79,\n",
       "    u'time': 1435658400,\n",
       "    u'visibility': 2.38,\n",
       "    u'windBearing': 262,\n",
       "    u'windSpeed': 5.65},\n",
       "   {u'apparentTemperature': 56.14,\n",
       "    u'cloudCover': 0.92,\n",
       "    u'dewPoint': 53.34,\n",
       "    u'humidity': 0.9,\n",
       "    u'icon': u'fog',\n",
       "    u'ozone': 292.82,\n",
       "    u'precipIntensity': 0,\n",
       "    u'precipProbability': 0,\n",
       "    u'pressure': 1012.15,\n",
       "    u'summary': u'Foggy',\n",
       "    u'temperature': 56.14,\n",
       "    u'time': 1435662000,\n",
       "    u'visibility': 1.64,\n",
       "    u'windBearing': 262,\n",
       "    u'windSpeed': 5.13},\n",
       "   {u'apparentTemperature': 55.29,\n",
       "    u'cloudCover': 0.92,\n",
       "    u'dewPoint': 52.73,\n",
       "    u'humidity': 0.91,\n",
       "    u'icon': u'fog',\n",
       "    u'ozone': 292.86,\n",
       "    u'precipIntensity': 0,\n",
       "    u'precipProbability': 0,\n",
       "    u'pressure': 1012.1,\n",
       "    u'summary': u'Foggy',\n",
       "    u'temperature': 55.29,\n",
       "    u'time': 1435665600,\n",
       "    u'visibility': 0.88,\n",
       "    u'windBearing': 254,\n",
       "    u'windSpeed': 4.51},\n",
       "   {u'apparentTemperature': 55.98,\n",
       "    u'cloudCover': 0.91,\n",
       "    u'dewPoint': 53.37,\n",
       "    u'humidity': 0.91,\n",
       "    u'icon': u'fog',\n",
       "    u'ozone': 293.13,\n",
       "    u'precipIntensity': 0,\n",
       "    u'precipProbability': 0,\n",
       "    u'pressure': 1012.2,\n",
       "    u'summary': u'Foggy',\n",
       "    u'temperature': 55.98,\n",
       "    u'time': 1435669200,\n",
       "    u'visibility': 1.07,\n",
       "    u'windBearing': 248,\n",
       "    u'windSpeed': 3.87},\n",
       "   {u'apparentTemperature': 56.73,\n",
       "    u'cloudCover': 0.85,\n",
       "    u'dewPoint': 54.16,\n",
       "    u'humidity': 0.91,\n",
       "    u'icon': u'fog',\n",
       "    u'ozone': 293.6,\n",
       "    u'precipIntensity': 0,\n",
       "    u'precipProbability': 0,\n",
       "    u'pressure': 1012.39,\n",
       "    u'summary': u'Foggy',\n",
       "    u'temperature': 56.73,\n",
       "    u'time': 1435672800,\n",
       "    u'visibility': 1.41,\n",
       "    u'windBearing': 241,\n",
       "    u'windSpeed': 3.4},\n",
       "   {u'apparentTemperature': 57.8,\n",
       "    u'cloudCover': 0.77,\n",
       "    u'dewPoint': 54.54,\n",
       "    u'humidity': 0.89,\n",
       "    u'icon': u'partly-cloudy-day',\n",
       "    u'ozone': 294.16,\n",
       "    u'precipIntensity': 0,\n",
       "    u'precipProbability': 0,\n",
       "    u'pressure': 1012.54,\n",
       "    u'summary': u'Mostly Cloudy',\n",
       "    u'temperature': 57.8,\n",
       "    u'time': 1435676400,\n",
       "    u'visibility': 2.19,\n",
       "    u'windBearing': 237,\n",
       "    u'windSpeed': 3.23},\n",
       "   {u'apparentTemperature': 59.7,\n",
       "    u'cloudCover': 0.65,\n",
       "    u'dewPoint': 54.71,\n",
       "    u'humidity': 0.84,\n",
       "    u'icon': u'partly-cloudy-day',\n",
       "    u'ozone': 294.78,\n",
       "    u'precipIntensity': 0,\n",
       "    u'precipProbability': 0,\n",
       "    u'pressure': 1012.62,\n",
       "    u'summary': u'Mostly Cloudy',\n",
       "    u'temperature': 59.7,\n",
       "    u'time': 1435680000,\n",
       "    u'visibility': 3.83,\n",
       "    u'windBearing': 239,\n",
       "    u'windSpeed': 3.44},\n",
       "   {u'apparentTemperature': 62.81,\n",
       "    u'cloudCover': 0.51,\n",
       "    u'dewPoint': 55.27,\n",
       "    u'humidity': 0.76,\n",
       "    u'icon': u'partly-cloudy-day',\n",
       "    u'ozone': 295.48,\n",
       "    u'precipIntensity': 0,\n",
       "    u'precipProbability': 0,\n",
       "    u'pressure': 1012.64,\n",
       "    u'summary': u'Partly Cloudy',\n",
       "    u'temperature': 62.81,\n",
       "    u'time': 1435683600,\n",
       "    u'visibility': 5.9,\n",
       "    u'windBearing': 246,\n",
       "    u'windSpeed': 4.14},\n",
       "   {u'apparentTemperature': 65.59,\n",
       "    u'cloudCover': 0.38,\n",
       "    u'dewPoint': 55.67,\n",
       "    u'humidity': 0.7,\n",
       "    u'icon': u'partly-cloudy-day',\n",
       "    u'ozone': 296.3,\n",
       "    u'precipIntensity': 0,\n",
       "    u'precipProbability': 0,\n",
       "    u'pressure': 1012.56,\n",
       "    u'summary': u'Partly Cloudy',\n",
       "    u'temperature': 65.59,\n",
       "    u'time': 1435687200,\n",
       "    u'visibility': 7.48,\n",
       "    u'windBearing': 251,\n",
       "    u'windSpeed': 5.03},\n",
       "   {u'apparentTemperature': 68.34,\n",
       "    u'cloudCover': 0.29,\n",
       "    u'dewPoint': 56.49,\n",
       "    u'humidity': 0.66,\n",
       "    u'icon': u'partly-cloudy-day',\n",
       "    u'ozone': 297.41,\n",
       "    u'precipIntensity': 0,\n",
       "    u'precipProbability': 0,\n",
       "    u'pressure': 1012.4,\n",
       "    u'summary': u'Partly Cloudy',\n",
       "    u'temperature': 68.34,\n",
       "    u'time': 1435690800,\n",
       "    u'visibility': 8.06,\n",
       "    u'windBearing': 256,\n",
       "    u'windSpeed': 6.21},\n",
       "   {u'apparentTemperature': 71.28,\n",
       "    u'cloudCover': 0.23,\n",
       "    u'dewPoint': 58.07,\n",
       "    u'humidity': 0.63,\n",
       "    u'icon': u'clear-day',\n",
       "    u'ozone': 298.63,\n",
       "    u'precipIntensity': 0,\n",
       "    u'precipProbability': 0,\n",
       "    u'pressure': 1012.15,\n",
       "    u'summary': u'Clear',\n",
       "    u'temperature': 71.28,\n",
       "    u'time': 1435694400,\n",
       "    u'visibility': 8.14,\n",
       "    u'windBearing': 259,\n",
       "    u'windSpeed': 7.58},\n",
       "   {u'apparentTemperature': 73.73,\n",
       "    u'cloudCover': 0.19,\n",
       "    u'dewPoint': 59.56,\n",
       "    u'humidity': 0.61,\n",
       "    u'icon': u'clear-day',\n",
       "    u'ozone': 299.4,\n",
       "    u'precipIntensity': 0,\n",
       "    u'precipProbability': 0,\n",
       "    u'pressure': 1011.81,\n",
       "    u'summary': u'Clear',\n",
       "    u'temperature': 73.73,\n",
       "    u'time': 1435698000,\n",
       "    u'visibility': 8.32,\n",
       "    u'windBearing': 261,\n",
       "    u'windSpeed': 8.68},\n",
       "   {u'apparentTemperature': 75.04,\n",
       "    u'cloudCover': 0.17,\n",
       "    u'dewPoint': 60.39,\n",
       "    u'humidity': 0.6,\n",
       "    u'icon': u'clear-day',\n",
       "    u'ozone': 299.31,\n",
       "    u'precipIntensity': 0,\n",
       "    u'precipProbability': 0,\n",
       "    u'pressure': 1011.36,\n",
       "    u'summary': u'Clear',\n",
       "    u'temperature': 75.04,\n",
       "    u'time': 1435701600,\n",
       "    u'visibility': 8.88,\n",
       "    u'windBearing': 262,\n",
       "    u'windSpeed': 9.41},\n",
       "   {u'apparentTemperature': 74.34,\n",
       "    u'cloudCover': 0.16,\n",
       "    u'dewPoint': 59.8,\n",
       "    u'humidity': 0.61,\n",
       "    u'icon': u'clear-day',\n",
       "    u'ozone': 298.77,\n",
       "    u'precipIntensity': 0,\n",
       "    u'precipProbability': 0,\n",
       "    u'pressure': 1010.86,\n",
       "    u'summary': u'Clear',\n",
       "    u'temperature': 74.34,\n",
       "    u'time': 1435705200,\n",
       "    u'visibility': 9.53,\n",
       "    u'windBearing': 263,\n",
       "    u'windSpeed': 9.87},\n",
       "   {u'apparentTemperature': 72.8,\n",
       "    u'cloudCover': 0.18,\n",
       "    u'dewPoint': 58.92,\n",
       "    u'humidity': 0.62,\n",
       "    u'icon': u'clear-day',\n",
       "    u'ozone': 298.48,\n",
       "    u'precipIntensity': 0,\n",
       "    u'precipProbability': 0,\n",
       "    u'pressure': 1010.51,\n",
       "    u'summary': u'Clear',\n",
       "    u'temperature': 72.8,\n",
       "    u'time': 1435708800,\n",
       "    u'visibility': 10,\n",
       "    u'windBearing': 262,\n",
       "    u'windSpeed': 9.93},\n",
       "   {u'apparentTemperature': 70.51,\n",
       "    u'cloudCover': 0.25,\n",
       "    u'dewPoint': 57.92,\n",
       "    u'humidity': 0.64,\n",
       "    u'icon': u'partly-cloudy-day',\n",
       "    u'ozone': 298.74,\n",
       "    u'precipIntensity': 0,\n",
       "    u'precipProbability': 0,\n",
       "    u'pressure': 1010.39,\n",
       "    u'summary': u'Partly Cloudy',\n",
       "    u'temperature': 70.51,\n",
       "    u'time': 1435712400,\n",
       "    u'visibility': 10,\n",
       "    u'windBearing': 260,\n",
       "    u'windSpeed': 9.36},\n",
       "   {u'apparentTemperature': 67.79,\n",
       "    u'cloudCover': 0.34,\n",
       "    u'dewPoint': 56.9,\n",
       "    u'humidity': 0.68,\n",
       "    u'icon': u'partly-cloudy-day',\n",
       "    u'ozone': 299.24,\n",
       "    u'precipIntensity': 0,\n",
       "    u'precipProbability': 0,\n",
       "    u'pressure': 1010.4,\n",
       "    u'summary': u'Partly Cloudy',\n",
       "    u'temperature': 67.79,\n",
       "    u'time': 1435716000,\n",
       "    u'visibility': 10,\n",
       "    u'windBearing': 256,\n",
       "    u'windSpeed': 8.41},\n",
       "   {u'apparentTemperature': 65.35,\n",
       "    u'cloudCover': 0.41,\n",
       "    u'dewPoint': 56.08,\n",
       "    u'humidity': 0.72,\n",
       "    u'icon': u'partly-cloudy-day',\n",
       "    u'ozone': 299.78,\n",
       "    u'precipIntensity': 0,\n",
       "    u'precipProbability': 0,\n",
       "    u'pressure': 1010.51,\n",
       "    u'summary': u'Partly Cloudy',\n",
       "    u'temperature': 65.35,\n",
       "    u'time': 1435719600,\n",
       "    u'visibility': 10,\n",
       "    u'windBearing': 251,\n",
       "    u'windSpeed': 7.59},\n",
       "   {u'apparentTemperature': 63.41,\n",
       "    u'cloudCover': 0.47,\n",
       "    u'dewPoint': 55.65,\n",
       "    u'humidity': 0.76,\n",
       "    u'icon': u'partly-cloudy-night',\n",
       "    u'ozone': 300.38,\n",
       "    u'precipIntensity': 0,\n",
       "    u'precipProbability': 0,\n",
       "    u'pressure': 1010.79,\n",
       "    u'summary': u'Partly Cloudy',\n",
       "    u'temperature': 63.41,\n",
       "    u'time': 1435723200,\n",
       "    u'visibility': 9.29,\n",
       "    u'windBearing': 247,\n",
       "    u'windSpeed': 7.14},\n",
       "   {u'apparentTemperature': 61.78,\n",
       "    u'cloudCover': 0.52,\n",
       "    u'dewPoint': 55.44,\n",
       "    u'humidity': 0.8,\n",
       "    u'icon': u'partly-cloudy-night',\n",
       "    u'ozone': 301.01,\n",
       "    u'precipIntensity': 0,\n",
       "    u'precipProbability': 0,\n",
       "    u'pressure': 1011.15,\n",
       "    u'summary': u'Partly Cloudy',\n",
       "    u'temperature': 61.78,\n",
       "    u'time': 1435726800,\n",
       "    u'visibility': 8.32,\n",
       "    u'windBearing': 243,\n",
       "    u'windSpeed': 6.84},\n",
       "   {u'apparentTemperature': 60.64,\n",
       "    u'cloudCover': 0.56,\n",
       "    u'dewPoint': 55.36,\n",
       "    u'humidity': 0.83,\n",
       "    u'icon': u'partly-cloudy-night',\n",
       "    u'ozone': 301.42,\n",
       "    u'precipIntensity': 0,\n",
       "    u'precipProbability': 0,\n",
       "    u'pressure': 1011.4,\n",
       "    u'summary': u'Partly Cloudy',\n",
       "    u'temperature': 60.64,\n",
       "    u'time': 1435730400,\n",
       "    u'visibility': 7.62,\n",
       "    u'windBearing': 240,\n",
       "    u'windSpeed': 6.58},\n",
       "   {u'apparentTemperature': 60.04,\n",
       "    u'cloudCover': 0.56,\n",
       "    u'dewPoint': 55.36,\n",
       "    u'humidity': 0.85,\n",
       "    u'icon': u'partly-cloudy-night',\n",
       "    u'ozone': 301.47,\n",
       "    u'precipIntensity': 0,\n",
       "    u'precipProbability': 0,\n",
       "    u'pressure': 1011.48,\n",
       "    u'summary': u'Partly Cloudy',\n",
       "    u'temperature': 60.04,\n",
       "    u'time': 1435734000,\n",
       "    u'visibility': 7.47,\n",
       "    u'windBearing': 238,\n",
       "    u'windSpeed': 6.34},\n",
       "   {u'apparentTemperature': 59.66,\n",
       "    u'cloudCover': 0.55,\n",
       "    u'dewPoint': 55.33,\n",
       "    u'humidity': 0.86,\n",
       "    u'icon': u'partly-cloudy-night',\n",
       "    u'ozone': 301.3,\n",
       "    u'precipIntensity': 0,\n",
       "    u'precipProbability': 0,\n",
       "    u'pressure': 1011.46,\n",
       "    u'summary': u'Partly Cloudy',\n",
       "    u'temperature': 59.66,\n",
       "    u'time': 1435737600,\n",
       "    u'visibility': 7.6,\n",
       "    u'windBearing': 238,\n",
       "    u'windSpeed': 6.08},\n",
       "   {u'apparentTemperature': 59.25,\n",
       "    u'cloudCover': 0.53,\n",
       "    u'dewPoint': 55.19,\n",
       "    u'humidity': 0.86,\n",
       "    u'icon': u'partly-cloudy-night',\n",
       "    u'ozone': 301.05,\n",
       "    u'precipIntensity': 0,\n",
       "    u'precipProbability': 0,\n",
       "    u'pressure': 1011.42,\n",
       "    u'summary': u'Partly Cloudy',\n",
       "    u'temperature': 59.25,\n",
       "    u'time': 1435741200,\n",
       "    u'visibility': 7.62,\n",
       "    u'windBearing': 238,\n",
       "    u'windSpeed': 5.78},\n",
       "   {u'apparentTemperature': 58.64,\n",
       "    u'cloudCover': 0.52,\n",
       "    u'dewPoint': 54.97,\n",
       "    u'humidity': 0.88,\n",
       "    u'icon': u'partly-cloudy-night',\n",
       "    u'ozone': 300.69,\n",
       "    u'precipIntensity': 0,\n",
       "    u'precipProbability': 0,\n",
       "    u'pressure': 1011.33,\n",
       "    u'summary': u'Partly Cloudy',\n",
       "    u'temperature': 58.64,\n",
       "    u'time': 1435744800,\n",
       "    u'visibility': 7.28,\n",
       "    u'windBearing': 236,\n",
       "    u'windSpeed': 5.4},\n",
       "   {u'apparentTemperature': 58.06,\n",
       "    u'cloudCover': 0.5,\n",
       "    u'dewPoint': 54.7,\n",
       "    u'humidity': 0.89,\n",
       "    u'icon': u'partly-cloudy-night',\n",
       "    u'ozone': 300.24,\n",
       "    u'precipIntensity': 0,\n",
       "    u'precipProbability': 0,\n",
       "    u'pressure': 1011.24,\n",
       "    u'summary': u'Partly Cloudy',\n",
       "    u'temperature': 58.06,\n",
       "    u'time': 1435748400,\n",
       "    u'visibility': 6.84,\n",
       "    u'windBearing': 232,\n",
       "    u'windSpeed': 4.83},\n",
       "   {u'apparentTemperature': 58.48,\n",
       "    u'cloudCover': 0.47,\n",
       "    u'dewPoint': 55.02,\n",
       "    u'humidity': 0.88,\n",
       "    u'icon': u'partly-cloudy-night',\n",
       "    u'ozone': 299.97,\n",
       "    u'precipIntensity': 0,\n",
       "    u'precipProbability': 0,\n",
       "    u'pressure': 1011.26,\n",
       "    u'summary': u'Partly Cloudy',\n",
       "    u'temperature': 58.48,\n",
       "    u'time': 1435752000,\n",
       "    u'visibility': 6.68,\n",
       "    u'windBearing': 228,\n",
       "    u'windSpeed': 4.33},\n",
       "   {u'apparentTemperature': 59.17,\n",
       "    u'cloudCover': 0.45,\n",
       "    u'dewPoint': 55.02,\n",
       "    u'humidity': 0.86,\n",
       "    u'icon': u'partly-cloudy-day',\n",
       "    u'ozone': 299.95,\n",
       "    u'precipIntensity': 0,\n",
       "    u'precipProbability': 0,\n",
       "    u'pressure': 1011.52,\n",
       "    u'summary': u'Partly Cloudy',\n",
       "    u'temperature': 59.17,\n",
       "    u'time': 1435755600,\n",
       "    u'visibility': 7.08,\n",
       "    u'windBearing': 230,\n",
       "    u'windSpeed': 4.1},\n",
       "   {u'apparentTemperature': 60.07,\n",
       "    u'cloudCover': 0.45,\n",
       "    u'dewPoint': 54.8,\n",
       "    u'humidity': 0.83,\n",
       "    u'icon': u'partly-cloudy-day',\n",
       "    u'ozone': 300.11,\n",
       "    u'precipIntensity': 0,\n",
       "    u'precipProbability': 0,\n",
       "    u'pressure': 1011.91,\n",
       "    u'summary': u'Partly Cloudy',\n",
       "    u'temperature': 60.07,\n",
       "    u'time': 1435759200,\n",
       "    u'visibility': 7.76,\n",
       "    u'windBearing': 234,\n",
       "    u'windSpeed': 3.95}],\n",
       "  u'icon': u'fog',\n",
       "  u'summary': u'Foggy tomorrow morning.'},\n",
       " u'latitude': 37.8267,\n",
       " u'longitude': -122.423,\n",
       " u'minutely': {u'data': [{u'precipIntensity': 0,\n",
       "    u'precipProbability': 0,\n",
       "    u'time': 1435588740},\n",
       "   {u'precipIntensity': 0, u'precipProbability': 0, u'time': 1435588800},\n",
       "   {u'precipIntensity': 0, u'precipProbability': 0, u'time': 1435588860},\n",
       "   {u'precipIntensity': 0, u'precipProbability': 0, u'time': 1435588920},\n",
       "   {u'precipIntensity': 0, u'precipProbability': 0, u'time': 1435588980},\n",
       "   {u'precipIntensity': 0, u'precipProbability': 0, u'time': 1435589040},\n",
       "   {u'precipIntensity': 0, u'precipProbability': 0, u'time': 1435589100},\n",
       "   {u'precipIntensity': 0, u'precipProbability': 0, u'time': 1435589160},\n",
       "   {u'precipIntensity': 0, u'precipProbability': 0, u'time': 1435589220},\n",
       "   {u'precipIntensity': 0, u'precipProbability': 0, u'time': 1435589280},\n",
       "   {u'precipIntensity': 0, u'precipProbability': 0, u'time': 1435589340},\n",
       "   {u'precipIntensity': 0, u'precipProbability': 0, u'time': 1435589400},\n",
       "   {u'precipIntensity': 0, u'precipProbability': 0, u'time': 1435589460},\n",
       "   {u'precipIntensity': 0, u'precipProbability': 0, u'time': 1435589520},\n",
       "   {u'precipIntensity': 0, u'precipProbability': 0, u'time': 1435589580},\n",
       "   {u'precipIntensity': 0, u'precipProbability': 0, u'time': 1435589640},\n",
       "   {u'precipIntensity': 0, u'precipProbability': 0, u'time': 1435589700},\n",
       "   {u'precipIntensity': 0, u'precipProbability': 0, u'time': 1435589760},\n",
       "   {u'precipIntensity': 0, u'precipProbability': 0, u'time': 1435589820},\n",
       "   {u'precipIntensity': 0, u'precipProbability': 0, u'time': 1435589880},\n",
       "   {u'precipIntensity': 0, u'precipProbability': 0, u'time': 1435589940},\n",
       "   {u'precipIntensity': 0, u'precipProbability': 0, u'time': 1435590000},\n",
       "   {u'precipIntensity': 0, u'precipProbability': 0, u'time': 1435590060},\n",
       "   {u'precipIntensity': 0, u'precipProbability': 0, u'time': 1435590120},\n",
       "   {u'precipIntensity': 0, u'precipProbability': 0, u'time': 1435590180},\n",
       "   {u'precipIntensity': 0, u'precipProbability': 0, u'time': 1435590240},\n",
       "   {u'precipIntensity': 0, u'precipProbability': 0, u'time': 1435590300},\n",
       "   {u'precipIntensity': 0, u'precipProbability': 0, u'time': 1435590360},\n",
       "   {u'precipIntensity': 0, u'precipProbability': 0, u'time': 1435590420},\n",
       "   {u'precipIntensity': 0, u'precipProbability': 0, u'time': 1435590480},\n",
       "   {u'precipIntensity': 0, u'precipProbability': 0, u'time': 1435590540},\n",
       "   {u'precipIntensity': 0, u'precipProbability': 0, u'time': 1435590600},\n",
       "   {u'precipIntensity': 0, u'precipProbability': 0, u'time': 1435590660},\n",
       "   {u'precipIntensity': 0, u'precipProbability': 0, u'time': 1435590720},\n",
       "   {u'precipIntensity': 0, u'precipProbability': 0, u'time': 1435590780},\n",
       "   {u'precipIntensity': 0, u'precipProbability': 0, u'time': 1435590840},\n",
       "   {u'precipIntensity': 0, u'precipProbability': 0, u'time': 1435590900},\n",
       "   {u'precipIntensity': 0, u'precipProbability': 0, u'time': 1435590960},\n",
       "   {u'precipIntensity': 0, u'precipProbability': 0, u'time': 1435591020},\n",
       "   {u'precipIntensity': 0, u'precipProbability': 0, u'time': 1435591080},\n",
       "   {u'precipIntensity': 0, u'precipProbability': 0, u'time': 1435591140},\n",
       "   {u'precipIntensity': 0, u'precipProbability': 0, u'time': 1435591200},\n",
       "   {u'precipIntensity': 0, u'precipProbability': 0, u'time': 1435591260},\n",
       "   {u'precipIntensity': 0, u'precipProbability': 0, u'time': 1435591320},\n",
       "   {u'precipIntensity': 0, u'precipProbability': 0, u'time': 1435591380},\n",
       "   {u'precipIntensity': 0, u'precipProbability': 0, u'time': 1435591440},\n",
       "   {u'precipIntensity': 0, u'precipProbability': 0, u'time': 1435591500},\n",
       "   {u'precipIntensity': 0, u'precipProbability': 0, u'time': 1435591560},\n",
       "   {u'precipIntensity': 0, u'precipProbability': 0, u'time': 1435591620},\n",
       "   {u'precipIntensity': 0, u'precipProbability': 0, u'time': 1435591680},\n",
       "   {u'precipIntensity': 0, u'precipProbability': 0, u'time': 1435591740},\n",
       "   {u'precipIntensity': 0, u'precipProbability': 0, u'time': 1435591800},\n",
       "   {u'precipIntensity': 0, u'precipProbability': 0, u'time': 1435591860},\n",
       "   {u'precipIntensity': 0, u'precipProbability': 0, u'time': 1435591920},\n",
       "   {u'precipIntensity': 0, u'precipProbability': 0, u'time': 1435591980},\n",
       "   {u'precipIntensity': 0, u'precipProbability': 0, u'time': 1435592040},\n",
       "   {u'precipIntensity': 0, u'precipProbability': 0, u'time': 1435592100},\n",
       "   {u'precipIntensity': 0, u'precipProbability': 0, u'time': 1435592160},\n",
       "   {u'precipIntensity': 0, u'precipProbability': 0, u'time': 1435592220},\n",
       "   {u'precipIntensity': 0, u'precipProbability': 0, u'time': 1435592280},\n",
       "   {u'precipIntensity': 0, u'precipProbability': 0, u'time': 1435592340}],\n",
       "  u'icon': u'partly-cloudy-day',\n",
       "  u'summary': u'Mostly cloudy for the hour.'},\n",
       " u'offset': -7,\n",
       " u'timezone': u'America/Los_Angeles'}"
      ]
     },
     "execution_count": 34,
     "metadata": {},
     "output_type": "execute_result"
    }
   ],
   "source": [
    "import json\n",
    "data = json.loads(contents)\n",
    "data"
   ]
  },
  {
   "cell_type": "code",
   "execution_count": 35,
   "metadata": {
    "collapsed": false
   },
   "outputs": [
    {
     "data": {
      "text/plain": [
       "dict"
      ]
     },
     "execution_count": 35,
     "metadata": {},
     "output_type": "execute_result"
    }
   ],
   "source": [
    "type(data)"
   ]
  },
  {
   "cell_type": "code",
   "execution_count": 36,
   "metadata": {
    "collapsed": false
   },
   "outputs": [
    {
     "data": {
      "text/plain": [
       "[u'hourly',\n",
       " u'alerts',\n",
       " u'currently',\n",
       " u'longitude',\n",
       " u'flags',\n",
       " u'daily',\n",
       " u'offset',\n",
       " u'latitude',\n",
       " u'timezone',\n",
       " u'minutely']"
      ]
     },
     "execution_count": 36,
     "metadata": {},
     "output_type": "execute_result"
    }
   ],
   "source": [
    "data.keys()"
   ]
  },
  {
   "cell_type": "markdown",
   "metadata": {},
   "source": [
    "**Unicode:** includes all the languages: http://unicode-table.com/ It tries to put all the characters in one roof. (except python.2 is REALLY BAD AT UNICODE)\n",
    "\n",
    "**Serializaton:** https://en.wikipedia.org/wiki/Serialization\n",
    "\n",
    "*moving forward....*"
   ]
  },
  {
   "cell_type": "code",
   "execution_count": 38,
   "metadata": {
    "collapsed": false
   },
   "outputs": [
    {
     "data": {
      "text/plain": [
       "True"
      ]
     },
     "execution_count": 38,
     "metadata": {},
     "output_type": "execute_result"
    }
   ],
   "source": [
    "'hourly'== u'hourly'"
   ]
  },
  {
   "cell_type": "code",
   "execution_count": null,
   "metadata": {
    "collapsed": true
   },
   "outputs": [],
   "source": []
  },
  {
   "cell_type": "code",
   "execution_count": 39,
   "metadata": {
    "collapsed": false
   },
   "outputs": [
    {
     "data": {
      "text/plain": [
       "{u'darksky-stations': [u'KMUX'],\n",
       " u'isd-stations': [u'724943-99999',\n",
       "  u'745039-99999',\n",
       "  u'745065-99999',\n",
       "  u'994016-99999',\n",
       "  u'999999-23272'],\n",
       " u'lamp-stations': [u'KAPC',\n",
       "  u'KCCR',\n",
       "  u'KHWD',\n",
       "  u'KLVK',\n",
       "  u'KNUQ',\n",
       "  u'KOAK',\n",
       "  u'KPAO',\n",
       "  u'KSFO',\n",
       "  u'KSQL'],\n",
       " u'madis-stations': [u'AU915',\n",
       "  u'C5988',\n",
       "  u'C8158',\n",
       "  u'C9629',\n",
       "  u'D5422',\n",
       "  u'D7213',\n",
       "  u'D8533',\n",
       "  u'D8582',\n",
       "  u'E0426',\n",
       "  u'E6067',\n",
       "  u'FTPC1',\n",
       "  u'OKXC1',\n",
       "  u'OMHC1',\n",
       "  u'PPXC1',\n",
       "  u'PXOC1',\n",
       "  u'SFOC1'],\n",
       " u'sources': [u'nwspa',\n",
       "  u'isd',\n",
       "  u'nearest-precip',\n",
       "  u'fnmoc',\n",
       "  u'sref',\n",
       "  u'rtma',\n",
       "  u'rap',\n",
       "  u'nam',\n",
       "  u'cmc',\n",
       "  u'gfs',\n",
       "  u'madis',\n",
       "  u'lamp',\n",
       "  u'darksky'],\n",
       " u'units': u'us'}"
      ]
     },
     "execution_count": 39,
     "metadata": {},
     "output_type": "execute_result"
    }
   ],
   "source": [
    "data['flags']"
   ]
  },
  {
   "cell_type": "code",
   "execution_count": 42,
   "metadata": {
    "collapsed": false
   },
   "outputs": [
    {
     "data": {
      "text/plain": [
       "{u'data': [{u'precipIntensity': 0,\n",
       "   u'precipProbability': 0,\n",
       "   u'time': 1435588740},\n",
       "  {u'precipIntensity': 0, u'precipProbability': 0, u'time': 1435588800},\n",
       "  {u'precipIntensity': 0, u'precipProbability': 0, u'time': 1435588860},\n",
       "  {u'precipIntensity': 0, u'precipProbability': 0, u'time': 1435588920},\n",
       "  {u'precipIntensity': 0, u'precipProbability': 0, u'time': 1435588980},\n",
       "  {u'precipIntensity': 0, u'precipProbability': 0, u'time': 1435589040},\n",
       "  {u'precipIntensity': 0, u'precipProbability': 0, u'time': 1435589100},\n",
       "  {u'precipIntensity': 0, u'precipProbability': 0, u'time': 1435589160},\n",
       "  {u'precipIntensity': 0, u'precipProbability': 0, u'time': 1435589220},\n",
       "  {u'precipIntensity': 0, u'precipProbability': 0, u'time': 1435589280},\n",
       "  {u'precipIntensity': 0, u'precipProbability': 0, u'time': 1435589340},\n",
       "  {u'precipIntensity': 0, u'precipProbability': 0, u'time': 1435589400},\n",
       "  {u'precipIntensity': 0, u'precipProbability': 0, u'time': 1435589460},\n",
       "  {u'precipIntensity': 0, u'precipProbability': 0, u'time': 1435589520},\n",
       "  {u'precipIntensity': 0, u'precipProbability': 0, u'time': 1435589580},\n",
       "  {u'precipIntensity': 0, u'precipProbability': 0, u'time': 1435589640},\n",
       "  {u'precipIntensity': 0, u'precipProbability': 0, u'time': 1435589700},\n",
       "  {u'precipIntensity': 0, u'precipProbability': 0, u'time': 1435589760},\n",
       "  {u'precipIntensity': 0, u'precipProbability': 0, u'time': 1435589820},\n",
       "  {u'precipIntensity': 0, u'precipProbability': 0, u'time': 1435589880},\n",
       "  {u'precipIntensity': 0, u'precipProbability': 0, u'time': 1435589940},\n",
       "  {u'precipIntensity': 0, u'precipProbability': 0, u'time': 1435590000},\n",
       "  {u'precipIntensity': 0, u'precipProbability': 0, u'time': 1435590060},\n",
       "  {u'precipIntensity': 0, u'precipProbability': 0, u'time': 1435590120},\n",
       "  {u'precipIntensity': 0, u'precipProbability': 0, u'time': 1435590180},\n",
       "  {u'precipIntensity': 0, u'precipProbability': 0, u'time': 1435590240},\n",
       "  {u'precipIntensity': 0, u'precipProbability': 0, u'time': 1435590300},\n",
       "  {u'precipIntensity': 0, u'precipProbability': 0, u'time': 1435590360},\n",
       "  {u'precipIntensity': 0, u'precipProbability': 0, u'time': 1435590420},\n",
       "  {u'precipIntensity': 0, u'precipProbability': 0, u'time': 1435590480},\n",
       "  {u'precipIntensity': 0, u'precipProbability': 0, u'time': 1435590540},\n",
       "  {u'precipIntensity': 0, u'precipProbability': 0, u'time': 1435590600},\n",
       "  {u'precipIntensity': 0, u'precipProbability': 0, u'time': 1435590660},\n",
       "  {u'precipIntensity': 0, u'precipProbability': 0, u'time': 1435590720},\n",
       "  {u'precipIntensity': 0, u'precipProbability': 0, u'time': 1435590780},\n",
       "  {u'precipIntensity': 0, u'precipProbability': 0, u'time': 1435590840},\n",
       "  {u'precipIntensity': 0, u'precipProbability': 0, u'time': 1435590900},\n",
       "  {u'precipIntensity': 0, u'precipProbability': 0, u'time': 1435590960},\n",
       "  {u'precipIntensity': 0, u'precipProbability': 0, u'time': 1435591020},\n",
       "  {u'precipIntensity': 0, u'precipProbability': 0, u'time': 1435591080},\n",
       "  {u'precipIntensity': 0, u'precipProbability': 0, u'time': 1435591140},\n",
       "  {u'precipIntensity': 0, u'precipProbability': 0, u'time': 1435591200},\n",
       "  {u'precipIntensity': 0, u'precipProbability': 0, u'time': 1435591260},\n",
       "  {u'precipIntensity': 0, u'precipProbability': 0, u'time': 1435591320},\n",
       "  {u'precipIntensity': 0, u'precipProbability': 0, u'time': 1435591380},\n",
       "  {u'precipIntensity': 0, u'precipProbability': 0, u'time': 1435591440},\n",
       "  {u'precipIntensity': 0, u'precipProbability': 0, u'time': 1435591500},\n",
       "  {u'precipIntensity': 0, u'precipProbability': 0, u'time': 1435591560},\n",
       "  {u'precipIntensity': 0, u'precipProbability': 0, u'time': 1435591620},\n",
       "  {u'precipIntensity': 0, u'precipProbability': 0, u'time': 1435591680},\n",
       "  {u'precipIntensity': 0, u'precipProbability': 0, u'time': 1435591740},\n",
       "  {u'precipIntensity': 0, u'precipProbability': 0, u'time': 1435591800},\n",
       "  {u'precipIntensity': 0, u'precipProbability': 0, u'time': 1435591860},\n",
       "  {u'precipIntensity': 0, u'precipProbability': 0, u'time': 1435591920},\n",
       "  {u'precipIntensity': 0, u'precipProbability': 0, u'time': 1435591980},\n",
       "  {u'precipIntensity': 0, u'precipProbability': 0, u'time': 1435592040},\n",
       "  {u'precipIntensity': 0, u'precipProbability': 0, u'time': 1435592100},\n",
       "  {u'precipIntensity': 0, u'precipProbability': 0, u'time': 1435592160},\n",
       "  {u'precipIntensity': 0, u'precipProbability': 0, u'time': 1435592220},\n",
       "  {u'precipIntensity': 0, u'precipProbability': 0, u'time': 1435592280},\n",
       "  {u'precipIntensity': 0, u'precipProbability': 0, u'time': 1435592340}],\n",
       " u'icon': u'partly-cloudy-day',\n",
       " u'summary': u'Mostly cloudy for the hour.'}"
      ]
     },
     "execution_count": 42,
     "metadata": {},
     "output_type": "execute_result"
    }
   ],
   "source": [
    "data['minutely']"
   ]
  },
  {
   "cell_type": "code",
   "execution_count": 40,
   "metadata": {
    "collapsed": false
   },
   "outputs": [
    {
     "data": {
      "text/plain": [
       "[u'icon', u'data', u'summary']"
      ]
     },
     "execution_count": 40,
     "metadata": {},
     "output_type": "execute_result"
    }
   ],
   "source": [
    "data['minutely'].keys()"
   ]
  },
  {
   "cell_type": "code",
   "execution_count": 43,
   "metadata": {
    "collapsed": false
   },
   "outputs": [
    {
     "data": {
      "text/plain": [
       "u'Mostly cloudy for the hour.'"
      ]
     },
     "execution_count": 43,
     "metadata": {},
     "output_type": "execute_result"
    }
   ],
   "source": [
    "data['minutely']['summary']"
   ]
  },
  {
   "cell_type": "code",
   "execution_count": 46,
   "metadata": {
    "collapsed": false
   },
   "outputs": [
    {
     "data": {
      "text/plain": [
       "u'Mostly cloudy for the hour.'"
      ]
     },
     "execution_count": 46,
     "metadata": {},
     "output_type": "execute_result"
    }
   ],
   "source": [
    "minutely = data['minutely']\n",
    "summary = minutely['summary']\n",
    "summary\n",
    "#This is the same thing as what happened on line 43..."
   ]
  },
  {
   "cell_type": "code",
   "execution_count": 47,
   "metadata": {
    "collapsed": false
   },
   "outputs": [
    {
     "data": {
      "text/plain": [
       "[{u'precipIntensity': 0, u'precipProbability': 0, u'time': 1435588740},\n",
       " {u'precipIntensity': 0, u'precipProbability': 0, u'time': 1435588800},\n",
       " {u'precipIntensity': 0, u'precipProbability': 0, u'time': 1435588860},\n",
       " {u'precipIntensity': 0, u'precipProbability': 0, u'time': 1435588920},\n",
       " {u'precipIntensity': 0, u'precipProbability': 0, u'time': 1435588980},\n",
       " {u'precipIntensity': 0, u'precipProbability': 0, u'time': 1435589040},\n",
       " {u'precipIntensity': 0, u'precipProbability': 0, u'time': 1435589100},\n",
       " {u'precipIntensity': 0, u'precipProbability': 0, u'time': 1435589160},\n",
       " {u'precipIntensity': 0, u'precipProbability': 0, u'time': 1435589220},\n",
       " {u'precipIntensity': 0, u'precipProbability': 0, u'time': 1435589280},\n",
       " {u'precipIntensity': 0, u'precipProbability': 0, u'time': 1435589340},\n",
       " {u'precipIntensity': 0, u'precipProbability': 0, u'time': 1435589400},\n",
       " {u'precipIntensity': 0, u'precipProbability': 0, u'time': 1435589460},\n",
       " {u'precipIntensity': 0, u'precipProbability': 0, u'time': 1435589520},\n",
       " {u'precipIntensity': 0, u'precipProbability': 0, u'time': 1435589580},\n",
       " {u'precipIntensity': 0, u'precipProbability': 0, u'time': 1435589640},\n",
       " {u'precipIntensity': 0, u'precipProbability': 0, u'time': 1435589700},\n",
       " {u'precipIntensity': 0, u'precipProbability': 0, u'time': 1435589760},\n",
       " {u'precipIntensity': 0, u'precipProbability': 0, u'time': 1435589820},\n",
       " {u'precipIntensity': 0, u'precipProbability': 0, u'time': 1435589880},\n",
       " {u'precipIntensity': 0, u'precipProbability': 0, u'time': 1435589940},\n",
       " {u'precipIntensity': 0, u'precipProbability': 0, u'time': 1435590000},\n",
       " {u'precipIntensity': 0, u'precipProbability': 0, u'time': 1435590060},\n",
       " {u'precipIntensity': 0, u'precipProbability': 0, u'time': 1435590120},\n",
       " {u'precipIntensity': 0, u'precipProbability': 0, u'time': 1435590180},\n",
       " {u'precipIntensity': 0, u'precipProbability': 0, u'time': 1435590240},\n",
       " {u'precipIntensity': 0, u'precipProbability': 0, u'time': 1435590300},\n",
       " {u'precipIntensity': 0, u'precipProbability': 0, u'time': 1435590360},\n",
       " {u'precipIntensity': 0, u'precipProbability': 0, u'time': 1435590420},\n",
       " {u'precipIntensity': 0, u'precipProbability': 0, u'time': 1435590480},\n",
       " {u'precipIntensity': 0, u'precipProbability': 0, u'time': 1435590540},\n",
       " {u'precipIntensity': 0, u'precipProbability': 0, u'time': 1435590600},\n",
       " {u'precipIntensity': 0, u'precipProbability': 0, u'time': 1435590660},\n",
       " {u'precipIntensity': 0, u'precipProbability': 0, u'time': 1435590720},\n",
       " {u'precipIntensity': 0, u'precipProbability': 0, u'time': 1435590780},\n",
       " {u'precipIntensity': 0, u'precipProbability': 0, u'time': 1435590840},\n",
       " {u'precipIntensity': 0, u'precipProbability': 0, u'time': 1435590900},\n",
       " {u'precipIntensity': 0, u'precipProbability': 0, u'time': 1435590960},\n",
       " {u'precipIntensity': 0, u'precipProbability': 0, u'time': 1435591020},\n",
       " {u'precipIntensity': 0, u'precipProbability': 0, u'time': 1435591080},\n",
       " {u'precipIntensity': 0, u'precipProbability': 0, u'time': 1435591140},\n",
       " {u'precipIntensity': 0, u'precipProbability': 0, u'time': 1435591200},\n",
       " {u'precipIntensity': 0, u'precipProbability': 0, u'time': 1435591260},\n",
       " {u'precipIntensity': 0, u'precipProbability': 0, u'time': 1435591320},\n",
       " {u'precipIntensity': 0, u'precipProbability': 0, u'time': 1435591380},\n",
       " {u'precipIntensity': 0, u'precipProbability': 0, u'time': 1435591440},\n",
       " {u'precipIntensity': 0, u'precipProbability': 0, u'time': 1435591500},\n",
       " {u'precipIntensity': 0, u'precipProbability': 0, u'time': 1435591560},\n",
       " {u'precipIntensity': 0, u'precipProbability': 0, u'time': 1435591620},\n",
       " {u'precipIntensity': 0, u'precipProbability': 0, u'time': 1435591680},\n",
       " {u'precipIntensity': 0, u'precipProbability': 0, u'time': 1435591740},\n",
       " {u'precipIntensity': 0, u'precipProbability': 0, u'time': 1435591800},\n",
       " {u'precipIntensity': 0, u'precipProbability': 0, u'time': 1435591860},\n",
       " {u'precipIntensity': 0, u'precipProbability': 0, u'time': 1435591920},\n",
       " {u'precipIntensity': 0, u'precipProbability': 0, u'time': 1435591980},\n",
       " {u'precipIntensity': 0, u'precipProbability': 0, u'time': 1435592040},\n",
       " {u'precipIntensity': 0, u'precipProbability': 0, u'time': 1435592100},\n",
       " {u'precipIntensity': 0, u'precipProbability': 0, u'time': 1435592160},\n",
       " {u'precipIntensity': 0, u'precipProbability': 0, u'time': 1435592220},\n",
       " {u'precipIntensity': 0, u'precipProbability': 0, u'time': 1435592280},\n",
       " {u'precipIntensity': 0, u'precipProbability': 0, u'time': 1435592340}]"
      ]
     },
     "execution_count": 47,
     "metadata": {},
     "output_type": "execute_result"
    }
   ],
   "source": [
    "data['minutely']['data']"
   ]
  },
  {
   "cell_type": "code",
   "execution_count": 49,
   "metadata": {
    "collapsed": false
   },
   "outputs": [
    {
     "data": {
      "text/plain": [
       "{u'precipIntensity': 0, u'precipProbability': 0, u'time': 1435588860}"
      ]
     },
     "execution_count": 49,
     "metadata": {},
     "output_type": "execute_result"
    }
   ],
   "source": [
    "data['minutely']['data'][2] #to get the third line in the code"
   ]
  },
  {
   "cell_type": "code",
   "execution_count": 51,
   "metadata": {
    "collapsed": false
   },
   "outputs": [
    {
     "data": {
      "text/plain": [
       "{u'precipIntensity': 0, u'precipProbability': 0, u'time': 1435588860}"
      ]
     },
     "execution_count": 51,
     "metadata": {},
     "output_type": "execute_result"
    }
   ],
   "source": [
    "forecasts = data['minutely']['data']\n",
    "forecasts[2]\n",
    "#same thing as what happened in line 49..."
   ]
  },
  {
   "cell_type": "code",
   "execution_count": 52,
   "metadata": {
    "collapsed": true
   },
   "outputs": [],
   "source": [
    "#UNIT TIME\n",
    "#Epoch time\n",
    "#Seconds since the UNIX era\n",
    "#1435588860 is the number of seconds since January 1, 1970"
   ]
  },
  {
   "cell_type": "markdown",
   "metadata": {},
   "source": [
    "**API KEY** = https://api.forecast.io/forecast/79e09ab8f050fcb084270a66c8409501/37.8267,-122.423\n",
    "\n",
    "---> 79e09ab8f050fcb084270a66c8409501\n",
    "\n",
    "It's a way of atteching you as a human beging to you as a indv. consuing this 'web service'. Its a litteral key, changed for ea. individual to track 'calls' or user."
   ]
  },
  {
   "cell_type": "markdown",
   "metadata": {},
   "source": [
    "More information: https://developer.forecast.io/docs/v2"
   ]
  },
  {
   "cell_type": "markdown",
   "metadata": {},
   "source": [
    "#OAuth API\n",
    "*things are getting cray....*"
   ]
  },
  {
   "cell_type": "markdown",
   "metadata": {},
   "source": [
    "1. You have a twitter account (horrary) .. @dummyclass\n",
    "2. You make an 'app' using that Twitter account.\n",
    "3. You make a dummy Twitter account (you robot)\n",
    "4. you authorize your app to use that dummy Twitter account. "
   ]
  },
  {
   "cell_type": "markdown",
   "metadata": {},
   "source": [
    "apps.twitter.com"
   ]
  },
  {
   "cell_type": "code",
   "execution_count": 61,
   "metadata": {
    "collapsed": true
   },
   "outputs": [],
   "source": [
    "consumer_token = 'hCVA1AY6z9AiEUVDHOcoXK2gF'\n",
    "consumer_secret = 'SdK8qTJ4Exr0Nhsi0anyeck9MohL9iOKi6BbUQsY3Lx8NAdETy'"
   ]
  },
  {
   "cell_type": "code",
   "execution_count": 62,
   "metadata": {
    "collapsed": false
   },
   "outputs": [],
   "source": [
    "import tweepy "
   ]
  },
  {
   "cell_type": "code",
   "execution_count": 63,
   "metadata": {
    "collapsed": false
   },
   "outputs": [
    {
     "data": {
      "text/plain": [
       "u'https://api.twitter.com/oauth/authorize?oauth_token=tRIlqgAAAAAAgXMKAAABTkAkTyQ'"
      ]
     },
     "execution_count": 63,
     "metadata": {},
     "output_type": "execute_result"
    }
   ],
   "source": [
    "auth = tweepy.OAuthHandler(consumer_token, consumer_secret)\n",
    "auth.get_authorization_url()"
   ]
  },
  {
   "cell_type": "code",
   "execution_count": 64,
   "metadata": {
    "collapsed": true
   },
   "outputs": [],
   "source": [
    "#visit the URL\n",
    "pin ='7205779'"
   ]
  },
  {
   "cell_type": "code",
   "execution_count": 65,
   "metadata": {
    "collapsed": false
   },
   "outputs": [],
   "source": [
    "token = auth.get_access_token(verifier=pin)"
   ]
  },
  {
   "cell_type": "code",
   "execution_count": 69,
   "metadata": {
    "collapsed": false
   },
   "outputs": [
    {
     "name": "stdout",
     "output_type": "stream",
     "text": [
      "309075528-FCwtJ0uCzcZcWMxly5Aq8UEtQhh9l8eHnuTkzGjM\n",
      "Qa7RscmbIfJ6BzG6qZ6VJvCY4tZdDbUCQKLupU20NsQi9\n"
     ]
    }
   ],
   "source": [
    "print token[0]\n",
    "print token[1]\n"
   ]
  },
  {
   "cell_type": "code",
   "execution_count": 70,
   "metadata": {
    "collapsed": true
   },
   "outputs": [],
   "source": [
    "access_token = token[0]\n",
    "access_secret = token[1]\n",
    "#using these keys we can use/do whatever we want to our twitterbot account "
   ]
  },
  {
   "cell_type": "code",
   "execution_count": 71,
   "metadata": {
    "collapsed": true
   },
   "outputs": [],
   "source": [
    "auth = tweepy.OAuthHandler(consumer_token, consumer_secret)\n",
    "auth.secure = True\n",
    "auth.set_access_token(access_token, access_secret)\n",
    "api = tweepy.API(auth)"
   ]
  },
  {
   "cell_type": "code",
   "execution_count": 74,
   "metadata": {
    "collapsed": false
   },
   "outputs": [
    {
     "data": {
      "text/plain": [
       "Status(contributors=None, truncated=False, text=u'hello world', is_quote_status=False, in_reply_to_status_id=None, id=615558781657829377, favorite_count=0, _api=<tweepy.api.API object at 0x10319bed0>, author=User(follow_request_sent=False, has_extended_profile=False, profile_use_background_image=True, _json={u'follow_request_sent': False, u'has_extended_profile': False, u'profile_use_background_image': True, u'default_profile_image': False, u'id': 309075528, u'profile_background_image_url_https': u'https://abs.twimg.com/images/themes/theme9/bg.gif', u'verified': False, u'profile_text_color': u'666666', u'profile_image_url_https': u'https://pbs.twimg.com/profile_images/557577532736675840/LrhGUtoL_normal.jpeg', u'profile_sidebar_fill_color': u'252429', u'entities': {u'url': {u'urls': [{u'url': u'http://t.co/rfNZCh1KOY', u'indices': [0, 22], u'expanded_url': u'http://lindsayfriedman.weebly.com', u'display_url': u'lindsayfriedman.weebly.com'}]}, u'description': {u'urls': []}}, u'followers_count': 562, u'profile_sidebar_border_color': u'181A1E', u'id_str': u'309075528', u'profile_background_color': u'1A1B1F', u'listed_count': 26, u'is_translation_enabled': False, u'utc_offset': -14400, u'statuses_count': 1817, u'description': u'OU alumn, reporter, lover of old books, animals, travel, and cheezy moments with friends, family. Thoughts are own, no endorsing. Columbia @ledeprog student.', u'friends_count': 1804, u'location': u'Ohio', u'profile_link_color': u'0C0E0F', u'profile_image_url': u'http://pbs.twimg.com/profile_images/557577532736675840/LrhGUtoL_normal.jpeg', u'following': False, u'geo_enabled': True, u'profile_banner_url': u'https://pbs.twimg.com/profile_banners/309075528/1405095663', u'profile_background_image_url': u'http://abs.twimg.com/images/themes/theme9/bg.gif', u'screen_name': u'L__Friedman', u'lang': u'en', u'profile_background_tile': False, u'favourites_count': 145, u'name': u'Lindsay Friedman', u'notifications': False, u'url': u'http://t.co/rfNZCh1KOY', u'created_at': u'Wed Jun 01 13:56:15 +0000 2011', u'contributors_enabled': False, u'time_zone': u'Eastern Time (US & Canada)', u'protected': True, u'default_profile': False, u'is_translator': False}, time_zone=u'Eastern Time (US & Canada)', id=309075528, _api=<tweepy.api.API object at 0x10319bed0>, verified=False, profile_text_color=u'666666', profile_image_url_https=u'https://pbs.twimg.com/profile_images/557577532736675840/LrhGUtoL_normal.jpeg', profile_sidebar_fill_color=u'252429', is_translator=False, geo_enabled=True, entities={u'url': {u'urls': [{u'url': u'http://t.co/rfNZCh1KOY', u'indices': [0, 22], u'expanded_url': u'http://lindsayfriedman.weebly.com', u'display_url': u'lindsayfriedman.weebly.com'}]}, u'description': {u'urls': []}}, followers_count=562, protected=True, id_str=u'309075528', default_profile_image=False, listed_count=26, lang=u'en', utc_offset=-14400, statuses_count=1817, description=u'OU alumn, reporter, lover of old books, animals, travel, and cheezy moments with friends, family. Thoughts are own, no endorsing. Columbia @ledeprog student.', friends_count=1804, profile_link_color=u'0C0E0F', profile_image_url=u'http://pbs.twimg.com/profile_images/557577532736675840/LrhGUtoL_normal.jpeg', notifications=False, profile_background_image_url_https=u'https://abs.twimg.com/images/themes/theme9/bg.gif', profile_background_color=u'1A1B1F', profile_banner_url=u'https://pbs.twimg.com/profile_banners/309075528/1405095663', profile_background_image_url=u'http://abs.twimg.com/images/themes/theme9/bg.gif', name=u'Lindsay Friedman', is_translation_enabled=False, profile_background_tile=False, favourites_count=145, screen_name=u'L__Friedman', url=u'http://t.co/rfNZCh1KOY', created_at=datetime.datetime(2011, 6, 1, 13, 56, 15), contributors_enabled=False, location=u'Ohio', profile_sidebar_border_color=u'181A1E', default_profile=False, following=False), _json={u'contributors': None, u'truncated': False, u'text': u'hello world', u'is_quote_status': False, u'in_reply_to_status_id': None, u'id': 615558781657829377, u'favorite_count': 0, u'source': u'<a href=\"http://example.com/\" rel=\"nofollow\">weatherbotalot</a>', u'retweeted': False, u'coordinates': None, u'entities': {u'symbols': [], u'user_mentions': [], u'hashtags': [], u'urls': []}, u'in_reply_to_screen_name': None, u'id_str': u'615558781657829377', u'retweet_count': 0, u'in_reply_to_user_id': None, u'favorited': False, u'user': {u'follow_request_sent': False, u'has_extended_profile': False, u'profile_use_background_image': True, u'default_profile_image': False, u'id': 309075528, u'profile_background_image_url_https': u'https://abs.twimg.com/images/themes/theme9/bg.gif', u'verified': False, u'profile_text_color': u'666666', u'profile_image_url_https': u'https://pbs.twimg.com/profile_images/557577532736675840/LrhGUtoL_normal.jpeg', u'profile_sidebar_fill_color': u'252429', u'entities': {u'url': {u'urls': [{u'url': u'http://t.co/rfNZCh1KOY', u'indices': [0, 22], u'expanded_url': u'http://lindsayfriedman.weebly.com', u'display_url': u'lindsayfriedman.weebly.com'}]}, u'description': {u'urls': []}}, u'followers_count': 562, u'profile_sidebar_border_color': u'181A1E', u'id_str': u'309075528', u'profile_background_color': u'1A1B1F', u'listed_count': 26, u'is_translation_enabled': False, u'utc_offset': -14400, u'statuses_count': 1817, u'description': u'OU alumn, reporter, lover of old books, animals, travel, and cheezy moments with friends, family. Thoughts are own, no endorsing. Columbia @ledeprog student.', u'friends_count': 1804, u'location': u'Ohio', u'profile_link_color': u'0C0E0F', u'profile_image_url': u'http://pbs.twimg.com/profile_images/557577532736675840/LrhGUtoL_normal.jpeg', u'following': False, u'geo_enabled': True, u'profile_banner_url': u'https://pbs.twimg.com/profile_banners/309075528/1405095663', u'profile_background_image_url': u'http://abs.twimg.com/images/themes/theme9/bg.gif', u'screen_name': u'L__Friedman', u'lang': u'en', u'profile_background_tile': False, u'favourites_count': 145, u'name': u'Lindsay Friedman', u'notifications': False, u'url': u'http://t.co/rfNZCh1KOY', u'created_at': u'Wed Jun 01 13:56:15 +0000 2011', u'contributors_enabled': False, u'time_zone': u'Eastern Time (US & Canada)', u'protected': True, u'default_profile': False, u'is_translator': False}, u'geo': None, u'in_reply_to_user_id_str': None, u'lang': u'en', u'created_at': u'Mon Jun 29 16:33:44 +0000 2015', u'in_reply_to_status_id_str': None, u'place': None}, coordinates=None, entities={u'symbols': [], u'user_mentions': [], u'hashtags': [], u'urls': []}, in_reply_to_screen_name=None, in_reply_to_user_id=None, retweet_count=0, id_str=u'615558781657829377', favorited=False, source_url=u'http://example.com/', user=User(follow_request_sent=False, has_extended_profile=False, profile_use_background_image=True, _json={u'follow_request_sent': False, u'has_extended_profile': False, u'profile_use_background_image': True, u'default_profile_image': False, u'id': 309075528, u'profile_background_image_url_https': u'https://abs.twimg.com/images/themes/theme9/bg.gif', u'verified': False, u'profile_text_color': u'666666', u'profile_image_url_https': u'https://pbs.twimg.com/profile_images/557577532736675840/LrhGUtoL_normal.jpeg', u'profile_sidebar_fill_color': u'252429', u'entities': {u'url': {u'urls': [{u'url': u'http://t.co/rfNZCh1KOY', u'indices': [0, 22], u'expanded_url': u'http://lindsayfriedman.weebly.com', u'display_url': u'lindsayfriedman.weebly.com'}]}, u'description': {u'urls': []}}, u'followers_count': 562, u'profile_sidebar_border_color': u'181A1E', u'id_str': u'309075528', u'profile_background_color': u'1A1B1F', u'listed_count': 26, u'is_translation_enabled': False, u'utc_offset': -14400, u'statuses_count': 1817, u'description': u'OU alumn, reporter, lover of old books, animals, travel, and cheezy moments with friends, family. Thoughts are own, no endorsing. Columbia @ledeprog student.', u'friends_count': 1804, u'location': u'Ohio', u'profile_link_color': u'0C0E0F', u'profile_image_url': u'http://pbs.twimg.com/profile_images/557577532736675840/LrhGUtoL_normal.jpeg', u'following': False, u'geo_enabled': True, u'profile_banner_url': u'https://pbs.twimg.com/profile_banners/309075528/1405095663', u'profile_background_image_url': u'http://abs.twimg.com/images/themes/theme9/bg.gif', u'screen_name': u'L__Friedman', u'lang': u'en', u'profile_background_tile': False, u'favourites_count': 145, u'name': u'Lindsay Friedman', u'notifications': False, u'url': u'http://t.co/rfNZCh1KOY', u'created_at': u'Wed Jun 01 13:56:15 +0000 2011', u'contributors_enabled': False, u'time_zone': u'Eastern Time (US & Canada)', u'protected': True, u'default_profile': False, u'is_translator': False}, time_zone=u'Eastern Time (US & Canada)', id=309075528, _api=<tweepy.api.API object at 0x10319bed0>, verified=False, profile_text_color=u'666666', profile_image_url_https=u'https://pbs.twimg.com/profile_images/557577532736675840/LrhGUtoL_normal.jpeg', profile_sidebar_fill_color=u'252429', is_translator=False, geo_enabled=True, entities={u'url': {u'urls': [{u'url': u'http://t.co/rfNZCh1KOY', u'indices': [0, 22], u'expanded_url': u'http://lindsayfriedman.weebly.com', u'display_url': u'lindsayfriedman.weebly.com'}]}, u'description': {u'urls': []}}, followers_count=562, protected=True, id_str=u'309075528', default_profile_image=False, listed_count=26, lang=u'en', utc_offset=-14400, statuses_count=1817, description=u'OU alumn, reporter, lover of old books, animals, travel, and cheezy moments with friends, family. Thoughts are own, no endorsing. Columbia @ledeprog student.', friends_count=1804, profile_link_color=u'0C0E0F', profile_image_url=u'http://pbs.twimg.com/profile_images/557577532736675840/LrhGUtoL_normal.jpeg', notifications=False, profile_background_image_url_https=u'https://abs.twimg.com/images/themes/theme9/bg.gif', profile_background_color=u'1A1B1F', profile_banner_url=u'https://pbs.twimg.com/profile_banners/309075528/1405095663', profile_background_image_url=u'http://abs.twimg.com/images/themes/theme9/bg.gif', name=u'Lindsay Friedman', is_translation_enabled=False, profile_background_tile=False, favourites_count=145, screen_name=u'L__Friedman', url=u'http://t.co/rfNZCh1KOY', created_at=datetime.datetime(2011, 6, 1, 13, 56, 15), contributors_enabled=False, location=u'Ohio', profile_sidebar_border_color=u'181A1E', default_profile=False, following=False), geo=None, in_reply_to_user_id_str=None, lang=u'en', created_at=datetime.datetime(2015, 6, 29, 16, 33, 44), in_reply_to_status_id_str=None, place=None, source=u'weatherbotalot', retweeted=False)"
      ]
     },
     "execution_count": 74,
     "metadata": {},
     "output_type": "execute_result"
    }
   ],
   "source": [
    "api.update_status(status='hello world')"
   ]
  },
  {
   "cell_type": "code",
   "execution_count": 76,
   "metadata": {
    "collapsed": false
   },
   "outputs": [],
   "source": [
    "tweets = api.search(q='supreme court')"
   ]
  },
  {
   "cell_type": "code",
   "execution_count": 77,
   "metadata": {
    "collapsed": false
   },
   "outputs": [
    {
     "data": {
      "text/plain": [
       "[Status(contributors=None, truncated=False, text=u'Supreme Court Term Ends With Republicans Losing Two Partisan Election Cases - AlterNet http://t.co/zG12ucP0o6', is_quote_status=False, in_reply_to_status_id=None, id=615559945199747072, favorite_count=0, _api=<tweepy.api.API object at 0x10319bed0>, author=User(follow_request_sent=False, has_extended_profile=False, profile_use_background_image=True, _json={u'follow_request_sent': False, u'has_extended_profile': False, u'profile_use_background_image': True, u'default_profile_image': False, u'id': 522413992, u'profile_background_image_url_https': u'https://abs.twimg.com/images/themes/theme14/bg.gif', u'verified': False, u'profile_text_color': u'333333', u'profile_image_url_https': u'https://pbs.twimg.com/profile_images/1891703657/425685_359513130740200_359512250740288_1227402_83552796_n_normal.jpg', u'profile_sidebar_fill_color': u'EFEFEF', u'entities': {u'url': {u'urls': [{u'url': u'http://t.co/FXDi0IDnF4', u'indices': [0, 22], u'expanded_url': u'http://www.facebook.com/socialhax', u'display_url': u'facebook.com/socialhax'}]}, u'description': {u'urls': []}}, u'followers_count': 285, u'profile_sidebar_border_color': u'EEEEEE', u'id_str': u'522413992', u'profile_background_color': u'131516', u'listed_count': 16, u'is_translation_enabled': False, u'utc_offset': -10800, u'statuses_count': 12538, u'description': u'Join the fight to protect basic human rights and liberty.', u'friends_count': 264, u'location': u'Worldwide', u'profile_link_color': u'009999', u'profile_image_url': u'http://pbs.twimg.com/profile_images/1891703657/425685_359513130740200_359512250740288_1227402_83552796_n_normal.jpg', u'following': False, u'geo_enabled': False, u'profile_background_image_url': u'http://abs.twimg.com/images/themes/theme14/bg.gif', u'screen_name': u'EndFearNow', u'lang': u'en', u'profile_background_tile': True, u'favourites_count': 22, u'name': u'End Fear', u'notifications': False, u'url': u'http://t.co/FXDi0IDnF4', u'created_at': u'Mon Mar 12 17:08:06 +0000 2012', u'contributors_enabled': False, u'time_zone': u'Atlantic Time (Canada)', u'protected': False, u'default_profile': False, u'is_translator': False}, time_zone=u'Atlantic Time (Canada)', id=522413992, _api=<tweepy.api.API object at 0x10319bed0>, verified=False, profile_text_color=u'333333', profile_image_url_https=u'https://pbs.twimg.com/profile_images/1891703657/425685_359513130740200_359512250740288_1227402_83552796_n_normal.jpg', profile_sidebar_fill_color=u'EFEFEF', is_translator=False, geo_enabled=False, entities={u'url': {u'urls': [{u'url': u'http://t.co/FXDi0IDnF4', u'indices': [0, 22], u'expanded_url': u'http://www.facebook.com/socialhax', u'display_url': u'facebook.com/socialhax'}]}, u'description': {u'urls': []}}, followers_count=285, protected=False, id_str=u'522413992', default_profile_image=False, listed_count=16, lang=u'en', utc_offset=-10800, statuses_count=12538, description=u'Join the fight to protect basic human rights and liberty.', friends_count=264, profile_link_color=u'009999', profile_image_url=u'http://pbs.twimg.com/profile_images/1891703657/425685_359513130740200_359512250740288_1227402_83552796_n_normal.jpg', notifications=False, profile_background_image_url_https=u'https://abs.twimg.com/images/themes/theme14/bg.gif', profile_background_color=u'131516', profile_background_image_url=u'http://abs.twimg.com/images/themes/theme14/bg.gif', name=u'End Fear', is_translation_enabled=False, profile_background_tile=True, favourites_count=22, screen_name=u'EndFearNow', url=u'http://t.co/FXDi0IDnF4', created_at=datetime.datetime(2012, 3, 12, 17, 8, 6), contributors_enabled=False, location=u'Worldwide', profile_sidebar_border_color=u'EEEEEE', default_profile=False, following=False), _json={u'contributors': None, u'truncated': False, u'text': u'Supreme Court Term Ends With Republicans Losing Two Partisan Election Cases - AlterNet http://t.co/zG12ucP0o6', u'is_quote_status': False, u'in_reply_to_status_id': None, u'id': 615559945199747072, u'favorite_count': 0, u'source': u'<a href=\"http://ifttt.com\" rel=\"nofollow\">IFTTT</a>', u'retweeted': False, u'coordinates': None, u'entities': {u'symbols': [], u'user_mentions': [], u'hashtags': [], u'urls': [{u'url': u'http://t.co/zG12ucP0o6', u'indices': [87, 109], u'expanded_url': u'http://ift.tt/1HsZ3c5', u'display_url': u'ift.tt/1HsZ3c5'}]}, u'in_reply_to_screen_name': None, u'in_reply_to_user_id': None, u'retweet_count': 0, u'id_str': u'615559945199747072', u'favorited': False, u'user': {u'follow_request_sent': False, u'has_extended_profile': False, u'profile_use_background_image': True, u'default_profile_image': False, u'id': 522413992, u'profile_background_image_url_https': u'https://abs.twimg.com/images/themes/theme14/bg.gif', u'verified': False, u'profile_text_color': u'333333', u'profile_image_url_https': u'https://pbs.twimg.com/profile_images/1891703657/425685_359513130740200_359512250740288_1227402_83552796_n_normal.jpg', u'profile_sidebar_fill_color': u'EFEFEF', u'entities': {u'url': {u'urls': [{u'url': u'http://t.co/FXDi0IDnF4', u'indices': [0, 22], u'expanded_url': u'http://www.facebook.com/socialhax', u'display_url': u'facebook.com/socialhax'}]}, u'description': {u'urls': []}}, u'followers_count': 285, u'profile_sidebar_border_color': u'EEEEEE', u'id_str': u'522413992', u'profile_background_color': u'131516', u'listed_count': 16, u'is_translation_enabled': False, u'utc_offset': -10800, u'statuses_count': 12538, u'description': u'Join the fight to protect basic human rights and liberty.', u'friends_count': 264, u'location': u'Worldwide', u'profile_link_color': u'009999', u'profile_image_url': u'http://pbs.twimg.com/profile_images/1891703657/425685_359513130740200_359512250740288_1227402_83552796_n_normal.jpg', u'following': False, u'geo_enabled': False, u'profile_background_image_url': u'http://abs.twimg.com/images/themes/theme14/bg.gif', u'screen_name': u'EndFearNow', u'lang': u'en', u'profile_background_tile': True, u'favourites_count': 22, u'name': u'End Fear', u'notifications': False, u'url': u'http://t.co/FXDi0IDnF4', u'created_at': u'Mon Mar 12 17:08:06 +0000 2012', u'contributors_enabled': False, u'time_zone': u'Atlantic Time (Canada)', u'protected': False, u'default_profile': False, u'is_translator': False}, u'geo': None, u'in_reply_to_user_id_str': None, u'possibly_sensitive': False, u'lang': u'en', u'created_at': u'Mon Jun 29 16:38:22 +0000 2015', u'in_reply_to_status_id_str': None, u'place': None, u'metadata': {u'iso_language_code': u'en', u'result_type': u'recent'}}, coordinates=None, entities={u'symbols': [], u'user_mentions': [], u'hashtags': [], u'urls': [{u'url': u'http://t.co/zG12ucP0o6', u'indices': [87, 109], u'expanded_url': u'http://ift.tt/1HsZ3c5', u'display_url': u'ift.tt/1HsZ3c5'}]}, in_reply_to_screen_name=None, id_str=u'615559945199747072', retweet_count=0, in_reply_to_user_id=None, favorited=False, source_url=u'http://ifttt.com', user=User(follow_request_sent=False, has_extended_profile=False, profile_use_background_image=True, _json={u'follow_request_sent': False, u'has_extended_profile': False, u'profile_use_background_image': True, u'default_profile_image': False, u'id': 522413992, u'profile_background_image_url_https': u'https://abs.twimg.com/images/themes/theme14/bg.gif', u'verified': False, u'profile_text_color': u'333333', u'profile_image_url_https': u'https://pbs.twimg.com/profile_images/1891703657/425685_359513130740200_359512250740288_1227402_83552796_n_normal.jpg', u'profile_sidebar_fill_color': u'EFEFEF', u'entities': {u'url': {u'urls': [{u'url': u'http://t.co/FXDi0IDnF4', u'indices': [0, 22], u'expanded_url': u'http://www.facebook.com/socialhax', u'display_url': u'facebook.com/socialhax'}]}, u'description': {u'urls': []}}, u'followers_count': 285, u'profile_sidebar_border_color': u'EEEEEE', u'id_str': u'522413992', u'profile_background_color': u'131516', u'listed_count': 16, u'is_translation_enabled': False, u'utc_offset': -10800, u'statuses_count': 12538, u'description': u'Join the fight to protect basic human rights and liberty.', u'friends_count': 264, u'location': u'Worldwide', u'profile_link_color': u'009999', u'profile_image_url': u'http://pbs.twimg.com/profile_images/1891703657/425685_359513130740200_359512250740288_1227402_83552796_n_normal.jpg', u'following': False, u'geo_enabled': False, u'profile_background_image_url': u'http://abs.twimg.com/images/themes/theme14/bg.gif', u'screen_name': u'EndFearNow', u'lang': u'en', u'profile_background_tile': True, u'favourites_count': 22, u'name': u'End Fear', u'notifications': False, u'url': u'http://t.co/FXDi0IDnF4', u'created_at': u'Mon Mar 12 17:08:06 +0000 2012', u'contributors_enabled': False, u'time_zone': u'Atlantic Time (Canada)', u'protected': False, u'default_profile': False, u'is_translator': False}, time_zone=u'Atlantic Time (Canada)', id=522413992, _api=<tweepy.api.API object at 0x10319bed0>, verified=False, profile_text_color=u'333333', profile_image_url_https=u'https://pbs.twimg.com/profile_images/1891703657/425685_359513130740200_359512250740288_1227402_83552796_n_normal.jpg', profile_sidebar_fill_color=u'EFEFEF', is_translator=False, geo_enabled=False, entities={u'url': {u'urls': [{u'url': u'http://t.co/FXDi0IDnF4', u'indices': [0, 22], u'expanded_url': u'http://www.facebook.com/socialhax', u'display_url': u'facebook.com/socialhax'}]}, u'description': {u'urls': []}}, followers_count=285, protected=False, id_str=u'522413992', default_profile_image=False, listed_count=16, lang=u'en', utc_offset=-10800, statuses_count=12538, description=u'Join the fight to protect basic human rights and liberty.', friends_count=264, profile_link_color=u'009999', profile_image_url=u'http://pbs.twimg.com/profile_images/1891703657/425685_359513130740200_359512250740288_1227402_83552796_n_normal.jpg', notifications=False, profile_background_image_url_https=u'https://abs.twimg.com/images/themes/theme14/bg.gif', profile_background_color=u'131516', profile_background_image_url=u'http://abs.twimg.com/images/themes/theme14/bg.gif', name=u'End Fear', is_translation_enabled=False, profile_background_tile=True, favourites_count=22, screen_name=u'EndFearNow', url=u'http://t.co/FXDi0IDnF4', created_at=datetime.datetime(2012, 3, 12, 17, 8, 6), contributors_enabled=False, location=u'Worldwide', profile_sidebar_border_color=u'EEEEEE', default_profile=False, following=False), geo=None, in_reply_to_user_id_str=None, possibly_sensitive=False, lang=u'en', created_at=datetime.datetime(2015, 6, 29, 16, 38, 22), in_reply_to_status_id_str=None, place=None, source=u'IFTTT', retweeted=False, metadata={u'iso_language_code': u'en', u'result_type': u'recent'}),\n",
       " Status(contributors=None, truncated=False, text=u'RT @YuiLNamiki: Deeply disappointed with the Supreme Court ruling. Nevertheless, we will continue trying until we succeed! #CleanAirAct', is_quote_status=False, in_reply_to_status_id=None, id=615559943828037632, favorite_count=0, _api=<tweepy.api.API object at 0x10319bed0>, author=User(follow_request_sent=False, has_extended_profile=False, profile_use_background_image=True, _json={u'follow_request_sent': False, u'has_extended_profile': False, u'profile_use_background_image': True, u'default_profile_image': False, u'id': 149942264, u'profile_background_image_url_https': u'https://abs.twimg.com/images/themes/theme1/bg.png', u'verified': False, u'profile_text_color': u'333333', u'profile_image_url_https': u'https://pbs.twimg.com/profile_images/529772557197934592/7tf9w-hJ_normal.jpeg', u'profile_sidebar_fill_color': u'DDEEF6', u'entities': {u'description': {u'urls': []}}, u'followers_count': 996, u'profile_sidebar_border_color': u'C0DEED', u'id_str': u'149942264', u'profile_background_color': u'C0DEED', u'listed_count': 85, u'is_translation_enabled': False, u'utc_offset': None, u'statuses_count': 10451, u'description': u'Believer in human/labor/voting/animal rights, education, health-care, equality, golobal warming, sustainable farming. Against guns, and all wars.', u'friends_count': 1187, u'location': u'', u'profile_link_color': u'0084B4', u'profile_image_url': u'http://pbs.twimg.com/profile_images/529772557197934592/7tf9w-hJ_normal.jpeg', u'following': False, u'geo_enabled': True, u'profile_background_image_url': u'http://abs.twimg.com/images/themes/theme1/bg.png', u'screen_name': u'javmaher9', u'lang': u'en', u'profile_background_tile': False, u'favourites_count': 6127, u'name': u'Javad Maher', u'notifications': False, u'url': None, u'created_at': u'Sun May 30 16:43:38 +0000 2010', u'contributors_enabled': False, u'time_zone': None, u'protected': False, u'default_profile': True, u'is_translator': False}, time_zone=None, id=149942264, _api=<tweepy.api.API object at 0x10319bed0>, verified=False, profile_text_color=u'333333', profile_image_url_https=u'https://pbs.twimg.com/profile_images/529772557197934592/7tf9w-hJ_normal.jpeg', profile_sidebar_fill_color=u'DDEEF6', is_translator=False, geo_enabled=True, entities={u'description': {u'urls': []}}, followers_count=996, protected=False, id_str=u'149942264', default_profile_image=False, listed_count=85, lang=u'en', utc_offset=None, statuses_count=10451, description=u'Believer in human/labor/voting/animal rights, education, health-care, equality, golobal warming, sustainable farming. Against guns, and all wars.', friends_count=1187, profile_link_color=u'0084B4', profile_image_url=u'http://pbs.twimg.com/profile_images/529772557197934592/7tf9w-hJ_normal.jpeg', notifications=False, profile_background_image_url_https=u'https://abs.twimg.com/images/themes/theme1/bg.png', profile_background_color=u'C0DEED', profile_background_image_url=u'http://abs.twimg.com/images/themes/theme1/bg.png', name=u'Javad Maher', is_translation_enabled=False, profile_background_tile=False, favourites_count=6127, screen_name=u'javmaher9', url=None, created_at=datetime.datetime(2010, 5, 30, 16, 43, 38), contributors_enabled=False, location=u'', profile_sidebar_border_color=u'C0DEED', default_profile=True, following=False), _json={u'contributors': None, u'truncated': False, u'text': u'RT @YuiLNamiki: Deeply disappointed with the Supreme Court ruling. Nevertheless, we will continue trying until we succeed! #CleanAirAct', u'is_quote_status': False, u'in_reply_to_status_id': None, u'id': 615559943828037632, u'favorite_count': 0, u'source': u'<a href=\"http://twitter.com/download/iphone\" rel=\"nofollow\">Twitter for iPhone</a>', u'retweeted': False, u'coordinates': None, u'entities': {u'symbols': [], u'user_mentions': [{u'id': 1537170830, u'indices': [3, 14], u'id_str': u'1537170830', u'screen_name': u'YuiLNamiki', u'name': u'Yui Logan Namiki'}], u'hashtags': [{u'indices': [123, 135], u'text': u'CleanAirAct'}], u'urls': []}, u'in_reply_to_screen_name': None, u'in_reply_to_user_id': None, u'retweet_count': 2, u'id_str': u'615559943828037632', u'favorited': False, u'retweeted_status': {u'contributors': None, u'truncated': False, u'text': u'Deeply disappointed with the Supreme Court ruling. Nevertheless, we will continue trying until we succeed! #CleanAirAct', u'is_quote_status': False, u'in_reply_to_status_id': None, u'id': 615557961264533504, u'favorite_count': 2, u'source': u'<a href=\"http://twitter.com\" rel=\"nofollow\">Twitter Web Client</a>', u'retweeted': False, u'coordinates': None, u'entities': {u'symbols': [], u'user_mentions': [], u'hashtags': [{u'indices': [107, 119], u'text': u'CleanAirAct'}], u'urls': []}, u'in_reply_to_screen_name': None, u'in_reply_to_user_id': None, u'retweet_count': 2, u'id_str': u'615557961264533504', u'favorited': False, u'user': {u'follow_request_sent': False, u'has_extended_profile': False, u'profile_use_background_image': True, u'default_profile_image': False, u'id': 1537170830, u'profile_background_image_url_https': u'https://abs.twimg.com/images/themes/theme18/bg.gif', u'verified': False, u'profile_text_color': u'333333', u'profile_image_url_https': u'https://pbs.twimg.com/profile_images/526809556396290049/8dbQD6cY_normal.jpeg', u'profile_sidebar_fill_color': u'F6F6F6', u'entities': {u'url': {u'urls': [{u'url': u'http://t.co/P6xpyaSojo', u'indices': [0, 22], u'expanded_url': u'http://namikiyu.wix.com/yuilogan', u'display_url': u'namikiyu.wix.com/yuilogan'}]}, u'description': {u'urls': []}}, u'followers_count': 187, u'profile_sidebar_border_color': u'EEEEEE', u'id_str': u'1537170830', u'profile_background_color': u'ACDED6', u'listed_count': 10, u'is_translation_enabled': False, u'utc_offset': -14400, u'statuses_count': 580, u'description': u'A child with adult responsibilities. \\u65e5\\u672c\\u4eba \\u2764\\ufe0f Lover of food, yoga, sustainability, non-profits, witty jokes and all things good. #Chicago @Sprint PR', u'friends_count': 353, u'location': u'Chicago/DC/Ann Arbor, Mich.', u'profile_link_color': u'038543', u'profile_image_url': u'http://pbs.twimg.com/profile_images/526809556396290049/8dbQD6cY_normal.jpeg', u'following': False, u'geo_enabled': False, u'profile_banner_url': u'https://pbs.twimg.com/profile_banners/1537170830/1397571567', u'profile_background_image_url': u'http://abs.twimg.com/images/themes/theme18/bg.gif', u'screen_name': u'YuiLNamiki', u'lang': u'en', u'profile_background_tile': False, u'favourites_count': 185, u'name': u'Yui Logan Namiki', u'notifications': False, u'url': u'http://t.co/P6xpyaSojo', u'created_at': u'Fri Jun 21 19:19:13 +0000 2013', u'contributors_enabled': False, u'time_zone': u'Eastern Time (US & Canada)', u'protected': False, u'default_profile': False, u'is_translator': False}, u'geo': None, u'in_reply_to_user_id_str': None, u'lang': u'en', u'created_at': u'Mon Jun 29 16:30:29 +0000 2015', u'in_reply_to_status_id_str': None, u'place': None, u'metadata': {u'iso_language_code': u'en', u'result_type': u'recent'}}, u'user': {u'follow_request_sent': False, u'has_extended_profile': False, u'profile_use_background_image': True, u'default_profile_image': False, u'id': 149942264, u'profile_background_image_url_https': u'https://abs.twimg.com/images/themes/theme1/bg.png', u'verified': False, u'profile_text_color': u'333333', u'profile_image_url_https': u'https://pbs.twimg.com/profile_images/529772557197934592/7tf9w-hJ_normal.jpeg', u'profile_sidebar_fill_color': u'DDEEF6', u'entities': {u'description': {u'urls': []}}, u'followers_count': 996, u'profile_sidebar_border_color': u'C0DEED', u'id_str': u'149942264', u'profile_background_color': u'C0DEED', u'listed_count': 85, u'is_translation_enabled': False, u'utc_offset': None, u'statuses_count': 10451, u'description': u'Believer in human/labor/voting/animal rights, education, health-care, equality, golobal warming, sustainable farming. Against guns, and all wars.', u'friends_count': 1187, u'location': u'', u'profile_link_color': u'0084B4', u'profile_image_url': u'http://pbs.twimg.com/profile_images/529772557197934592/7tf9w-hJ_normal.jpeg', u'following': False, u'geo_enabled': True, u'profile_background_image_url': u'http://abs.twimg.com/images/themes/theme1/bg.png', u'screen_name': u'javmaher9', u'lang': u'en', u'profile_background_tile': False, u'favourites_count': 6127, u'name': u'Javad Maher', u'notifications': False, u'url': None, u'created_at': u'Sun May 30 16:43:38 +0000 2010', u'contributors_enabled': False, u'time_zone': None, u'protected': False, u'default_profile': True, u'is_translator': False}, u'geo': None, u'in_reply_to_user_id_str': None, u'lang': u'en', u'created_at': u'Mon Jun 29 16:38:21 +0000 2015', u'in_reply_to_status_id_str': None, u'place': None, u'metadata': {u'iso_language_code': u'en', u'result_type': u'recent'}}, coordinates=None, entities={u'symbols': [], u'user_mentions': [{u'id': 1537170830, u'indices': [3, 14], u'id_str': u'1537170830', u'screen_name': u'YuiLNamiki', u'name': u'Yui Logan Namiki'}], u'hashtags': [{u'indices': [123, 135], u'text': u'CleanAirAct'}], u'urls': []}, in_reply_to_screen_name=None, id_str=u'615559943828037632', retweet_count=2, in_reply_to_user_id=None, favorited=False, retweeted_status=Status(contributors=None, truncated=False, text=u'Deeply disappointed with the Supreme Court ruling. Nevertheless, we will continue trying until we succeed! #CleanAirAct', is_quote_status=False, in_reply_to_status_id=None, id=615557961264533504, favorite_count=2, _api=<tweepy.api.API object at 0x10319bed0>, author=User(follow_request_sent=False, has_extended_profile=False, profile_use_background_image=True, _json={u'follow_request_sent': False, u'has_extended_profile': False, u'profile_use_background_image': True, u'default_profile_image': False, u'id': 1537170830, u'profile_background_image_url_https': u'https://abs.twimg.com/images/themes/theme18/bg.gif', u'verified': False, u'profile_text_color': u'333333', u'profile_image_url_https': u'https://pbs.twimg.com/profile_images/526809556396290049/8dbQD6cY_normal.jpeg', u'profile_sidebar_fill_color': u'F6F6F6', u'entities': {u'url': {u'urls': [{u'url': u'http://t.co/P6xpyaSojo', u'indices': [0, 22], u'expanded_url': u'http://namikiyu.wix.com/yuilogan', u'display_url': u'namikiyu.wix.com/yuilogan'}]}, u'description': {u'urls': []}}, u'followers_count': 187, u'profile_sidebar_border_color': u'EEEEEE', u'id_str': u'1537170830', u'profile_background_color': u'ACDED6', u'listed_count': 10, u'is_translation_enabled': False, u'utc_offset': -14400, u'statuses_count': 580, u'description': u'A child with adult responsibilities. \\u65e5\\u672c\\u4eba \\u2764\\ufe0f Lover of food, yoga, sustainability, non-profits, witty jokes and all things good. #Chicago @Sprint PR', u'friends_count': 353, u'location': u'Chicago/DC/Ann Arbor, Mich.', u'profile_link_color': u'038543', u'profile_image_url': u'http://pbs.twimg.com/profile_images/526809556396290049/8dbQD6cY_normal.jpeg', u'following': False, u'geo_enabled': False, u'profile_banner_url': u'https://pbs.twimg.com/profile_banners/1537170830/1397571567', u'profile_background_image_url': u'http://abs.twimg.com/images/themes/theme18/bg.gif', u'screen_name': u'YuiLNamiki', u'lang': u'en', u'profile_background_tile': False, u'favourites_count': 185, u'name': u'Yui Logan Namiki', u'notifications': False, u'url': u'http://t.co/P6xpyaSojo', u'created_at': u'Fri Jun 21 19:19:13 +0000 2013', u'contributors_enabled': False, u'time_zone': u'Eastern Time (US & Canada)', u'protected': False, u'default_profile': False, u'is_translator': False}, time_zone=u'Eastern Time (US & Canada)', id=1537170830, _api=<tweepy.api.API object at 0x10319bed0>, verified=False, profile_text_color=u'333333', profile_image_url_https=u'https://pbs.twimg.com/profile_images/526809556396290049/8dbQD6cY_normal.jpeg', profile_sidebar_fill_color=u'F6F6F6', is_translator=False, geo_enabled=False, entities={u'url': {u'urls': [{u'url': u'http://t.co/P6xpyaSojo', u'indices': [0, 22], u'expanded_url': u'http://namikiyu.wix.com/yuilogan', u'display_url': u'namikiyu.wix.com/yuilogan'}]}, u'description': {u'urls': []}}, followers_count=187, protected=False, id_str=u'1537170830', default_profile_image=False, listed_count=10, lang=u'en', utc_offset=-14400, statuses_count=580, description=u'A child with adult responsibilities. \\u65e5\\u672c\\u4eba \\u2764\\ufe0f Lover of food, yoga, sustainability, non-profits, witty jokes and all things good. #Chicago @Sprint PR', friends_count=353, profile_link_color=u'038543', profile_image_url=u'http://pbs.twimg.com/profile_images/526809556396290049/8dbQD6cY_normal.jpeg', notifications=False, profile_background_image_url_https=u'https://abs.twimg.com/images/themes/theme18/bg.gif', profile_background_color=u'ACDED6', profile_banner_url=u'https://pbs.twimg.com/profile_banners/1537170830/1397571567', profile_background_image_url=u'http://abs.twimg.com/images/themes/theme18/bg.gif', name=u'Yui Logan Namiki', is_translation_enabled=False, profile_background_tile=False, favourites_count=185, screen_name=u'YuiLNamiki', url=u'http://t.co/P6xpyaSojo', created_at=datetime.datetime(2013, 6, 21, 19, 19, 13), contributors_enabled=False, location=u'Chicago/DC/Ann Arbor, Mich.', profile_sidebar_border_color=u'EEEEEE', default_profile=False, following=False), _json={u'contributors': None, u'truncated': False, u'text': u'Deeply disappointed with the Supreme Court ruling. Nevertheless, we will continue trying until we succeed! #CleanAirAct', u'is_quote_status': False, u'in_reply_to_status_id': None, u'id': 615557961264533504, u'favorite_count': 2, u'source': u'<a href=\"http://twitter.com\" rel=\"nofollow\">Twitter Web Client</a>', u'retweeted': False, u'coordinates': None, u'entities': {u'symbols': [], u'user_mentions': [], u'hashtags': [{u'indices': [107, 119], u'text': u'CleanAirAct'}], u'urls': []}, u'in_reply_to_screen_name': None, u'in_reply_to_user_id': None, u'retweet_count': 2, u'id_str': u'615557961264533504', u'favorited': False, u'user': {u'follow_request_sent': False, u'has_extended_profile': False, u'profile_use_background_image': True, u'default_profile_image': False, u'id': 1537170830, u'profile_background_image_url_https': u'https://abs.twimg.com/images/themes/theme18/bg.gif', u'verified': False, u'profile_text_color': u'333333', u'profile_image_url_https': u'https://pbs.twimg.com/profile_images/526809556396290049/8dbQD6cY_normal.jpeg', u'profile_sidebar_fill_color': u'F6F6F6', u'entities': {u'url': {u'urls': [{u'url': u'http://t.co/P6xpyaSojo', u'indices': [0, 22], u'expanded_url': u'http://namikiyu.wix.com/yuilogan', u'display_url': u'namikiyu.wix.com/yuilogan'}]}, u'description': {u'urls': []}}, u'followers_count': 187, u'profile_sidebar_border_color': u'EEEEEE', u'id_str': u'1537170830', u'profile_background_color': u'ACDED6', u'listed_count': 10, u'is_translation_enabled': False, u'utc_offset': -14400, u'statuses_count': 580, u'description': u'A child with adult responsibilities. \\u65e5\\u672c\\u4eba \\u2764\\ufe0f Lover of food, yoga, sustainability, non-profits, witty jokes and all things good. #Chicago @Sprint PR', u'friends_count': 353, u'location': u'Chicago/DC/Ann Arbor, Mich.', u'profile_link_color': u'038543', u'profile_image_url': u'http://pbs.twimg.com/profile_images/526809556396290049/8dbQD6cY_normal.jpeg', u'following': False, u'geo_enabled': False, u'profile_banner_url': u'https://pbs.twimg.com/profile_banners/1537170830/1397571567', u'profile_background_image_url': u'http://abs.twimg.com/images/themes/theme18/bg.gif', u'screen_name': u'YuiLNamiki', u'lang': u'en', u'profile_background_tile': False, u'favourites_count': 185, u'name': u'Yui Logan Namiki', u'notifications': False, u'url': u'http://t.co/P6xpyaSojo', u'created_at': u'Fri Jun 21 19:19:13 +0000 2013', u'contributors_enabled': False, u'time_zone': u'Eastern Time (US & Canada)', u'protected': False, u'default_profile': False, u'is_translator': False}, u'geo': None, u'in_reply_to_user_id_str': None, u'lang': u'en', u'created_at': u'Mon Jun 29 16:30:29 +0000 2015', u'in_reply_to_status_id_str': None, u'place': None, u'metadata': {u'iso_language_code': u'en', u'result_type': u'recent'}}, coordinates=None, entities={u'symbols': [], u'user_mentions': [], u'hashtags': [{u'indices': [107, 119], u'text': u'CleanAirAct'}], u'urls': []}, in_reply_to_screen_name=None, id_str=u'615557961264533504', retweet_count=2, in_reply_to_user_id=None, favorited=False, source_url=u'http://twitter.com', user=User(follow_request_sent=False, has_extended_profile=False, profile_use_background_image=True, _json={u'follow_request_sent': False, u'has_extended_profile': False, u'profile_use_background_image': True, u'default_profile_image': False, u'id': 1537170830, u'profile_background_image_url_https': u'https://abs.twimg.com/images/themes/theme18/bg.gif', u'verified': False, u'profile_text_color': u'333333', u'profile_image_url_https': u'https://pbs.twimg.com/profile_images/526809556396290049/8dbQD6cY_normal.jpeg', u'profile_sidebar_fill_color': u'F6F6F6', u'entities': {u'url': {u'urls': [{u'url': u'http://t.co/P6xpyaSojo', u'indices': [0, 22], u'expanded_url': u'http://namikiyu.wix.com/yuilogan', u'display_url': u'namikiyu.wix.com/yuilogan'}]}, u'description': {u'urls': []}}, u'followers_count': 187, u'profile_sidebar_border_color': u'EEEEEE', u'id_str': u'1537170830', u'profile_background_color': u'ACDED6', u'listed_count': 10, u'is_translation_enabled': False, u'utc_offset': -14400, u'statuses_count': 580, u'description': u'A child with adult responsibilities. \\u65e5\\u672c\\u4eba \\u2764\\ufe0f Lover of food, yoga, sustainability, non-profits, witty jokes and all things good. #Chicago @Sprint PR', u'friends_count': 353, u'location': u'Chicago/DC/Ann Arbor, Mich.', u'profile_link_color': u'038543', u'profile_image_url': u'http://pbs.twimg.com/profile_images/526809556396290049/8dbQD6cY_normal.jpeg', u'following': False, u'geo_enabled': False, u'profile_banner_url': u'https://pbs.twimg.com/profile_banners/1537170830/1397571567', u'profile_background_image_url': u'http://abs.twimg.com/images/themes/theme18/bg.gif', u'screen_name': u'YuiLNamiki', u'lang': u'en', u'profile_background_tile': False, u'favourites_count': 185, u'name': u'Yui Logan Namiki', u'notifications': False, u'url': u'http://t.co/P6xpyaSojo', u'created_at': u'Fri Jun 21 19:19:13 +0000 2013', u'contributors_enabled': False, u'time_zone': u'Eastern Time (US & Canada)', u'protected': False, u'default_profile': False, u'is_translator': False}, time_zone=u'Eastern Time (US & Canada)', id=1537170830, _api=<tweepy.api.API object at 0x10319bed0>, verified=False, profile_text_color=u'333333', profile_image_url_https=u'https://pbs.twimg.com/profile_images/526809556396290049/8dbQD6cY_normal.jpeg', profile_sidebar_fill_color=u'F6F6F6', is_translator=False, geo_enabled=False, entities={u'url': {u'urls': [{u'url': u'http://t.co/P6xpyaSojo', u'indices': [0, 22], u'expanded_url': u'http://namikiyu.wix.com/yuilogan', u'display_url': u'namikiyu.wix.com/yuilogan'}]}, u'description': {u'urls': []}}, followers_count=187, protected=False, id_str=u'1537170830', default_profile_image=False, listed_count=10, lang=u'en', utc_offset=-14400, statuses_count=580, description=u'A child with adult responsibilities. \\u65e5\\u672c\\u4eba \\u2764\\ufe0f Lover of food, yoga, sustainability, non-profits, witty jokes and all things good. #Chicago @Sprint PR', friends_count=353, profile_link_color=u'038543', profile_image_url=u'http://pbs.twimg.com/profile_images/526809556396290049/8dbQD6cY_normal.jpeg', notifications=False, profile_background_image_url_https=u'https://abs.twimg.com/images/themes/theme18/bg.gif', profile_background_color=u'ACDED6', profile_banner_url=u'https://pbs.twimg.com/profile_banners/1537170830/1397571567', profile_background_image_url=u'http://abs.twimg.com/images/themes/theme18/bg.gif', name=u'Yui Logan Namiki', is_translation_enabled=False, profile_background_tile=False, favourites_count=185, screen_name=u'YuiLNamiki', url=u'http://t.co/P6xpyaSojo', created_at=datetime.datetime(2013, 6, 21, 19, 19, 13), contributors_enabled=False, location=u'Chicago/DC/Ann Arbor, Mich.', profile_sidebar_border_color=u'EEEEEE', default_profile=False, following=False), geo=None, in_reply_to_user_id_str=None, lang=u'en', created_at=datetime.datetime(2015, 6, 29, 16, 30, 29), in_reply_to_status_id_str=None, place=None, source=u'Twitter Web Client', retweeted=False, metadata={u'iso_language_code': u'en', u'result_type': u'recent'}), source_url=u'http://twitter.com/download/iphone', user=User(follow_request_sent=False, has_extended_profile=False, profile_use_background_image=True, _json={u'follow_request_sent': False, u'has_extended_profile': False, u'profile_use_background_image': True, u'default_profile_image': False, u'id': 149942264, u'profile_background_image_url_https': u'https://abs.twimg.com/images/themes/theme1/bg.png', u'verified': False, u'profile_text_color': u'333333', u'profile_image_url_https': u'https://pbs.twimg.com/profile_images/529772557197934592/7tf9w-hJ_normal.jpeg', u'profile_sidebar_fill_color': u'DDEEF6', u'entities': {u'description': {u'urls': []}}, u'followers_count': 996, u'profile_sidebar_border_color': u'C0DEED', u'id_str': u'149942264', u'profile_background_color': u'C0DEED', u'listed_count': 85, u'is_translation_enabled': False, u'utc_offset': None, u'statuses_count': 10451, u'description': u'Believer in human/labor/voting/animal rights, education, health-care, equality, golobal warming, sustainable farming. Against guns, and all wars.', u'friends_count': 1187, u'location': u'', u'profile_link_color': u'0084B4', u'profile_image_url': u'http://pbs.twimg.com/profile_images/529772557197934592/7tf9w-hJ_normal.jpeg', u'following': False, u'geo_enabled': True, u'profile_background_image_url': u'http://abs.twimg.com/images/themes/theme1/bg.png', u'screen_name': u'javmaher9', u'lang': u'en', u'profile_background_tile': False, u'favourites_count': 6127, u'name': u'Javad Maher', u'notifications': False, u'url': None, u'created_at': u'Sun May 30 16:43:38 +0000 2010', u'contributors_enabled': False, u'time_zone': None, u'protected': False, u'default_profile': True, u'is_translator': False}, time_zone=None, id=149942264, _api=<tweepy.api.API object at 0x10319bed0>, verified=False, profile_text_color=u'333333', profile_image_url_https=u'https://pbs.twimg.com/profile_images/529772557197934592/7tf9w-hJ_normal.jpeg', profile_sidebar_fill_color=u'DDEEF6', is_translator=False, geo_enabled=True, entities={u'description': {u'urls': []}}, followers_count=996, protected=False, id_str=u'149942264', default_profile_image=False, listed_count=85, lang=u'en', utc_offset=None, statuses_count=10451, description=u'Believer in human/labor/voting/animal rights, education, health-care, equality, golobal warming, sustainable farming. Against guns, and all wars.', friends_count=1187, profile_link_color=u'0084B4', profile_image_url=u'http://pbs.twimg.com/profile_images/529772557197934592/7tf9w-hJ_normal.jpeg', notifications=False, profile_background_image_url_https=u'https://abs.twimg.com/images/themes/theme1/bg.png', profile_background_color=u'C0DEED', profile_background_image_url=u'http://abs.twimg.com/images/themes/theme1/bg.png', name=u'Javad Maher', is_translation_enabled=False, profile_background_tile=False, favourites_count=6127, screen_name=u'javmaher9', url=None, created_at=datetime.datetime(2010, 5, 30, 16, 43, 38), contributors_enabled=False, location=u'', profile_sidebar_border_color=u'C0DEED', default_profile=True, following=False), geo=None, in_reply_to_user_id_str=None, lang=u'en', created_at=datetime.datetime(2015, 6, 29, 16, 38, 21), in_reply_to_status_id_str=None, place=None, source=u'Twitter for iPhone', retweeted=False, metadata={u'iso_language_code': u'en', u'result_type': u'recent'}),\n",
       " Status(contributors=None, truncated=False, text=u'RT @ezraklein: The Supreme Court just saved an important anti-gerrymandering reform: http://t.co/P21vYWS0PU', is_quote_status=False, in_reply_to_status_id=None, id=615559943685586945, favorite_count=0, _api=<tweepy.api.API object at 0x10319bed0>, author=User(follow_request_sent=False, has_extended_profile=False, profile_use_background_image=True, _json={u'follow_request_sent': False, u'has_extended_profile': False, u'profile_use_background_image': True, u'default_profile_image': False, u'id': 35771969, u'profile_background_image_url_https': u'https://abs.twimg.com/images/themes/theme7/bg.gif', u'verified': False, u'profile_text_color': u'333333', u'profile_image_url_https': u'https://pbs.twimg.com/profile_images/560549631659364352/FNBVzRui_normal.jpeg', u'profile_sidebar_fill_color': u'F3F3F3', u'entities': {u'url': {u'urls': [{u'url': u'http://t.co/hsp03RPj6M', u'indices': [0, 22], u'expanded_url': u'http://www.rompenni.org/', u'display_url': u'rompenni.org'}]}, u'description': {u'urls': []}}, u'followers_count': 818, u'profile_sidebar_border_color': u'DFDFDF', u'id_str': u'35771969', u'profile_background_color': u'EBEBEB', u'listed_count': 29, u'is_translation_enabled': False, u'utc_offset': -18000, u'statuses_count': 6172, u'description': u'PhD @iujournalism. Asst. journalism professor Fall 2015 @MiamiUniversity. Interested in new media, Muslims, & global communication. I manage @muslimvoices.', u'friends_count': 929, u'location': u'Bloomington, IN', u'profile_link_color': u'990000', u'profile_image_url': u'http://pbs.twimg.com/profile_images/560549631659364352/FNBVzRui_normal.jpeg', u'following': False, u'geo_enabled': True, u'profile_banner_url': u'https://pbs.twimg.com/profile_banners/35771969/1429619403', u'profile_background_image_url': u'http://abs.twimg.com/images/themes/theme7/bg.gif', u'screen_name': u'rompenni', u'lang': u'en', u'profile_background_tile': False, u'favourites_count': 3462, u'name': u'Rosemary Pennington', u'notifications': False, u'url': u'http://t.co/hsp03RPj6M', u'created_at': u'Mon Apr 27 15:37:45 +0000 2009', u'contributors_enabled': False, u'time_zone': u'Quito', u'protected': False, u'default_profile': False, u'is_translator': False}, time_zone=u'Quito', id=35771969, _api=<tweepy.api.API object at 0x10319bed0>, verified=False, profile_text_color=u'333333', profile_image_url_https=u'https://pbs.twimg.com/profile_images/560549631659364352/FNBVzRui_normal.jpeg', profile_sidebar_fill_color=u'F3F3F3', is_translator=False, geo_enabled=True, entities={u'url': {u'urls': [{u'url': u'http://t.co/hsp03RPj6M', u'indices': [0, 22], u'expanded_url': u'http://www.rompenni.org/', u'display_url': u'rompenni.org'}]}, u'description': {u'urls': []}}, followers_count=818, protected=False, id_str=u'35771969', default_profile_image=False, listed_count=29, lang=u'en', utc_offset=-18000, statuses_count=6172, description=u'PhD @iujournalism. Asst. journalism professor Fall 2015 @MiamiUniversity. Interested in new media, Muslims, & global communication. I manage @muslimvoices.', friends_count=929, profile_link_color=u'990000', profile_image_url=u'http://pbs.twimg.com/profile_images/560549631659364352/FNBVzRui_normal.jpeg', notifications=False, profile_background_image_url_https=u'https://abs.twimg.com/images/themes/theme7/bg.gif', profile_background_color=u'EBEBEB', profile_banner_url=u'https://pbs.twimg.com/profile_banners/35771969/1429619403', profile_background_image_url=u'http://abs.twimg.com/images/themes/theme7/bg.gif', name=u'Rosemary Pennington', is_translation_enabled=False, profile_background_tile=False, favourites_count=3462, screen_name=u'rompenni', url=u'http://t.co/hsp03RPj6M', created_at=datetime.datetime(2009, 4, 27, 15, 37, 45), contributors_enabled=False, location=u'Bloomington, IN', profile_sidebar_border_color=u'DFDFDF', default_profile=False, following=False), _json={u'contributors': None, u'truncated': False, u'text': u'RT @ezraklein: The Supreme Court just saved an important anti-gerrymandering reform: http://t.co/P21vYWS0PU', u'is_quote_status': False, u'in_reply_to_status_id': None, u'id': 615559943685586945, u'favorite_count': 0, u'source': u'<a href=\"http://twitter.com\" rel=\"nofollow\">Twitter Web Client</a>', u'retweeted': False, u'coordinates': None, u'entities': {u'symbols': [], u'user_mentions': [{u'id': 18622869, u'indices': [3, 13], u'id_str': u'18622869', u'screen_name': u'ezraklein', u'name': u'Ezra Klein'}], u'hashtags': [], u'urls': [{u'url': u'http://t.co/P21vYWS0PU', u'indices': [85, 107], u'expanded_url': u'http://bit.ly/1eV9ZTg', u'display_url': u'bit.ly/1eV9ZTg'}]}, u'in_reply_to_screen_name': None, u'in_reply_to_user_id': None, u'retweet_count': 58, u'id_str': u'615559943685586945', u'favorited': False, u'retweeted_status': {u'contributors': None, u'truncated': False, u'text': u'The Supreme Court just saved an important anti-gerrymandering reform: http://t.co/P21vYWS0PU', u'is_quote_status': False, u'in_reply_to_status_id': None, u'id': 615538633907535872, u'favorite_count': 55, u'source': u'<a href=\"https://bitly.com/\" rel=\"nofollow\">Bitly</a>', u'retweeted': False, u'coordinates': None, u'entities': {u'symbols': [], u'user_mentions': [], u'hashtags': [], u'urls': [{u'url': u'http://t.co/P21vYWS0PU', u'indices': [70, 92], u'expanded_url': u'http://bit.ly/1eV9ZTg', u'display_url': u'bit.ly/1eV9ZTg'}]}, u'in_reply_to_screen_name': None, u'in_reply_to_user_id': None, u'retweet_count': 58, u'id_str': u'615538633907535872', u'favorited': False, u'user': {u'follow_request_sent': False, u'has_extended_profile': False, u'profile_use_background_image': True, u'default_profile_image': False, u'id': 18622869, u'profile_background_image_url_https': u'https://abs.twimg.com/images/themes/theme1/bg.png', u'verified': True, u'profile_text_color': u'333333', u'profile_image_url_https': u'https://pbs.twimg.com/profile_images/430528937022595072/ivuRfUNj_normal.jpeg', u'profile_sidebar_fill_color': u'DDEEF6', u'entities': {u'url': {u'urls': [{u'url': u'http://t.co/8X2hDCPnDl', u'indices': [0, 22], u'expanded_url': u'http://www.vox.com', u'display_url': u'vox.com'}]}, u'description': {u'urls': [{u'url': u'http://t.co/hH5hVMv0KR', u'indices': [17, 39], u'expanded_url': u'http://Vox.com', u'display_url': u'Vox.com'}]}}, u'followers_count': 774789, u'profile_sidebar_border_color': u'C0DEED', u'id_str': u'18622869', u'profile_background_color': u'C0DEED', u'listed_count': 17135, u'is_translation_enabled': False, u'utc_offset': -14400, u'statuses_count': 33293, u'description': u'Editor-in-chief, http://t.co/hH5hVMv0KR. Policy analyst at MSNBC. Eater of food. Hater of filibuster. Lover of charts.', u'friends_count': 926, u'location': u'DC', u'profile_link_color': u'0084B4', u'profile_image_url': u'http://pbs.twimg.com/profile_images/430528937022595072/ivuRfUNj_normal.jpeg', u'following': True, u'geo_enabled': True, u'profile_banner_url': u'https://pbs.twimg.com/profile_banners/18622869/1386449293', u'profile_background_image_url': u'http://abs.twimg.com/images/themes/theme1/bg.png', u'screen_name': u'ezraklein', u'lang': u'en', u'profile_background_tile': False, u'favourites_count': 603, u'name': u'Ezra Klein', u'notifications': False, u'url': u'http://t.co/8X2hDCPnDl', u'created_at': u'Mon Jan 05 04:02:29 +0000 2009', u'contributors_enabled': False, u'time_zone': u'Eastern Time (US & Canada)', u'protected': False, u'default_profile': True, u'is_translator': False}, u'geo': None, u'in_reply_to_user_id_str': None, u'possibly_sensitive': False, u'lang': u'en', u'created_at': u'Mon Jun 29 15:13:41 +0000 2015', u'in_reply_to_status_id_str': None, u'place': None, u'metadata': {u'iso_language_code': u'en', u'result_type': u'recent'}}, u'user': {u'follow_request_sent': False, u'has_extended_profile': False, u'profile_use_background_image': True, u'default_profile_image': False, u'id': 35771969, u'profile_background_image_url_https': u'https://abs.twimg.com/images/themes/theme7/bg.gif', u'verified': False, u'profile_text_color': u'333333', u'profile_image_url_https': u'https://pbs.twimg.com/profile_images/560549631659364352/FNBVzRui_normal.jpeg', u'profile_sidebar_fill_color': u'F3F3F3', u'entities': {u'url': {u'urls': [{u'url': u'http://t.co/hsp03RPj6M', u'indices': [0, 22], u'expanded_url': u'http://www.rompenni.org/', u'display_url': u'rompenni.org'}]}, u'description': {u'urls': []}}, u'followers_count': 818, u'profile_sidebar_border_color': u'DFDFDF', u'id_str': u'35771969', u'profile_background_color': u'EBEBEB', u'listed_count': 29, u'is_translation_enabled': False, u'utc_offset': -18000, u'statuses_count': 6172, u'description': u'PhD @iujournalism. Asst. journalism professor Fall 2015 @MiamiUniversity. Interested in new media, Muslims, & global communication. I manage @muslimvoices.', u'friends_count': 929, u'location': u'Bloomington, IN', u'profile_link_color': u'990000', u'profile_image_url': u'http://pbs.twimg.com/profile_images/560549631659364352/FNBVzRui_normal.jpeg', u'following': False, u'geo_enabled': True, u'profile_banner_url': u'https://pbs.twimg.com/profile_banners/35771969/1429619403', u'profile_background_image_url': u'http://abs.twimg.com/images/themes/theme7/bg.gif', u'screen_name': u'rompenni', u'lang': u'en', u'profile_background_tile': False, u'favourites_count': 3462, u'name': u'Rosemary Pennington', u'notifications': False, u'url': u'http://t.co/hsp03RPj6M', u'created_at': u'Mon Apr 27 15:37:45 +0000 2009', u'contributors_enabled': False, u'time_zone': u'Quito', u'protected': False, u'default_profile': False, u'is_translator': False}, u'geo': None, u'in_reply_to_user_id_str': None, u'possibly_sensitive': False, u'lang': u'en', u'created_at': u'Mon Jun 29 16:38:21 +0000 2015', u'in_reply_to_status_id_str': None, u'place': None, u'metadata': {u'iso_language_code': u'en', u'result_type': u'recent'}}, coordinates=None, entities={u'symbols': [], u'user_mentions': [{u'id': 18622869, u'indices': [3, 13], u'id_str': u'18622869', u'screen_name': u'ezraklein', u'name': u'Ezra Klein'}], u'hashtags': [], u'urls': [{u'url': u'http://t.co/P21vYWS0PU', u'indices': [85, 107], u'expanded_url': u'http://bit.ly/1eV9ZTg', u'display_url': u'bit.ly/1eV9ZTg'}]}, in_reply_to_screen_name=None, id_str=u'615559943685586945', retweet_count=58, in_reply_to_user_id=None, favorited=False, retweeted_status=Status(contributors=None, truncated=False, text=u'The Supreme Court just saved an important anti-gerrymandering reform: http://t.co/P21vYWS0PU', is_quote_status=False, in_reply_to_status_id=None, id=615538633907535872, favorite_count=55, _api=<tweepy.api.API object at 0x10319bed0>, author=User(follow_request_sent=False, has_extended_profile=False, profile_use_background_image=True, _json={u'follow_request_sent': False, u'has_extended_profile': False, u'profile_use_background_image': True, u'default_profile_image': False, u'id': 18622869, u'profile_background_image_url_https': u'https://abs.twimg.com/images/themes/theme1/bg.png', u'verified': True, u'profile_text_color': u'333333', u'profile_image_url_https': u'https://pbs.twimg.com/profile_images/430528937022595072/ivuRfUNj_normal.jpeg', u'profile_sidebar_fill_color': u'DDEEF6', u'entities': {u'url': {u'urls': [{u'url': u'http://t.co/8X2hDCPnDl', u'indices': [0, 22], u'expanded_url': u'http://www.vox.com', u'display_url': u'vox.com'}]}, u'description': {u'urls': [{u'url': u'http://t.co/hH5hVMv0KR', u'indices': [17, 39], u'expanded_url': u'http://Vox.com', u'display_url': u'Vox.com'}]}}, u'followers_count': 774789, u'profile_sidebar_border_color': u'C0DEED', u'id_str': u'18622869', u'profile_background_color': u'C0DEED', u'listed_count': 17135, u'is_translation_enabled': False, u'utc_offset': -14400, u'statuses_count': 33293, u'description': u'Editor-in-chief, http://t.co/hH5hVMv0KR. Policy analyst at MSNBC. Eater of food. Hater of filibuster. Lover of charts.', u'friends_count': 926, u'location': u'DC', u'profile_link_color': u'0084B4', u'profile_image_url': u'http://pbs.twimg.com/profile_images/430528937022595072/ivuRfUNj_normal.jpeg', u'following': True, u'geo_enabled': True, u'profile_banner_url': u'https://pbs.twimg.com/profile_banners/18622869/1386449293', u'profile_background_image_url': u'http://abs.twimg.com/images/themes/theme1/bg.png', u'screen_name': u'ezraklein', u'lang': u'en', u'profile_background_tile': False, u'favourites_count': 603, u'name': u'Ezra Klein', u'notifications': False, u'url': u'http://t.co/8X2hDCPnDl', u'created_at': u'Mon Jan 05 04:02:29 +0000 2009', u'contributors_enabled': False, u'time_zone': u'Eastern Time (US & Canada)', u'protected': False, u'default_profile': True, u'is_translator': False}, time_zone=u'Eastern Time (US & Canada)', id=18622869, _api=<tweepy.api.API object at 0x10319bed0>, verified=True, profile_text_color=u'333333', profile_image_url_https=u'https://pbs.twimg.com/profile_images/430528937022595072/ivuRfUNj_normal.jpeg', profile_sidebar_fill_color=u'DDEEF6', is_translator=False, geo_enabled=True, entities={u'url': {u'urls': [{u'url': u'http://t.co/8X2hDCPnDl', u'indices': [0, 22], u'expanded_url': u'http://www.vox.com', u'display_url': u'vox.com'}]}, u'description': {u'urls': [{u'url': u'http://t.co/hH5hVMv0KR', u'indices': [17, 39], u'expanded_url': u'http://Vox.com', u'display_url': u'Vox.com'}]}}, followers_count=774789, protected=False, id_str=u'18622869', default_profile_image=False, listed_count=17135, lang=u'en', utc_offset=-14400, statuses_count=33293, description=u'Editor-in-chief, http://t.co/hH5hVMv0KR. Policy analyst at MSNBC. Eater of food. Hater of filibuster. Lover of charts.', friends_count=926, profile_link_color=u'0084B4', profile_image_url=u'http://pbs.twimg.com/profile_images/430528937022595072/ivuRfUNj_normal.jpeg', notifications=False, profile_background_image_url_https=u'https://abs.twimg.com/images/themes/theme1/bg.png', profile_background_color=u'C0DEED', profile_banner_url=u'https://pbs.twimg.com/profile_banners/18622869/1386449293', profile_background_image_url=u'http://abs.twimg.com/images/themes/theme1/bg.png', name=u'Ezra Klein', is_translation_enabled=False, profile_background_tile=False, favourites_count=603, screen_name=u'ezraklein', url=u'http://t.co/8X2hDCPnDl', created_at=datetime.datetime(2009, 1, 5, 4, 2, 29), contributors_enabled=False, location=u'DC', profile_sidebar_border_color=u'C0DEED', default_profile=True, following=True), _json={u'contributors': None, u'truncated': False, u'text': u'The Supreme Court just saved an important anti-gerrymandering reform: http://t.co/P21vYWS0PU', u'is_quote_status': False, u'in_reply_to_status_id': None, u'id': 615538633907535872, u'favorite_count': 55, u'source': u'<a href=\"https://bitly.com/\" rel=\"nofollow\">Bitly</a>', u'retweeted': False, u'coordinates': None, u'entities': {u'symbols': [], u'user_mentions': [], u'hashtags': [], u'urls': [{u'url': u'http://t.co/P21vYWS0PU', u'indices': [70, 92], u'expanded_url': u'http://bit.ly/1eV9ZTg', u'display_url': u'bit.ly/1eV9ZTg'}]}, u'in_reply_to_screen_name': None, u'in_reply_to_user_id': None, u'retweet_count': 58, u'id_str': u'615538633907535872', u'favorited': False, u'user': {u'follow_request_sent': False, u'has_extended_profile': False, u'profile_use_background_image': True, u'default_profile_image': False, u'id': 18622869, u'profile_background_image_url_https': u'https://abs.twimg.com/images/themes/theme1/bg.png', u'verified': True, u'profile_text_color': u'333333', u'profile_image_url_https': u'https://pbs.twimg.com/profile_images/430528937022595072/ivuRfUNj_normal.jpeg', u'profile_sidebar_fill_color': u'DDEEF6', u'entities': {u'url': {u'urls': [{u'url': u'http://t.co/8X2hDCPnDl', u'indices': [0, 22], u'expanded_url': u'http://www.vox.com', u'display_url': u'vox.com'}]}, u'description': {u'urls': [{u'url': u'http://t.co/hH5hVMv0KR', u'indices': [17, 39], u'expanded_url': u'http://Vox.com', u'display_url': u'Vox.com'}]}}, u'followers_count': 774789, u'profile_sidebar_border_color': u'C0DEED', u'id_str': u'18622869', u'profile_background_color': u'C0DEED', u'listed_count': 17135, u'is_translation_enabled': False, u'utc_offset': -14400, u'statuses_count': 33293, u'description': u'Editor-in-chief, http://t.co/hH5hVMv0KR. Policy analyst at MSNBC. Eater of food. Hater of filibuster. Lover of charts.', u'friends_count': 926, u'location': u'DC', u'profile_link_color': u'0084B4', u'profile_image_url': u'http://pbs.twimg.com/profile_images/430528937022595072/ivuRfUNj_normal.jpeg', u'following': True, u'geo_enabled': True, u'profile_banner_url': u'https://pbs.twimg.com/profile_banners/18622869/1386449293', u'profile_background_image_url': u'http://abs.twimg.com/images/themes/theme1/bg.png', u'screen_name': u'ezraklein', u'lang': u'en', u'profile_background_tile': False, u'favourites_count': 603, u'name': u'Ezra Klein', u'notifications': False, u'url': u'http://t.co/8X2hDCPnDl', u'created_at': u'Mon Jan 05 04:02:29 +0000 2009', u'contributors_enabled': False, u'time_zone': u'Eastern Time (US & Canada)', u'protected': False, u'default_profile': True, u'is_translator': False}, u'geo': None, u'in_reply_to_user_id_str': None, u'possibly_sensitive': False, u'lang': u'en', u'created_at': u'Mon Jun 29 15:13:41 +0000 2015', u'in_reply_to_status_id_str': None, u'place': None, u'metadata': {u'iso_language_code': u'en', u'result_type': u'recent'}}, coordinates=None, entities={u'symbols': [], u'user_mentions': [], u'hashtags': [], u'urls': [{u'url': u'http://t.co/P21vYWS0PU', u'indices': [70, 92], u'expanded_url': u'http://bit.ly/1eV9ZTg', u'display_url': u'bit.ly/1eV9ZTg'}]}, in_reply_to_screen_name=None, id_str=u'615538633907535872', retweet_count=58, in_reply_to_user_id=None, favorited=False, source_url=u'https://bitly.com/', user=User(follow_request_sent=False, has_extended_profile=False, profile_use_background_image=True, _json={u'follow_request_sent': False, u'has_extended_profile': False, u'profile_use_background_image': True, u'default_profile_image': False, u'id': 18622869, u'profile_background_image_url_https': u'https://abs.twimg.com/images/themes/theme1/bg.png', u'verified': True, u'profile_text_color': u'333333', u'profile_image_url_https': u'https://pbs.twimg.com/profile_images/430528937022595072/ivuRfUNj_normal.jpeg', u'profile_sidebar_fill_color': u'DDEEF6', u'entities': {u'url': {u'urls': [{u'url': u'http://t.co/8X2hDCPnDl', u'indices': [0, 22], u'expanded_url': u'http://www.vox.com', u'display_url': u'vox.com'}]}, u'description': {u'urls': [{u'url': u'http://t.co/hH5hVMv0KR', u'indices': [17, 39], u'expanded_url': u'http://Vox.com', u'display_url': u'Vox.com'}]}}, u'followers_count': 774789, u'profile_sidebar_border_color': u'C0DEED', u'id_str': u'18622869', u'profile_background_color': u'C0DEED', u'listed_count': 17135, u'is_translation_enabled': False, u'utc_offset': -14400, u'statuses_count': 33293, u'description': u'Editor-in-chief, http://t.co/hH5hVMv0KR. Policy analyst at MSNBC. Eater of food. Hater of filibuster. Lover of charts.', u'friends_count': 926, u'location': u'DC', u'profile_link_color': u'0084B4', u'profile_image_url': u'http://pbs.twimg.com/profile_images/430528937022595072/ivuRfUNj_normal.jpeg', u'following': True, u'geo_enabled': True, u'profile_banner_url': u'https://pbs.twimg.com/profile_banners/18622869/1386449293', u'profile_background_image_url': u'http://abs.twimg.com/images/themes/theme1/bg.png', u'screen_name': u'ezraklein', u'lang': u'en', u'profile_background_tile': False, u'favourites_count': 603, u'name': u'Ezra Klein', u'notifications': False, u'url': u'http://t.co/8X2hDCPnDl', u'created_at': u'Mon Jan 05 04:02:29 +0000 2009', u'contributors_enabled': False, u'time_zone': u'Eastern Time (US & Canada)', u'protected': False, u'default_profile': True, u'is_translator': False}, time_zone=u'Eastern Time (US & Canada)', id=18622869, _api=<tweepy.api.API object at 0x10319bed0>, verified=True, profile_text_color=u'333333', profile_image_url_https=u'https://pbs.twimg.com/profile_images/430528937022595072/ivuRfUNj_normal.jpeg', profile_sidebar_fill_color=u'DDEEF6', is_translator=False, geo_enabled=True, entities={u'url': {u'urls': [{u'url': u'http://t.co/8X2hDCPnDl', u'indices': [0, 22], u'expanded_url': u'http://www.vox.com', u'display_url': u'vox.com'}]}, u'description': {u'urls': [{u'url': u'http://t.co/hH5hVMv0KR', u'indices': [17, 39], u'expanded_url': u'http://Vox.com', u'display_url': u'Vox.com'}]}}, followers_count=774789, protected=False, id_str=u'18622869', default_profile_image=False, listed_count=17135, lang=u'en', utc_offset=-14400, statuses_count=33293, description=u'Editor-in-chief, http://t.co/hH5hVMv0KR. Policy analyst at MSNBC. Eater of food. Hater of filibuster. Lover of charts.', friends_count=926, profile_link_color=u'0084B4', profile_image_url=u'http://pbs.twimg.com/profile_images/430528937022595072/ivuRfUNj_normal.jpeg', notifications=False, profile_background_image_url_https=u'https://abs.twimg.com/images/themes/theme1/bg.png', profile_background_color=u'C0DEED', profile_banner_url=u'https://pbs.twimg.com/profile_banners/18622869/1386449293', profile_background_image_url=u'http://abs.twimg.com/images/themes/theme1/bg.png', name=u'Ezra Klein', is_translation_enabled=False, profile_background_tile=False, favourites_count=603, screen_name=u'ezraklein', url=u'http://t.co/8X2hDCPnDl', created_at=datetime.datetime(2009, 1, 5, 4, 2, 29), contributors_enabled=False, location=u'DC', profile_sidebar_border_color=u'C0DEED', default_profile=True, following=True), geo=None, in_reply_to_user_id_str=None, possibly_sensitive=False, lang=u'en', created_at=datetime.datetime(2015, 6, 29, 15, 13, 41), in_reply_to_status_id_str=None, place=None, source=u'Bitly', retweeted=False, metadata={u'iso_language_code': u'en', u'result_type': u'recent'}), source_url=u'http://twitter.com', user=User(follow_request_sent=False, has_extended_profile=False, profile_use_background_image=True, _json={u'follow_request_sent': False, u'has_extended_profile': False, u'profile_use_background_image': True, u'default_profile_image': False, u'id': 35771969, u'profile_background_image_url_https': u'https://abs.twimg.com/images/themes/theme7/bg.gif', u'verified': False, u'profile_text_color': u'333333', u'profile_image_url_https': u'https://pbs.twimg.com/profile_images/560549631659364352/FNBVzRui_normal.jpeg', u'profile_sidebar_fill_color': u'F3F3F3', u'entities': {u'url': {u'urls': [{u'url': u'http://t.co/hsp03RPj6M', u'indices': [0, 22], u'expanded_url': u'http://www.rompenni.org/', u'display_url': u'rompenni.org'}]}, u'description': {u'urls': []}}, u'followers_count': 818, u'profile_sidebar_border_color': u'DFDFDF', u'id_str': u'35771969', u'profile_background_color': u'EBEBEB', u'listed_count': 29, u'is_translation_enabled': False, u'utc_offset': -18000, u'statuses_count': 6172, u'description': u'PhD @iujournalism. Asst. journalism professor Fall 2015 @MiamiUniversity. Interested in new media, Muslims, & global communication. I manage @muslimvoices.', u'friends_count': 929, u'location': u'Bloomington, IN', u'profile_link_color': u'990000', u'profile_image_url': u'http://pbs.twimg.com/profile_images/560549631659364352/FNBVzRui_normal.jpeg', u'following': False, u'geo_enabled': True, u'profile_banner_url': u'https://pbs.twimg.com/profile_banners/35771969/1429619403', u'profile_background_image_url': u'http://abs.twimg.com/images/themes/theme7/bg.gif', u'screen_name': u'rompenni', u'lang': u'en', u'profile_background_tile': False, u'favourites_count': 3462, u'name': u'Rosemary Pennington', u'notifications': False, u'url': u'http://t.co/hsp03RPj6M', u'created_at': u'Mon Apr 27 15:37:45 +0000 2009', u'contributors_enabled': False, u'time_zone': u'Quito', u'protected': False, u'default_profile': False, u'is_translator': False}, time_zone=u'Quito', id=35771969, _api=<tweepy.api.API object at 0x10319bed0>, verified=False, profile_text_color=u'333333', profile_image_url_https=u'https://pbs.twimg.com/profile_images/560549631659364352/FNBVzRui_normal.jpeg', profile_sidebar_fill_color=u'F3F3F3', is_translator=False, geo_enabled=True, entities={u'url': {u'urls': [{u'url': u'http://t.co/hsp03RPj6M', u'indices': [0, 22], u'expanded_url': u'http://www.rompenni.org/', u'display_url': u'rompenni.org'}]}, u'description': {u'urls': []}}, followers_count=818, protected=False, id_str=u'35771969', default_profile_image=False, listed_count=29, lang=u'en', utc_offset=-18000, statuses_count=6172, description=u'PhD @iujournalism. Asst. journalism professor Fall 2015 @MiamiUniversity. Interested in new media, Muslims, & global communication. I manage @muslimvoices.', friends_count=929, profile_link_color=u'990000', profile_image_url=u'http://pbs.twimg.com/profile_images/560549631659364352/FNBVzRui_normal.jpeg', notifications=False, profile_background_image_url_https=u'https://abs.twimg.com/images/themes/theme7/bg.gif', profile_background_color=u'EBEBEB', profile_banner_url=u'https://pbs.twimg.com/profile_banners/35771969/1429619403', profile_background_image_url=u'http://abs.twimg.com/images/themes/theme7/bg.gif', name=u'Rosemary Pennington', is_translation_enabled=False, profile_background_tile=False, favourites_count=3462, screen_name=u'rompenni', url=u'http://t.co/hsp03RPj6M', created_at=datetime.datetime(2009, 4, 27, 15, 37, 45), contributors_enabled=False, location=u'Bloomington, IN', profile_sidebar_border_color=u'DFDFDF', default_profile=False, following=False), geo=None, in_reply_to_user_id_str=None, possibly_sensitive=False, lang=u'en', created_at=datetime.datetime(2015, 6, 29, 16, 38, 21), in_reply_to_status_id_str=None, place=None, source=u'Twitter Web Client', retweeted=False, metadata={u'iso_language_code': u'en', u'result_type': u'recent'}),\n",
       " Status(contributors=None, truncated=False, text=u'Escribe \"gay marriage\" \"same-sex marriage\" y \"Supreme Court gay marriage\" en #google sorprendente. http://t.co/17JH5NXjPZ', is_quote_status=False, in_reply_to_status_id=None, id=615559942741733380, favorite_count=0, _api=<tweepy.api.API object at 0x10319bed0>, author=User(follow_request_sent=False, has_extended_profile=False, profile_use_background_image=True, _json={u'follow_request_sent': False, u'has_extended_profile': False, u'profile_use_background_image': True, u'default_profile_image': False, u'id': 2183366809, u'profile_background_image_url_https': u'https://pbs.twimg.com/profile_background_images/378800000112554874/14c82fef00ea61c16e79e34d014f5af4.jpeg', u'verified': False, u'profile_text_color': u'333333', u'profile_image_url_https': u'https://pbs.twimg.com/profile_images/456553122739937280/MT7DjFux_normal.jpeg', u'profile_sidebar_fill_color': u'DDEEF6', u'entities': {u'url': {u'urls': [{u'url': u'http://t.co/VBbz1tSC7c', u'indices': [0, 22], u'expanded_url': u'http://www.mimesis.mx', u'display_url': u'mimesis.mx'}]}, u'description': {u'urls': []}}, u'followers_count': 296, u'profile_sidebar_border_color': u'FFFFFF', u'id_str': u'2183366809', u'profile_background_color': u'C0DEED', u'listed_count': 7, u'is_translation_enabled': False, u'utc_offset': -18000, u'statuses_count': 1090, u'description': u'Servicios en Capacitaci\\xf3n y Comunicaci\\xf3n Digital.', u'friends_count': 574, u'location': u'Le\\xf3n Guanajuato', u'profile_link_color': u'0084B4', u'profile_image_url': u'http://pbs.twimg.com/profile_images/456553122739937280/MT7DjFux_normal.jpeg', u'following': False, u'geo_enabled': False, u'profile_banner_url': u'https://pbs.twimg.com/profile_banners/2183366809/1425644417', u'profile_background_image_url': u'http://pbs.twimg.com/profile_background_images/378800000112554874/14c82fef00ea61c16e79e34d014f5af4.jpeg', u'screen_name': u'Converza', u'lang': u'es', u'profile_background_tile': False, u'favourites_count': 34, u'name': u'Mimesis', u'notifications': False, u'url': u'http://t.co/VBbz1tSC7c', u'created_at': u'Sat Nov 09 01:46:41 +0000 2013', u'contributors_enabled': False, u'time_zone': u'Central Time (US & Canada)', u'protected': False, u'default_profile': False, u'is_translator': False}, time_zone=u'Central Time (US & Canada)', id=2183366809, _api=<tweepy.api.API object at 0x10319bed0>, verified=False, profile_text_color=u'333333', profile_image_url_https=u'https://pbs.twimg.com/profile_images/456553122739937280/MT7DjFux_normal.jpeg', profile_sidebar_fill_color=u'DDEEF6', is_translator=False, geo_enabled=False, entities={u'url': {u'urls': [{u'url': u'http://t.co/VBbz1tSC7c', u'indices': [0, 22], u'expanded_url': u'http://www.mimesis.mx', u'display_url': u'mimesis.mx'}]}, u'description': {u'urls': []}}, followers_count=296, protected=False, id_str=u'2183366809', default_profile_image=False, listed_count=7, lang=u'es', utc_offset=-18000, statuses_count=1090, description=u'Servicios en Capacitaci\\xf3n y Comunicaci\\xf3n Digital.', friends_count=574, profile_link_color=u'0084B4', profile_image_url=u'http://pbs.twimg.com/profile_images/456553122739937280/MT7DjFux_normal.jpeg', notifications=False, profile_background_image_url_https=u'https://pbs.twimg.com/profile_background_images/378800000112554874/14c82fef00ea61c16e79e34d014f5af4.jpeg', profile_background_color=u'C0DEED', profile_banner_url=u'https://pbs.twimg.com/profile_banners/2183366809/1425644417', profile_background_image_url=u'http://pbs.twimg.com/profile_background_images/378800000112554874/14c82fef00ea61c16e79e34d014f5af4.jpeg', name=u'Mimesis', is_translation_enabled=False, profile_background_tile=False, favourites_count=34, screen_name=u'Converza', url=u'http://t.co/VBbz1tSC7c', created_at=datetime.datetime(2013, 11, 9, 1, 46, 41), contributors_enabled=False, location=u'Le\\xf3n Guanajuato', profile_sidebar_border_color=u'FFFFFF', default_profile=False, following=False), _json={u'contributors': None, u'truncated': False, u'text': u'Escribe \"gay marriage\" \"same-sex marriage\" y \"Supreme Court gay marriage\" en #google sorprendente. http://t.co/17JH5NXjPZ', u'is_quote_status': False, u'in_reply_to_status_id': None, u'id': 615559942741733380, u'favorite_count': 0, u'source': u'<a href=\"http://twitter.com\" rel=\"nofollow\">Twitter Web Client</a>', u'retweeted': False, u'coordinates': None, u'entities': {u'symbols': [], u'user_mentions': [], u'hashtags': [{u'indices': [77, 84], u'text': u'google'}], u'urls': [], u'media': [{u'expanded_url': u'http://twitter.com/Converza/status/615559942741733380/photo/1', u'display_url': u'pic.twitter.com/17JH5NXjPZ', u'url': u'http://t.co/17JH5NXjPZ', u'media_url_https': u'https://pbs.twimg.com/media/CIrogYAVEAUNAZ7.jpg', u'id_str': u'615559941986783237', u'sizes': {u'small': {u'h': 141, u'resize': u'fit', u'w': 340}, u'large': {u'h': 300, u'resize': u'fit', u'w': 720}, u'medium': {u'h': 250, u'resize': u'fit', u'w': 600}, u'thumb': {u'h': 150, u'resize': u'crop', u'w': 150}}, u'indices': [99, 121], u'type': u'photo', u'id': 615559941986783237, u'media_url': u'http://pbs.twimg.com/media/CIrogYAVEAUNAZ7.jpg'}]}, u'in_reply_to_screen_name': None, u'in_reply_to_user_id': None, u'retweet_count': 0, u'id_str': u'615559942741733380', u'favorited': False, u'user': {u'follow_request_sent': False, u'has_extended_profile': False, u'profile_use_background_image': True, u'default_profile_image': False, u'id': 2183366809, u'profile_background_image_url_https': u'https://pbs.twimg.com/profile_background_images/378800000112554874/14c82fef00ea61c16e79e34d014f5af4.jpeg', u'verified': False, u'profile_text_color': u'333333', u'profile_image_url_https': u'https://pbs.twimg.com/profile_images/456553122739937280/MT7DjFux_normal.jpeg', u'profile_sidebar_fill_color': u'DDEEF6', u'entities': {u'url': {u'urls': [{u'url': u'http://t.co/VBbz1tSC7c', u'indices': [0, 22], u'expanded_url': u'http://www.mimesis.mx', u'display_url': u'mimesis.mx'}]}, u'description': {u'urls': []}}, u'followers_count': 296, u'profile_sidebar_border_color': u'FFFFFF', u'id_str': u'2183366809', u'profile_background_color': u'C0DEED', u'listed_count': 7, u'is_translation_enabled': False, u'utc_offset': -18000, u'statuses_count': 1090, u'description': u'Servicios en Capacitaci\\xf3n y Comunicaci\\xf3n Digital.', u'friends_count': 574, u'location': u'Le\\xf3n Guanajuato', u'profile_link_color': u'0084B4', u'profile_image_url': u'http://pbs.twimg.com/profile_images/456553122739937280/MT7DjFux_normal.jpeg', u'following': False, u'geo_enabled': False, u'profile_banner_url': u'https://pbs.twimg.com/profile_banners/2183366809/1425644417', u'profile_background_image_url': u'http://pbs.twimg.com/profile_background_images/378800000112554874/14c82fef00ea61c16e79e34d014f5af4.jpeg', u'screen_name': u'Converza', u'lang': u'es', u'profile_background_tile': False, u'favourites_count': 34, u'name': u'Mimesis', u'notifications': False, u'url': u'http://t.co/VBbz1tSC7c', u'created_at': u'Sat Nov 09 01:46:41 +0000 2013', u'contributors_enabled': False, u'time_zone': u'Central Time (US & Canada)', u'protected': False, u'default_profile': False, u'is_translator': False}, u'geo': None, u'in_reply_to_user_id_str': None, u'possibly_sensitive': False, u'lang': u'fr', u'created_at': u'Mon Jun 29 16:38:21 +0000 2015', u'in_reply_to_status_id_str': None, u'place': None, u'metadata': {u'iso_language_code': u'fr', u'result_type': u'recent'}}, coordinates=None, entities={u'symbols': [], u'user_mentions': [], u'hashtags': [{u'indices': [77, 84], u'text': u'google'}], u'urls': [], u'media': [{u'expanded_url': u'http://twitter.com/Converza/status/615559942741733380/photo/1', u'display_url': u'pic.twitter.com/17JH5NXjPZ', u'url': u'http://t.co/17JH5NXjPZ', u'media_url_https': u'https://pbs.twimg.com/media/CIrogYAVEAUNAZ7.jpg', u'id_str': u'615559941986783237', u'sizes': {u'small': {u'h': 141, u'resize': u'fit', u'w': 340}, u'large': {u'h': 300, u'resize': u'fit', u'w': 720}, u'medium': {u'h': 250, u'resize': u'fit', u'w': 600}, u'thumb': {u'h': 150, u'resize': u'crop', u'w': 150}}, u'indices': [99, 121], u'type': u'photo', u'id': 615559941986783237, u'media_url': u'http://pbs.twimg.com/media/CIrogYAVEAUNAZ7.jpg'}]}, in_reply_to_screen_name=None, id_str=u'615559942741733380', retweet_count=0, in_reply_to_user_id=None, favorited=False, source_url=u'http://twitter.com', user=User(follow_request_sent=False, has_extended_profile=False, profile_use_background_image=True, _json={u'follow_request_sent': False, u'has_extended_profile': False, u'profile_use_background_image': True, u'default_profile_image': False, u'id': 2183366809, u'profile_background_image_url_https': u'https://pbs.twimg.com/profile_background_images/378800000112554874/14c82fef00ea61c16e79e34d014f5af4.jpeg', u'verified': False, u'profile_text_color': u'333333', u'profile_image_url_https': u'https://pbs.twimg.com/profile_images/456553122739937280/MT7DjFux_normal.jpeg', u'profile_sidebar_fill_color': u'DDEEF6', u'entities': {u'url': {u'urls': [{u'url': u'http://t.co/VBbz1tSC7c', u'indices': [0, 22], u'expanded_url': u'http://www.mimesis.mx', u'display_url': u'mimesis.mx'}]}, u'description': {u'urls': []}}, u'followers_count': 296, u'profile_sidebar_border_color': u'FFFFFF', u'id_str': u'2183366809', u'profile_background_color': u'C0DEED', u'listed_count': 7, u'is_translation_enabled': False, u'utc_offset': -18000, u'statuses_count': 1090, u'description': u'Servicios en Capacitaci\\xf3n y Comunicaci\\xf3n Digital.', u'friends_count': 574, u'location': u'Le\\xf3n Guanajuato', u'profile_link_color': u'0084B4', u'profile_image_url': u'http://pbs.twimg.com/profile_images/456553122739937280/MT7DjFux_normal.jpeg', u'following': False, u'geo_enabled': False, u'profile_banner_url': u'https://pbs.twimg.com/profile_banners/2183366809/1425644417', u'profile_background_image_url': u'http://pbs.twimg.com/profile_background_images/378800000112554874/14c82fef00ea61c16e79e34d014f5af4.jpeg', u'screen_name': u'Converza', u'lang': u'es', u'profile_background_tile': False, u'favourites_count': 34, u'name': u'Mimesis', u'notifications': False, u'url': u'http://t.co/VBbz1tSC7c', u'created_at': u'Sat Nov 09 01:46:41 +0000 2013', u'contributors_enabled': False, u'time_zone': u'Central Time (US & Canada)', u'protected': False, u'default_profile': False, u'is_translator': False}, time_zone=u'Central Time (US & Canada)', id=2183366809, _api=<tweepy.api.API object at 0x10319bed0>, verified=False, profile_text_color=u'333333', profile_image_url_https=u'https://pbs.twimg.com/profile_images/456553122739937280/MT7DjFux_normal.jpeg', profile_sidebar_fill_color=u'DDEEF6', is_translator=False, geo_enabled=False, entities={u'url': {u'urls': [{u'url': u'http://t.co/VBbz1tSC7c', u'indices': [0, 22], u'expanded_url': u'http://www.mimesis.mx', u'display_url': u'mimesis.mx'}]}, u'description': {u'urls': []}}, followers_count=296, protected=False, id_str=u'2183366809', default_profile_image=False, listed_count=7, lang=u'es', utc_offset=-18000, statuses_count=1090, description=u'Servicios en Capacitaci\\xf3n y Comunicaci\\xf3n Digital.', friends_count=574, profile_link_color=u'0084B4', profile_image_url=u'http://pbs.twimg.com/profile_images/456553122739937280/MT7DjFux_normal.jpeg', notifications=False, profile_background_image_url_https=u'https://pbs.twimg.com/profile_background_images/378800000112554874/14c82fef00ea61c16e79e34d014f5af4.jpeg', profile_background_color=u'C0DEED', profile_banner_url=u'https://pbs.twimg.com/profile_banners/2183366809/1425644417', profile_background_image_url=u'http://pbs.twimg.com/profile_background_images/378800000112554874/14c82fef00ea61c16e79e34d014f5af4.jpeg', name=u'Mimesis', is_translation_enabled=False, profile_background_tile=False, favourites_count=34, screen_name=u'Converza', url=u'http://t.co/VBbz1tSC7c', created_at=datetime.datetime(2013, 11, 9, 1, 46, 41), contributors_enabled=False, location=u'Le\\xf3n Guanajuato', profile_sidebar_border_color=u'FFFFFF', default_profile=False, following=False), geo=None, in_reply_to_user_id_str=None, possibly_sensitive=False, lang=u'fr', created_at=datetime.datetime(2015, 6, 29, 16, 38, 21), in_reply_to_status_id_str=None, place=None, source=u'Twitter Web Client', retweeted=False, metadata={u'iso_language_code': u'fr', u'result_type': u'recent'}),\n",
       " Status(contributors=None, truncated=False, text=u'Typical Conservative...\\n\\n\"I have a deep respect for our Supreme Court and the U.S. Constitution....\\n\\nExcept when I DON\\'T agree with them.\"', is_quote_status=False, in_reply_to_status_id=None, id=615559941789593600, favorite_count=0, _api=<tweepy.api.API object at 0x10319bed0>, author=User(follow_request_sent=False, has_extended_profile=False, profile_use_background_image=True, _json={u'follow_request_sent': False, u'has_extended_profile': False, u'profile_use_background_image': True, u'default_profile_image': False, u'id': 868856461, u'profile_background_image_url_https': u'https://abs.twimg.com/images/themes/theme18/bg.gif', u'verified': False, u'profile_text_color': u'333333', u'profile_image_url_https': u'https://pbs.twimg.com/profile_images/3318155846/f4a8e464aaceacc086fbb7e9057e0767_normal.png', u'profile_sidebar_fill_color': u'F6F6F6', u'entities': {u'url': {u'urls': [{u'url': u'http://t.co/cXgpgdEk3l', u'indices': [0, 22], u'expanded_url': u'http://www.fightingliberal.com', u'display_url': u'fightingliberal.com'}]}, u'description': {u'urls': []}}, u'followers_count': 30237, u'profile_sidebar_border_color': u'EEEEEE', u'id_str': u'868856461', u'profile_background_color': u'ACDED6', u'listed_count': 505, u'is_translation_enabled': False, u'utc_offset': None, u'statuses_count': 45604, u'description': u'Liberal Democrat from Texas. Yellow Dog Democrat means that even if a Yellow Dog ran for office as a Dem I would vote for them #Obama #uniteblue #StandWithWomen', u'friends_count': 33258, u'location': u'Texas', u'profile_link_color': u'038543', u'profile_image_url': u'http://pbs.twimg.com/profile_images/3318155846/f4a8e464aaceacc086fbb7e9057e0767_normal.png', u'following': False, u'geo_enabled': True, u'profile_banner_url': u'https://pbs.twimg.com/profile_banners/868856461/1409015734', u'profile_background_image_url': u'http://abs.twimg.com/images/themes/theme18/bg.gif', u'screen_name': u'texyellowdogdem', u'lang': u'en', u'profile_background_tile': False, u'favourites_count': 23376, u'name': u'The Fighting Liberal', u'notifications': False, u'url': u'http://t.co/cXgpgdEk3l', u'created_at': u'Mon Oct 08 23:16:56 +0000 2012', u'contributors_enabled': False, u'time_zone': None, u'protected': False, u'default_profile': False, u'is_translator': False}, time_zone=None, id=868856461, _api=<tweepy.api.API object at 0x10319bed0>, verified=False, profile_text_color=u'333333', profile_image_url_https=u'https://pbs.twimg.com/profile_images/3318155846/f4a8e464aaceacc086fbb7e9057e0767_normal.png', profile_sidebar_fill_color=u'F6F6F6', is_translator=False, geo_enabled=True, entities={u'url': {u'urls': [{u'url': u'http://t.co/cXgpgdEk3l', u'indices': [0, 22], u'expanded_url': u'http://www.fightingliberal.com', u'display_url': u'fightingliberal.com'}]}, u'description': {u'urls': []}}, followers_count=30237, protected=False, id_str=u'868856461', default_profile_image=False, listed_count=505, lang=u'en', utc_offset=None, statuses_count=45604, description=u'Liberal Democrat from Texas. Yellow Dog Democrat means that even if a Yellow Dog ran for office as a Dem I would vote for them #Obama #uniteblue #StandWithWomen', friends_count=33258, profile_link_color=u'038543', profile_image_url=u'http://pbs.twimg.com/profile_images/3318155846/f4a8e464aaceacc086fbb7e9057e0767_normal.png', notifications=False, profile_background_image_url_https=u'https://abs.twimg.com/images/themes/theme18/bg.gif', profile_background_color=u'ACDED6', profile_banner_url=u'https://pbs.twimg.com/profile_banners/868856461/1409015734', profile_background_image_url=u'http://abs.twimg.com/images/themes/theme18/bg.gif', name=u'The Fighting Liberal', is_translation_enabled=False, profile_background_tile=False, favourites_count=23376, screen_name=u'texyellowdogdem', url=u'http://t.co/cXgpgdEk3l', created_at=datetime.datetime(2012, 10, 8, 23, 16, 56), contributors_enabled=False, location=u'Texas', profile_sidebar_border_color=u'EEEEEE', default_profile=False, following=False), _json={u'contributors': None, u'truncated': False, u'text': u'Typical Conservative...\\n\\n\"I have a deep respect for our Supreme Court and the U.S. Constitution....\\n\\nExcept when I DON\\'T agree with them.\"', u'is_quote_status': False, u'in_reply_to_status_id': None, u'id': 615559941789593600, u'favorite_count': 0, u'source': u'<a href=\"http://twitter.com\" rel=\"nofollow\">Twitter Web Client</a>', u'retweeted': False, u'coordinates': None, u'entities': {u'symbols': [], u'user_mentions': [], u'hashtags': [], u'urls': []}, u'in_reply_to_screen_name': None, u'in_reply_to_user_id': None, u'retweet_count': 0, u'id_str': u'615559941789593600', u'favorited': False, u'user': {u'follow_request_sent': False, u'has_extended_profile': False, u'profile_use_background_image': True, u'default_profile_image': False, u'id': 868856461, u'profile_background_image_url_https': u'https://abs.twimg.com/images/themes/theme18/bg.gif', u'verified': False, u'profile_text_color': u'333333', u'profile_image_url_https': u'https://pbs.twimg.com/profile_images/3318155846/f4a8e464aaceacc086fbb7e9057e0767_normal.png', u'profile_sidebar_fill_color': u'F6F6F6', u'entities': {u'url': {u'urls': [{u'url': u'http://t.co/cXgpgdEk3l', u'indices': [0, 22], u'expanded_url': u'http://www.fightingliberal.com', u'display_url': u'fightingliberal.com'}]}, u'description': {u'urls': []}}, u'followers_count': 30237, u'profile_sidebar_border_color': u'EEEEEE', u'id_str': u'868856461', u'profile_background_color': u'ACDED6', u'listed_count': 505, u'is_translation_enabled': False, u'utc_offset': None, u'statuses_count': 45604, u'description': u'Liberal Democrat from Texas. Yellow Dog Democrat means that even if a Yellow Dog ran for office as a Dem I would vote for them #Obama #uniteblue #StandWithWomen', u'friends_count': 33258, u'location': u'Texas', u'profile_link_color': u'038543', u'profile_image_url': u'http://pbs.twimg.com/profile_images/3318155846/f4a8e464aaceacc086fbb7e9057e0767_normal.png', u'following': False, u'geo_enabled': True, u'profile_banner_url': u'https://pbs.twimg.com/profile_banners/868856461/1409015734', u'profile_background_image_url': u'http://abs.twimg.com/images/themes/theme18/bg.gif', u'screen_name': u'texyellowdogdem', u'lang': u'en', u'profile_background_tile': False, u'favourites_count': 23376, u'name': u'The Fighting Liberal', u'notifications': False, u'url': u'http://t.co/cXgpgdEk3l', u'created_at': u'Mon Oct 08 23:16:56 +0000 2012', u'contributors_enabled': False, u'time_zone': None, u'protected': False, u'default_profile': False, u'is_translator': False}, u'geo': None, u'in_reply_to_user_id_str': None, u'lang': u'en', u'created_at': u'Mon Jun 29 16:38:21 +0000 2015', u'in_reply_to_status_id_str': None, u'place': None, u'metadata': {u'iso_language_code': u'en', u'result_type': u'recent'}}, coordinates=None, entities={u'symbols': [], u'user_mentions': [], u'hashtags': [], u'urls': []}, in_reply_to_screen_name=None, id_str=u'615559941789593600', retweet_count=0, in_reply_to_user_id=None, favorited=False, source_url=u'http://twitter.com', user=User(follow_request_sent=False, has_extended_profile=False, profile_use_background_image=True, _json={u'follow_request_sent': False, u'has_extended_profile': False, u'profile_use_background_image': True, u'default_profile_image': False, u'id': 868856461, u'profile_background_image_url_https': u'https://abs.twimg.com/images/themes/theme18/bg.gif', u'verified': False, u'profile_text_color': u'333333', u'profile_image_url_https': u'https://pbs.twimg.com/profile_images/3318155846/f4a8e464aaceacc086fbb7e9057e0767_normal.png', u'profile_sidebar_fill_color': u'F6F6F6', u'entities': {u'url': {u'urls': [{u'url': u'http://t.co/cXgpgdEk3l', u'indices': [0, 22], u'expanded_url': u'http://www.fightingliberal.com', u'display_url': u'fightingliberal.com'}]}, u'description': {u'urls': []}}, u'followers_count': 30237, u'profile_sidebar_border_color': u'EEEEEE', u'id_str': u'868856461', u'profile_background_color': u'ACDED6', u'listed_count': 505, u'is_translation_enabled': False, u'utc_offset': None, u'statuses_count': 45604, u'description': u'Liberal Democrat from Texas. Yellow Dog Democrat means that even if a Yellow Dog ran for office as a Dem I would vote for them #Obama #uniteblue #StandWithWomen', u'friends_count': 33258, u'location': u'Texas', u'profile_link_color': u'038543', u'profile_image_url': u'http://pbs.twimg.com/profile_images/3318155846/f4a8e464aaceacc086fbb7e9057e0767_normal.png', u'following': False, u'geo_enabled': True, u'profile_banner_url': u'https://pbs.twimg.com/profile_banners/868856461/1409015734', u'profile_background_image_url': u'http://abs.twimg.com/images/themes/theme18/bg.gif', u'screen_name': u'texyellowdogdem', u'lang': u'en', u'profile_background_tile': False, u'favourites_count': 23376, u'name': u'The Fighting Liberal', u'notifications': False, u'url': u'http://t.co/cXgpgdEk3l', u'created_at': u'Mon Oct 08 23:16:56 +0000 2012', u'contributors_enabled': False, u'time_zone': None, u'protected': False, u'default_profile': False, u'is_translator': False}, time_zone=None, id=868856461, _api=<tweepy.api.API object at 0x10319bed0>, verified=False, profile_text_color=u'333333', profile_image_url_https=u'https://pbs.twimg.com/profile_images/3318155846/f4a8e464aaceacc086fbb7e9057e0767_normal.png', profile_sidebar_fill_color=u'F6F6F6', is_translator=False, geo_enabled=True, entities={u'url': {u'urls': [{u'url': u'http://t.co/cXgpgdEk3l', u'indices': [0, 22], u'expanded_url': u'http://www.fightingliberal.com', u'display_url': u'fightingliberal.com'}]}, u'description': {u'urls': []}}, followers_count=30237, protected=False, id_str=u'868856461', default_profile_image=False, listed_count=505, lang=u'en', utc_offset=None, statuses_count=45604, description=u'Liberal Democrat from Texas. Yellow Dog Democrat means that even if a Yellow Dog ran for office as a Dem I would vote for them #Obama #uniteblue #StandWithWomen', friends_count=33258, profile_link_color=u'038543', profile_image_url=u'http://pbs.twimg.com/profile_images/3318155846/f4a8e464aaceacc086fbb7e9057e0767_normal.png', notifications=False, profile_background_image_url_https=u'https://abs.twimg.com/images/themes/theme18/bg.gif', profile_background_color=u'ACDED6', profile_banner_url=u'https://pbs.twimg.com/profile_banners/868856461/1409015734', profile_background_image_url=u'http://abs.twimg.com/images/themes/theme18/bg.gif', name=u'The Fighting Liberal', is_translation_enabled=False, profile_background_tile=False, favourites_count=23376, screen_name=u'texyellowdogdem', url=u'http://t.co/cXgpgdEk3l', created_at=datetime.datetime(2012, 10, 8, 23, 16, 56), contributors_enabled=False, location=u'Texas', profile_sidebar_border_color=u'EEEEEE', default_profile=False, following=False), geo=None, in_reply_to_user_id_str=None, lang=u'en', created_at=datetime.datetime(2015, 6, 29, 16, 38, 21), in_reply_to_status_id_str=None, place=None, source=u'Twitter Web Client', retweeted=False, metadata={u'iso_language_code': u'en', u'result_type': u'recent'}),\n",
       " Status(contributors=None, truncated=False, text=u'Ted Cruz on same-sex marriage, health care: Supreme Court violated its oath - http://t.co/DcxlmhqFCW http://t.co/CYZVqJqrIr', is_quote_status=False, in_reply_to_status_id=None, id=615559941340983296, favorite_count=0, _api=<tweepy.api.API object at 0x10319bed0>, author=User(follow_request_sent=False, has_extended_profile=False, profile_use_background_image=True, _json={u'follow_request_sent': False, u'has_extended_profile': False, u'profile_use_background_image': True, u'default_profile_image': True, u'id': 2193634302, u'profile_background_image_url_https': u'https://abs.twimg.com/images/themes/theme1/bg.png', u'verified': False, u'profile_text_color': u'333333', u'profile_image_url_https': u'https://abs.twimg.com/sticky/default_profile_images/default_profile_6_normal.png', u'profile_sidebar_fill_color': u'DDEEF6', u'entities': {u'description': {u'urls': []}}, u'followers_count': 11, u'profile_sidebar_border_color': u'C0DEED', u'id_str': u'2193634302', u'profile_background_color': u'C0DEED', u'listed_count': 3, u'is_translation_enabled': False, u'utc_offset': None, u'statuses_count': 11280, u'description': u'\\u7af6\\u58f2\\u3092\\u6b62\\u3081\\u308b\\u4efb\\u610f\\u58f2\\u5374', u'friends_count': 16, u'location': u'', u'profile_link_color': u'0084B4', u'profile_image_url': u'http://abs.twimg.com/sticky/default_profile_images/default_profile_6_normal.png', u'following': False, u'geo_enabled': False, u'profile_background_image_url': u'http://abs.twimg.com/images/themes/theme1/bg.png', u'screen_name': u'ninnbaiseesaa', u'lang': u'ja', u'profile_background_tile': False, u'favourites_count': 0, u'name': u'ninnbaiseesaa', u'notifications': False, u'url': None, u'created_at': u'Thu Nov 14 06:23:17 +0000 2013', u'contributors_enabled': False, u'time_zone': None, u'protected': False, u'default_profile': True, u'is_translator': False}, time_zone=None, id=2193634302, _api=<tweepy.api.API object at 0x10319bed0>, verified=False, profile_text_color=u'333333', profile_image_url_https=u'https://abs.twimg.com/sticky/default_profile_images/default_profile_6_normal.png', profile_sidebar_fill_color=u'DDEEF6', is_translator=False, geo_enabled=False, entities={u'description': {u'urls': []}}, followers_count=11, protected=False, id_str=u'2193634302', default_profile_image=True, listed_count=3, lang=u'ja', utc_offset=None, statuses_count=11280, description=u'\\u7af6\\u58f2\\u3092\\u6b62\\u3081\\u308b\\u4efb\\u610f\\u58f2\\u5374', friends_count=16, profile_link_color=u'0084B4', profile_image_url=u'http://abs.twimg.com/sticky/default_profile_images/default_profile_6_normal.png', notifications=False, profile_background_image_url_https=u'https://abs.twimg.com/images/themes/theme1/bg.png', profile_background_color=u'C0DEED', profile_background_image_url=u'http://abs.twimg.com/images/themes/theme1/bg.png', name=u'ninnbaiseesaa', is_translation_enabled=False, profile_background_tile=False, favourites_count=0, screen_name=u'ninnbaiseesaa', url=None, created_at=datetime.datetime(2013, 11, 14, 6, 23, 17), contributors_enabled=False, location=u'', profile_sidebar_border_color=u'C0DEED', default_profile=True, following=False), _json={u'contributors': None, u'truncated': False, u'text': u'Ted Cruz on same-sex marriage, health care: Supreme Court violated its oath - http://t.co/DcxlmhqFCW http://t.co/CYZVqJqrIr', u'is_quote_status': False, u'in_reply_to_status_id': None, u'id': 615559941340983296, u'favorite_count': 0, u'source': u'<a href=\"http://ifttt.com\" rel=\"nofollow\">IFTTT</a>', u'retweeted': False, u'coordinates': None, u'entities': {u'symbols': [], u'user_mentions': [], u'hashtags': [], u'urls': [{u'url': u'http://t.co/DcxlmhqFCW', u'indices': [78, 100], u'expanded_url': u'http://Chron.com', u'display_url': u'Chron.com'}, {u'url': u'http://t.co/CYZVqJqrIr', u'indices': [101, 123], u'expanded_url': u'http://ift.tt/1Nu2Y6E', u'display_url': u'ift.tt/1Nu2Y6E'}]}, u'in_reply_to_screen_name': None, u'in_reply_to_user_id': None, u'retweet_count': 0, u'id_str': u'615559941340983296', u'favorited': False, u'user': {u'follow_request_sent': False, u'has_extended_profile': False, u'profile_use_background_image': True, u'default_profile_image': True, u'id': 2193634302, u'profile_background_image_url_https': u'https://abs.twimg.com/images/themes/theme1/bg.png', u'verified': False, u'profile_text_color': u'333333', u'profile_image_url_https': u'https://abs.twimg.com/sticky/default_profile_images/default_profile_6_normal.png', u'profile_sidebar_fill_color': u'DDEEF6', u'entities': {u'description': {u'urls': []}}, u'followers_count': 11, u'profile_sidebar_border_color': u'C0DEED', u'id_str': u'2193634302', u'profile_background_color': u'C0DEED', u'listed_count': 3, u'is_translation_enabled': False, u'utc_offset': None, u'statuses_count': 11280, u'description': u'\\u7af6\\u58f2\\u3092\\u6b62\\u3081\\u308b\\u4efb\\u610f\\u58f2\\u5374', u'friends_count': 16, u'location': u'', u'profile_link_color': u'0084B4', u'profile_image_url': u'http://abs.twimg.com/sticky/default_profile_images/default_profile_6_normal.png', u'following': False, u'geo_enabled': False, u'profile_background_image_url': u'http://abs.twimg.com/images/themes/theme1/bg.png', u'screen_name': u'ninnbaiseesaa', u'lang': u'ja', u'profile_background_tile': False, u'favourites_count': 0, u'name': u'ninnbaiseesaa', u'notifications': False, u'url': None, u'created_at': u'Thu Nov 14 06:23:17 +0000 2013', u'contributors_enabled': False, u'time_zone': None, u'protected': False, u'default_profile': True, u'is_translator': False}, u'geo': None, u'in_reply_to_user_id_str': None, u'possibly_sensitive': False, u'lang': u'en', u'created_at': u'Mon Jun 29 16:38:21 +0000 2015', u'in_reply_to_status_id_str': None, u'place': None, u'metadata': {u'iso_language_code': u'en', u'result_type': u'recent'}}, coordinates=None, entities={u'symbols': [], u'user_mentions': [], u'hashtags': [], u'urls': [{u'url': u'http://t.co/DcxlmhqFCW', u'indices': [78, 100], u'expanded_url': u'http://Chron.com', u'display_url': u'Chron.com'}, {u'url': u'http://t.co/CYZVqJqrIr', u'indices': [101, 123], u'expanded_url': u'http://ift.tt/1Nu2Y6E', u'display_url': u'ift.tt/1Nu2Y6E'}]}, in_reply_to_screen_name=None, id_str=u'615559941340983296', retweet_count=0, in_reply_to_user_id=None, favorited=False, source_url=u'http://ifttt.com', user=User(follow_request_sent=False, has_extended_profile=False, profile_use_background_image=True, _json={u'follow_request_sent': False, u'has_extended_profile': False, u'profile_use_background_image': True, u'default_profile_image': True, u'id': 2193634302, u'profile_background_image_url_https': u'https://abs.twimg.com/images/themes/theme1/bg.png', u'verified': False, u'profile_text_color': u'333333', u'profile_image_url_https': u'https://abs.twimg.com/sticky/default_profile_images/default_profile_6_normal.png', u'profile_sidebar_fill_color': u'DDEEF6', u'entities': {u'description': {u'urls': []}}, u'followers_count': 11, u'profile_sidebar_border_color': u'C0DEED', u'id_str': u'2193634302', u'profile_background_color': u'C0DEED', u'listed_count': 3, u'is_translation_enabled': False, u'utc_offset': None, u'statuses_count': 11280, u'description': u'\\u7af6\\u58f2\\u3092\\u6b62\\u3081\\u308b\\u4efb\\u610f\\u58f2\\u5374', u'friends_count': 16, u'location': u'', u'profile_link_color': u'0084B4', u'profile_image_url': u'http://abs.twimg.com/sticky/default_profile_images/default_profile_6_normal.png', u'following': False, u'geo_enabled': False, u'profile_background_image_url': u'http://abs.twimg.com/images/themes/theme1/bg.png', u'screen_name': u'ninnbaiseesaa', u'lang': u'ja', u'profile_background_tile': False, u'favourites_count': 0, u'name': u'ninnbaiseesaa', u'notifications': False, u'url': None, u'created_at': u'Thu Nov 14 06:23:17 +0000 2013', u'contributors_enabled': False, u'time_zone': None, u'protected': False, u'default_profile': True, u'is_translator': False}, time_zone=None, id=2193634302, _api=<tweepy.api.API object at 0x10319bed0>, verified=False, profile_text_color=u'333333', profile_image_url_https=u'https://abs.twimg.com/sticky/default_profile_images/default_profile_6_normal.png', profile_sidebar_fill_color=u'DDEEF6', is_translator=False, geo_enabled=False, entities={u'description': {u'urls': []}}, followers_count=11, protected=False, id_str=u'2193634302', default_profile_image=True, listed_count=3, lang=u'ja', utc_offset=None, statuses_count=11280, description=u'\\u7af6\\u58f2\\u3092\\u6b62\\u3081\\u308b\\u4efb\\u610f\\u58f2\\u5374', friends_count=16, profile_link_color=u'0084B4', profile_image_url=u'http://abs.twimg.com/sticky/default_profile_images/default_profile_6_normal.png', notifications=False, profile_background_image_url_https=u'https://abs.twimg.com/images/themes/theme1/bg.png', profile_background_color=u'C0DEED', profile_background_image_url=u'http://abs.twimg.com/images/themes/theme1/bg.png', name=u'ninnbaiseesaa', is_translation_enabled=False, profile_background_tile=False, favourites_count=0, screen_name=u'ninnbaiseesaa', url=None, created_at=datetime.datetime(2013, 11, 14, 6, 23, 17), contributors_enabled=False, location=u'', profile_sidebar_border_color=u'C0DEED', default_profile=True, following=False), geo=None, in_reply_to_user_id_str=None, possibly_sensitive=False, lang=u'en', created_at=datetime.datetime(2015, 6, 29, 16, 38, 21), in_reply_to_status_id_str=None, place=None, source=u'IFTTT', retweeted=False, metadata={u'iso_language_code': u'en', u'result_type': u'recent'}),\n",
       " Status(contributors=None, truncated=False, text=u'RT @markdgott: A unifying approach to #samesexmarriage. @RandPaul: Government should get out of the marriage business. http://t.co/q39w5yPA\\u2026', is_quote_status=False, in_reply_to_status_id=None, id=615559940887871490, favorite_count=0, _api=<tweepy.api.API object at 0x10319bed0>, author=User(follow_request_sent=False, has_extended_profile=False, profile_use_background_image=True, _json={u'follow_request_sent': False, u'has_extended_profile': False, u'profile_use_background_image': True, u'default_profile_image': False, u'id': 3226291378, u'profile_background_image_url_https': u'https://abs.twimg.com/images/themes/theme13/bg.gif', u'verified': False, u'profile_text_color': u'333333', u'profile_image_url_https': u'https://pbs.twimg.com/profile_images/602987952944369664/8Z8qlA-E_normal.jpg', u'profile_sidebar_fill_color': u'FFFFFF', u'entities': {u'description': {u'urls': []}}, u'followers_count': 80, u'profile_sidebar_border_color': u'EEEEEE', u'id_str': u'3226291378', u'profile_background_color': u'B2DFDA', u'listed_count': 4, u'is_translation_enabled': True, u'utc_offset': None, u'statuses_count': 150, u'description': u\"Mediapost's Social Media Insider. Also, putter- togetherer of conferences, carpooling guru, beleaguered   fan.\", u'friends_count': 103, u'location': u'Plano, Texas', u'profile_link_color': u'93A644', u'profile_image_url': u'http://pbs.twimg.com/profile_images/602987952944369664/8Z8qlA-E_normal.jpg', u'following': False, u'geo_enabled': False, u'profile_background_image_url': u'http://abs.twimg.com/images/themes/theme13/bg.gif', u'screen_name': u'cpeeatl', u'lang': u'en', u'profile_background_tile': False, u'favourites_count': 101, u'name': u'Cathy Taylor', u'notifications': False, u'url': None, u'created_at': u'Fri May 01 13:33:45 +0000 2015', u'contributors_enabled': False, u'time_zone': None, u'protected': False, u'default_profile': False, u'is_translator': False}, time_zone=None, id=3226291378, _api=<tweepy.api.API object at 0x10319bed0>, verified=False, profile_text_color=u'333333', profile_image_url_https=u'https://pbs.twimg.com/profile_images/602987952944369664/8Z8qlA-E_normal.jpg', profile_sidebar_fill_color=u'FFFFFF', is_translator=False, geo_enabled=False, entities={u'description': {u'urls': []}}, followers_count=80, protected=False, id_str=u'3226291378', default_profile_image=False, listed_count=4, lang=u'en', utc_offset=None, statuses_count=150, description=u\"Mediapost's Social Media Insider. Also, putter- togetherer of conferences, carpooling guru, beleaguered   fan.\", friends_count=103, profile_link_color=u'93A644', profile_image_url=u'http://pbs.twimg.com/profile_images/602987952944369664/8Z8qlA-E_normal.jpg', notifications=False, profile_background_image_url_https=u'https://abs.twimg.com/images/themes/theme13/bg.gif', profile_background_color=u'B2DFDA', profile_background_image_url=u'http://abs.twimg.com/images/themes/theme13/bg.gif', name=u'Cathy Taylor', is_translation_enabled=True, profile_background_tile=False, favourites_count=101, screen_name=u'cpeeatl', url=None, created_at=datetime.datetime(2015, 5, 1, 13, 33, 45), contributors_enabled=False, location=u'Plano, Texas', profile_sidebar_border_color=u'EEEEEE', default_profile=False, following=False), _json={u'contributors': None, u'truncated': False, u'text': u'RT @markdgott: A unifying approach to #samesexmarriage. @RandPaul: Government should get out of the marriage business. http://t.co/q39w5yPA\\u2026', u'is_quote_status': False, u'in_reply_to_status_id': None, u'id': 615559940887871490, u'favorite_count': 0, u'source': u'<a href=\"http://twitter.com\" rel=\"nofollow\">Twitter Web Client</a>', u'retweeted': False, u'coordinates': None, u'entities': {u'symbols': [], u'user_mentions': [{u'id': 3065922327, u'indices': [3, 13], u'id_str': u'3065922327', u'screen_name': u'markdgott', u'name': u'Mark D. Gott'}, {u'id': 216881337, u'indices': [56, 65], u'id_str': u'216881337', u'screen_name': u'RandPaul', u'name': u'Dr. Rand Paul'}], u'hashtags': [{u'indices': [38, 54], u'text': u'samesexmarriage'}], u'urls': [{u'url': u'http://t.co/q39w5yPA0c', u'indices': [119, 140], u'expanded_url': u'http://ti.me/1TYMs3S', u'display_url': u'ti.me/1TYMs3S'}]}, u'in_reply_to_screen_name': None, u'in_reply_to_user_id': None, u'retweet_count': 59, u'id_str': u'615559940887871490', u'favorited': False, u'retweeted_status': {u'contributors': None, u'truncated': False, u'text': u'A unifying approach to #samesexmarriage. @RandPaul: Government should get out of the marriage business. http://t.co/q39w5yPA0c', u'is_quote_status': False, u'in_reply_to_status_id': None, u'id': 615484093065744384, u'favorite_count': 53, u'source': u'<a href=\"http://twitter.com/download/iphone\" rel=\"nofollow\">Twitter for iPhone</a>', u'retweeted': False, u'coordinates': None, u'entities': {u'symbols': [], u'user_mentions': [{u'id': 216881337, u'indices': [41, 50], u'id_str': u'216881337', u'screen_name': u'RandPaul', u'name': u'Dr. Rand Paul'}], u'hashtags': [{u'indices': [23, 39], u'text': u'samesexmarriage'}], u'urls': [{u'url': u'http://t.co/q39w5yPA0c', u'indices': [104, 126], u'expanded_url': u'http://ti.me/1TYMs3S', u'display_url': u'ti.me/1TYMs3S'}]}, u'in_reply_to_screen_name': None, u'in_reply_to_user_id': None, u'retweet_count': 59, u'id_str': u'615484093065744384', u'favorited': False, u'user': {u'follow_request_sent': False, u'has_extended_profile': False, u'profile_use_background_image': False, u'default_profile_image': False, u'id': 3065922327, u'profile_background_image_url_https': u'https://abs.twimg.com/images/themes/theme1/bg.png', u'verified': False, u'profile_text_color': u'000000', u'profile_image_url_https': u'https://pbs.twimg.com/profile_images/606270198157574144/YKDZNIhw_normal.jpg', u'profile_sidebar_fill_color': u'000000', u'entities': {u'url': {u'urls': [{u'url': u'http://t.co/QU16rvkH8Z', u'indices': [0, 22], u'expanded_url': u'http://www.ncelderlawhelp.com', u'display_url': u'ncelderlawhelp.com'}]}, u'description': {u'urls': []}}, u'followers_count': 281, u'profile_sidebar_border_color': u'000000', u'id_str': u'3065922327', u'profile_background_color': u'000000', u'listed_count': 15, u'is_translation_enabled': False, u'utc_offset': None, u'statuses_count': 714, u'description': u'#triallawyer. I fight for a living. #Christian #father #husband #kravmaga enthusiast. #libertarian leaning; #China travel #youthministry, #bike commuter.', u'friends_count': 686, u'location': u'Charlotte, NC', u'profile_link_color': u'3B94D9', u'profile_image_url': u'http://pbs.twimg.com/profile_images/606270198157574144/YKDZNIhw_normal.jpg', u'following': False, u'geo_enabled': True, u'profile_banner_url': u'https://pbs.twimg.com/profile_banners/3065922327/1425384561', u'profile_background_image_url': u'http://abs.twimg.com/images/themes/theme1/bg.png', u'screen_name': u'markdgott', u'lang': u'en', u'profile_background_tile': False, u'favourites_count': 491, u'name': u'Mark D. Gott', u'notifications': False, u'url': u'http://t.co/QU16rvkH8Z', u'created_at': u'Mon Mar 02 11:31:32 +0000 2015', u'contributors_enabled': False, u'time_zone': None, u'protected': False, u'default_profile': False, u'is_translator': False}, u'geo': None, u'in_reply_to_user_id_str': None, u'possibly_sensitive': False, u'lang': u'en', u'created_at': u'Mon Jun 29 11:36:57 +0000 2015', u'in_reply_to_status_id_str': None, u'place': {u'full_name': u'Charlotte, NC', u'url': u'https://api.twitter.com/1.1/geo/id/512a8a4a4c4b4be0.json', u'country': u'United States', u'place_type': u'city', u'bounding_box': {u'type': u'Polygon', u'coordinates': [[[-81.046876, 35.001706], [-80.646695, 35.001706], [-80.646695, 35.416412], [-81.046876, 35.416412]]]}, u'contained_within': [], u'country_code': u'US', u'attributes': {}, u'id': u'512a8a4a4c4b4be0', u'name': u'Charlotte'}, u'metadata': {u'iso_language_code': u'en', u'result_type': u'recent'}}, u'user': {u'follow_request_sent': False, u'has_extended_profile': False, u'profile_use_background_image': True, u'default_profile_image': False, u'id': 3226291378, u'profile_background_image_url_https': u'https://abs.twimg.com/images/themes/theme13/bg.gif', u'verified': False, u'profile_text_color': u'333333', u'profile_image_url_https': u'https://pbs.twimg.com/profile_images/602987952944369664/8Z8qlA-E_normal.jpg', u'profile_sidebar_fill_color': u'FFFFFF', u'entities': {u'description': {u'urls': []}}, u'followers_count': 80, u'profile_sidebar_border_color': u'EEEEEE', u'id_str': u'3226291378', u'profile_background_color': u'B2DFDA', u'listed_count': 4, u'is_translation_enabled': True, u'utc_offset': None, u'statuses_count': 150, u'description': u\"Mediapost's Social Media Insider. Also, putter- togetherer of conferences, carpooling guru, beleaguered   fan.\", u'friends_count': 103, u'location': u'Plano, Texas', u'profile_link_color': u'93A644', u'profile_image_url': u'http://pbs.twimg.com/profile_images/602987952944369664/8Z8qlA-E_normal.jpg', u'following': False, u'geo_enabled': False, u'profile_background_image_url': u'http://abs.twimg.com/images/themes/theme13/bg.gif', u'screen_name': u'cpeeatl', u'lang': u'en', u'profile_background_tile': False, u'favourites_count': 101, u'name': u'Cathy Taylor', u'notifications': False, u'url': None, u'created_at': u'Fri May 01 13:33:45 +0000 2015', u'contributors_enabled': False, u'time_zone': None, u'protected': False, u'default_profile': False, u'is_translator': False}, u'geo': None, u'in_reply_to_user_id_str': None, u'possibly_sensitive': False, u'lang': u'en', u'created_at': u'Mon Jun 29 16:38:21 +0000 2015', u'in_reply_to_status_id_str': None, u'place': None, u'metadata': {u'iso_language_code': u'en', u'result_type': u'recent'}}, coordinates=None, entities={u'symbols': [], u'user_mentions': [{u'id': 3065922327, u'indices': [3, 13], u'id_str': u'3065922327', u'screen_name': u'markdgott', u'name': u'Mark D. Gott'}, {u'id': 216881337, u'indices': [56, 65], u'id_str': u'216881337', u'screen_name': u'RandPaul', u'name': u'Dr. Rand Paul'}], u'hashtags': [{u'indices': [38, 54], u'text': u'samesexmarriage'}], u'urls': [{u'url': u'http://t.co/q39w5yPA0c', u'indices': [119, 140], u'expanded_url': u'http://ti.me/1TYMs3S', u'display_url': u'ti.me/1TYMs3S'}]}, in_reply_to_screen_name=None, id_str=u'615559940887871490', retweet_count=59, in_reply_to_user_id=None, favorited=False, retweeted_status=Status(contributors=None, truncated=False, text=u'A unifying approach to #samesexmarriage. @RandPaul: Government should get out of the marriage business. http://t.co/q39w5yPA0c', is_quote_status=False, in_reply_to_status_id=None, id=615484093065744384, favorite_count=53, _api=<tweepy.api.API object at 0x10319bed0>, author=User(follow_request_sent=False, has_extended_profile=False, profile_use_background_image=False, _json={u'follow_request_sent': False, u'has_extended_profile': False, u'profile_use_background_image': False, u'default_profile_image': False, u'id': 3065922327, u'profile_background_image_url_https': u'https://abs.twimg.com/images/themes/theme1/bg.png', u'verified': False, u'profile_text_color': u'000000', u'profile_image_url_https': u'https://pbs.twimg.com/profile_images/606270198157574144/YKDZNIhw_normal.jpg', u'profile_sidebar_fill_color': u'000000', u'entities': {u'url': {u'urls': [{u'url': u'http://t.co/QU16rvkH8Z', u'indices': [0, 22], u'expanded_url': u'http://www.ncelderlawhelp.com', u'display_url': u'ncelderlawhelp.com'}]}, u'description': {u'urls': []}}, u'followers_count': 281, u'profile_sidebar_border_color': u'000000', u'id_str': u'3065922327', u'profile_background_color': u'000000', u'listed_count': 15, u'is_translation_enabled': False, u'utc_offset': None, u'statuses_count': 714, u'description': u'#triallawyer. I fight for a living. #Christian #father #husband #kravmaga enthusiast. #libertarian leaning; #China travel #youthministry, #bike commuter.', u'friends_count': 686, u'location': u'Charlotte, NC', u'profile_link_color': u'3B94D9', u'profile_image_url': u'http://pbs.twimg.com/profile_images/606270198157574144/YKDZNIhw_normal.jpg', u'following': False, u'geo_enabled': True, u'profile_banner_url': u'https://pbs.twimg.com/profile_banners/3065922327/1425384561', u'profile_background_image_url': u'http://abs.twimg.com/images/themes/theme1/bg.png', u'screen_name': u'markdgott', u'lang': u'en', u'profile_background_tile': False, u'favourites_count': 491, u'name': u'Mark D. Gott', u'notifications': False, u'url': u'http://t.co/QU16rvkH8Z', u'created_at': u'Mon Mar 02 11:31:32 +0000 2015', u'contributors_enabled': False, u'time_zone': None, u'protected': False, u'default_profile': False, u'is_translator': False}, time_zone=None, id=3065922327, _api=<tweepy.api.API object at 0x10319bed0>, verified=False, profile_text_color=u'000000', profile_image_url_https=u'https://pbs.twimg.com/profile_images/606270198157574144/YKDZNIhw_normal.jpg', profile_sidebar_fill_color=u'000000', is_translator=False, geo_enabled=True, entities={u'url': {u'urls': [{u'url': u'http://t.co/QU16rvkH8Z', u'indices': [0, 22], u'expanded_url': u'http://www.ncelderlawhelp.com', u'display_url': u'ncelderlawhelp.com'}]}, u'description': {u'urls': []}}, followers_count=281, protected=False, id_str=u'3065922327', default_profile_image=False, listed_count=15, lang=u'en', utc_offset=None, statuses_count=714, description=u'#triallawyer. I fight for a living. #Christian #father #husband #kravmaga enthusiast. #libertarian leaning; #China travel #youthministry, #bike commuter.', friends_count=686, profile_link_color=u'3B94D9', profile_image_url=u'http://pbs.twimg.com/profile_images/606270198157574144/YKDZNIhw_normal.jpg', notifications=False, profile_background_image_url_https=u'https://abs.twimg.com/images/themes/theme1/bg.png', profile_background_color=u'000000', profile_banner_url=u'https://pbs.twimg.com/profile_banners/3065922327/1425384561', profile_background_image_url=u'http://abs.twimg.com/images/themes/theme1/bg.png', name=u'Mark D. Gott', is_translation_enabled=False, profile_background_tile=False, favourites_count=491, screen_name=u'markdgott', url=u'http://t.co/QU16rvkH8Z', created_at=datetime.datetime(2015, 3, 2, 11, 31, 32), contributors_enabled=False, location=u'Charlotte, NC', profile_sidebar_border_color=u'000000', default_profile=False, following=False), _json={u'contributors': None, u'truncated': False, u'text': u'A unifying approach to #samesexmarriage. @RandPaul: Government should get out of the marriage business. http://t.co/q39w5yPA0c', u'is_quote_status': False, u'in_reply_to_status_id': None, u'id': 615484093065744384, u'favorite_count': 53, u'source': u'<a href=\"http://twitter.com/download/iphone\" rel=\"nofollow\">Twitter for iPhone</a>', u'retweeted': False, u'coordinates': None, u'entities': {u'symbols': [], u'user_mentions': [{u'id': 216881337, u'indices': [41, 50], u'id_str': u'216881337', u'screen_name': u'RandPaul', u'name': u'Dr. Rand Paul'}], u'hashtags': [{u'indices': [23, 39], u'text': u'samesexmarriage'}], u'urls': [{u'url': u'http://t.co/q39w5yPA0c', u'indices': [104, 126], u'expanded_url': u'http://ti.me/1TYMs3S', u'display_url': u'ti.me/1TYMs3S'}]}, u'in_reply_to_screen_name': None, u'in_reply_to_user_id': None, u'retweet_count': 59, u'id_str': u'615484093065744384', u'favorited': False, u'user': {u'follow_request_sent': False, u'has_extended_profile': False, u'profile_use_background_image': False, u'default_profile_image': False, u'id': 3065922327, u'profile_background_image_url_https': u'https://abs.twimg.com/images/themes/theme1/bg.png', u'verified': False, u'profile_text_color': u'000000', u'profile_image_url_https': u'https://pbs.twimg.com/profile_images/606270198157574144/YKDZNIhw_normal.jpg', u'profile_sidebar_fill_color': u'000000', u'entities': {u'url': {u'urls': [{u'url': u'http://t.co/QU16rvkH8Z', u'indices': [0, 22], u'expanded_url': u'http://www.ncelderlawhelp.com', u'display_url': u'ncelderlawhelp.com'}]}, u'description': {u'urls': []}}, u'followers_count': 281, u'profile_sidebar_border_color': u'000000', u'id_str': u'3065922327', u'profile_background_color': u'000000', u'listed_count': 15, u'is_translation_enabled': False, u'utc_offset': None, u'statuses_count': 714, u'description': u'#triallawyer. I fight for a living. #Christian #father #husband #kravmaga enthusiast. #libertarian leaning; #China travel #youthministry, #bike commuter.', u'friends_count': 686, u'location': u'Charlotte, NC', u'profile_link_color': u'3B94D9', u'profile_image_url': u'http://pbs.twimg.com/profile_images/606270198157574144/YKDZNIhw_normal.jpg', u'following': False, u'geo_enabled': True, u'profile_banner_url': u'https://pbs.twimg.com/profile_banners/3065922327/1425384561', u'profile_background_image_url': u'http://abs.twimg.com/images/themes/theme1/bg.png', u'screen_name': u'markdgott', u'lang': u'en', u'profile_background_tile': False, u'favourites_count': 491, u'name': u'Mark D. Gott', u'notifications': False, u'url': u'http://t.co/QU16rvkH8Z', u'created_at': u'Mon Mar 02 11:31:32 +0000 2015', u'contributors_enabled': False, u'time_zone': None, u'protected': False, u'default_profile': False, u'is_translator': False}, u'geo': None, u'in_reply_to_user_id_str': None, u'possibly_sensitive': False, u'lang': u'en', u'created_at': u'Mon Jun 29 11:36:57 +0000 2015', u'in_reply_to_status_id_str': None, u'place': {u'full_name': u'Charlotte, NC', u'url': u'https://api.twitter.com/1.1/geo/id/512a8a4a4c4b4be0.json', u'country': u'United States', u'place_type': u'city', u'bounding_box': {u'type': u'Polygon', u'coordinates': [[[-81.046876, 35.001706], [-80.646695, 35.001706], [-80.646695, 35.416412], [-81.046876, 35.416412]]]}, u'contained_within': [], u'country_code': u'US', u'attributes': {}, u'id': u'512a8a4a4c4b4be0', u'name': u'Charlotte'}, u'metadata': {u'iso_language_code': u'en', u'result_type': u'recent'}}, coordinates=None, entities={u'symbols': [], u'user_mentions': [{u'id': 216881337, u'indices': [41, 50], u'id_str': u'216881337', u'screen_name': u'RandPaul', u'name': u'Dr. Rand Paul'}], u'hashtags': [{u'indices': [23, 39], u'text': u'samesexmarriage'}], u'urls': [{u'url': u'http://t.co/q39w5yPA0c', u'indices': [104, 126], u'expanded_url': u'http://ti.me/1TYMs3S', u'display_url': u'ti.me/1TYMs3S'}]}, in_reply_to_screen_name=None, id_str=u'615484093065744384', retweet_count=59, in_reply_to_user_id=None, favorited=False, source_url=u'http://twitter.com/download/iphone', user=User(follow_request_sent=False, has_extended_profile=False, profile_use_background_image=False, _json={u'follow_request_sent': False, u'has_extended_profile': False, u'profile_use_background_image': False, u'default_profile_image': False, u'id': 3065922327, u'profile_background_image_url_https': u'https://abs.twimg.com/images/themes/theme1/bg.png', u'verified': False, u'profile_text_color': u'000000', u'profile_image_url_https': u'https://pbs.twimg.com/profile_images/606270198157574144/YKDZNIhw_normal.jpg', u'profile_sidebar_fill_color': u'000000', u'entities': {u'url': {u'urls': [{u'url': u'http://t.co/QU16rvkH8Z', u'indices': [0, 22], u'expanded_url': u'http://www.ncelderlawhelp.com', u'display_url': u'ncelderlawhelp.com'}]}, u'description': {u'urls': []}}, u'followers_count': 281, u'profile_sidebar_border_color': u'000000', u'id_str': u'3065922327', u'profile_background_color': u'000000', u'listed_count': 15, u'is_translation_enabled': False, u'utc_offset': None, u'statuses_count': 714, u'description': u'#triallawyer. I fight for a living. #Christian #father #husband #kravmaga enthusiast. #libertarian leaning; #China travel #youthministry, #bike commuter.', u'friends_count': 686, u'location': u'Charlotte, NC', u'profile_link_color': u'3B94D9', u'profile_image_url': u'http://pbs.twimg.com/profile_images/606270198157574144/YKDZNIhw_normal.jpg', u'following': False, u'geo_enabled': True, u'profile_banner_url': u'https://pbs.twimg.com/profile_banners/3065922327/1425384561', u'profile_background_image_url': u'http://abs.twimg.com/images/themes/theme1/bg.png', u'screen_name': u'markdgott', u'lang': u'en', u'profile_background_tile': False, u'favourites_count': 491, u'name': u'Mark D. Gott', u'notifications': False, u'url': u'http://t.co/QU16rvkH8Z', u'created_at': u'Mon Mar 02 11:31:32 +0000 2015', u'contributors_enabled': False, u'time_zone': None, u'protected': False, u'default_profile': False, u'is_translator': False}, time_zone=None, id=3065922327, _api=<tweepy.api.API object at 0x10319bed0>, verified=False, profile_text_color=u'000000', profile_image_url_https=u'https://pbs.twimg.com/profile_images/606270198157574144/YKDZNIhw_normal.jpg', profile_sidebar_fill_color=u'000000', is_translator=False, geo_enabled=True, entities={u'url': {u'urls': [{u'url': u'http://t.co/QU16rvkH8Z', u'indices': [0, 22], u'expanded_url': u'http://www.ncelderlawhelp.com', u'display_url': u'ncelderlawhelp.com'}]}, u'description': {u'urls': []}}, followers_count=281, protected=False, id_str=u'3065922327', default_profile_image=False, listed_count=15, lang=u'en', utc_offset=None, statuses_count=714, description=u'#triallawyer. I fight for a living. #Christian #father #husband #kravmaga enthusiast. #libertarian leaning; #China travel #youthministry, #bike commuter.', friends_count=686, profile_link_color=u'3B94D9', profile_image_url=u'http://pbs.twimg.com/profile_images/606270198157574144/YKDZNIhw_normal.jpg', notifications=False, profile_background_image_url_https=u'https://abs.twimg.com/images/themes/theme1/bg.png', profile_background_color=u'000000', profile_banner_url=u'https://pbs.twimg.com/profile_banners/3065922327/1425384561', profile_background_image_url=u'http://abs.twimg.com/images/themes/theme1/bg.png', name=u'Mark D. Gott', is_translation_enabled=False, profile_background_tile=False, favourites_count=491, screen_name=u'markdgott', url=u'http://t.co/QU16rvkH8Z', created_at=datetime.datetime(2015, 3, 2, 11, 31, 32), contributors_enabled=False, location=u'Charlotte, NC', profile_sidebar_border_color=u'000000', default_profile=False, following=False), geo=None, in_reply_to_user_id_str=None, possibly_sensitive=False, lang=u'en', created_at=datetime.datetime(2015, 6, 29, 11, 36, 57), in_reply_to_status_id_str=None, place=Place(_api=<tweepy.api.API object at 0x10319bed0>, country_code=u'US', url=u'https://api.twitter.com/1.1/geo/id/512a8a4a4c4b4be0.json', country=u'United States', place_type=u'city', bounding_box=BoundingBox(_api=<tweepy.api.API object at 0x10319bed0>, type=u'Polygon', coordinates=[[[-81.046876, 35.001706], [-80.646695, 35.001706], [-80.646695, 35.416412], [-81.046876, 35.416412]]]), contained_within=[], full_name=u'Charlotte, NC', attributes={}, id=u'512a8a4a4c4b4be0', name=u'Charlotte'), source=u'Twitter for iPhone', retweeted=False, metadata={u'iso_language_code': u'en', u'result_type': u'recent'}), source_url=u'http://twitter.com', user=User(follow_request_sent=False, has_extended_profile=False, profile_use_background_image=True, _json={u'follow_request_sent': False, u'has_extended_profile': False, u'profile_use_background_image': True, u'default_profile_image': False, u'id': 3226291378, u'profile_background_image_url_https': u'https://abs.twimg.com/images/themes/theme13/bg.gif', u'verified': False, u'profile_text_color': u'333333', u'profile_image_url_https': u'https://pbs.twimg.com/profile_images/602987952944369664/8Z8qlA-E_normal.jpg', u'profile_sidebar_fill_color': u'FFFFFF', u'entities': {u'description': {u'urls': []}}, u'followers_count': 80, u'profile_sidebar_border_color': u'EEEEEE', u'id_str': u'3226291378', u'profile_background_color': u'B2DFDA', u'listed_count': 4, u'is_translation_enabled': True, u'utc_offset': None, u'statuses_count': 150, u'description': u\"Mediapost's Social Media Insider. Also, putter- togetherer of conferences, carpooling guru, beleaguered   fan.\", u'friends_count': 103, u'location': u'Plano, Texas', u'profile_link_color': u'93A644', u'profile_image_url': u'http://pbs.twimg.com/profile_images/602987952944369664/8Z8qlA-E_normal.jpg', u'following': False, u'geo_enabled': False, u'profile_background_image_url': u'http://abs.twimg.com/images/themes/theme13/bg.gif', u'screen_name': u'cpeeatl', u'lang': u'en', u'profile_background_tile': False, u'favourites_count': 101, u'name': u'Cathy Taylor', u'notifications': False, u'url': None, u'created_at': u'Fri May 01 13:33:45 +0000 2015', u'contributors_enabled': False, u'time_zone': None, u'protected': False, u'default_profile': False, u'is_translator': False}, time_zone=None, id=3226291378, _api=<tweepy.api.API object at 0x10319bed0>, verified=False, profile_text_color=u'333333', profile_image_url_https=u'https://pbs.twimg.com/profile_images/602987952944369664/8Z8qlA-E_normal.jpg', profile_sidebar_fill_color=u'FFFFFF', is_translator=False, geo_enabled=False, entities={u'description': {u'urls': []}}, followers_count=80, protected=False, id_str=u'3226291378', default_profile_image=False, listed_count=4, lang=u'en', utc_offset=None, statuses_count=150, description=u\"Mediapost's Social Media Insider. Also, putter- togetherer of conferences, carpooling guru, beleaguered   fan.\", friends_count=103, profile_link_color=u'93A644', profile_image_url=u'http://pbs.twimg.com/profile_images/602987952944369664/8Z8qlA-E_normal.jpg', notifications=False, profile_background_image_url_https=u'https://abs.twimg.com/images/themes/theme13/bg.gif', profile_background_color=u'B2DFDA', profile_background_image_url=u'http://abs.twimg.com/images/themes/theme13/bg.gif', name=u'Cathy Taylor', is_translation_enabled=True, profile_background_tile=False, favourites_count=101, screen_name=u'cpeeatl', url=None, created_at=datetime.datetime(2015, 5, 1, 13, 33, 45), contributors_enabled=False, location=u'Plano, Texas', profile_sidebar_border_color=u'EEEEEE', default_profile=False, following=False), geo=None, in_reply_to_user_id_str=None, possibly_sensitive=False, lang=u'en', created_at=datetime.datetime(2015, 6, 29, 16, 38, 21), in_reply_to_status_id_str=None, place=None, source=u'Twitter Web Client', retweeted=False, metadata={u'iso_language_code': u'en', u'result_type': u'recent'}),\n",
       " Status(contributors=None, truncated=False, text=u'Google denied appeal by US Supreme Court in Oracle Android dispute http://t.co/WP48cRcFhs', is_quote_status=False, in_reply_to_status_id=None, id=615559940237737984, favorite_count=0, _api=<tweepy.api.API object at 0x10319bed0>, author=User(follow_request_sent=False, has_extended_profile=False, profile_use_background_image=True, _json={u'follow_request_sent': False, u'has_extended_profile': False, u'profile_use_background_image': True, u'default_profile_image': False, u'id': 61915402, u'profile_background_image_url_https': u'https://pbs.twimg.com/profile_background_images/457067103/TechAmbrosia12.png', u'verified': False, u'profile_text_color': u'333333', u'profile_image_url_https': u'https://pbs.twimg.com/profile_images/1924123218/TechAmbrosia_TW_normal.png', u'profile_sidebar_fill_color': u'DDEEF6', u'entities': {u'url': {u'urls': [{u'url': u'http://t.co/PVrVyByuFl', u'indices': [0, 22], u'expanded_url': u'http://www.TechAmbrosia.com', u'display_url': u'TechAmbrosia.com'}]}, u'description': {u'urls': []}}, u'followers_count': 523, u'profile_sidebar_border_color': u'C0DEED', u'id_str': u'61915402', u'profile_background_color': u'C0DEED', u'listed_count': 15, u'is_translation_enabled': False, u'utc_offset': -10800, u'statuses_count': 2362, u'description': u'Gizmos, Gadgets, Technology and More', u'friends_count': 560, u'location': u'NYC', u'profile_link_color': u'0084B4', u'profile_image_url': u'http://pbs.twimg.com/profile_images/1924123218/TechAmbrosia_TW_normal.png', u'following': False, u'geo_enabled': False, u'profile_background_image_url': u'http://pbs.twimg.com/profile_background_images/457067103/TechAmbrosia12.png', u'screen_name': u'TechAmbrosia', u'lang': u'en', u'profile_background_tile': True, u'favourites_count': 0, u'name': u'TechAmbrosia', u'notifications': False, u'url': u'http://t.co/PVrVyByuFl', u'created_at': u'Sat Aug 01 00:30:13 +0000 2009', u'contributors_enabled': False, u'time_zone': u'Atlantic Time (Canada)', u'protected': False, u'default_profile': False, u'is_translator': False}, time_zone=u'Atlantic Time (Canada)', id=61915402, _api=<tweepy.api.API object at 0x10319bed0>, verified=False, profile_text_color=u'333333', profile_image_url_https=u'https://pbs.twimg.com/profile_images/1924123218/TechAmbrosia_TW_normal.png', profile_sidebar_fill_color=u'DDEEF6', is_translator=False, geo_enabled=False, entities={u'url': {u'urls': [{u'url': u'http://t.co/PVrVyByuFl', u'indices': [0, 22], u'expanded_url': u'http://www.TechAmbrosia.com', u'display_url': u'TechAmbrosia.com'}]}, u'description': {u'urls': []}}, followers_count=523, protected=False, id_str=u'61915402', default_profile_image=False, listed_count=15, lang=u'en', utc_offset=-10800, statuses_count=2362, description=u'Gizmos, Gadgets, Technology and More', friends_count=560, profile_link_color=u'0084B4', profile_image_url=u'http://pbs.twimg.com/profile_images/1924123218/TechAmbrosia_TW_normal.png', notifications=False, profile_background_image_url_https=u'https://pbs.twimg.com/profile_background_images/457067103/TechAmbrosia12.png', profile_background_color=u'C0DEED', profile_background_image_url=u'http://pbs.twimg.com/profile_background_images/457067103/TechAmbrosia12.png', name=u'TechAmbrosia', is_translation_enabled=False, profile_background_tile=True, favourites_count=0, screen_name=u'TechAmbrosia', url=u'http://t.co/PVrVyByuFl', created_at=datetime.datetime(2009, 8, 1, 0, 30, 13), contributors_enabled=False, location=u'NYC', profile_sidebar_border_color=u'C0DEED', default_profile=False, following=False), _json={u'contributors': None, u'truncated': False, u'text': u'Google denied appeal by US Supreme Court in Oracle Android dispute http://t.co/WP48cRcFhs', u'is_quote_status': False, u'in_reply_to_status_id': None, u'id': 615559940237737984, u'favorite_count': 0, u'source': u'<a href=\"http://www.TechAmbrosia.com\" rel=\"nofollow\">TechAmbrosia\\'s Autopost</a>', u'retweeted': False, u'coordinates': None, u'entities': {u'symbols': [], u'user_mentions': [], u'hashtags': [], u'urls': [{u'url': u'http://t.co/WP48cRcFhs', u'indices': [67, 89], u'expanded_url': u'http://j.mp/1GIcLB8', u'display_url': u'j.mp/1GIcLB8'}]}, u'in_reply_to_screen_name': None, u'in_reply_to_user_id': None, u'retweet_count': 0, u'id_str': u'615559940237737984', u'favorited': False, u'user': {u'follow_request_sent': False, u'has_extended_profile': False, u'profile_use_background_image': True, u'default_profile_image': False, u'id': 61915402, u'profile_background_image_url_https': u'https://pbs.twimg.com/profile_background_images/457067103/TechAmbrosia12.png', u'verified': False, u'profile_text_color': u'333333', u'profile_image_url_https': u'https://pbs.twimg.com/profile_images/1924123218/TechAmbrosia_TW_normal.png', u'profile_sidebar_fill_color': u'DDEEF6', u'entities': {u'url': {u'urls': [{u'url': u'http://t.co/PVrVyByuFl', u'indices': [0, 22], u'expanded_url': u'http://www.TechAmbrosia.com', u'display_url': u'TechAmbrosia.com'}]}, u'description': {u'urls': []}}, u'followers_count': 523, u'profile_sidebar_border_color': u'C0DEED', u'id_str': u'61915402', u'profile_background_color': u'C0DEED', u'listed_count': 15, u'is_translation_enabled': False, u'utc_offset': -10800, u'statuses_count': 2362, u'description': u'Gizmos, Gadgets, Technology and More', u'friends_count': 560, u'location': u'NYC', u'profile_link_color': u'0084B4', u'profile_image_url': u'http://pbs.twimg.com/profile_images/1924123218/TechAmbrosia_TW_normal.png', u'following': False, u'geo_enabled': False, u'profile_background_image_url': u'http://pbs.twimg.com/profile_background_images/457067103/TechAmbrosia12.png', u'screen_name': u'TechAmbrosia', u'lang': u'en', u'profile_background_tile': True, u'favourites_count': 0, u'name': u'TechAmbrosia', u'notifications': False, u'url': u'http://t.co/PVrVyByuFl', u'created_at': u'Sat Aug 01 00:30:13 +0000 2009', u'contributors_enabled': False, u'time_zone': u'Atlantic Time (Canada)', u'protected': False, u'default_profile': False, u'is_translator': False}, u'geo': None, u'in_reply_to_user_id_str': None, u'possibly_sensitive': False, u'lang': u'en', u'created_at': u'Mon Jun 29 16:38:20 +0000 2015', u'in_reply_to_status_id_str': None, u'place': None, u'metadata': {u'iso_language_code': u'en', u'result_type': u'recent'}}, coordinates=None, entities={u'symbols': [], u'user_mentions': [], u'hashtags': [], u'urls': [{u'url': u'http://t.co/WP48cRcFhs', u'indices': [67, 89], u'expanded_url': u'http://j.mp/1GIcLB8', u'display_url': u'j.mp/1GIcLB8'}]}, in_reply_to_screen_name=None, id_str=u'615559940237737984', retweet_count=0, in_reply_to_user_id=None, favorited=False, source_url=u'http://www.TechAmbrosia.com', user=User(follow_request_sent=False, has_extended_profile=False, profile_use_background_image=True, _json={u'follow_request_sent': False, u'has_extended_profile': False, u'profile_use_background_image': True, u'default_profile_image': False, u'id': 61915402, u'profile_background_image_url_https': u'https://pbs.twimg.com/profile_background_images/457067103/TechAmbrosia12.png', u'verified': False, u'profile_text_color': u'333333', u'profile_image_url_https': u'https://pbs.twimg.com/profile_images/1924123218/TechAmbrosia_TW_normal.png', u'profile_sidebar_fill_color': u'DDEEF6', u'entities': {u'url': {u'urls': [{u'url': u'http://t.co/PVrVyByuFl', u'indices': [0, 22], u'expanded_url': u'http://www.TechAmbrosia.com', u'display_url': u'TechAmbrosia.com'}]}, u'description': {u'urls': []}}, u'followers_count': 523, u'profile_sidebar_border_color': u'C0DEED', u'id_str': u'61915402', u'profile_background_color': u'C0DEED', u'listed_count': 15, u'is_translation_enabled': False, u'utc_offset': -10800, u'statuses_count': 2362, u'description': u'Gizmos, Gadgets, Technology and More', u'friends_count': 560, u'location': u'NYC', u'profile_link_color': u'0084B4', u'profile_image_url': u'http://pbs.twimg.com/profile_images/1924123218/TechAmbrosia_TW_normal.png', u'following': False, u'geo_enabled': False, u'profile_background_image_url': u'http://pbs.twimg.com/profile_background_images/457067103/TechAmbrosia12.png', u'screen_name': u'TechAmbrosia', u'lang': u'en', u'profile_background_tile': True, u'favourites_count': 0, u'name': u'TechAmbrosia', u'notifications': False, u'url': u'http://t.co/PVrVyByuFl', u'created_at': u'Sat Aug 01 00:30:13 +0000 2009', u'contributors_enabled': False, u'time_zone': u'Atlantic Time (Canada)', u'protected': False, u'default_profile': False, u'is_translator': False}, time_zone=u'Atlantic Time (Canada)', id=61915402, _api=<tweepy.api.API object at 0x10319bed0>, verified=False, profile_text_color=u'333333', profile_image_url_https=u'https://pbs.twimg.com/profile_images/1924123218/TechAmbrosia_TW_normal.png', profile_sidebar_fill_color=u'DDEEF6', is_translator=False, geo_enabled=False, entities={u'url': {u'urls': [{u'url': u'http://t.co/PVrVyByuFl', u'indices': [0, 22], u'expanded_url': u'http://www.TechAmbrosia.com', u'display_url': u'TechAmbrosia.com'}]}, u'description': {u'urls': []}}, followers_count=523, protected=False, id_str=u'61915402', default_profile_image=False, listed_count=15, lang=u'en', utc_offset=-10800, statuses_count=2362, description=u'Gizmos, Gadgets, Technology and More', friends_count=560, profile_link_color=u'0084B4', profile_image_url=u'http://pbs.twimg.com/profile_images/1924123218/TechAmbrosia_TW_normal.png', notifications=False, profile_background_image_url_https=u'https://pbs.twimg.com/profile_background_images/457067103/TechAmbrosia12.png', profile_background_color=u'C0DEED', profile_background_image_url=u'http://pbs.twimg.com/profile_background_images/457067103/TechAmbrosia12.png', name=u'TechAmbrosia', is_translation_enabled=False, profile_background_tile=True, favourites_count=0, screen_name=u'TechAmbrosia', url=u'http://t.co/PVrVyByuFl', created_at=datetime.datetime(2009, 8, 1, 0, 30, 13), contributors_enabled=False, location=u'NYC', profile_sidebar_border_color=u'C0DEED', default_profile=False, following=False), geo=None, in_reply_to_user_id_str=None, possibly_sensitive=False, lang=u'en', created_at=datetime.datetime(2015, 6, 29, 16, 38, 20), in_reply_to_status_id_str=None, place=None, source=u\"TechAmbrosia's Autopost\", retweeted=False, metadata={u'iso_language_code': u'en', u'result_type': u'recent'}),\n",
       " Status(contributors=None, truncated=False, text=u'RT @alvarossl: Sobre drones y privacidad en USA: http://t.co/cQSMERCSyC Tambien United States Supreme Court FLORIDA v. RILEY (1989): http:/\\u2026', is_quote_status=False, in_reply_to_status_id=None, id=615559940103630849, favorite_count=0, _api=<tweepy.api.API object at 0x10319bed0>, author=User(follow_request_sent=False, has_extended_profile=False, profile_use_background_image=True, _json={u'follow_request_sent': False, u'has_extended_profile': False, u'profile_use_background_image': True, u'default_profile_image': False, u'id': 3158196440, u'profile_background_image_url_https': u'https://abs.twimg.com/images/themes/theme1/bg.png', u'verified': False, u'profile_text_color': u'333333', u'profile_image_url_https': u'https://pbs.twimg.com/profile_images/597139547538006016/jvEsgva-_normal.jpg', u'profile_sidebar_fill_color': u'DDEEF6', u'entities': {u'url': {u'urls': [{u'url': u'http://t.co/jd5KktzwUB', u'indices': [0, 22], u'expanded_url': u'http://www.legalhackers.org', u'display_url': u'legalhackers.org'}]}, u'description': {u'urls': []}}, u'followers_count': 134, u'profile_sidebar_border_color': u'C0DEED', u'id_str': u'3158196440', u'profile_background_color': u'C0DEED', u'listed_count': 11, u'is_translation_enabled': False, u'utc_offset': None, u'statuses_count': 144, u'description': u'At the intersection of law & tech, thinking and creating. We are explorers. We are doers. Madrid chapter. Curated by @laurafauq & @gperezalonso #legalhack', u'friends_count': 88, u'location': u'Madrid \\u2022 Spain', u'profile_link_color': u'0084B4', u'profile_image_url': u'http://pbs.twimg.com/profile_images/597139547538006016/jvEsgva-_normal.jpg', u'following': False, u'geo_enabled': False, u'profile_banner_url': u'https://pbs.twimg.com/profile_banners/3158196440/1431207186', u'profile_background_image_url': u'http://abs.twimg.com/images/themes/theme1/bg.png', u'screen_name': u'LegalHackersMAD', u'lang': u'es', u'profile_background_tile': False, u'favourites_count': 81, u'name': u'Legal Hackers Madrid', u'notifications': False, u'url': u'http://t.co/jd5KktzwUB', u'created_at': u'Wed Apr 15 20:58:57 +0000 2015', u'contributors_enabled': False, u'time_zone': None, u'protected': False, u'default_profile': True, u'is_translator': False}, time_zone=None, id=3158196440, _api=<tweepy.api.API object at 0x10319bed0>, verified=False, profile_text_color=u'333333', profile_image_url_https=u'https://pbs.twimg.com/profile_images/597139547538006016/jvEsgva-_normal.jpg', profile_sidebar_fill_color=u'DDEEF6', is_translator=False, geo_enabled=False, entities={u'url': {u'urls': [{u'url': u'http://t.co/jd5KktzwUB', u'indices': [0, 22], u'expanded_url': u'http://www.legalhackers.org', u'display_url': u'legalhackers.org'}]}, u'description': {u'urls': []}}, followers_count=134, protected=False, id_str=u'3158196440', default_profile_image=False, listed_count=11, lang=u'es', utc_offset=None, statuses_count=144, description=u'At the intersection of law & tech, thinking and creating. We are explorers. We are doers. Madrid chapter. Curated by @laurafauq & @gperezalonso #legalhack', friends_count=88, profile_link_color=u'0084B4', profile_image_url=u'http://pbs.twimg.com/profile_images/597139547538006016/jvEsgva-_normal.jpg', notifications=False, profile_background_image_url_https=u'https://abs.twimg.com/images/themes/theme1/bg.png', profile_background_color=u'C0DEED', profile_banner_url=u'https://pbs.twimg.com/profile_banners/3158196440/1431207186', profile_background_image_url=u'http://abs.twimg.com/images/themes/theme1/bg.png', name=u'Legal Hackers Madrid', is_translation_enabled=False, profile_background_tile=False, favourites_count=81, screen_name=u'LegalHackersMAD', url=u'http://t.co/jd5KktzwUB', created_at=datetime.datetime(2015, 4, 15, 20, 58, 57), contributors_enabled=False, location=u'Madrid \\u2022 Spain', profile_sidebar_border_color=u'C0DEED', default_profile=True, following=False), _json={u'contributors': None, u'truncated': False, u'text': u'RT @alvarossl: Sobre drones y privacidad en USA: http://t.co/cQSMERCSyC Tambien United States Supreme Court FLORIDA v. RILEY (1989): http:/\\u2026', u'is_quote_status': False, u'in_reply_to_status_id': None, u'id': 615559940103630849, u'favorite_count': 0, u'source': u'<a href=\"http://twitter.com/download/android\" rel=\"nofollow\">Twitter for Android</a>', u'retweeted': False, u'coordinates': None, u'entities': {u'symbols': [], u'user_mentions': [{u'id': 147557041, u'indices': [3, 13], u'id_str': u'147557041', u'screen_name': u'alvarossl', u'name': u'Alvaro Suarez'}], u'hashtags': [], u'urls': [{u'url': u'http://t.co/cQSMERCSyC', u'indices': [49, 71], u'expanded_url': u'http://bit.ly/1Nqa1xZ', u'display_url': u'bit.ly/1Nqa1xZ'}, {u'url': u'http://t.co/Lnog2Ur098', u'indices': [139, 140], u'expanded_url': u'http://bit.ly/1FKwjnR', u'display_url': u'bit.ly/1FKwjnR'}]}, u'in_reply_to_screen_name': None, u'in_reply_to_user_id': None, u'retweet_count': 2, u'id_str': u'615559940103630849', u'favorited': False, u'retweeted_status': {u'contributors': None, u'truncated': False, u'text': u'Sobre drones y privacidad en USA: http://t.co/cQSMERCSyC Tambien United States Supreme Court FLORIDA v. RILEY (1989): http://t.co/Lnog2Ur098', u'is_quote_status': False, u'in_reply_to_status_id': None, u'id': 615545767739133952, u'favorite_count': 0, u'source': u'<a href=\"https://about.twitter.com/products/tweetdeck\" rel=\"nofollow\">TweetDeck</a>', u'retweeted': False, u'coordinates': None, u'entities': {u'symbols': [], u'user_mentions': [], u'hashtags': [], u'urls': [{u'url': u'http://t.co/cQSMERCSyC', u'indices': [34, 56], u'expanded_url': u'http://bit.ly/1Nqa1xZ', u'display_url': u'bit.ly/1Nqa1xZ'}, {u'url': u'http://t.co/Lnog2Ur098', u'indices': [118, 140], u'expanded_url': u'http://bit.ly/1FKwjnR', u'display_url': u'bit.ly/1FKwjnR'}]}, u'in_reply_to_screen_name': None, u'in_reply_to_user_id': None, u'retweet_count': 2, u'id_str': u'615545767739133952', u'favorited': False, u'user': {u'follow_request_sent': False, u'has_extended_profile': False, u'profile_use_background_image': True, u'default_profile_image': False, u'id': 147557041, u'profile_background_image_url_https': u'https://abs.twimg.com/images/themes/theme16/bg.gif', u'verified': False, u'profile_text_color': u'333333', u'profile_image_url_https': u'https://pbs.twimg.com/profile_images/552742348099026945/t-kacKf5_normal.jpeg', u'profile_sidebar_fill_color': u'DDFFCC', u'entities': {u'description': {u'urls': [{u'url': u'http://t.co/AsxQ4JPiFg', u'indices': [37, 59], u'expanded_url': u'http://www.sanchezdeleonabogados.com', u'display_url': u'sanchezdeleonabogados.com'}]}}, u'followers_count': 504, u'profile_sidebar_border_color': u'BDDCAD', u'id_str': u'147557041', u'profile_background_color': u'9AE4E8', u'listed_count': 23, u'is_translation_enabled': False, u'utc_offset': 7200, u'statuses_count': 483, u'description': u'Abogado en S\\xe1nchez de Le\\xf3n Abogados\\r\\nhttp://t.co/AsxQ4JPiFg', u'friends_count': 418, u'location': u'Madrid', u'profile_link_color': u'0084B4', u'profile_image_url': u'http://pbs.twimg.com/profile_images/552742348099026945/t-kacKf5_normal.jpeg', u'following': False, u'geo_enabled': True, u'profile_background_image_url': u'http://abs.twimg.com/images/themes/theme16/bg.gif', u'screen_name': u'alvarossl', u'lang': u'es', u'profile_background_tile': False, u'favourites_count': 16, u'name': u'Alvaro Suarez', u'notifications': False, u'url': None, u'created_at': u'Mon May 24 13:00:30 +0000 2010', u'contributors_enabled': False, u'time_zone': u'Madrid', u'protected': False, u'default_profile': False, u'is_translator': False}, u'geo': None, u'in_reply_to_user_id_str': None, u'possibly_sensitive': False, u'lang': u'es', u'created_at': u'Mon Jun 29 15:42:01 +0000 2015', u'in_reply_to_status_id_str': None, u'place': None, u'metadata': {u'iso_language_code': u'es', u'result_type': u'recent'}}, u'user': {u'follow_request_sent': False, u'has_extended_profile': False, u'profile_use_background_image': True, u'default_profile_image': False, u'id': 3158196440, u'profile_background_image_url_https': u'https://abs.twimg.com/images/themes/theme1/bg.png', u'verified': False, u'profile_text_color': u'333333', u'profile_image_url_https': u'https://pbs.twimg.com/profile_images/597139547538006016/jvEsgva-_normal.jpg', u'profile_sidebar_fill_color': u'DDEEF6', u'entities': {u'url': {u'urls': [{u'url': u'http://t.co/jd5KktzwUB', u'indices': [0, 22], u'expanded_url': u'http://www.legalhackers.org', u'display_url': u'legalhackers.org'}]}, u'description': {u'urls': []}}, u'followers_count': 134, u'profile_sidebar_border_color': u'C0DEED', u'id_str': u'3158196440', u'profile_background_color': u'C0DEED', u'listed_count': 11, u'is_translation_enabled': False, u'utc_offset': None, u'statuses_count': 144, u'description': u'At the intersection of law & tech, thinking and creating. We are explorers. We are doers. Madrid chapter. Curated by @laurafauq & @gperezalonso #legalhack', u'friends_count': 88, u'location': u'Madrid \\u2022 Spain', u'profile_link_color': u'0084B4', u'profile_image_url': u'http://pbs.twimg.com/profile_images/597139547538006016/jvEsgva-_normal.jpg', u'following': False, u'geo_enabled': False, u'profile_banner_url': u'https://pbs.twimg.com/profile_banners/3158196440/1431207186', u'profile_background_image_url': u'http://abs.twimg.com/images/themes/theme1/bg.png', u'screen_name': u'LegalHackersMAD', u'lang': u'es', u'profile_background_tile': False, u'favourites_count': 81, u'name': u'Legal Hackers Madrid', u'notifications': False, u'url': u'http://t.co/jd5KktzwUB', u'created_at': u'Wed Apr 15 20:58:57 +0000 2015', u'contributors_enabled': False, u'time_zone': None, u'protected': False, u'default_profile': True, u'is_translator': False}, u'geo': None, u'in_reply_to_user_id_str': None, u'possibly_sensitive': False, u'lang': u'es', u'created_at': u'Mon Jun 29 16:38:20 +0000 2015', u'in_reply_to_status_id_str': None, u'place': None, u'metadata': {u'iso_language_code': u'es', u'result_type': u'recent'}}, coordinates=None, entities={u'symbols': [], u'user_mentions': [{u'id': 147557041, u'indices': [3, 13], u'id_str': u'147557041', u'screen_name': u'alvarossl', u'name': u'Alvaro Suarez'}], u'hashtags': [], u'urls': [{u'url': u'http://t.co/cQSMERCSyC', u'indices': [49, 71], u'expanded_url': u'http://bit.ly/1Nqa1xZ', u'display_url': u'bit.ly/1Nqa1xZ'}, {u'url': u'http://t.co/Lnog2Ur098', u'indices': [139, 140], u'expanded_url': u'http://bit.ly/1FKwjnR', u'display_url': u'bit.ly/1FKwjnR'}]}, in_reply_to_screen_name=None, id_str=u'615559940103630849', retweet_count=2, in_reply_to_user_id=None, favorited=False, retweeted_status=Status(contributors=None, truncated=False, text=u'Sobre drones y privacidad en USA: http://t.co/cQSMERCSyC Tambien United States Supreme Court FLORIDA v. RILEY (1989): http://t.co/Lnog2Ur098', is_quote_status=False, in_reply_to_status_id=None, id=615545767739133952, favorite_count=0, _api=<tweepy.api.API object at 0x10319bed0>, author=User(follow_request_sent=False, has_extended_profile=False, profile_use_background_image=True, _json={u'follow_request_sent': False, u'has_extended_profile': False, u'profile_use_background_image': True, u'default_profile_image': False, u'id': 147557041, u'profile_background_image_url_https': u'https://abs.twimg.com/images/themes/theme16/bg.gif', u'verified': False, u'profile_text_color': u'333333', u'profile_image_url_https': u'https://pbs.twimg.com/profile_images/552742348099026945/t-kacKf5_normal.jpeg', u'profile_sidebar_fill_color': u'DDFFCC', u'entities': {u'description': {u'urls': [{u'url': u'http://t.co/AsxQ4JPiFg', u'indices': [37, 59], u'expanded_url': u'http://www.sanchezdeleonabogados.com', u'display_url': u'sanchezdeleonabogados.com'}]}}, u'followers_count': 504, u'profile_sidebar_border_color': u'BDDCAD', u'id_str': u'147557041', u'profile_background_color': u'9AE4E8', u'listed_count': 23, u'is_translation_enabled': False, u'utc_offset': 7200, u'statuses_count': 483, u'description': u'Abogado en S\\xe1nchez de Le\\xf3n Abogados\\r\\nhttp://t.co/AsxQ4JPiFg', u'friends_count': 418, u'location': u'Madrid', u'profile_link_color': u'0084B4', u'profile_image_url': u'http://pbs.twimg.com/profile_images/552742348099026945/t-kacKf5_normal.jpeg', u'following': False, u'geo_enabled': True, u'profile_background_image_url': u'http://abs.twimg.com/images/themes/theme16/bg.gif', u'screen_name': u'alvarossl', u'lang': u'es', u'profile_background_tile': False, u'favourites_count': 16, u'name': u'Alvaro Suarez', u'notifications': False, u'url': None, u'created_at': u'Mon May 24 13:00:30 +0000 2010', u'contributors_enabled': False, u'time_zone': u'Madrid', u'protected': False, u'default_profile': False, u'is_translator': False}, time_zone=u'Madrid', id=147557041, _api=<tweepy.api.API object at 0x10319bed0>, verified=False, profile_text_color=u'333333', profile_image_url_https=u'https://pbs.twimg.com/profile_images/552742348099026945/t-kacKf5_normal.jpeg', profile_sidebar_fill_color=u'DDFFCC', is_translator=False, geo_enabled=True, entities={u'description': {u'urls': [{u'url': u'http://t.co/AsxQ4JPiFg', u'indices': [37, 59], u'expanded_url': u'http://www.sanchezdeleonabogados.com', u'display_url': u'sanchezdeleonabogados.com'}]}}, followers_count=504, protected=False, id_str=u'147557041', default_profile_image=False, listed_count=23, lang=u'es', utc_offset=7200, statuses_count=483, description=u'Abogado en S\\xe1nchez de Le\\xf3n Abogados\\r\\nhttp://t.co/AsxQ4JPiFg', friends_count=418, profile_link_color=u'0084B4', profile_image_url=u'http://pbs.twimg.com/profile_images/552742348099026945/t-kacKf5_normal.jpeg', notifications=False, profile_background_image_url_https=u'https://abs.twimg.com/images/themes/theme16/bg.gif', profile_background_color=u'9AE4E8', profile_background_image_url=u'http://abs.twimg.com/images/themes/theme16/bg.gif', name=u'Alvaro Suarez', is_translation_enabled=False, profile_background_tile=False, favourites_count=16, screen_name=u'alvarossl', url=None, created_at=datetime.datetime(2010, 5, 24, 13, 0, 30), contributors_enabled=False, location=u'Madrid', profile_sidebar_border_color=u'BDDCAD', default_profile=False, following=False), _json={u'contributors': None, u'truncated': False, u'text': u'Sobre drones y privacidad en USA: http://t.co/cQSMERCSyC Tambien United States Supreme Court FLORIDA v. RILEY (1989): http://t.co/Lnog2Ur098', u'is_quote_status': False, u'in_reply_to_status_id': None, u'id': 615545767739133952, u'favorite_count': 0, u'source': u'<a href=\"https://about.twitter.com/products/tweetdeck\" rel=\"nofollow\">TweetDeck</a>', u'retweeted': False, u'coordinates': None, u'entities': {u'symbols': [], u'user_mentions': [], u'hashtags': [], u'urls': [{u'url': u'http://t.co/cQSMERCSyC', u'indices': [34, 56], u'expanded_url': u'http://bit.ly/1Nqa1xZ', u'display_url': u'bit.ly/1Nqa1xZ'}, {u'url': u'http://t.co/Lnog2Ur098', u'indices': [118, 140], u'expanded_url': u'http://bit.ly/1FKwjnR', u'display_url': u'bit.ly/1FKwjnR'}]}, u'in_reply_to_screen_name': None, u'in_reply_to_user_id': None, u'retweet_count': 2, u'id_str': u'615545767739133952', u'favorited': False, u'user': {u'follow_request_sent': False, u'has_extended_profile': False, u'profile_use_background_image': True, u'default_profile_image': False, u'id': 147557041, u'profile_background_image_url_https': u'https://abs.twimg.com/images/themes/theme16/bg.gif', u'verified': False, u'profile_text_color': u'333333', u'profile_image_url_https': u'https://pbs.twimg.com/profile_images/552742348099026945/t-kacKf5_normal.jpeg', u'profile_sidebar_fill_color': u'DDFFCC', u'entities': {u'description': {u'urls': [{u'url': u'http://t.co/AsxQ4JPiFg', u'indices': [37, 59], u'expanded_url': u'http://www.sanchezdeleonabogados.com', u'display_url': u'sanchezdeleonabogados.com'}]}}, u'followers_count': 504, u'profile_sidebar_border_color': u'BDDCAD', u'id_str': u'147557041', u'profile_background_color': u'9AE4E8', u'listed_count': 23, u'is_translation_enabled': False, u'utc_offset': 7200, u'statuses_count': 483, u'description': u'Abogado en S\\xe1nchez de Le\\xf3n Abogados\\r\\nhttp://t.co/AsxQ4JPiFg', u'friends_count': 418, u'location': u'Madrid', u'profile_link_color': u'0084B4', u'profile_image_url': u'http://pbs.twimg.com/profile_images/552742348099026945/t-kacKf5_normal.jpeg', u'following': False, u'geo_enabled': True, u'profile_background_image_url': u'http://abs.twimg.com/images/themes/theme16/bg.gif', u'screen_name': u'alvarossl', u'lang': u'es', u'profile_background_tile': False, u'favourites_count': 16, u'name': u'Alvaro Suarez', u'notifications': False, u'url': None, u'created_at': u'Mon May 24 13:00:30 +0000 2010', u'contributors_enabled': False, u'time_zone': u'Madrid', u'protected': False, u'default_profile': False, u'is_translator': False}, u'geo': None, u'in_reply_to_user_id_str': None, u'possibly_sensitive': False, u'lang': u'es', u'created_at': u'Mon Jun 29 15:42:01 +0000 2015', u'in_reply_to_status_id_str': None, u'place': None, u'metadata': {u'iso_language_code': u'es', u'result_type': u'recent'}}, coordinates=None, entities={u'symbols': [], u'user_mentions': [], u'hashtags': [], u'urls': [{u'url': u'http://t.co/cQSMERCSyC', u'indices': [34, 56], u'expanded_url': u'http://bit.ly/1Nqa1xZ', u'display_url': u'bit.ly/1Nqa1xZ'}, {u'url': u'http://t.co/Lnog2Ur098', u'indices': [118, 140], u'expanded_url': u'http://bit.ly/1FKwjnR', u'display_url': u'bit.ly/1FKwjnR'}]}, in_reply_to_screen_name=None, id_str=u'615545767739133952', retweet_count=2, in_reply_to_user_id=None, favorited=False, source_url=u'https://about.twitter.com/products/tweetdeck', user=User(follow_request_sent=False, has_extended_profile=False, profile_use_background_image=True, _json={u'follow_request_sent': False, u'has_extended_profile': False, u'profile_use_background_image': True, u'default_profile_image': False, u'id': 147557041, u'profile_background_image_url_https': u'https://abs.twimg.com/images/themes/theme16/bg.gif', u'verified': False, u'profile_text_color': u'333333', u'profile_image_url_https': u'https://pbs.twimg.com/profile_images/552742348099026945/t-kacKf5_normal.jpeg', u'profile_sidebar_fill_color': u'DDFFCC', u'entities': {u'description': {u'urls': [{u'url': u'http://t.co/AsxQ4JPiFg', u'indices': [37, 59], u'expanded_url': u'http://www.sanchezdeleonabogados.com', u'display_url': u'sanchezdeleonabogados.com'}]}}, u'followers_count': 504, u'profile_sidebar_border_color': u'BDDCAD', u'id_str': u'147557041', u'profile_background_color': u'9AE4E8', u'listed_count': 23, u'is_translation_enabled': False, u'utc_offset': 7200, u'statuses_count': 483, u'description': u'Abogado en S\\xe1nchez de Le\\xf3n Abogados\\r\\nhttp://t.co/AsxQ4JPiFg', u'friends_count': 418, u'location': u'Madrid', u'profile_link_color': u'0084B4', u'profile_image_url': u'http://pbs.twimg.com/profile_images/552742348099026945/t-kacKf5_normal.jpeg', u'following': False, u'geo_enabled': True, u'profile_background_image_url': u'http://abs.twimg.com/images/themes/theme16/bg.gif', u'screen_name': u'alvarossl', u'lang': u'es', u'profile_background_tile': False, u'favourites_count': 16, u'name': u'Alvaro Suarez', u'notifications': False, u'url': None, u'created_at': u'Mon May 24 13:00:30 +0000 2010', u'contributors_enabled': False, u'time_zone': u'Madrid', u'protected': False, u'default_profile': False, u'is_translator': False}, time_zone=u'Madrid', id=147557041, _api=<tweepy.api.API object at 0x10319bed0>, verified=False, profile_text_color=u'333333', profile_image_url_https=u'https://pbs.twimg.com/profile_images/552742348099026945/t-kacKf5_normal.jpeg', profile_sidebar_fill_color=u'DDFFCC', is_translator=False, geo_enabled=True, entities={u'description': {u'urls': [{u'url': u'http://t.co/AsxQ4JPiFg', u'indices': [37, 59], u'expanded_url': u'http://www.sanchezdeleonabogados.com', u'display_url': u'sanchezdeleonabogados.com'}]}}, followers_count=504, protected=False, id_str=u'147557041', default_profile_image=False, listed_count=23, lang=u'es', utc_offset=7200, statuses_count=483, description=u'Abogado en S\\xe1nchez de Le\\xf3n Abogados\\r\\nhttp://t.co/AsxQ4JPiFg', friends_count=418, profile_link_color=u'0084B4', profile_image_url=u'http://pbs.twimg.com/profile_images/552742348099026945/t-kacKf5_normal.jpeg', notifications=False, profile_background_image_url_https=u'https://abs.twimg.com/images/themes/theme16/bg.gif', profile_background_color=u'9AE4E8', profile_background_image_url=u'http://abs.twimg.com/images/themes/theme16/bg.gif', name=u'Alvaro Suarez', is_translation_enabled=False, profile_background_tile=False, favourites_count=16, screen_name=u'alvarossl', url=None, created_at=datetime.datetime(2010, 5, 24, 13, 0, 30), contributors_enabled=False, location=u'Madrid', profile_sidebar_border_color=u'BDDCAD', default_profile=False, following=False), geo=None, in_reply_to_user_id_str=None, possibly_sensitive=False, lang=u'es', created_at=datetime.datetime(2015, 6, 29, 15, 42, 1), in_reply_to_status_id_str=None, place=None, source=u'TweetDeck', retweeted=False, metadata={u'iso_language_code': u'es', u'result_type': u'recent'}), source_url=u'http://twitter.com/download/android', user=User(follow_request_sent=False, has_extended_profile=False, profile_use_background_image=True, _json={u'follow_request_sent': False, u'has_extended_profile': False, u'profile_use_background_image': True, u'default_profile_image': False, u'id': 3158196440, u'profile_background_image_url_https': u'https://abs.twimg.com/images/themes/theme1/bg.png', u'verified': False, u'profile_text_color': u'333333', u'profile_image_url_https': u'https://pbs.twimg.com/profile_images/597139547538006016/jvEsgva-_normal.jpg', u'profile_sidebar_fill_color': u'DDEEF6', u'entities': {u'url': {u'urls': [{u'url': u'http://t.co/jd5KktzwUB', u'indices': [0, 22], u'expanded_url': u'http://www.legalhackers.org', u'display_url': u'legalhackers.org'}]}, u'description': {u'urls': []}}, u'followers_count': 134, u'profile_sidebar_border_color': u'C0DEED', u'id_str': u'3158196440', u'profile_background_color': u'C0DEED', u'listed_count': 11, u'is_translation_enabled': False, u'utc_offset': None, u'statuses_count': 144, u'description': u'At the intersection of law & tech, thinking and creating. We are explorers. We are doers. Madrid chapter. Curated by @laurafauq & @gperezalonso #legalhack', u'friends_count': 88, u'location': u'Madrid \\u2022 Spain', u'profile_link_color': u'0084B4', u'profile_image_url': u'http://pbs.twimg.com/profile_images/597139547538006016/jvEsgva-_normal.jpg', u'following': False, u'geo_enabled': False, u'profile_banner_url': u'https://pbs.twimg.com/profile_banners/3158196440/1431207186', u'profile_background_image_url': u'http://abs.twimg.com/images/themes/theme1/bg.png', u'screen_name': u'LegalHackersMAD', u'lang': u'es', u'profile_background_tile': False, u'favourites_count': 81, u'name': u'Legal Hackers Madrid', u'notifications': False, u'url': u'http://t.co/jd5KktzwUB', u'created_at': u'Wed Apr 15 20:58:57 +0000 2015', u'contributors_enabled': False, u'time_zone': None, u'protected': False, u'default_profile': True, u'is_translator': False}, time_zone=None, id=3158196440, _api=<tweepy.api.API object at 0x10319bed0>, verified=False, profile_text_color=u'333333', profile_image_url_https=u'https://pbs.twimg.com/profile_images/597139547538006016/jvEsgva-_normal.jpg', profile_sidebar_fill_color=u'DDEEF6', is_translator=False, geo_enabled=False, entities={u'url': {u'urls': [{u'url': u'http://t.co/jd5KktzwUB', u'indices': [0, 22], u'expanded_url': u'http://www.legalhackers.org', u'display_url': u'legalhackers.org'}]}, u'description': {u'urls': []}}, followers_count=134, protected=False, id_str=u'3158196440', default_profile_image=False, listed_count=11, lang=u'es', utc_offset=None, statuses_count=144, description=u'At the intersection of law & tech, thinking and creating. We are explorers. We are doers. Madrid chapter. Curated by @laurafauq & @gperezalonso #legalhack', friends_count=88, profile_link_color=u'0084B4', profile_image_url=u'http://pbs.twimg.com/profile_images/597139547538006016/jvEsgva-_normal.jpg', notifications=False, profile_background_image_url_https=u'https://abs.twimg.com/images/themes/theme1/bg.png', profile_background_color=u'C0DEED', profile_banner_url=u'https://pbs.twimg.com/profile_banners/3158196440/1431207186', profile_background_image_url=u'http://abs.twimg.com/images/themes/theme1/bg.png', name=u'Legal Hackers Madrid', is_translation_enabled=False, profile_background_tile=False, favourites_count=81, screen_name=u'LegalHackersMAD', url=u'http://t.co/jd5KktzwUB', created_at=datetime.datetime(2015, 4, 15, 20, 58, 57), contributors_enabled=False, location=u'Madrid \\u2022 Spain', profile_sidebar_border_color=u'C0DEED', default_profile=True, following=False), geo=None, in_reply_to_user_id_str=None, possibly_sensitive=False, lang=u'es', created_at=datetime.datetime(2015, 6, 29, 16, 38, 20), in_reply_to_status_id_str=None, place=None, source=u'Twitter for Android', retweeted=False, metadata={u'iso_language_code': u'es', u'result_type': u'recent'}),\n",
       " Status(contributors=None, truncated=False, text=u\"The Supreme Court is still making rulings? I thought the same-sex marriage decision was their closer and they'd all exit the stage.\", is_quote_status=False, in_reply_to_status_id=None, id=615559939516428288, favorite_count=0, _api=<tweepy.api.API object at 0x10319bed0>, author=User(follow_request_sent=False, has_extended_profile=False, profile_use_background_image=True, _json={u'follow_request_sent': False, u'has_extended_profile': False, u'profile_use_background_image': True, u'default_profile_image': False, u'id': 71237512, u'profile_background_image_url_https': u'https://pbs.twimg.com/profile_background_images/378800000182129696/NeHD-N4P.jpeg', u'verified': False, u'profile_text_color': u'3E4415', u'profile_image_url_https': u'https://pbs.twimg.com/profile_images/481866743334187008/S-a0STQe_normal.jpeg', u'profile_sidebar_fill_color': u'C4CCB3', u'entities': {u'url': {u'urls': [{u'url': u'http://t.co/5OnrnzNjoO', u'indices': [0, 22], u'expanded_url': u'http://johnnyb-lateforthesky.blogspot.com', u'display_url': u'johnnyb-lateforthesky.blogspot.com'}]}, u'description': {u'urls': []}}, u'followers_count': 241, u'profile_sidebar_border_color': u'FFFFFF', u'id_str': u'71237512', u'profile_background_color': u'405E5B', u'listed_count': 8, u'is_translation_enabled': False, u'utc_offset': -14400, u'statuses_count': 2562, u'description': u'', u'friends_count': 253, u'location': u'', u'profile_link_color': u'D02B55', u'profile_image_url': u'http://pbs.twimg.com/profile_images/481866743334187008/S-a0STQe_normal.jpeg', u'following': False, u'geo_enabled': True, u'profile_banner_url': u'https://pbs.twimg.com/profile_banners/71237512/1403721118', u'profile_background_image_url': u'http://pbs.twimg.com/profile_background_images/378800000182129696/NeHD-N4P.jpeg', u'screen_name': u'JohnPaulBunyan', u'lang': u'en', u'profile_background_tile': True, u'favourites_count': 264, u'name': u'John Bunyan', u'notifications': False, u'url': u'http://t.co/5OnrnzNjoO', u'created_at': u'Thu Sep 03 12:12:19 +0000 2009', u'contributors_enabled': False, u'time_zone': u'Eastern Time (US & Canada)', u'protected': False, u'default_profile': False, u'is_translator': False}, time_zone=u'Eastern Time (US & Canada)', id=71237512, _api=<tweepy.api.API object at 0x10319bed0>, verified=False, profile_text_color=u'3E4415', profile_image_url_https=u'https://pbs.twimg.com/profile_images/481866743334187008/S-a0STQe_normal.jpeg', profile_sidebar_fill_color=u'C4CCB3', is_translator=False, geo_enabled=True, entities={u'url': {u'urls': [{u'url': u'http://t.co/5OnrnzNjoO', u'indices': [0, 22], u'expanded_url': u'http://johnnyb-lateforthesky.blogspot.com', u'display_url': u'johnnyb-lateforthesky.blogspot.com'}]}, u'description': {u'urls': []}}, followers_count=241, protected=False, id_str=u'71237512', default_profile_image=False, listed_count=8, lang=u'en', utc_offset=-14400, statuses_count=2562, description=u'', friends_count=253, profile_link_color=u'D02B55', profile_image_url=u'http://pbs.twimg.com/profile_images/481866743334187008/S-a0STQe_normal.jpeg', notifications=False, profile_background_image_url_https=u'https://pbs.twimg.com/profile_background_images/378800000182129696/NeHD-N4P.jpeg', profile_background_color=u'405E5B', profile_banner_url=u'https://pbs.twimg.com/profile_banners/71237512/1403721118', profile_background_image_url=u'http://pbs.twimg.com/profile_background_images/378800000182129696/NeHD-N4P.jpeg', name=u'John Bunyan', is_translation_enabled=False, profile_background_tile=True, favourites_count=264, screen_name=u'JohnPaulBunyan', url=u'http://t.co/5OnrnzNjoO', created_at=datetime.datetime(2009, 9, 3, 12, 12, 19), contributors_enabled=False, location=u'', profile_sidebar_border_color=u'FFFFFF', default_profile=False, following=False), _json={u'contributors': None, u'truncated': False, u'text': u\"The Supreme Court is still making rulings? I thought the same-sex marriage decision was their closer and they'd all exit the stage.\", u'is_quote_status': False, u'in_reply_to_status_id': None, u'id': 615559939516428288, u'favorite_count': 0, u'source': u'<a href=\"http://twitter.com\" rel=\"nofollow\">Twitter Web Client</a>', u'retweeted': False, u'coordinates': None, u'entities': {u'symbols': [], u'user_mentions': [], u'hashtags': [], u'urls': []}, u'in_reply_to_screen_name': None, u'in_reply_to_user_id': None, u'retweet_count': 0, u'id_str': u'615559939516428288', u'favorited': False, u'user': {u'follow_request_sent': False, u'has_extended_profile': False, u'profile_use_background_image': True, u'default_profile_image': False, u'id': 71237512, u'profile_background_image_url_https': u'https://pbs.twimg.com/profile_background_images/378800000182129696/NeHD-N4P.jpeg', u'verified': False, u'profile_text_color': u'3E4415', u'profile_image_url_https': u'https://pbs.twimg.com/profile_images/481866743334187008/S-a0STQe_normal.jpeg', u'profile_sidebar_fill_color': u'C4CCB3', u'entities': {u'url': {u'urls': [{u'url': u'http://t.co/5OnrnzNjoO', u'indices': [0, 22], u'expanded_url': u'http://johnnyb-lateforthesky.blogspot.com', u'display_url': u'johnnyb-lateforthesky.blogspot.com'}]}, u'description': {u'urls': []}}, u'followers_count': 241, u'profile_sidebar_border_color': u'FFFFFF', u'id_str': u'71237512', u'profile_background_color': u'405E5B', u'listed_count': 8, u'is_translation_enabled': False, u'utc_offset': -14400, u'statuses_count': 2562, u'description': u'', u'friends_count': 253, u'location': u'', u'profile_link_color': u'D02B55', u'profile_image_url': u'http://pbs.twimg.com/profile_images/481866743334187008/S-a0STQe_normal.jpeg', u'following': False, u'geo_enabled': True, u'profile_banner_url': u'https://pbs.twimg.com/profile_banners/71237512/1403721118', u'profile_background_image_url': u'http://pbs.twimg.com/profile_background_images/378800000182129696/NeHD-N4P.jpeg', u'screen_name': u'JohnPaulBunyan', u'lang': u'en', u'profile_background_tile': True, u'favourites_count': 264, u'name': u'John Bunyan', u'notifications': False, u'url': u'http://t.co/5OnrnzNjoO', u'created_at': u'Thu Sep 03 12:12:19 +0000 2009', u'contributors_enabled': False, u'time_zone': u'Eastern Time (US & Canada)', u'protected': False, u'default_profile': False, u'is_translator': False}, u'geo': None, u'in_reply_to_user_id_str': None, u'lang': u'en', u'created_at': u'Mon Jun 29 16:38:20 +0000 2015', u'in_reply_to_status_id_str': None, u'place': None, u'metadata': {u'iso_language_code': u'en', u'result_type': u'recent'}}, coordinates=None, entities={u'symbols': [], u'user_mentions': [], u'hashtags': [], u'urls': []}, in_reply_to_screen_name=None, id_str=u'615559939516428288', retweet_count=0, in_reply_to_user_id=None, favorited=False, source_url=u'http://twitter.com', user=User(follow_request_sent=False, has_extended_profile=False, profile_use_background_image=True, _json={u'follow_request_sent': False, u'has_extended_profile': False, u'profile_use_background_image': True, u'default_profile_image': False, u'id': 71237512, u'profile_background_image_url_https': u'https://pbs.twimg.com/profile_background_images/378800000182129696/NeHD-N4P.jpeg', u'verified': False, u'profile_text_color': u'3E4415', u'profile_image_url_https': u'https://pbs.twimg.com/profile_images/481866743334187008/S-a0STQe_normal.jpeg', u'profile_sidebar_fill_color': u'C4CCB3', u'entities': {u'url': {u'urls': [{u'url': u'http://t.co/5OnrnzNjoO', u'indices': [0, 22], u'expanded_url': u'http://johnnyb-lateforthesky.blogspot.com', u'display_url': u'johnnyb-lateforthesky.blogspot.com'}]}, u'description': {u'urls': []}}, u'followers_count': 241, u'profile_sidebar_border_color': u'FFFFFF', u'id_str': u'71237512', u'profile_background_color': u'405E5B', u'listed_count': 8, u'is_translation_enabled': False, u'utc_offset': -14400, u'statuses_count': 2562, u'description': u'', u'friends_count': 253, u'location': u'', u'profile_link_color': u'D02B55', u'profile_image_url': u'http://pbs.twimg.com/profile_images/481866743334187008/S-a0STQe_normal.jpeg', u'following': False, u'geo_enabled': True, u'profile_banner_url': u'https://pbs.twimg.com/profile_banners/71237512/1403721118', u'profile_background_image_url': u'http://pbs.twimg.com/profile_background_images/378800000182129696/NeHD-N4P.jpeg', u'screen_name': u'JohnPaulBunyan', u'lang': u'en', u'profile_background_tile': True, u'favourites_count': 264, u'name': u'John Bunyan', u'notifications': False, u'url': u'http://t.co/5OnrnzNjoO', u'created_at': u'Thu Sep 03 12:12:19 +0000 2009', u'contributors_enabled': False, u'time_zone': u'Eastern Time (US & Canada)', u'protected': False, u'default_profile': False, u'is_translator': False}, time_zone=u'Eastern Time (US & Canada)', id=71237512, _api=<tweepy.api.API object at 0x10319bed0>, verified=False, profile_text_color=u'3E4415', profile_image_url_https=u'https://pbs.twimg.com/profile_images/481866743334187008/S-a0STQe_normal.jpeg', profile_sidebar_fill_color=u'C4CCB3', is_translator=False, geo_enabled=True, entities={u'url': {u'urls': [{u'url': u'http://t.co/5OnrnzNjoO', u'indices': [0, 22], u'expanded_url': u'http://johnnyb-lateforthesky.blogspot.com', u'display_url': u'johnnyb-lateforthesky.blogspot.com'}]}, u'description': {u'urls': []}}, followers_count=241, protected=False, id_str=u'71237512', default_profile_image=False, listed_count=8, lang=u'en', utc_offset=-14400, statuses_count=2562, description=u'', friends_count=253, profile_link_color=u'D02B55', profile_image_url=u'http://pbs.twimg.com/profile_images/481866743334187008/S-a0STQe_normal.jpeg', notifications=False, profile_background_image_url_https=u'https://pbs.twimg.com/profile_background_images/378800000182129696/NeHD-N4P.jpeg', profile_background_color=u'405E5B', profile_banner_url=u'https://pbs.twimg.com/profile_banners/71237512/1403721118', profile_background_image_url=u'http://pbs.twimg.com/profile_background_images/378800000182129696/NeHD-N4P.jpeg', name=u'John Bunyan', is_translation_enabled=False, profile_background_tile=True, favourites_count=264, screen_name=u'JohnPaulBunyan', url=u'http://t.co/5OnrnzNjoO', created_at=datetime.datetime(2009, 9, 3, 12, 12, 19), contributors_enabled=False, location=u'', profile_sidebar_border_color=u'FFFFFF', default_profile=False, following=False), geo=None, in_reply_to_user_id_str=None, lang=u'en', created_at=datetime.datetime(2015, 6, 29, 16, 38, 20), in_reply_to_status_id_str=None, place=None, source=u'Twitter Web Client', retweeted=False, metadata={u'iso_language_code': u'en', u'result_type': u'recent'}),\n",
       " Status(contributors=None, truncated=False, text=u'Supreme Court Rules That Clean Air Is Too Expensive http://t.co/s0kXropnJs', is_quote_status=False, in_reply_to_status_id=None, id=615559938325221380, favorite_count=0, _api=<tweepy.api.API object at 0x10319bed0>, author=User(follow_request_sent=False, has_extended_profile=False, profile_use_background_image=True, _json={u'follow_request_sent': False, u'has_extended_profile': False, u'profile_use_background_image': True, u'default_profile_image': False, u'id': 3302113467, u'profile_background_image_url_https': u'https://abs.twimg.com/images/themes/theme1/bg.png', u'verified': False, u'profile_text_color': u'333333', u'profile_image_url_https': u'https://pbs.twimg.com/profile_images/607137427732328449/M_8B0EX7_normal.jpg', u'profile_sidebar_fill_color': u'DDEEF6', u'entities': {u'description': {u'urls': [{u'url': u'http://t.co/tBtCNKa35H', u'indices': [90, 112], u'expanded_url': u'http://www.prologicwebdesign.com/T', u'display_url': u'prologicwebdesign.com/T'}]}}, u'followers_count': 125, u'profile_sidebar_border_color': u'C0DEED', u'id_str': u'3302113467', u'profile_background_color': u'C0DEED', u'listed_count': 1, u'is_translation_enabled': False, u'utc_offset': None, u'statuses_count': 2956, u'description': u'Web Design & Development. Get WordPress Website in $149 : Call +1-800-219-0366 or visit : http://t.co/tBtCNKa35H', u'friends_count': 2000, u'location': u'', u'profile_link_color': u'0084B4', u'profile_image_url': u'http://pbs.twimg.com/profile_images/607137427732328449/M_8B0EX7_normal.jpg', u'following': False, u'geo_enabled': False, u'profile_background_image_url': u'http://abs.twimg.com/images/themes/theme1/bg.png', u'screen_name': u'lgrukhina', u'lang': u'en', u'profile_background_tile': False, u'favourites_count': 0, u'name': u'Angel  Wallenberg', u'notifications': False, u'url': None, u'created_at': u'Thu May 28 20:56:53 +0000 2015', u'contributors_enabled': False, u'time_zone': None, u'protected': False, u'default_profile': True, u'is_translator': False}, time_zone=None, id=3302113467, _api=<tweepy.api.API object at 0x10319bed0>, verified=False, profile_text_color=u'333333', profile_image_url_https=u'https://pbs.twimg.com/profile_images/607137427732328449/M_8B0EX7_normal.jpg', profile_sidebar_fill_color=u'DDEEF6', is_translator=False, geo_enabled=False, entities={u'description': {u'urls': [{u'url': u'http://t.co/tBtCNKa35H', u'indices': [90, 112], u'expanded_url': u'http://www.prologicwebdesign.com/T', u'display_url': u'prologicwebdesign.com/T'}]}}, followers_count=125, protected=False, id_str=u'3302113467', default_profile_image=False, listed_count=1, lang=u'en', utc_offset=None, statuses_count=2956, description=u'Web Design & Development. Get WordPress Website in $149 : Call +1-800-219-0366 or visit : http://t.co/tBtCNKa35H', friends_count=2000, profile_link_color=u'0084B4', profile_image_url=u'http://pbs.twimg.com/profile_images/607137427732328449/M_8B0EX7_normal.jpg', notifications=False, profile_background_image_url_https=u'https://abs.twimg.com/images/themes/theme1/bg.png', profile_background_color=u'C0DEED', profile_background_image_url=u'http://abs.twimg.com/images/themes/theme1/bg.png', name=u'Angel  Wallenberg', is_translation_enabled=False, profile_background_tile=False, favourites_count=0, screen_name=u'lgrukhina', url=None, created_at=datetime.datetime(2015, 5, 28, 20, 56, 53), contributors_enabled=False, location=u'', profile_sidebar_border_color=u'C0DEED', default_profile=True, following=False), _json={u'contributors': None, u'truncated': False, u'text': u'Supreme Court Rules That Clean Air Is Too Expensive http://t.co/s0kXropnJs', u'is_quote_status': False, u'in_reply_to_status_id': None, u'id': 615559938325221380, u'favorite_count': 0, u'source': u'<a href=\"http://ifttt.com\" rel=\"nofollow\">IFTTT</a>', u'retweeted': False, u'coordinates': None, u'entities': {u'symbols': [], u'user_mentions': [], u'hashtags': [], u'urls': [{u'url': u'http://t.co/s0kXropnJs', u'indices': [52, 74], u'expanded_url': u'http://ift.tt/1LE1N78', u'display_url': u'ift.tt/1LE1N78'}]}, u'in_reply_to_screen_name': None, u'in_reply_to_user_id': None, u'retweet_count': 0, u'id_str': u'615559938325221380', u'favorited': False, u'user': {u'follow_request_sent': False, u'has_extended_profile': False, u'profile_use_background_image': True, u'default_profile_image': False, u'id': 3302113467, u'profile_background_image_url_https': u'https://abs.twimg.com/images/themes/theme1/bg.png', u'verified': False, u'profile_text_color': u'333333', u'profile_image_url_https': u'https://pbs.twimg.com/profile_images/607137427732328449/M_8B0EX7_normal.jpg', u'profile_sidebar_fill_color': u'DDEEF6', u'entities': {u'description': {u'urls': [{u'url': u'http://t.co/tBtCNKa35H', u'indices': [90, 112], u'expanded_url': u'http://www.prologicwebdesign.com/T', u'display_url': u'prologicwebdesign.com/T'}]}}, u'followers_count': 125, u'profile_sidebar_border_color': u'C0DEED', u'id_str': u'3302113467', u'profile_background_color': u'C0DEED', u'listed_count': 1, u'is_translation_enabled': False, u'utc_offset': None, u'statuses_count': 2956, u'description': u'Web Design & Development. Get WordPress Website in $149 : Call +1-800-219-0366 or visit : http://t.co/tBtCNKa35H', u'friends_count': 2000, u'location': u'', u'profile_link_color': u'0084B4', u'profile_image_url': u'http://pbs.twimg.com/profile_images/607137427732328449/M_8B0EX7_normal.jpg', u'following': False, u'geo_enabled': False, u'profile_background_image_url': u'http://abs.twimg.com/images/themes/theme1/bg.png', u'screen_name': u'lgrukhina', u'lang': u'en', u'profile_background_tile': False, u'favourites_count': 0, u'name': u'Angel  Wallenberg', u'notifications': False, u'url': None, u'created_at': u'Thu May 28 20:56:53 +0000 2015', u'contributors_enabled': False, u'time_zone': None, u'protected': False, u'default_profile': True, u'is_translator': False}, u'geo': None, u'in_reply_to_user_id_str': None, u'possibly_sensitive': False, u'lang': u'en', u'created_at': u'Mon Jun 29 16:38:20 +0000 2015', u'in_reply_to_status_id_str': None, u'place': None, u'metadata': {u'iso_language_code': u'en', u'result_type': u'recent'}}, coordinates=None, entities={u'symbols': [], u'user_mentions': [], u'hashtags': [], u'urls': [{u'url': u'http://t.co/s0kXropnJs', u'indices': [52, 74], u'expanded_url': u'http://ift.tt/1LE1N78', u'display_url': u'ift.tt/1LE1N78'}]}, in_reply_to_screen_name=None, id_str=u'615559938325221380', retweet_count=0, in_reply_to_user_id=None, favorited=False, source_url=u'http://ifttt.com', user=User(follow_request_sent=False, has_extended_profile=False, profile_use_background_image=True, _json={u'follow_request_sent': False, u'has_extended_profile': False, u'profile_use_background_image': True, u'default_profile_image': False, u'id': 3302113467, u'profile_background_image_url_https': u'https://abs.twimg.com/images/themes/theme1/bg.png', u'verified': False, u'profile_text_color': u'333333', u'profile_image_url_https': u'https://pbs.twimg.com/profile_images/607137427732328449/M_8B0EX7_normal.jpg', u'profile_sidebar_fill_color': u'DDEEF6', u'entities': {u'description': {u'urls': [{u'url': u'http://t.co/tBtCNKa35H', u'indices': [90, 112], u'expanded_url': u'http://www.prologicwebdesign.com/T', u'display_url': u'prologicwebdesign.com/T'}]}}, u'followers_count': 125, u'profile_sidebar_border_color': u'C0DEED', u'id_str': u'3302113467', u'profile_background_color': u'C0DEED', u'listed_count': 1, u'is_translation_enabled': False, u'utc_offset': None, u'statuses_count': 2956, u'description': u'Web Design & Development. Get WordPress Website in $149 : Call +1-800-219-0366 or visit : http://t.co/tBtCNKa35H', u'friends_count': 2000, u'location': u'', u'profile_link_color': u'0084B4', u'profile_image_url': u'http://pbs.twimg.com/profile_images/607137427732328449/M_8B0EX7_normal.jpg', u'following': False, u'geo_enabled': False, u'profile_background_image_url': u'http://abs.twimg.com/images/themes/theme1/bg.png', u'screen_name': u'lgrukhina', u'lang': u'en', u'profile_background_tile': False, u'favourites_count': 0, u'name': u'Angel  Wallenberg', u'notifications': False, u'url': None, u'created_at': u'Thu May 28 20:56:53 +0000 2015', u'contributors_enabled': False, u'time_zone': None, u'protected': False, u'default_profile': True, u'is_translator': False}, time_zone=None, id=3302113467, _api=<tweepy.api.API object at 0x10319bed0>, verified=False, profile_text_color=u'333333', profile_image_url_https=u'https://pbs.twimg.com/profile_images/607137427732328449/M_8B0EX7_normal.jpg', profile_sidebar_fill_color=u'DDEEF6', is_translator=False, geo_enabled=False, entities={u'description': {u'urls': [{u'url': u'http://t.co/tBtCNKa35H', u'indices': [90, 112], u'expanded_url': u'http://www.prologicwebdesign.com/T', u'display_url': u'prologicwebdesign.com/T'}]}}, followers_count=125, protected=False, id_str=u'3302113467', default_profile_image=False, listed_count=1, lang=u'en', utc_offset=None, statuses_count=2956, description=u'Web Design & Development. Get WordPress Website in $149 : Call +1-800-219-0366 or visit : http://t.co/tBtCNKa35H', friends_count=2000, profile_link_color=u'0084B4', profile_image_url=u'http://pbs.twimg.com/profile_images/607137427732328449/M_8B0EX7_normal.jpg', notifications=False, profile_background_image_url_https=u'https://abs.twimg.com/images/themes/theme1/bg.png', profile_background_color=u'C0DEED', profile_background_image_url=u'http://abs.twimg.com/images/themes/theme1/bg.png', name=u'Angel  Wallenberg', is_translation_enabled=False, profile_background_tile=False, favourites_count=0, screen_name=u'lgrukhina', url=None, created_at=datetime.datetime(2015, 5, 28, 20, 56, 53), contributors_enabled=False, location=u'', profile_sidebar_border_color=u'C0DEED', default_profile=True, following=False), geo=None, in_reply_to_user_id_str=None, possibly_sensitive=False, lang=u'en', created_at=datetime.datetime(2015, 6, 29, 16, 38, 20), in_reply_to_status_id_str=None, place=None, source=u'IFTTT', retweeted=False, metadata={u'iso_language_code': u'en', u'result_type': u'recent'}),\n",
       " Status(contributors=None, truncated=False, text=u'RT @nytimes: Supreme Court refuses to ban an execution drug that 3 death-row inmates said risks causing excruciating pain http://t.co/LfSPE\\u2026', is_quote_status=False, in_reply_to_status_id=None, id=615559936601239552, favorite_count=0, _api=<tweepy.api.API object at 0x10319bed0>, author=User(follow_request_sent=False, has_extended_profile=False, profile_use_background_image=True, _json={u'follow_request_sent': False, u'has_extended_profile': False, u'profile_use_background_image': True, u'default_profile_image': False, u'id': 42101913, u'profile_background_image_url_https': u'https://abs.twimg.com/images/themes/theme1/bg.png', u'verified': False, u'profile_text_color': u'333333', u'profile_image_url_https': u'https://pbs.twimg.com/profile_images/2738557721/2f7e208c42a31d5a95aef412a893a3d0_normal.jpeg', u'profile_sidebar_fill_color': u'DDEEF6', u'entities': {u'url': {u'urls': [{u'url': u'http://t.co/sZP43qecT8', u'indices': [0, 22], u'expanded_url': u'http://www.BarbaraArnwine.com', u'display_url': u'BarbaraArnwine.com'}]}, u'description': {u'urls': []}}, u'followers_count': 4128, u'profile_sidebar_border_color': u'C0DEED', u'id_str': u'42101913', u'profile_background_color': u'C0DEED', u'listed_count': 163, u'is_translation_enabled': False, u'utc_offset': -14400, u'statuses_count': 30231, u'description': u'President @LawyersComm. Civil rights activist & Igniting Change Host Radio One. Securing right to #vote for ALL. Listen Tuesday Noon http://www.barbaraarnwine', u'friends_count': 1653, u'location': u'Washington, DC', u'profile_link_color': u'0084B4', u'profile_image_url': u'http://pbs.twimg.com/profile_images/2738557721/2f7e208c42a31d5a95aef412a893a3d0_normal.jpeg', u'following': False, u'geo_enabled': True, u'profile_background_image_url': u'http://abs.twimg.com/images/themes/theme1/bg.png', u'screen_name': u'barbs73', u'lang': u'en', u'profile_background_tile': False, u'favourites_count': 4146, u'name': u'Barbara Arnwine', u'notifications': False, u'url': u'http://t.co/sZP43qecT8', u'created_at': u'Sat May 23 21:33:52 +0000 2009', u'contributors_enabled': False, u'time_zone': u'Eastern Time (US & Canada)', u'protected': False, u'default_profile': True, u'is_translator': False}, time_zone=u'Eastern Time (US & Canada)', id=42101913, _api=<tweepy.api.API object at 0x10319bed0>, verified=False, profile_text_color=u'333333', profile_image_url_https=u'https://pbs.twimg.com/profile_images/2738557721/2f7e208c42a31d5a95aef412a893a3d0_normal.jpeg', profile_sidebar_fill_color=u'DDEEF6', is_translator=False, geo_enabled=True, entities={u'url': {u'urls': [{u'url': u'http://t.co/sZP43qecT8', u'indices': [0, 22], u'expanded_url': u'http://www.BarbaraArnwine.com', u'display_url': u'BarbaraArnwine.com'}]}, u'description': {u'urls': []}}, followers_count=4128, protected=False, id_str=u'42101913', default_profile_image=False, listed_count=163, lang=u'en', utc_offset=-14400, statuses_count=30231, description=u'President @LawyersComm. Civil rights activist & Igniting Change Host Radio One. Securing right to #vote for ALL. Listen Tuesday Noon http://www.barbaraarnwine', friends_count=1653, profile_link_color=u'0084B4', profile_image_url=u'http://pbs.twimg.com/profile_images/2738557721/2f7e208c42a31d5a95aef412a893a3d0_normal.jpeg', notifications=False, profile_background_image_url_https=u'https://abs.twimg.com/images/themes/theme1/bg.png', profile_background_color=u'C0DEED', profile_background_image_url=u'http://abs.twimg.com/images/themes/theme1/bg.png', name=u'Barbara Arnwine', is_translation_enabled=False, profile_background_tile=False, favourites_count=4146, screen_name=u'barbs73', url=u'http://t.co/sZP43qecT8', created_at=datetime.datetime(2009, 5, 23, 21, 33, 52), contributors_enabled=False, location=u'Washington, DC', profile_sidebar_border_color=u'C0DEED', default_profile=True, following=False), _json={u'contributors': None, u'truncated': False, u'text': u'RT @nytimes: Supreme Court refuses to ban an execution drug that 3 death-row inmates said risks causing excruciating pain http://t.co/LfSPE\\u2026', u'is_quote_status': False, u'in_reply_to_status_id': None, u'id': 615559936601239552, u'favorite_count': 0, u'source': u'<a href=\"http://twitter.com/#!/download/ipad\" rel=\"nofollow\">Twitter for iPad</a>', u'retweeted': False, u'coordinates': None, u'entities': {u'symbols': [], u'user_mentions': [{u'id': 807095, u'indices': [3, 11], u'id_str': u'807095', u'screen_name': u'nytimes', u'name': u'The New York Times'}], u'hashtags': [], u'urls': [{u'url': u'http://t.co/LfSPEtdy6A', u'indices': [122, 140], u'expanded_url': u'http://nyti.ms/1LDVcd6', u'display_url': u'nyti.ms/1LDVcd6'}]}, u'in_reply_to_screen_name': None, u'in_reply_to_user_id': None, u'retweet_count': 9, u'id_str': u'615559936601239552', u'favorited': False, u'retweeted_status': {u'contributors': None, u'truncated': False, u'text': u'Supreme Court refuses to ban an execution drug that 3 death-row inmates said risks causing excruciating pain http://t.co/LfSPEtdy6A', u'is_quote_status': False, u'in_reply_to_status_id': None, u'id': 615559603393294337, u'favorite_count': 12, u'source': u'<a href=\"http://www.socialflow.com\" rel=\"nofollow\">SocialFlow</a>', u'retweeted': False, u'coordinates': None, u'entities': {u'symbols': [], u'user_mentions': [], u'hashtags': [], u'urls': [{u'url': u'http://t.co/LfSPEtdy6A', u'indices': [109, 131], u'expanded_url': u'http://nyti.ms/1LDVcd6', u'display_url': u'nyti.ms/1LDVcd6'}]}, u'in_reply_to_screen_name': None, u'in_reply_to_user_id': None, u'retweet_count': 9, u'id_str': u'615559603393294337', u'favorited': False, u'user': {u'follow_request_sent': False, u'has_extended_profile': False, u'profile_use_background_image': True, u'default_profile_image': False, u'id': 807095, u'profile_background_image_url_https': u'https://pbs.twimg.com/profile_background_images/736339684/948f072cc2da4e3a5e9f2ebfb3b1a0e7.png', u'verified': True, u'profile_text_color': u'333333', u'profile_image_url_https': u'https://pbs.twimg.com/profile_images/2044921128/finals_normal.png', u'profile_sidebar_fill_color': u'EFEFEF', u'entities': {u'url': {u'urls': [{u'url': u'http://t.co/ahvuWqicF9', u'indices': [0, 22], u'expanded_url': u'http://www.nytimes.com/', u'display_url': u'nytimes.com'}]}, u'description': {u'urls': [{u'url': u'http://t.co/YapuoqX0HS', u'indices': [111, 133], u'expanded_url': u'http://NYTimes.com', u'display_url': u'NYTimes.com'}]}}, u'followers_count': 17616934, u'profile_sidebar_border_color': u'FFFFFF', u'id_str': u'807095', u'profile_background_color': u'131516', u'listed_count': 162415, u'is_translation_enabled': True, u'utc_offset': -14400, u'statuses_count': 188281, u'description': u'Where the conversation begins. Follow for breaking news, special reports, RTs of our journalists and more from http://t.co/YapuoqX0HS', u'friends_count': 993, u'location': u'New York City', u'profile_link_color': u'607696', u'profile_image_url': u'http://pbs.twimg.com/profile_images/2044921128/finals_normal.png', u'following': True, u'geo_enabled': False, u'profile_banner_url': u'https://pbs.twimg.com/profile_banners/807095/1355346050', u'profile_background_image_url': u'http://pbs.twimg.com/profile_background_images/736339684/948f072cc2da4e3a5e9f2ebfb3b1a0e7.png', u'screen_name': u'nytimes', u'lang': u'en', u'profile_background_tile': True, u'favourites_count': 5622, u'name': u'The New York Times', u'notifications': False, u'url': u'http://t.co/ahvuWqicF9', u'created_at': u'Fri Mar 02 20:41:42 +0000 2007', u'contributors_enabled': False, u'time_zone': u'Eastern Time (US & Canada)', u'protected': False, u'default_profile': False, u'is_translator': False}, u'geo': None, u'in_reply_to_user_id_str': None, u'possibly_sensitive': False, u'lang': u'en', u'created_at': u'Mon Jun 29 16:37:00 +0000 2015', u'in_reply_to_status_id_str': None, u'place': None, u'metadata': {u'iso_language_code': u'en', u'result_type': u'recent'}}, u'user': {u'follow_request_sent': False, u'has_extended_profile': False, u'profile_use_background_image': True, u'default_profile_image': False, u'id': 42101913, u'profile_background_image_url_https': u'https://abs.twimg.com/images/themes/theme1/bg.png', u'verified': False, u'profile_text_color': u'333333', u'profile_image_url_https': u'https://pbs.twimg.com/profile_images/2738557721/2f7e208c42a31d5a95aef412a893a3d0_normal.jpeg', u'profile_sidebar_fill_color': u'DDEEF6', u'entities': {u'url': {u'urls': [{u'url': u'http://t.co/sZP43qecT8', u'indices': [0, 22], u'expanded_url': u'http://www.BarbaraArnwine.com', u'display_url': u'BarbaraArnwine.com'}]}, u'description': {u'urls': []}}, u'followers_count': 4128, u'profile_sidebar_border_color': u'C0DEED', u'id_str': u'42101913', u'profile_background_color': u'C0DEED', u'listed_count': 163, u'is_translation_enabled': False, u'utc_offset': -14400, u'statuses_count': 30231, u'description': u'President @LawyersComm. Civil rights activist & Igniting Change Host Radio One. Securing right to #vote for ALL. Listen Tuesday Noon http://www.barbaraarnwine', u'friends_count': 1653, u'location': u'Washington, DC', u'profile_link_color': u'0084B4', u'profile_image_url': u'http://pbs.twimg.com/profile_images/2738557721/2f7e208c42a31d5a95aef412a893a3d0_normal.jpeg', u'following': False, u'geo_enabled': True, u'profile_background_image_url': u'http://abs.twimg.com/images/themes/theme1/bg.png', u'screen_name': u'barbs73', u'lang': u'en', u'profile_background_tile': False, u'favourites_count': 4146, u'name': u'Barbara Arnwine', u'notifications': False, u'url': u'http://t.co/sZP43qecT8', u'created_at': u'Sat May 23 21:33:52 +0000 2009', u'contributors_enabled': False, u'time_zone': u'Eastern Time (US & Canada)', u'protected': False, u'default_profile': True, u'is_translator': False}, u'geo': None, u'in_reply_to_user_id_str': None, u'possibly_sensitive': False, u'lang': u'en', u'created_at': u'Mon Jun 29 16:38:20 +0000 2015', u'in_reply_to_status_id_str': None, u'place': None, u'metadata': {u'iso_language_code': u'en', u'result_type': u'recent'}}, coordinates=None, entities={u'symbols': [], u'user_mentions': [{u'id': 807095, u'indices': [3, 11], u'id_str': u'807095', u'screen_name': u'nytimes', u'name': u'The New York Times'}], u'hashtags': [], u'urls': [{u'url': u'http://t.co/LfSPEtdy6A', u'indices': [122, 140], u'expanded_url': u'http://nyti.ms/1LDVcd6', u'display_url': u'nyti.ms/1LDVcd6'}]}, in_reply_to_screen_name=None, id_str=u'615559936601239552', retweet_count=9, in_reply_to_user_id=None, favorited=False, retweeted_status=Status(contributors=None, truncated=False, text=u'Supreme Court refuses to ban an execution drug that 3 death-row inmates said risks causing excruciating pain http://t.co/LfSPEtdy6A', is_quote_status=False, in_reply_to_status_id=None, id=615559603393294337, favorite_count=12, _api=<tweepy.api.API object at 0x10319bed0>, author=User(follow_request_sent=False, has_extended_profile=False, profile_use_background_image=True, _json={u'follow_request_sent': False, u'has_extended_profile': False, u'profile_use_background_image': True, u'default_profile_image': False, u'id': 807095, u'profile_background_image_url_https': u'https://pbs.twimg.com/profile_background_images/736339684/948f072cc2da4e3a5e9f2ebfb3b1a0e7.png', u'verified': True, u'profile_text_color': u'333333', u'profile_image_url_https': u'https://pbs.twimg.com/profile_images/2044921128/finals_normal.png', u'profile_sidebar_fill_color': u'EFEFEF', u'entities': {u'url': {u'urls': [{u'url': u'http://t.co/ahvuWqicF9', u'indices': [0, 22], u'expanded_url': u'http://www.nytimes.com/', u'display_url': u'nytimes.com'}]}, u'description': {u'urls': [{u'url': u'http://t.co/YapuoqX0HS', u'indices': [111, 133], u'expanded_url': u'http://NYTimes.com', u'display_url': u'NYTimes.com'}]}}, u'followers_count': 17616934, u'profile_sidebar_border_color': u'FFFFFF', u'id_str': u'807095', u'profile_background_color': u'131516', u'listed_count': 162415, u'is_translation_enabled': True, u'utc_offset': -14400, u'statuses_count': 188281, u'description': u'Where the conversation begins. Follow for breaking news, special reports, RTs of our journalists and more from http://t.co/YapuoqX0HS', u'friends_count': 993, u'location': u'New York City', u'profile_link_color': u'607696', u'profile_image_url': u'http://pbs.twimg.com/profile_images/2044921128/finals_normal.png', u'following': True, u'geo_enabled': False, u'profile_banner_url': u'https://pbs.twimg.com/profile_banners/807095/1355346050', u'profile_background_image_url': u'http://pbs.twimg.com/profile_background_images/736339684/948f072cc2da4e3a5e9f2ebfb3b1a0e7.png', u'screen_name': u'nytimes', u'lang': u'en', u'profile_background_tile': True, u'favourites_count': 5622, u'name': u'The New York Times', u'notifications': False, u'url': u'http://t.co/ahvuWqicF9', u'created_at': u'Fri Mar 02 20:41:42 +0000 2007', u'contributors_enabled': False, u'time_zone': u'Eastern Time (US & Canada)', u'protected': False, u'default_profile': False, u'is_translator': False}, time_zone=u'Eastern Time (US & Canada)', id=807095, _api=<tweepy.api.API object at 0x10319bed0>, verified=True, profile_text_color=u'333333', profile_image_url_https=u'https://pbs.twimg.com/profile_images/2044921128/finals_normal.png', profile_sidebar_fill_color=u'EFEFEF', is_translator=False, geo_enabled=False, entities={u'url': {u'urls': [{u'url': u'http://t.co/ahvuWqicF9', u'indices': [0, 22], u'expanded_url': u'http://www.nytimes.com/', u'display_url': u'nytimes.com'}]}, u'description': {u'urls': [{u'url': u'http://t.co/YapuoqX0HS', u'indices': [111, 133], u'expanded_url': u'http://NYTimes.com', u'display_url': u'NYTimes.com'}]}}, followers_count=17616934, protected=False, id_str=u'807095', default_profile_image=False, listed_count=162415, lang=u'en', utc_offset=-14400, statuses_count=188281, description=u'Where the conversation begins. Follow for breaking news, special reports, RTs of our journalists and more from http://t.co/YapuoqX0HS', friends_count=993, profile_link_color=u'607696', profile_image_url=u'http://pbs.twimg.com/profile_images/2044921128/finals_normal.png', notifications=False, profile_background_image_url_https=u'https://pbs.twimg.com/profile_background_images/736339684/948f072cc2da4e3a5e9f2ebfb3b1a0e7.png', profile_background_color=u'131516', profile_banner_url=u'https://pbs.twimg.com/profile_banners/807095/1355346050', profile_background_image_url=u'http://pbs.twimg.com/profile_background_images/736339684/948f072cc2da4e3a5e9f2ebfb3b1a0e7.png', name=u'The New York Times', is_translation_enabled=True, profile_background_tile=True, favourites_count=5622, screen_name=u'nytimes', url=u'http://t.co/ahvuWqicF9', created_at=datetime.datetime(2007, 3, 2, 20, 41, 42), contributors_enabled=False, location=u'New York City', profile_sidebar_border_color=u'FFFFFF', default_profile=False, following=True), _json={u'contributors': None, u'truncated': False, u'text': u'Supreme Court refuses to ban an execution drug that 3 death-row inmates said risks causing excruciating pain http://t.co/LfSPEtdy6A', u'is_quote_status': False, u'in_reply_to_status_id': None, u'id': 615559603393294337, u'favorite_count': 12, u'source': u'<a href=\"http://www.socialflow.com\" rel=\"nofollow\">SocialFlow</a>', u'retweeted': False, u'coordinates': None, u'entities': {u'symbols': [], u'user_mentions': [], u'hashtags': [], u'urls': [{u'url': u'http://t.co/LfSPEtdy6A', u'indices': [109, 131], u'expanded_url': u'http://nyti.ms/1LDVcd6', u'display_url': u'nyti.ms/1LDVcd6'}]}, u'in_reply_to_screen_name': None, u'in_reply_to_user_id': None, u'retweet_count': 9, u'id_str': u'615559603393294337', u'favorited': False, u'user': {u'follow_request_sent': False, u'has_extended_profile': False, u'profile_use_background_image': True, u'default_profile_image': False, u'id': 807095, u'profile_background_image_url_https': u'https://pbs.twimg.com/profile_background_images/736339684/948f072cc2da4e3a5e9f2ebfb3b1a0e7.png', u'verified': True, u'profile_text_color': u'333333', u'profile_image_url_https': u'https://pbs.twimg.com/profile_images/2044921128/finals_normal.png', u'profile_sidebar_fill_color': u'EFEFEF', u'entities': {u'url': {u'urls': [{u'url': u'http://t.co/ahvuWqicF9', u'indices': [0, 22], u'expanded_url': u'http://www.nytimes.com/', u'display_url': u'nytimes.com'}]}, u'description': {u'urls': [{u'url': u'http://t.co/YapuoqX0HS', u'indices': [111, 133], u'expanded_url': u'http://NYTimes.com', u'display_url': u'NYTimes.com'}]}}, u'followers_count': 17616934, u'profile_sidebar_border_color': u'FFFFFF', u'id_str': u'807095', u'profile_background_color': u'131516', u'listed_count': 162415, u'is_translation_enabled': True, u'utc_offset': -14400, u'statuses_count': 188281, u'description': u'Where the conversation begins. Follow for breaking news, special reports, RTs of our journalists and more from http://t.co/YapuoqX0HS', u'friends_count': 993, u'location': u'New York City', u'profile_link_color': u'607696', u'profile_image_url': u'http://pbs.twimg.com/profile_images/2044921128/finals_normal.png', u'following': True, u'geo_enabled': False, u'profile_banner_url': u'https://pbs.twimg.com/profile_banners/807095/1355346050', u'profile_background_image_url': u'http://pbs.twimg.com/profile_background_images/736339684/948f072cc2da4e3a5e9f2ebfb3b1a0e7.png', u'screen_name': u'nytimes', u'lang': u'en', u'profile_background_tile': True, u'favourites_count': 5622, u'name': u'The New York Times', u'notifications': False, u'url': u'http://t.co/ahvuWqicF9', u'created_at': u'Fri Mar 02 20:41:42 +0000 2007', u'contributors_enabled': False, u'time_zone': u'Eastern Time (US & Canada)', u'protected': False, u'default_profile': False, u'is_translator': False}, u'geo': None, u'in_reply_to_user_id_str': None, u'possibly_sensitive': False, u'lang': u'en', u'created_at': u'Mon Jun 29 16:37:00 +0000 2015', u'in_reply_to_status_id_str': None, u'place': None, u'metadata': {u'iso_language_code': u'en', u'result_type': u'recent'}}, coordinates=None, entities={u'symbols': [], u'user_mentions': [], u'hashtags': [], u'urls': [{u'url': u'http://t.co/LfSPEtdy6A', u'indices': [109, 131], u'expanded_url': u'http://nyti.ms/1LDVcd6', u'display_url': u'nyti.ms/1LDVcd6'}]}, in_reply_to_screen_name=None, id_str=u'615559603393294337', retweet_count=9, in_reply_to_user_id=None, favorited=False, source_url=u'http://www.socialflow.com', user=User(follow_request_sent=False, has_extended_profile=False, profile_use_background_image=True, _json={u'follow_request_sent': False, u'has_extended_profile': False, u'profile_use_background_image': True, u'default_profile_image': False, u'id': 807095, u'profile_background_image_url_https': u'https://pbs.twimg.com/profile_background_images/736339684/948f072cc2da4e3a5e9f2ebfb3b1a0e7.png', u'verified': True, u'profile_text_color': u'333333', u'profile_image_url_https': u'https://pbs.twimg.com/profile_images/2044921128/finals_normal.png', u'profile_sidebar_fill_color': u'EFEFEF', u'entities': {u'url': {u'urls': [{u'url': u'http://t.co/ahvuWqicF9', u'indices': [0, 22], u'expanded_url': u'http://www.nytimes.com/', u'display_url': u'nytimes.com'}]}, u'description': {u'urls': [{u'url': u'http://t.co/YapuoqX0HS', u'indices': [111, 133], u'expanded_url': u'http://NYTimes.com', u'display_url': u'NYTimes.com'}]}}, u'followers_count': 17616934, u'profile_sidebar_border_color': u'FFFFFF', u'id_str': u'807095', u'profile_background_color': u'131516', u'listed_count': 162415, u'is_translation_enabled': True, u'utc_offset': -14400, u'statuses_count': 188281, u'description': u'Where the conversation begins. Follow for breaking news, special reports, RTs of our journalists and more from http://t.co/YapuoqX0HS', u'friends_count': 993, u'location': u'New York City', u'profile_link_color': u'607696', u'profile_image_url': u'http://pbs.twimg.com/profile_images/2044921128/finals_normal.png', u'following': True, u'geo_enabled': False, u'profile_banner_url': u'https://pbs.twimg.com/profile_banners/807095/1355346050', u'profile_background_image_url': u'http://pbs.twimg.com/profile_background_images/736339684/948f072cc2da4e3a5e9f2ebfb3b1a0e7.png', u'screen_name': u'nytimes', u'lang': u'en', u'profile_background_tile': True, u'favourites_count': 5622, u'name': u'The New York Times', u'notifications': False, u'url': u'http://t.co/ahvuWqicF9', u'created_at': u'Fri Mar 02 20:41:42 +0000 2007', u'contributors_enabled': False, u'time_zone': u'Eastern Time (US & Canada)', u'protected': False, u'default_profile': False, u'is_translator': False}, time_zone=u'Eastern Time (US & Canada)', id=807095, _api=<tweepy.api.API object at 0x10319bed0>, verified=True, profile_text_color=u'333333', profile_image_url_https=u'https://pbs.twimg.com/profile_images/2044921128/finals_normal.png', profile_sidebar_fill_color=u'EFEFEF', is_translator=False, geo_enabled=False, entities={u'url': {u'urls': [{u'url': u'http://t.co/ahvuWqicF9', u'indices': [0, 22], u'expanded_url': u'http://www.nytimes.com/', u'display_url': u'nytimes.com'}]}, u'description': {u'urls': [{u'url': u'http://t.co/YapuoqX0HS', u'indices': [111, 133], u'expanded_url': u'http://NYTimes.com', u'display_url': u'NYTimes.com'}]}}, followers_count=17616934, protected=False, id_str=u'807095', default_profile_image=False, listed_count=162415, lang=u'en', utc_offset=-14400, statuses_count=188281, description=u'Where the conversation begins. Follow for breaking news, special reports, RTs of our journalists and more from http://t.co/YapuoqX0HS', friends_count=993, profile_link_color=u'607696', profile_image_url=u'http://pbs.twimg.com/profile_images/2044921128/finals_normal.png', notifications=False, profile_background_image_url_https=u'https://pbs.twimg.com/profile_background_images/736339684/948f072cc2da4e3a5e9f2ebfb3b1a0e7.png', profile_background_color=u'131516', profile_banner_url=u'https://pbs.twimg.com/profile_banners/807095/1355346050', profile_background_image_url=u'http://pbs.twimg.com/profile_background_images/736339684/948f072cc2da4e3a5e9f2ebfb3b1a0e7.png', name=u'The New York Times', is_translation_enabled=True, profile_background_tile=True, favourites_count=5622, screen_name=u'nytimes', url=u'http://t.co/ahvuWqicF9', created_at=datetime.datetime(2007, 3, 2, 20, 41, 42), contributors_enabled=False, location=u'New York City', profile_sidebar_border_color=u'FFFFFF', default_profile=False, following=True), geo=None, in_reply_to_user_id_str=None, possibly_sensitive=False, lang=u'en', created_at=datetime.datetime(2015, 6, 29, 16, 37), in_reply_to_status_id_str=None, place=None, source=u'SocialFlow', retweeted=False, metadata={u'iso_language_code': u'en', u'result_type': u'recent'}), source_url=u'http://twitter.com/#!/download/ipad', user=User(follow_request_sent=False, has_extended_profile=False, profile_use_background_image=True, _json={u'follow_request_sent': False, u'has_extended_profile': False, u'profile_use_background_image': True, u'default_profile_image': False, u'id': 42101913, u'profile_background_image_url_https': u'https://abs.twimg.com/images/themes/theme1/bg.png', u'verified': False, u'profile_text_color': u'333333', u'profile_image_url_https': u'https://pbs.twimg.com/profile_images/2738557721/2f7e208c42a31d5a95aef412a893a3d0_normal.jpeg', u'profile_sidebar_fill_color': u'DDEEF6', u'entities': {u'url': {u'urls': [{u'url': u'http://t.co/sZP43qecT8', u'indices': [0, 22], u'expanded_url': u'http://www.BarbaraArnwine.com', u'display_url': u'BarbaraArnwine.com'}]}, u'description': {u'urls': []}}, u'followers_count': 4128, u'profile_sidebar_border_color': u'C0DEED', u'id_str': u'42101913', u'profile_background_color': u'C0DEED', u'listed_count': 163, u'is_translation_enabled': False, u'utc_offset': -14400, u'statuses_count': 30231, u'description': u'President @LawyersComm. Civil rights activist & Igniting Change Host Radio One. Securing right to #vote for ALL. Listen Tuesday Noon http://www.barbaraarnwine', u'friends_count': 1653, u'location': u'Washington, DC', u'profile_link_color': u'0084B4', u'profile_image_url': u'http://pbs.twimg.com/profile_images/2738557721/2f7e208c42a31d5a95aef412a893a3d0_normal.jpeg', u'following': False, u'geo_enabled': True, u'profile_background_image_url': u'http://abs.twimg.com/images/themes/theme1/bg.png', u'screen_name': u'barbs73', u'lang': u'en', u'profile_background_tile': False, u'favourites_count': 4146, u'name': u'Barbara Arnwine', u'notifications': False, u'url': u'http://t.co/sZP43qecT8', u'created_at': u'Sat May 23 21:33:52 +0000 2009', u'contributors_enabled': False, u'time_zone': u'Eastern Time (US & Canada)', u'protected': False, u'default_profile': True, u'is_translator': False}, time_zone=u'Eastern Time (US & Canada)', id=42101913, _api=<tweepy.api.API object at 0x10319bed0>, verified=False, profile_text_color=u'333333', profile_image_url_https=u'https://pbs.twimg.com/profile_images/2738557721/2f7e208c42a31d5a95aef412a893a3d0_normal.jpeg', profile_sidebar_fill_color=u'DDEEF6', is_translator=False, geo_enabled=True, entities={u'url': {u'urls': [{u'url': u'http://t.co/sZP43qecT8', u'indices': [0, 22], u'expanded_url': u'http://www.BarbaraArnwine.com', u'display_url': u'BarbaraArnwine.com'}]}, u'description': {u'urls': []}}, followers_count=4128, protected=False, id_str=u'42101913', default_profile_image=False, listed_count=163, lang=u'en', utc_offset=-14400, statuses_count=30231, description=u'President @LawyersComm. Civil rights activist & Igniting Change Host Radio One. Securing right to #vote for ALL. Listen Tuesday Noon http://www.barbaraarnwine', friends_count=1653, profile_link_color=u'0084B4', profile_image_url=u'http://pbs.twimg.com/profile_images/2738557721/2f7e208c42a31d5a95aef412a893a3d0_normal.jpeg', notifications=False, profile_background_image_url_https=u'https://abs.twimg.com/images/themes/theme1/bg.png', profile_background_color=u'C0DEED', profile_background_image_url=u'http://abs.twimg.com/images/themes/theme1/bg.png', name=u'Barbara Arnwine', is_translation_enabled=False, profile_background_tile=False, favourites_count=4146, screen_name=u'barbs73', url=u'http://t.co/sZP43qecT8', created_at=datetime.datetime(2009, 5, 23, 21, 33, 52), contributors_enabled=False, location=u'Washington, DC', profile_sidebar_border_color=u'C0DEED', default_profile=True, following=False), geo=None, in_reply_to_user_id_str=None, possibly_sensitive=False, lang=u'en', created_at=datetime.datetime(2015, 6, 29, 16, 38, 20), in_reply_to_status_id_str=None, place=None, source=u'Twitter for iPad', retweeted=False, metadata={u'iso_language_code': u'en', u'result_type': u'recent'}),\n",
       " Status(contributors=None, truncated=False, text=u'Supreme Court Decision Supports Choose Life License Plates in North Carolina http://t.co/5bES2GbUoR', is_quote_status=False, in_reply_to_status_id=None, id=615559936072884224, favorite_count=0, _api=<tweepy.api.API object at 0x10319bed0>, author=User(follow_request_sent=False, has_extended_profile=False, profile_use_background_image=True, _json={u'follow_request_sent': False, u'has_extended_profile': False, u'profile_use_background_image': True, u'default_profile_image': False, u'id': 300146770, u'profile_background_image_url_https': u'https://pbs.twimg.com/profile_background_images/658488149/20thwtyxqqp86f3icf8g.jpeg', u'verified': False, u'profile_text_color': u'333333', u'profile_image_url_https': u'https://pbs.twimg.com/profile_images/1357420412/Babylon_normal.jpg', u'profile_sidebar_fill_color': u'DDEEF6', u'entities': {u'url': {u'urls': [{u'url': u'http://t.co/LVKSeXt4cJ', u'indices': [0, 22], u'expanded_url': u'http://www.human-crisis.com/p/english.html', u'display_url': u'human-crisis.com/p/english.html'}]}, u'description': {u'urls': []}}, u'followers_count': 1478, u'profile_sidebar_border_color': u'C0DEED', u'id_str': u'300146770', u'profile_background_color': u'C0DEED', u'listed_count': 99, u'is_translation_enabled': False, u'utc_offset': 10800, u'statuses_count': 322173, u'description': u'All about World Crisis', u'friends_count': 79, u'location': u'', u'profile_link_color': u'0084B4', u'profile_image_url': u'http://pbs.twimg.com/profile_images/1357420412/Babylon_normal.jpg', u'following': False, u'geo_enabled': False, u'profile_banner_url': u'https://pbs.twimg.com/profile_banners/300146770/1355645726', u'profile_background_image_url': u'http://pbs.twimg.com/profile_background_images/658488149/20thwtyxqqp86f3icf8g.jpeg', u'screen_name': u'CrisisDigest', u'lang': u'ru', u'profile_background_tile': True, u'favourites_count': 0, u'name': u'World Crisis', u'notifications': False, u'url': u'http://t.co/LVKSeXt4cJ', u'created_at': u'Tue May 17 08:39:08 +0000 2011', u'contributors_enabled': False, u'time_zone': u'Jerusalem', u'protected': False, u'default_profile': False, u'is_translator': False}, time_zone=u'Jerusalem', id=300146770, _api=<tweepy.api.API object at 0x10319bed0>, verified=False, profile_text_color=u'333333', profile_image_url_https=u'https://pbs.twimg.com/profile_images/1357420412/Babylon_normal.jpg', profile_sidebar_fill_color=u'DDEEF6', is_translator=False, geo_enabled=False, entities={u'url': {u'urls': [{u'url': u'http://t.co/LVKSeXt4cJ', u'indices': [0, 22], u'expanded_url': u'http://www.human-crisis.com/p/english.html', u'display_url': u'human-crisis.com/p/english.html'}]}, u'description': {u'urls': []}}, followers_count=1478, protected=False, id_str=u'300146770', default_profile_image=False, listed_count=99, lang=u'ru', utc_offset=10800, statuses_count=322173, description=u'All about World Crisis', friends_count=79, profile_link_color=u'0084B4', profile_image_url=u'http://pbs.twimg.com/profile_images/1357420412/Babylon_normal.jpg', notifications=False, profile_background_image_url_https=u'https://pbs.twimg.com/profile_background_images/658488149/20thwtyxqqp86f3icf8g.jpeg', profile_background_color=u'C0DEED', profile_banner_url=u'https://pbs.twimg.com/profile_banners/300146770/1355645726', profile_background_image_url=u'http://pbs.twimg.com/profile_background_images/658488149/20thwtyxqqp86f3icf8g.jpeg', name=u'World Crisis', is_translation_enabled=False, profile_background_tile=True, favourites_count=0, screen_name=u'CrisisDigest', url=u'http://t.co/LVKSeXt4cJ', created_at=datetime.datetime(2011, 5, 17, 8, 39, 8), contributors_enabled=False, location=u'', profile_sidebar_border_color=u'C0DEED', default_profile=False, following=False), _json={u'contributors': None, u'truncated': False, u'text': u'Supreme Court Decision Supports Choose Life License Plates in North Carolina http://t.co/5bES2GbUoR', u'is_quote_status': False, u'in_reply_to_status_id': None, u'id': 615559936072884224, u'favorite_count': 0, u'source': u'<a href=\"http://www.google.com/\" rel=\"nofollow\">Google</a>', u'retweeted': False, u'coordinates': None, u'entities': {u'symbols': [], u'user_mentions': [], u'hashtags': [], u'urls': [{u'url': u'http://t.co/5bES2GbUoR', u'indices': [77, 99], u'expanded_url': u'http://goo.gl/fb/ARRY0x', u'display_url': u'goo.gl/fb/ARRY0x'}]}, u'in_reply_to_screen_name': None, u'in_reply_to_user_id': None, u'retweet_count': 0, u'id_str': u'615559936072884224', u'favorited': False, u'user': {u'follow_request_sent': False, u'has_extended_profile': False, u'profile_use_background_image': True, u'default_profile_image': False, u'id': 300146770, u'profile_background_image_url_https': u'https://pbs.twimg.com/profile_background_images/658488149/20thwtyxqqp86f3icf8g.jpeg', u'verified': False, u'profile_text_color': u'333333', u'profile_image_url_https': u'https://pbs.twimg.com/profile_images/1357420412/Babylon_normal.jpg', u'profile_sidebar_fill_color': u'DDEEF6', u'entities': {u'url': {u'urls': [{u'url': u'http://t.co/LVKSeXt4cJ', u'indices': [0, 22], u'expanded_url': u'http://www.human-crisis.com/p/english.html', u'display_url': u'human-crisis.com/p/english.html'}]}, u'description': {u'urls': []}}, u'followers_count': 1478, u'profile_sidebar_border_color': u'C0DEED', u'id_str': u'300146770', u'profile_background_color': u'C0DEED', u'listed_count': 99, u'is_translation_enabled': False, u'utc_offset': 10800, u'statuses_count': 322173, u'description': u'All about World Crisis', u'friends_count': 79, u'location': u'', u'profile_link_color': u'0084B4', u'profile_image_url': u'http://pbs.twimg.com/profile_images/1357420412/Babylon_normal.jpg', u'following': False, u'geo_enabled': False, u'profile_banner_url': u'https://pbs.twimg.com/profile_banners/300146770/1355645726', u'profile_background_image_url': u'http://pbs.twimg.com/profile_background_images/658488149/20thwtyxqqp86f3icf8g.jpeg', u'screen_name': u'CrisisDigest', u'lang': u'ru', u'profile_background_tile': True, u'favourites_count': 0, u'name': u'World Crisis', u'notifications': False, u'url': u'http://t.co/LVKSeXt4cJ', u'created_at': u'Tue May 17 08:39:08 +0000 2011', u'contributors_enabled': False, u'time_zone': u'Jerusalem', u'protected': False, u'default_profile': False, u'is_translator': False}, u'geo': None, u'in_reply_to_user_id_str': None, u'possibly_sensitive': False, u'lang': u'en', u'created_at': u'Mon Jun 29 16:38:19 +0000 2015', u'in_reply_to_status_id_str': None, u'place': None, u'metadata': {u'iso_language_code': u'en', u'result_type': u'recent'}}, coordinates=None, entities={u'symbols': [], u'user_mentions': [], u'hashtags': [], u'urls': [{u'url': u'http://t.co/5bES2GbUoR', u'indices': [77, 99], u'expanded_url': u'http://goo.gl/fb/ARRY0x', u'display_url': u'goo.gl/fb/ARRY0x'}]}, in_reply_to_screen_name=None, id_str=u'615559936072884224', retweet_count=0, in_reply_to_user_id=None, favorited=False, source_url=u'http://www.google.com/', user=User(follow_request_sent=False, has_extended_profile=False, profile_use_background_image=True, _json={u'follow_request_sent': False, u'has_extended_profile': False, u'profile_use_background_image': True, u'default_profile_image': False, u'id': 300146770, u'profile_background_image_url_https': u'https://pbs.twimg.com/profile_background_images/658488149/20thwtyxqqp86f3icf8g.jpeg', u'verified': False, u'profile_text_color': u'333333', u'profile_image_url_https': u'https://pbs.twimg.com/profile_images/1357420412/Babylon_normal.jpg', u'profile_sidebar_fill_color': u'DDEEF6', u'entities': {u'url': {u'urls': [{u'url': u'http://t.co/LVKSeXt4cJ', u'indices': [0, 22], u'expanded_url': u'http://www.human-crisis.com/p/english.html', u'display_url': u'human-crisis.com/p/english.html'}]}, u'description': {u'urls': []}}, u'followers_count': 1478, u'profile_sidebar_border_color': u'C0DEED', u'id_str': u'300146770', u'profile_background_color': u'C0DEED', u'listed_count': 99, u'is_translation_enabled': False, u'utc_offset': 10800, u'statuses_count': 322173, u'description': u'All about World Crisis', u'friends_count': 79, u'location': u'', u'profile_link_color': u'0084B4', u'profile_image_url': u'http://pbs.twimg.com/profile_images/1357420412/Babylon_normal.jpg', u'following': False, u'geo_enabled': False, u'profile_banner_url': u'https://pbs.twimg.com/profile_banners/300146770/1355645726', u'profile_background_image_url': u'http://pbs.twimg.com/profile_background_images/658488149/20thwtyxqqp86f3icf8g.jpeg', u'screen_name': u'CrisisDigest', u'lang': u'ru', u'profile_background_tile': True, u'favourites_count': 0, u'name': u'World Crisis', u'notifications': False, u'url': u'http://t.co/LVKSeXt4cJ', u'created_at': u'Tue May 17 08:39:08 +0000 2011', u'contributors_enabled': False, u'time_zone': u'Jerusalem', u'protected': False, u'default_profile': False, u'is_translator': False}, time_zone=u'Jerusalem', id=300146770, _api=<tweepy.api.API object at 0x10319bed0>, verified=False, profile_text_color=u'333333', profile_image_url_https=u'https://pbs.twimg.com/profile_images/1357420412/Babylon_normal.jpg', profile_sidebar_fill_color=u'DDEEF6', is_translator=False, geo_enabled=False, entities={u'url': {u'urls': [{u'url': u'http://t.co/LVKSeXt4cJ', u'indices': [0, 22], u'expanded_url': u'http://www.human-crisis.com/p/english.html', u'display_url': u'human-crisis.com/p/english.html'}]}, u'description': {u'urls': []}}, followers_count=1478, protected=False, id_str=u'300146770', default_profile_image=False, listed_count=99, lang=u'ru', utc_offset=10800, statuses_count=322173, description=u'All about World Crisis', friends_count=79, profile_link_color=u'0084B4', profile_image_url=u'http://pbs.twimg.com/profile_images/1357420412/Babylon_normal.jpg', notifications=False, profile_background_image_url_https=u'https://pbs.twimg.com/profile_background_images/658488149/20thwtyxqqp86f3icf8g.jpeg', profile_background_color=u'C0DEED', profile_banner_url=u'https://pbs.twimg.com/profile_banners/300146770/1355645726', profile_background_image_url=u'http://pbs.twimg.com/profile_background_images/658488149/20thwtyxqqp86f3icf8g.jpeg', name=u'World Crisis', is_translation_enabled=False, profile_background_tile=True, favourites_count=0, screen_name=u'CrisisDigest', url=u'http://t.co/LVKSeXt4cJ', created_at=datetime.datetime(2011, 5, 17, 8, 39, 8), contributors_enabled=False, location=u'', profile_sidebar_border_color=u'C0DEED', default_profile=False, following=False), geo=None, in_reply_to_user_id_str=None, possibly_sensitive=False, lang=u'en', created_at=datetime.datetime(2015, 6, 29, 16, 38, 19), in_reply_to_status_id_str=None, place=None, source=u'Google', retweeted=False, metadata={u'iso_language_code': u'en', u'result_type': u'recent'}),\n",
       " Status(contributors=None, truncated=False, text=u'Supreme Court Finds Fault With Public Health Protections http://t.co/2mCQWuZRPM', is_quote_status=False, in_reply_to_status_id=None, id=615559935368241152, favorite_count=0, _api=<tweepy.api.API object at 0x10319bed0>, author=User(follow_request_sent=False, has_extended_profile=False, profile_use_background_image=True, _json={u'follow_request_sent': False, u'has_extended_profile': False, u'profile_use_background_image': True, u'default_profile_image': False, u'id': 300146770, u'profile_background_image_url_https': u'https://pbs.twimg.com/profile_background_images/658488149/20thwtyxqqp86f3icf8g.jpeg', u'verified': False, u'profile_text_color': u'333333', u'profile_image_url_https': u'https://pbs.twimg.com/profile_images/1357420412/Babylon_normal.jpg', u'profile_sidebar_fill_color': u'DDEEF6', u'entities': {u'url': {u'urls': [{u'url': u'http://t.co/LVKSeXt4cJ', u'indices': [0, 22], u'expanded_url': u'http://www.human-crisis.com/p/english.html', u'display_url': u'human-crisis.com/p/english.html'}]}, u'description': {u'urls': []}}, u'followers_count': 1478, u'profile_sidebar_border_color': u'C0DEED', u'id_str': u'300146770', u'profile_background_color': u'C0DEED', u'listed_count': 99, u'is_translation_enabled': False, u'utc_offset': 10800, u'statuses_count': 322173, u'description': u'All about World Crisis', u'friends_count': 79, u'location': u'', u'profile_link_color': u'0084B4', u'profile_image_url': u'http://pbs.twimg.com/profile_images/1357420412/Babylon_normal.jpg', u'following': False, u'geo_enabled': False, u'profile_banner_url': u'https://pbs.twimg.com/profile_banners/300146770/1355645726', u'profile_background_image_url': u'http://pbs.twimg.com/profile_background_images/658488149/20thwtyxqqp86f3icf8g.jpeg', u'screen_name': u'CrisisDigest', u'lang': u'ru', u'profile_background_tile': True, u'favourites_count': 0, u'name': u'World Crisis', u'notifications': False, u'url': u'http://t.co/LVKSeXt4cJ', u'created_at': u'Tue May 17 08:39:08 +0000 2011', u'contributors_enabled': False, u'time_zone': u'Jerusalem', u'protected': False, u'default_profile': False, u'is_translator': False}, time_zone=u'Jerusalem', id=300146770, _api=<tweepy.api.API object at 0x10319bed0>, verified=False, profile_text_color=u'333333', profile_image_url_https=u'https://pbs.twimg.com/profile_images/1357420412/Babylon_normal.jpg', profile_sidebar_fill_color=u'DDEEF6', is_translator=False, geo_enabled=False, entities={u'url': {u'urls': [{u'url': u'http://t.co/LVKSeXt4cJ', u'indices': [0, 22], u'expanded_url': u'http://www.human-crisis.com/p/english.html', u'display_url': u'human-crisis.com/p/english.html'}]}, u'description': {u'urls': []}}, followers_count=1478, protected=False, id_str=u'300146770', default_profile_image=False, listed_count=99, lang=u'ru', utc_offset=10800, statuses_count=322173, description=u'All about World Crisis', friends_count=79, profile_link_color=u'0084B4', profile_image_url=u'http://pbs.twimg.com/profile_images/1357420412/Babylon_normal.jpg', notifications=False, profile_background_image_url_https=u'https://pbs.twimg.com/profile_background_images/658488149/20thwtyxqqp86f3icf8g.jpeg', profile_background_color=u'C0DEED', profile_banner_url=u'https://pbs.twimg.com/profile_banners/300146770/1355645726', profile_background_image_url=u'http://pbs.twimg.com/profile_background_images/658488149/20thwtyxqqp86f3icf8g.jpeg', name=u'World Crisis', is_translation_enabled=False, profile_background_tile=True, favourites_count=0, screen_name=u'CrisisDigest', url=u'http://t.co/LVKSeXt4cJ', created_at=datetime.datetime(2011, 5, 17, 8, 39, 8), contributors_enabled=False, location=u'', profile_sidebar_border_color=u'C0DEED', default_profile=False, following=False), _json={u'contributors': None, u'truncated': False, u'text': u'Supreme Court Finds Fault With Public Health Protections http://t.co/2mCQWuZRPM', u'is_quote_status': False, u'in_reply_to_status_id': None, u'id': 615559935368241152, u'favorite_count': 0, u'source': u'<a href=\"http://www.google.com/\" rel=\"nofollow\">Google</a>', u'retweeted': False, u'coordinates': None, u'entities': {u'symbols': [], u'user_mentions': [], u'hashtags': [], u'urls': [{u'url': u'http://t.co/2mCQWuZRPM', u'indices': [57, 79], u'expanded_url': u'http://goo.gl/fb/wLbDan', u'display_url': u'goo.gl/fb/wLbDan'}]}, u'in_reply_to_screen_name': None, u'in_reply_to_user_id': None, u'retweet_count': 0, u'id_str': u'615559935368241152', u'favorited': False, u'user': {u'follow_request_sent': False, u'has_extended_profile': False, u'profile_use_background_image': True, u'default_profile_image': False, u'id': 300146770, u'profile_background_image_url_https': u'https://pbs.twimg.com/profile_background_images/658488149/20thwtyxqqp86f3icf8g.jpeg', u'verified': False, u'profile_text_color': u'333333', u'profile_image_url_https': u'https://pbs.twimg.com/profile_images/1357420412/Babylon_normal.jpg', u'profile_sidebar_fill_color': u'DDEEF6', u'entities': {u'url': {u'urls': [{u'url': u'http://t.co/LVKSeXt4cJ', u'indices': [0, 22], u'expanded_url': u'http://www.human-crisis.com/p/english.html', u'display_url': u'human-crisis.com/p/english.html'}]}, u'description': {u'urls': []}}, u'followers_count': 1478, u'profile_sidebar_border_color': u'C0DEED', u'id_str': u'300146770', u'profile_background_color': u'C0DEED', u'listed_count': 99, u'is_translation_enabled': False, u'utc_offset': 10800, u'statuses_count': 322173, u'description': u'All about World Crisis', u'friends_count': 79, u'location': u'', u'profile_link_color': u'0084B4', u'profile_image_url': u'http://pbs.twimg.com/profile_images/1357420412/Babylon_normal.jpg', u'following': False, u'geo_enabled': False, u'profile_banner_url': u'https://pbs.twimg.com/profile_banners/300146770/1355645726', u'profile_background_image_url': u'http://pbs.twimg.com/profile_background_images/658488149/20thwtyxqqp86f3icf8g.jpeg', u'screen_name': u'CrisisDigest', u'lang': u'ru', u'profile_background_tile': True, u'favourites_count': 0, u'name': u'World Crisis', u'notifications': False, u'url': u'http://t.co/LVKSeXt4cJ', u'created_at': u'Tue May 17 08:39:08 +0000 2011', u'contributors_enabled': False, u'time_zone': u'Jerusalem', u'protected': False, u'default_profile': False, u'is_translator': False}, u'geo': None, u'in_reply_to_user_id_str': None, u'possibly_sensitive': False, u'lang': u'en', u'created_at': u'Mon Jun 29 16:38:19 +0000 2015', u'in_reply_to_status_id_str': None, u'place': None, u'metadata': {u'iso_language_code': u'en', u'result_type': u'recent'}}, coordinates=None, entities={u'symbols': [], u'user_mentions': [], u'hashtags': [], u'urls': [{u'url': u'http://t.co/2mCQWuZRPM', u'indices': [57, 79], u'expanded_url': u'http://goo.gl/fb/wLbDan', u'display_url': u'goo.gl/fb/wLbDan'}]}, in_reply_to_screen_name=None, id_str=u'615559935368241152', retweet_count=0, in_reply_to_user_id=None, favorited=False, source_url=u'http://www.google.com/', user=User(follow_request_sent=False, has_extended_profile=False, profile_use_background_image=True, _json={u'follow_request_sent': False, u'has_extended_profile': False, u'profile_use_background_image': True, u'default_profile_image': False, u'id': 300146770, u'profile_background_image_url_https': u'https://pbs.twimg.com/profile_background_images/658488149/20thwtyxqqp86f3icf8g.jpeg', u'verified': False, u'profile_text_color': u'333333', u'profile_image_url_https': u'https://pbs.twimg.com/profile_images/1357420412/Babylon_normal.jpg', u'profile_sidebar_fill_color': u'DDEEF6', u'entities': {u'url': {u'urls': [{u'url': u'http://t.co/LVKSeXt4cJ', u'indices': [0, 22], u'expanded_url': u'http://www.human-crisis.com/p/english.html', u'display_url': u'human-crisis.com/p/english.html'}]}, u'description': {u'urls': []}}, u'followers_count': 1478, u'profile_sidebar_border_color': u'C0DEED', u'id_str': u'300146770', u'profile_background_color': u'C0DEED', u'listed_count': 99, u'is_translation_enabled': False, u'utc_offset': 10800, u'statuses_count': 322173, u'description': u'All about World Crisis', u'friends_count': 79, u'location': u'', u'profile_link_color': u'0084B4', u'profile_image_url': u'http://pbs.twimg.com/profile_images/1357420412/Babylon_normal.jpg', u'following': False, u'geo_enabled': False, u'profile_banner_url': u'https://pbs.twimg.com/profile_banners/300146770/1355645726', u'profile_background_image_url': u'http://pbs.twimg.com/profile_background_images/658488149/20thwtyxqqp86f3icf8g.jpeg', u'screen_name': u'CrisisDigest', u'lang': u'ru', u'profile_background_tile': True, u'favourites_count': 0, u'name': u'World Crisis', u'notifications': False, u'url': u'http://t.co/LVKSeXt4cJ', u'created_at': u'Tue May 17 08:39:08 +0000 2011', u'contributors_enabled': False, u'time_zone': u'Jerusalem', u'protected': False, u'default_profile': False, u'is_translator': False}, time_zone=u'Jerusalem', id=300146770, _api=<tweepy.api.API object at 0x10319bed0>, verified=False, profile_text_color=u'333333', profile_image_url_https=u'https://pbs.twimg.com/profile_images/1357420412/Babylon_normal.jpg', profile_sidebar_fill_color=u'DDEEF6', is_translator=False, geo_enabled=False, entities={u'url': {u'urls': [{u'url': u'http://t.co/LVKSeXt4cJ', u'indices': [0, 22], u'expanded_url': u'http://www.human-crisis.com/p/english.html', u'display_url': u'human-crisis.com/p/english.html'}]}, u'description': {u'urls': []}}, followers_count=1478, protected=False, id_str=u'300146770', default_profile_image=False, listed_count=99, lang=u'ru', utc_offset=10800, statuses_count=322173, description=u'All about World Crisis', friends_count=79, profile_link_color=u'0084B4', profile_image_url=u'http://pbs.twimg.com/profile_images/1357420412/Babylon_normal.jpg', notifications=False, profile_background_image_url_https=u'https://pbs.twimg.com/profile_background_images/658488149/20thwtyxqqp86f3icf8g.jpeg', profile_background_color=u'C0DEED', profile_banner_url=u'https://pbs.twimg.com/profile_banners/300146770/1355645726', profile_background_image_url=u'http://pbs.twimg.com/profile_background_images/658488149/20thwtyxqqp86f3icf8g.jpeg', name=u'World Crisis', is_translation_enabled=False, profile_background_tile=True, favourites_count=0, screen_name=u'CrisisDigest', url=u'http://t.co/LVKSeXt4cJ', created_at=datetime.datetime(2011, 5, 17, 8, 39, 8), contributors_enabled=False, location=u'', profile_sidebar_border_color=u'C0DEED', default_profile=False, following=False), geo=None, in_reply_to_user_id_str=None, possibly_sensitive=False, lang=u'en', created_at=datetime.datetime(2015, 6, 29, 16, 38, 19), in_reply_to_status_id_str=None, place=None, source=u'Google', retweeted=False, metadata={u'iso_language_code': u'en', u'result_type': u'recent'}),\n",
       " Status(contributors=None, truncated=False, text=u'RT @thinkprogress: The death penalty now enjoys super-legal status, thanks to the Supreme Court http://t.co/vxKRhsUztS http://t.co/7NYWUyko\\u2026', is_quote_status=False, in_reply_to_status_id=None, id=615559932990066689, favorite_count=0, _api=<tweepy.api.API object at 0x10319bed0>, author=User(follow_request_sent=False, has_extended_profile=False, profile_use_background_image=True, _json={u'follow_request_sent': False, u'has_extended_profile': False, u'profile_use_background_image': True, u'default_profile_image': False, u'id': 1466106074, u'profile_background_image_url_https': u'https://abs.twimg.com/images/themes/theme1/bg.png', u'verified': False, u'profile_text_color': u'333333', u'profile_image_url_https': u'https://pbs.twimg.com/profile_images/516992947116466176/Ljpou1WK_normal.jpeg', u'profile_sidebar_fill_color': u'DDEEF6', u'entities': {u'description': {u'urls': []}}, u'followers_count': 694, u'profile_sidebar_border_color': u'FFFFFF', u'id_str': u'1466106074', u'profile_background_color': u'77DBAE', u'listed_count': 34, u'is_translation_enabled': False, u'utc_offset': -18000, u'statuses_count': 39590, u'description': u\"I think I'm sooooooo funny.\", u'friends_count': 437, u'location': u'Scarberia', u'profile_link_color': u'668F90', u'profile_image_url': u'http://pbs.twimg.com/profile_images/516992947116466176/Ljpou1WK_normal.jpeg', u'following': False, u'geo_enabled': False, u'profile_banner_url': u'https://pbs.twimg.com/profile_banners/1466106074/1418249445', u'profile_background_image_url': u'http://abs.twimg.com/images/themes/theme1/bg.png', u'screen_name': u'fortyfs', u'lang': u'en', u'profile_background_tile': False, u'favourites_count': 15059, u'name': u'The Blocker', u'notifications': False, u'url': None, u'created_at': u'Wed May 29 01:26:27 +0000 2013', u'contributors_enabled': False, u'time_zone': u'Quito', u'protected': False, u'default_profile': False, u'is_translator': False}, time_zone=u'Quito', id=1466106074, _api=<tweepy.api.API object at 0x10319bed0>, verified=False, profile_text_color=u'333333', profile_image_url_https=u'https://pbs.twimg.com/profile_images/516992947116466176/Ljpou1WK_normal.jpeg', profile_sidebar_fill_color=u'DDEEF6', is_translator=False, geo_enabled=False, entities={u'description': {u'urls': []}}, followers_count=694, protected=False, id_str=u'1466106074', default_profile_image=False, listed_count=34, lang=u'en', utc_offset=-18000, statuses_count=39590, description=u\"I think I'm sooooooo funny.\", friends_count=437, profile_link_color=u'668F90', profile_image_url=u'http://pbs.twimg.com/profile_images/516992947116466176/Ljpou1WK_normal.jpeg', notifications=False, profile_background_image_url_https=u'https://abs.twimg.com/images/themes/theme1/bg.png', profile_background_color=u'77DBAE', profile_banner_url=u'https://pbs.twimg.com/profile_banners/1466106074/1418249445', profile_background_image_url=u'http://abs.twimg.com/images/themes/theme1/bg.png', name=u'The Blocker', is_translation_enabled=False, profile_background_tile=False, favourites_count=15059, screen_name=u'fortyfs', url=None, created_at=datetime.datetime(2013, 5, 29, 1, 26, 27), contributors_enabled=False, location=u'Scarberia', profile_sidebar_border_color=u'FFFFFF', default_profile=False, following=False), _json={u'contributors': None, u'truncated': False, u'text': u'RT @thinkprogress: The death penalty now enjoys super-legal status, thanks to the Supreme Court http://t.co/vxKRhsUztS http://t.co/7NYWUyko\\u2026', u'is_quote_status': False, u'in_reply_to_status_id': None, u'id': 615559932990066689, u'favorite_count': 0, u'source': u'<a href=\"http://twitter.com/download/android\" rel=\"nofollow\">Twitter for Android</a>', u'retweeted': False, u'coordinates': None, u'entities': {u'symbols': [], u'user_mentions': [{u'id': 55355654, u'indices': [3, 17], u'id_str': u'55355654', u'screen_name': u'thinkprogress', u'name': u'ThinkProgress'}], u'hashtags': [], u'urls': [{u'url': u'http://t.co/vxKRhsUztS', u'indices': [96, 118], u'expanded_url': u'http://thkpr.gs/3675056', u'display_url': u'thkpr.gs/3675056'}], u'media': [{u'source_user_id': 55355654, u'source_status_id_str': u'615545388746080256', u'expanded_url': u'http://twitter.com/thinkprogress/status/615545388746080256/photo/1', u'display_url': u'pic.twitter.com/7NYWUykoEh', u'url': u'http://t.co/7NYWUykoEh', u'media_url_https': u'https://pbs.twimg.com/media/CIrbMviWwAAVTyq.jpg', u'source_user_id_str': u'55355654', u'source_status_id': 615545388746080256, u'id_str': u'615545311054970880', u'sizes': {u'large': {u'h': 656, u'resize': u'fit', u'w': 1024}, u'small': {u'h': 217, u'resize': u'fit', u'w': 340}, u'medium': {u'h': 384, u'resize': u'fit', u'w': 600}, u'thumb': {u'h': 150, u'resize': u'crop', u'w': 150}}, u'indices': [119, 140], u'type': u'photo', u'id': 615545311054970880, u'media_url': u'http://pbs.twimg.com/media/CIrbMviWwAAVTyq.jpg'}]}, u'in_reply_to_screen_name': None, u'in_reply_to_user_id': None, u'retweet_count': 35, u'id_str': u'615559932990066689', u'favorited': False, u'retweeted_status': {u'contributors': None, u'truncated': False, u'text': u'The death penalty now enjoys super-legal status, thanks to the Supreme Court http://t.co/vxKRhsUztS http://t.co/7NYWUykoEh', u'is_quote_status': False, u'in_reply_to_status_id': None, u'id': 615545388746080256, u'favorite_count': 16, u'source': u'<a href=\"https://about.twitter.com/products/tweetdeck\" rel=\"nofollow\">TweetDeck</a>', u'retweeted': False, u'coordinates': None, u'entities': {u'symbols': [], u'user_mentions': [], u'hashtags': [], u'urls': [{u'url': u'http://t.co/vxKRhsUztS', u'indices': [77, 99], u'expanded_url': u'http://thkpr.gs/3675056', u'display_url': u'thkpr.gs/3675056'}], u'media': [{u'expanded_url': u'http://twitter.com/thinkprogress/status/615545388746080256/photo/1', u'display_url': u'pic.twitter.com/7NYWUykoEh', u'url': u'http://t.co/7NYWUykoEh', u'media_url_https': u'https://pbs.twimg.com/media/CIrbMviWwAAVTyq.jpg', u'id_str': u'615545311054970880', u'sizes': {u'large': {u'h': 656, u'resize': u'fit', u'w': 1024}, u'small': {u'h': 217, u'resize': u'fit', u'w': 340}, u'medium': {u'h': 384, u'resize': u'fit', u'w': 600}, u'thumb': {u'h': 150, u'resize': u'crop', u'w': 150}}, u'indices': [100, 122], u'type': u'photo', u'id': 615545311054970880, u'media_url': u'http://pbs.twimg.com/media/CIrbMviWwAAVTyq.jpg'}]}, u'in_reply_to_screen_name': None, u'in_reply_to_user_id': None, u'retweet_count': 35, u'id_str': u'615545388746080256', u'favorited': False, u'user': {u'follow_request_sent': False, u'has_extended_profile': False, u'profile_use_background_image': True, u'default_profile_image': False, u'id': 55355654, u'profile_background_image_url_https': u'https://pbs.twimg.com/profile_background_images/365080126/tp-twitter.gif', u'verified': True, u'profile_text_color': u'333333', u'profile_image_url_https': u'https://pbs.twimg.com/profile_images/611885289443733504/hdV6dk93_normal.jpg', u'profile_sidebar_fill_color': u'D4D4D4', u'entities': {u'url': {u'urls': [{u'url': u'http://t.co/zvnMIuw0pq', u'indices': [0, 22], u'expanded_url': u'http://www.thinkprogress.org', u'display_url': u'thinkprogress.org'}]}, u'description': {u'urls': []}}, u'followers_count': 380237, u'profile_sidebar_border_color': u'EDEDED', u'id_str': u'55355654', u'profile_background_color': u'E6EDED', u'listed_count': 12273, u'is_translation_enabled': False, u'utc_offset': -14400, u'statuses_count': 58262, u'description': u'Moving news forward. Tweets by @CaitlinFrazier, Editor-In-Chief @JuddLegum', u'friends_count': 975, u'location': u'Washington, D.C.', u'profile_link_color': u'262524', u'profile_image_url': u'http://pbs.twimg.com/profile_images/611885289443733504/hdV6dk93_normal.jpg', u'following': False, u'geo_enabled': True, u'profile_banner_url': u'https://pbs.twimg.com/profile_banners/55355654/1407185522', u'profile_background_image_url': u'http://pbs.twimg.com/profile_background_images/365080126/tp-twitter.gif', u'screen_name': u'thinkprogress', u'lang': u'en', u'profile_background_tile': False, u'favourites_count': 154, u'name': u'ThinkProgress', u'notifications': False, u'url': u'http://t.co/zvnMIuw0pq', u'created_at': u'Thu Jul 09 20:42:08 +0000 2009', u'contributors_enabled': False, u'time_zone': u'Eastern Time (US & Canada)', u'protected': False, u'default_profile': False, u'is_translator': False}, u'geo': None, u'in_reply_to_user_id_str': None, u'possibly_sensitive': False, u'lang': u'en', u'created_at': u'Mon Jun 29 15:40:31 +0000 2015', u'in_reply_to_status_id_str': None, u'place': None, u'metadata': {u'iso_language_code': u'en', u'result_type': u'recent'}}, u'user': {u'follow_request_sent': False, u'has_extended_profile': False, u'profile_use_background_image': True, u'default_profile_image': False, u'id': 1466106074, u'profile_background_image_url_https': u'https://abs.twimg.com/images/themes/theme1/bg.png', u'verified': False, u'profile_text_color': u'333333', u'profile_image_url_https': u'https://pbs.twimg.com/profile_images/516992947116466176/Ljpou1WK_normal.jpeg', u'profile_sidebar_fill_color': u'DDEEF6', u'entities': {u'description': {u'urls': []}}, u'followers_count': 694, u'profile_sidebar_border_color': u'FFFFFF', u'id_str': u'1466106074', u'profile_background_color': u'77DBAE', u'listed_count': 34, u'is_translation_enabled': False, u'utc_offset': -18000, u'statuses_count': 39590, u'description': u\"I think I'm sooooooo funny.\", u'friends_count': 437, u'location': u'Scarberia', u'profile_link_color': u'668F90', u'profile_image_url': u'http://pbs.twimg.com/profile_images/516992947116466176/Ljpou1WK_normal.jpeg', u'following': False, u'geo_enabled': False, u'profile_banner_url': u'https://pbs.twimg.com/profile_banners/1466106074/1418249445', u'profile_background_image_url': u'http://abs.twimg.com/images/themes/theme1/bg.png', u'screen_name': u'fortyfs', u'lang': u'en', u'profile_background_tile': False, u'favourites_count': 15059, u'name': u'The Blocker', u'notifications': False, u'url': None, u'created_at': u'Wed May 29 01:26:27 +0000 2013', u'contributors_enabled': False, u'time_zone': u'Quito', u'protected': False, u'default_profile': False, u'is_translator': False}, u'geo': None, u'in_reply_to_user_id_str': None, u'possibly_sensitive': False, u'lang': u'en', u'created_at': u'Mon Jun 29 16:38:19 +0000 2015', u'in_reply_to_status_id_str': None, u'place': None, u'metadata': {u'iso_language_code': u'en', u'result_type': u'recent'}}, coordinates=None, entities={u'symbols': [], u'user_mentions': [{u'id': 55355654, u'indices': [3, 17], u'id_str': u'55355654', u'screen_name': u'thinkprogress', u'name': u'ThinkProgress'}], u'hashtags': [], u'urls': [{u'url': u'http://t.co/vxKRhsUztS', u'indices': [96, 118], u'expanded_url': u'http://thkpr.gs/3675056', u'display_url': u'thkpr.gs/3675056'}], u'media': [{u'source_user_id': 55355654, u'source_status_id_str': u'615545388746080256', u'expanded_url': u'http://twitter.com/thinkprogress/status/615545388746080256/photo/1', u'display_url': u'pic.twitter.com/7NYWUykoEh', u'url': u'http://t.co/7NYWUykoEh', u'media_url_https': u'https://pbs.twimg.com/media/CIrbMviWwAAVTyq.jpg', u'source_user_id_str': u'55355654', u'source_status_id': 615545388746080256, u'id_str': u'615545311054970880', u'sizes': {u'large': {u'h': 656, u'resize': u'fit', u'w': 1024}, u'small': {u'h': 217, u'resize': u'fit', u'w': 340}, u'medium': {u'h': 384, u'resize': u'fit', u'w': 600}, u'thumb': {u'h': 150, u'resize': u'crop', u'w': 150}}, u'indices': [119, 140], u'type': u'photo', u'id': 615545311054970880, u'media_url': u'http://pbs.twimg.com/media/CIrbMviWwAAVTyq.jpg'}]}, in_reply_to_screen_name=None, id_str=u'615559932990066689', retweet_count=35, in_reply_to_user_id=None, favorited=False, retweeted_status=Status(contributors=None, truncated=False, text=u'The death penalty now enjoys super-legal status, thanks to the Supreme Court http://t.co/vxKRhsUztS http://t.co/7NYWUykoEh', is_quote_status=False, in_reply_to_status_id=None, id=615545388746080256, favorite_count=16, _api=<tweepy.api.API object at 0x10319bed0>, author=User(follow_request_sent=False, has_extended_profile=False, profile_use_background_image=True, _json={u'follow_request_sent': False, u'has_extended_profile': False, u'profile_use_background_image': True, u'default_profile_image': False, u'id': 55355654, u'profile_background_image_url_https': u'https://pbs.twimg.com/profile_background_images/365080126/tp-twitter.gif', u'verified': True, u'profile_text_color': u'333333', u'profile_image_url_https': u'https://pbs.twimg.com/profile_images/611885289443733504/hdV6dk93_normal.jpg', u'profile_sidebar_fill_color': u'D4D4D4', u'entities': {u'url': {u'urls': [{u'url': u'http://t.co/zvnMIuw0pq', u'indices': [0, 22], u'expanded_url': u'http://www.thinkprogress.org', u'display_url': u'thinkprogress.org'}]}, u'description': {u'urls': []}}, u'followers_count': 380237, u'profile_sidebar_border_color': u'EDEDED', u'id_str': u'55355654', u'profile_background_color': u'E6EDED', u'listed_count': 12273, u'is_translation_enabled': False, u'utc_offset': -14400, u'statuses_count': 58262, u'description': u'Moving news forward. Tweets by @CaitlinFrazier, Editor-In-Chief @JuddLegum', u'friends_count': 975, u'location': u'Washington, D.C.', u'profile_link_color': u'262524', u'profile_image_url': u'http://pbs.twimg.com/profile_images/611885289443733504/hdV6dk93_normal.jpg', u'following': False, u'geo_enabled': True, u'profile_banner_url': u'https://pbs.twimg.com/profile_banners/55355654/1407185522', u'profile_background_image_url': u'http://pbs.twimg.com/profile_background_images/365080126/tp-twitter.gif', u'screen_name': u'thinkprogress', u'lang': u'en', u'profile_background_tile': False, u'favourites_count': 154, u'name': u'ThinkProgress', u'notifications': False, u'url': u'http://t.co/zvnMIuw0pq', u'created_at': u'Thu Jul 09 20:42:08 +0000 2009', u'contributors_enabled': False, u'time_zone': u'Eastern Time (US & Canada)', u'protected': False, u'default_profile': False, u'is_translator': False}, time_zone=u'Eastern Time (US & Canada)', id=55355654, _api=<tweepy.api.API object at 0x10319bed0>, verified=True, profile_text_color=u'333333', profile_image_url_https=u'https://pbs.twimg.com/profile_images/611885289443733504/hdV6dk93_normal.jpg', profile_sidebar_fill_color=u'D4D4D4', is_translator=False, geo_enabled=True, entities={u'url': {u'urls': [{u'url': u'http://t.co/zvnMIuw0pq', u'indices': [0, 22], u'expanded_url': u'http://www.thinkprogress.org', u'display_url': u'thinkprogress.org'}]}, u'description': {u'urls': []}}, followers_count=380237, protected=False, id_str=u'55355654', default_profile_image=False, listed_count=12273, lang=u'en', utc_offset=-14400, statuses_count=58262, description=u'Moving news forward. Tweets by @CaitlinFrazier, Editor-In-Chief @JuddLegum', friends_count=975, profile_link_color=u'262524', profile_image_url=u'http://pbs.twimg.com/profile_images/611885289443733504/hdV6dk93_normal.jpg', notifications=False, profile_background_image_url_https=u'https://pbs.twimg.com/profile_background_images/365080126/tp-twitter.gif', profile_background_color=u'E6EDED', profile_banner_url=u'https://pbs.twimg.com/profile_banners/55355654/1407185522', profile_background_image_url=u'http://pbs.twimg.com/profile_background_images/365080126/tp-twitter.gif', name=u'ThinkProgress', is_translation_enabled=False, profile_background_tile=False, favourites_count=154, screen_name=u'thinkprogress', url=u'http://t.co/zvnMIuw0pq', created_at=datetime.datetime(2009, 7, 9, 20, 42, 8), contributors_enabled=False, location=u'Washington, D.C.', profile_sidebar_border_color=u'EDEDED', default_profile=False, following=False), _json={u'contributors': None, u'truncated': False, u'text': u'The death penalty now enjoys super-legal status, thanks to the Supreme Court http://t.co/vxKRhsUztS http://t.co/7NYWUykoEh', u'is_quote_status': False, u'in_reply_to_status_id': None, u'id': 615545388746080256, u'favorite_count': 16, u'source': u'<a href=\"https://about.twitter.com/products/tweetdeck\" rel=\"nofollow\">TweetDeck</a>', u'retweeted': False, u'coordinates': None, u'entities': {u'symbols': [], u'user_mentions': [], u'hashtags': [], u'urls': [{u'url': u'http://t.co/vxKRhsUztS', u'indices': [77, 99], u'expanded_url': u'http://thkpr.gs/3675056', u'display_url': u'thkpr.gs/3675056'}], u'media': [{u'expanded_url': u'http://twitter.com/thinkprogress/status/615545388746080256/photo/1', u'display_url': u'pic.twitter.com/7NYWUykoEh', u'url': u'http://t.co/7NYWUykoEh', u'media_url_https': u'https://pbs.twimg.com/media/CIrbMviWwAAVTyq.jpg', u'id_str': u'615545311054970880', u'sizes': {u'large': {u'h': 656, u'resize': u'fit', u'w': 1024}, u'small': {u'h': 217, u'resize': u'fit', u'w': 340}, u'medium': {u'h': 384, u'resize': u'fit', u'w': 600}, u'thumb': {u'h': 150, u'resize': u'crop', u'w': 150}}, u'indices': [100, 122], u'type': u'photo', u'id': 615545311054970880, u'media_url': u'http://pbs.twimg.com/media/CIrbMviWwAAVTyq.jpg'}]}, u'in_reply_to_screen_name': None, u'in_reply_to_user_id': None, u'retweet_count': 35, u'id_str': u'615545388746080256', u'favorited': False, u'user': {u'follow_request_sent': False, u'has_extended_profile': False, u'profile_use_background_image': True, u'default_profile_image': False, u'id': 55355654, u'profile_background_image_url_https': u'https://pbs.twimg.com/profile_background_images/365080126/tp-twitter.gif', u'verified': True, u'profile_text_color': u'333333', u'profile_image_url_https': u'https://pbs.twimg.com/profile_images/611885289443733504/hdV6dk93_normal.jpg', u'profile_sidebar_fill_color': u'D4D4D4', u'entities': {u'url': {u'urls': [{u'url': u'http://t.co/zvnMIuw0pq', u'indices': [0, 22], u'expanded_url': u'http://www.thinkprogress.org', u'display_url': u'thinkprogress.org'}]}, u'description': {u'urls': []}}, u'followers_count': 380237, u'profile_sidebar_border_color': u'EDEDED', u'id_str': u'55355654', u'profile_background_color': u'E6EDED', u'listed_count': 12273, u'is_translation_enabled': False, u'utc_offset': -14400, u'statuses_count': 58262, u'description': u'Moving news forward. Tweets by @CaitlinFrazier, Editor-In-Chief @JuddLegum', u'friends_count': 975, u'location': u'Washington, D.C.', u'profile_link_color': u'262524', u'profile_image_url': u'http://pbs.twimg.com/profile_images/611885289443733504/hdV6dk93_normal.jpg', u'following': False, u'geo_enabled': True, u'profile_banner_url': u'https://pbs.twimg.com/profile_banners/55355654/1407185522', u'profile_background_image_url': u'http://pbs.twimg.com/profile_background_images/365080126/tp-twitter.gif', u'screen_name': u'thinkprogress', u'lang': u'en', u'profile_background_tile': False, u'favourites_count': 154, u'name': u'ThinkProgress', u'notifications': False, u'url': u'http://t.co/zvnMIuw0pq', u'created_at': u'Thu Jul 09 20:42:08 +0000 2009', u'contributors_enabled': False, u'time_zone': u'Eastern Time (US & Canada)', u'protected': False, u'default_profile': False, u'is_translator': False}, u'geo': None, u'in_reply_to_user_id_str': None, u'possibly_sensitive': False, u'lang': u'en', u'created_at': u'Mon Jun 29 15:40:31 +0000 2015', u'in_reply_to_status_id_str': None, u'place': None, u'metadata': {u'iso_language_code': u'en', u'result_type': u'recent'}}, coordinates=None, entities={u'symbols': [], u'user_mentions': [], u'hashtags': [], u'urls': [{u'url': u'http://t.co/vxKRhsUztS', u'indices': [77, 99], u'expanded_url': u'http://thkpr.gs/3675056', u'display_url': u'thkpr.gs/3675056'}], u'media': [{u'expanded_url': u'http://twitter.com/thinkprogress/status/615545388746080256/photo/1', u'display_url': u'pic.twitter.com/7NYWUykoEh', u'url': u'http://t.co/7NYWUykoEh', u'media_url_https': u'https://pbs.twimg.com/media/CIrbMviWwAAVTyq.jpg', u'id_str': u'615545311054970880', u'sizes': {u'large': {u'h': 656, u'resize': u'fit', u'w': 1024}, u'small': {u'h': 217, u'resize': u'fit', u'w': 340}, u'medium': {u'h': 384, u'resize': u'fit', u'w': 600}, u'thumb': {u'h': 150, u'resize': u'crop', u'w': 150}}, u'indices': [100, 122], u'type': u'photo', u'id': 615545311054970880, u'media_url': u'http://pbs.twimg.com/media/CIrbMviWwAAVTyq.jpg'}]}, in_reply_to_screen_name=None, id_str=u'615545388746080256', retweet_count=35, in_reply_to_user_id=None, favorited=False, source_url=u'https://about.twitter.com/products/tweetdeck', user=User(follow_request_sent=False, has_extended_profile=False, profile_use_background_image=True, _json={u'follow_request_sent': False, u'has_extended_profile': False, u'profile_use_background_image': True, u'default_profile_image': False, u'id': 55355654, u'profile_background_image_url_https': u'https://pbs.twimg.com/profile_background_images/365080126/tp-twitter.gif', u'verified': True, u'profile_text_color': u'333333', u'profile_image_url_https': u'https://pbs.twimg.com/profile_images/611885289443733504/hdV6dk93_normal.jpg', u'profile_sidebar_fill_color': u'D4D4D4', u'entities': {u'url': {u'urls': [{u'url': u'http://t.co/zvnMIuw0pq', u'indices': [0, 22], u'expanded_url': u'http://www.thinkprogress.org', u'display_url': u'thinkprogress.org'}]}, u'description': {u'urls': []}}, u'followers_count': 380237, u'profile_sidebar_border_color': u'EDEDED', u'id_str': u'55355654', u'profile_background_color': u'E6EDED', u'listed_count': 12273, u'is_translation_enabled': False, u'utc_offset': -14400, u'statuses_count': 58262, u'description': u'Moving news forward. Tweets by @CaitlinFrazier, Editor-In-Chief @JuddLegum', u'friends_count': 975, u'location': u'Washington, D.C.', u'profile_link_color': u'262524', u'profile_image_url': u'http://pbs.twimg.com/profile_images/611885289443733504/hdV6dk93_normal.jpg', u'following': False, u'geo_enabled': True, u'profile_banner_url': u'https://pbs.twimg.com/profile_banners/55355654/1407185522', u'profile_background_image_url': u'http://pbs.twimg.com/profile_background_images/365080126/tp-twitter.gif', u'screen_name': u'thinkprogress', u'lang': u'en', u'profile_background_tile': False, u'favourites_count': 154, u'name': u'ThinkProgress', u'notifications': False, u'url': u'http://t.co/zvnMIuw0pq', u'created_at': u'Thu Jul 09 20:42:08 +0000 2009', u'contributors_enabled': False, u'time_zone': u'Eastern Time (US & Canada)', u'protected': False, u'default_profile': False, u'is_translator': False}, time_zone=u'Eastern Time (US & Canada)', id=55355654, _api=<tweepy.api.API object at 0x10319bed0>, verified=True, profile_text_color=u'333333', profile_image_url_https=u'https://pbs.twimg.com/profile_images/611885289443733504/hdV6dk93_normal.jpg', profile_sidebar_fill_color=u'D4D4D4', is_translator=False, geo_enabled=True, entities={u'url': {u'urls': [{u'url': u'http://t.co/zvnMIuw0pq', u'indices': [0, 22], u'expanded_url': u'http://www.thinkprogress.org', u'display_url': u'thinkprogress.org'}]}, u'description': {u'urls': []}}, followers_count=380237, protected=False, id_str=u'55355654', default_profile_image=False, listed_count=12273, lang=u'en', utc_offset=-14400, statuses_count=58262, description=u'Moving news forward. Tweets by @CaitlinFrazier, Editor-In-Chief @JuddLegum', friends_count=975, profile_link_color=u'262524', profile_image_url=u'http://pbs.twimg.com/profile_images/611885289443733504/hdV6dk93_normal.jpg', notifications=False, profile_background_image_url_https=u'https://pbs.twimg.com/profile_background_images/365080126/tp-twitter.gif', profile_background_color=u'E6EDED', profile_banner_url=u'https://pbs.twimg.com/profile_banners/55355654/1407185522', profile_background_image_url=u'http://pbs.twimg.com/profile_background_images/365080126/tp-twitter.gif', name=u'ThinkProgress', is_translation_enabled=False, profile_background_tile=False, favourites_count=154, screen_name=u'thinkprogress', url=u'http://t.co/zvnMIuw0pq', created_at=datetime.datetime(2009, 7, 9, 20, 42, 8), contributors_enabled=False, location=u'Washington, D.C.', profile_sidebar_border_color=u'EDEDED', default_profile=False, following=False), geo=None, in_reply_to_user_id_str=None, possibly_sensitive=False, lang=u'en', created_at=datetime.datetime(2015, 6, 29, 15, 40, 31), in_reply_to_status_id_str=None, place=None, source=u'TweetDeck', retweeted=False, metadata={u'iso_language_code': u'en', u'result_type': u'recent'}), source_url=u'http://twitter.com/download/android', user=User(follow_request_sent=False, has_extended_profile=False, profile_use_background_image=True, _json={u'follow_request_sent': False, u'has_extended_profile': False, u'profile_use_background_image': True, u'default_profile_image': False, u'id': 1466106074, u'profile_background_image_url_https': u'https://abs.twimg.com/images/themes/theme1/bg.png', u'verified': False, u'profile_text_color': u'333333', u'profile_image_url_https': u'https://pbs.twimg.com/profile_images/516992947116466176/Ljpou1WK_normal.jpeg', u'profile_sidebar_fill_color': u'DDEEF6', u'entities': {u'description': {u'urls': []}}, u'followers_count': 694, u'profile_sidebar_border_color': u'FFFFFF', u'id_str': u'1466106074', u'profile_background_color': u'77DBAE', u'listed_count': 34, u'is_translation_enabled': False, u'utc_offset': -18000, u'statuses_count': 39590, u'description': u\"I think I'm sooooooo funny.\", u'friends_count': 437, u'location': u'Scarberia', u'profile_link_color': u'668F90', u'profile_image_url': u'http://pbs.twimg.com/profile_images/516992947116466176/Ljpou1WK_normal.jpeg', u'following': False, u'geo_enabled': False, u'profile_banner_url': u'https://pbs.twimg.com/profile_banners/1466106074/1418249445', u'profile_background_image_url': u'http://abs.twimg.com/images/themes/theme1/bg.png', u'screen_name': u'fortyfs', u'lang': u'en', u'profile_background_tile': False, u'favourites_count': 15059, u'name': u'The Blocker', u'notifications': False, u'url': None, u'created_at': u'Wed May 29 01:26:27 +0000 2013', u'contributors_enabled': False, u'time_zone': u'Quito', u'protected': False, u'default_profile': False, u'is_translator': False}, time_zone=u'Quito', id=1466106074, _api=<tweepy.api.API object at 0x10319bed0>, verified=False, profile_text_color=u'333333', profile_image_url_https=u'https://pbs.twimg.com/profile_images/516992947116466176/Ljpou1WK_normal.jpeg', profile_sidebar_fill_color=u'DDEEF6', is_translator=False, geo_enabled=False, entities={u'description': {u'urls': []}}, followers_count=694, protected=False, id_str=u'1466106074', default_profile_image=False, listed_count=34, lang=u'en', utc_offset=-18000, statuses_count=39590, description=u\"I think I'm sooooooo funny.\", friends_count=437, profile_link_color=u'668F90', profile_image_url=u'http://pbs.twimg.com/profile_images/516992947116466176/Ljpou1WK_normal.jpeg', notifications=False, profile_background_image_url_https=u'https://abs.twimg.com/images/themes/theme1/bg.png', profile_background_color=u'77DBAE', profile_banner_url=u'https://pbs.twimg.com/profile_banners/1466106074/1418249445', profile_background_image_url=u'http://abs.twimg.com/images/themes/theme1/bg.png', name=u'The Blocker', is_translation_enabled=False, profile_background_tile=False, favourites_count=15059, screen_name=u'fortyfs', url=None, created_at=datetime.datetime(2013, 5, 29, 1, 26, 27), contributors_enabled=False, location=u'Scarberia', profile_sidebar_border_color=u'FFFFFF', default_profile=False, following=False), geo=None, in_reply_to_user_id_str=None, possibly_sensitive=False, lang=u'en', created_at=datetime.datetime(2015, 6, 29, 16, 38, 19), in_reply_to_status_id_str=None, place=None, source=u'Twitter for Android', retweeted=False, metadata={u'iso_language_code': u'en', u'result_type': u'recent'})]"
      ]
     },
     "execution_count": 77,
     "metadata": {},
     "output_type": "execute_result"
    }
   ],
   "source": [
    "tweets"
   ]
  },
  {
   "cell_type": "code",
   "execution_count": 78,
   "metadata": {
    "collapsed": false
   },
   "outputs": [
    {
     "data": {
      "text/plain": [
       "15"
      ]
     },
     "execution_count": 78,
     "metadata": {},
     "output_type": "execute_result"
    }
   ],
   "source": [
    "len(tweets)\n"
   ]
  },
  {
   "cell_type": "code",
   "execution_count": 79,
   "metadata": {
    "collapsed": false
   },
   "outputs": [
    {
     "data": {
      "text/plain": [
       "Status(contributors=None, truncated=False, text=u'Supreme Court Term Ends With Republicans Losing Two Partisan Election Cases - AlterNet http://t.co/zG12ucP0o6', is_quote_status=False, in_reply_to_status_id=None, id=615559945199747072, favorite_count=0, _api=<tweepy.api.API object at 0x10319bed0>, author=User(follow_request_sent=False, has_extended_profile=False, profile_use_background_image=True, _json={u'follow_request_sent': False, u'has_extended_profile': False, u'profile_use_background_image': True, u'default_profile_image': False, u'id': 522413992, u'profile_background_image_url_https': u'https://abs.twimg.com/images/themes/theme14/bg.gif', u'verified': False, u'profile_text_color': u'333333', u'profile_image_url_https': u'https://pbs.twimg.com/profile_images/1891703657/425685_359513130740200_359512250740288_1227402_83552796_n_normal.jpg', u'profile_sidebar_fill_color': u'EFEFEF', u'entities': {u'url': {u'urls': [{u'url': u'http://t.co/FXDi0IDnF4', u'indices': [0, 22], u'expanded_url': u'http://www.facebook.com/socialhax', u'display_url': u'facebook.com/socialhax'}]}, u'description': {u'urls': []}}, u'followers_count': 285, u'profile_sidebar_border_color': u'EEEEEE', u'id_str': u'522413992', u'profile_background_color': u'131516', u'listed_count': 16, u'is_translation_enabled': False, u'utc_offset': -10800, u'statuses_count': 12538, u'description': u'Join the fight to protect basic human rights and liberty.', u'friends_count': 264, u'location': u'Worldwide', u'profile_link_color': u'009999', u'profile_image_url': u'http://pbs.twimg.com/profile_images/1891703657/425685_359513130740200_359512250740288_1227402_83552796_n_normal.jpg', u'following': False, u'geo_enabled': False, u'profile_background_image_url': u'http://abs.twimg.com/images/themes/theme14/bg.gif', u'screen_name': u'EndFearNow', u'lang': u'en', u'profile_background_tile': True, u'favourites_count': 22, u'name': u'End Fear', u'notifications': False, u'url': u'http://t.co/FXDi0IDnF4', u'created_at': u'Mon Mar 12 17:08:06 +0000 2012', u'contributors_enabled': False, u'time_zone': u'Atlantic Time (Canada)', u'protected': False, u'default_profile': False, u'is_translator': False}, time_zone=u'Atlantic Time (Canada)', id=522413992, _api=<tweepy.api.API object at 0x10319bed0>, verified=False, profile_text_color=u'333333', profile_image_url_https=u'https://pbs.twimg.com/profile_images/1891703657/425685_359513130740200_359512250740288_1227402_83552796_n_normal.jpg', profile_sidebar_fill_color=u'EFEFEF', is_translator=False, geo_enabled=False, entities={u'url': {u'urls': [{u'url': u'http://t.co/FXDi0IDnF4', u'indices': [0, 22], u'expanded_url': u'http://www.facebook.com/socialhax', u'display_url': u'facebook.com/socialhax'}]}, u'description': {u'urls': []}}, followers_count=285, protected=False, id_str=u'522413992', default_profile_image=False, listed_count=16, lang=u'en', utc_offset=-10800, statuses_count=12538, description=u'Join the fight to protect basic human rights and liberty.', friends_count=264, profile_link_color=u'009999', profile_image_url=u'http://pbs.twimg.com/profile_images/1891703657/425685_359513130740200_359512250740288_1227402_83552796_n_normal.jpg', notifications=False, profile_background_image_url_https=u'https://abs.twimg.com/images/themes/theme14/bg.gif', profile_background_color=u'131516', profile_background_image_url=u'http://abs.twimg.com/images/themes/theme14/bg.gif', name=u'End Fear', is_translation_enabled=False, profile_background_tile=True, favourites_count=22, screen_name=u'EndFearNow', url=u'http://t.co/FXDi0IDnF4', created_at=datetime.datetime(2012, 3, 12, 17, 8, 6), contributors_enabled=False, location=u'Worldwide', profile_sidebar_border_color=u'EEEEEE', default_profile=False, following=False), _json={u'contributors': None, u'truncated': False, u'text': u'Supreme Court Term Ends With Republicans Losing Two Partisan Election Cases - AlterNet http://t.co/zG12ucP0o6', u'is_quote_status': False, u'in_reply_to_status_id': None, u'id': 615559945199747072, u'favorite_count': 0, u'source': u'<a href=\"http://ifttt.com\" rel=\"nofollow\">IFTTT</a>', u'retweeted': False, u'coordinates': None, u'entities': {u'symbols': [], u'user_mentions': [], u'hashtags': [], u'urls': [{u'url': u'http://t.co/zG12ucP0o6', u'indices': [87, 109], u'expanded_url': u'http://ift.tt/1HsZ3c5', u'display_url': u'ift.tt/1HsZ3c5'}]}, u'in_reply_to_screen_name': None, u'in_reply_to_user_id': None, u'retweet_count': 0, u'id_str': u'615559945199747072', u'favorited': False, u'user': {u'follow_request_sent': False, u'has_extended_profile': False, u'profile_use_background_image': True, u'default_profile_image': False, u'id': 522413992, u'profile_background_image_url_https': u'https://abs.twimg.com/images/themes/theme14/bg.gif', u'verified': False, u'profile_text_color': u'333333', u'profile_image_url_https': u'https://pbs.twimg.com/profile_images/1891703657/425685_359513130740200_359512250740288_1227402_83552796_n_normal.jpg', u'profile_sidebar_fill_color': u'EFEFEF', u'entities': {u'url': {u'urls': [{u'url': u'http://t.co/FXDi0IDnF4', u'indices': [0, 22], u'expanded_url': u'http://www.facebook.com/socialhax', u'display_url': u'facebook.com/socialhax'}]}, u'description': {u'urls': []}}, u'followers_count': 285, u'profile_sidebar_border_color': u'EEEEEE', u'id_str': u'522413992', u'profile_background_color': u'131516', u'listed_count': 16, u'is_translation_enabled': False, u'utc_offset': -10800, u'statuses_count': 12538, u'description': u'Join the fight to protect basic human rights and liberty.', u'friends_count': 264, u'location': u'Worldwide', u'profile_link_color': u'009999', u'profile_image_url': u'http://pbs.twimg.com/profile_images/1891703657/425685_359513130740200_359512250740288_1227402_83552796_n_normal.jpg', u'following': False, u'geo_enabled': False, u'profile_background_image_url': u'http://abs.twimg.com/images/themes/theme14/bg.gif', u'screen_name': u'EndFearNow', u'lang': u'en', u'profile_background_tile': True, u'favourites_count': 22, u'name': u'End Fear', u'notifications': False, u'url': u'http://t.co/FXDi0IDnF4', u'created_at': u'Mon Mar 12 17:08:06 +0000 2012', u'contributors_enabled': False, u'time_zone': u'Atlantic Time (Canada)', u'protected': False, u'default_profile': False, u'is_translator': False}, u'geo': None, u'in_reply_to_user_id_str': None, u'possibly_sensitive': False, u'lang': u'en', u'created_at': u'Mon Jun 29 16:38:22 +0000 2015', u'in_reply_to_status_id_str': None, u'place': None, u'metadata': {u'iso_language_code': u'en', u'result_type': u'recent'}}, coordinates=None, entities={u'symbols': [], u'user_mentions': [], u'hashtags': [], u'urls': [{u'url': u'http://t.co/zG12ucP0o6', u'indices': [87, 109], u'expanded_url': u'http://ift.tt/1HsZ3c5', u'display_url': u'ift.tt/1HsZ3c5'}]}, in_reply_to_screen_name=None, id_str=u'615559945199747072', retweet_count=0, in_reply_to_user_id=None, favorited=False, source_url=u'http://ifttt.com', user=User(follow_request_sent=False, has_extended_profile=False, profile_use_background_image=True, _json={u'follow_request_sent': False, u'has_extended_profile': False, u'profile_use_background_image': True, u'default_profile_image': False, u'id': 522413992, u'profile_background_image_url_https': u'https://abs.twimg.com/images/themes/theme14/bg.gif', u'verified': False, u'profile_text_color': u'333333', u'profile_image_url_https': u'https://pbs.twimg.com/profile_images/1891703657/425685_359513130740200_359512250740288_1227402_83552796_n_normal.jpg', u'profile_sidebar_fill_color': u'EFEFEF', u'entities': {u'url': {u'urls': [{u'url': u'http://t.co/FXDi0IDnF4', u'indices': [0, 22], u'expanded_url': u'http://www.facebook.com/socialhax', u'display_url': u'facebook.com/socialhax'}]}, u'description': {u'urls': []}}, u'followers_count': 285, u'profile_sidebar_border_color': u'EEEEEE', u'id_str': u'522413992', u'profile_background_color': u'131516', u'listed_count': 16, u'is_translation_enabled': False, u'utc_offset': -10800, u'statuses_count': 12538, u'description': u'Join the fight to protect basic human rights and liberty.', u'friends_count': 264, u'location': u'Worldwide', u'profile_link_color': u'009999', u'profile_image_url': u'http://pbs.twimg.com/profile_images/1891703657/425685_359513130740200_359512250740288_1227402_83552796_n_normal.jpg', u'following': False, u'geo_enabled': False, u'profile_background_image_url': u'http://abs.twimg.com/images/themes/theme14/bg.gif', u'screen_name': u'EndFearNow', u'lang': u'en', u'profile_background_tile': True, u'favourites_count': 22, u'name': u'End Fear', u'notifications': False, u'url': u'http://t.co/FXDi0IDnF4', u'created_at': u'Mon Mar 12 17:08:06 +0000 2012', u'contributors_enabled': False, u'time_zone': u'Atlantic Time (Canada)', u'protected': False, u'default_profile': False, u'is_translator': False}, time_zone=u'Atlantic Time (Canada)', id=522413992, _api=<tweepy.api.API object at 0x10319bed0>, verified=False, profile_text_color=u'333333', profile_image_url_https=u'https://pbs.twimg.com/profile_images/1891703657/425685_359513130740200_359512250740288_1227402_83552796_n_normal.jpg', profile_sidebar_fill_color=u'EFEFEF', is_translator=False, geo_enabled=False, entities={u'url': {u'urls': [{u'url': u'http://t.co/FXDi0IDnF4', u'indices': [0, 22], u'expanded_url': u'http://www.facebook.com/socialhax', u'display_url': u'facebook.com/socialhax'}]}, u'description': {u'urls': []}}, followers_count=285, protected=False, id_str=u'522413992', default_profile_image=False, listed_count=16, lang=u'en', utc_offset=-10800, statuses_count=12538, description=u'Join the fight to protect basic human rights and liberty.', friends_count=264, profile_link_color=u'009999', profile_image_url=u'http://pbs.twimg.com/profile_images/1891703657/425685_359513130740200_359512250740288_1227402_83552796_n_normal.jpg', notifications=False, profile_background_image_url_https=u'https://abs.twimg.com/images/themes/theme14/bg.gif', profile_background_color=u'131516', profile_background_image_url=u'http://abs.twimg.com/images/themes/theme14/bg.gif', name=u'End Fear', is_translation_enabled=False, profile_background_tile=True, favourites_count=22, screen_name=u'EndFearNow', url=u'http://t.co/FXDi0IDnF4', created_at=datetime.datetime(2012, 3, 12, 17, 8, 6), contributors_enabled=False, location=u'Worldwide', profile_sidebar_border_color=u'EEEEEE', default_profile=False, following=False), geo=None, in_reply_to_user_id_str=None, possibly_sensitive=False, lang=u'en', created_at=datetime.datetime(2015, 6, 29, 16, 38, 22), in_reply_to_status_id_str=None, place=None, source=u'IFTTT', retweeted=False, metadata={u'iso_language_code': u'en', u'result_type': u'recent'})"
      ]
     },
     "execution_count": 79,
     "metadata": {},
     "output_type": "execute_result"
    }
   ],
   "source": [
    "tweets[0]"
   ]
  },
  {
   "cell_type": "code",
   "execution_count": 81,
   "metadata": {
    "collapsed": false
   },
   "outputs": [
    {
     "data": {
      "text/plain": [
       "tweepy.models.Status"
      ]
     },
     "execution_count": 81,
     "metadata": {},
     "output_type": "execute_result"
    }
   ],
   "source": [
    "type(tweets[0]) #not a dict... "
   ]
  },
  {
   "cell_type": "code",
   "execution_count": 86,
   "metadata": {
    "collapsed": false
   },
   "outputs": [
    {
     "data": {
      "text/plain": [
       "u'Supreme Court Term Ends With Republicans Losing Two Partisan Election Cases - AlterNet http://t.co/zG12ucP0o6'"
      ]
     },
     "execution_count": 86,
     "metadata": {},
     "output_type": "execute_result"
    }
   ],
   "source": [
    "tweets[0].text"
   ]
  },
  {
   "cell_type": "code",
   "execution_count": null,
   "metadata": {
    "collapsed": true
   },
   "outputs": [],
   "source": []
  }
 ],
 "metadata": {
  "kernelspec": {
   "display_name": "Python 2",
   "language": "python",
   "name": "python2"
  },
  "language_info": {
   "codemirror_mode": {
    "name": "ipython",
    "version": 2
   },
   "file_extension": ".py",
   "mimetype": "text/x-python",
   "name": "python",
   "nbconvert_exporter": "python",
   "pygments_lexer": "ipython2",
   "version": "2.7.10"
  }
 },
 "nbformat": 4,
 "nbformat_minor": 0
}
