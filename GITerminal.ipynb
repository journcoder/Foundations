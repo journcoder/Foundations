{
 "cells": [
  {
   "cell_type": "markdown",
   "metadata": {},
   "source": [
    "## GIT HUB WITH TERMINAL "
   ]
  },
  {
   "cell_type": "markdown",
   "metadata": {},
   "source": [
    "*make sure you're in the folder where all the notebooks are!*\n",
    "\n",
    "**If updating a file/master from own cpu:**\n",
    "\n",
    "    git commit -m (commit changes to docs) \n",
    "    git push (so git hub knows) \n",
    "\n",
    "\n",
    "**ADDING FILES**\n",
    "\n",
    "    git commit -m \"add\"\n",
    "    git add 'name of file\"\n",
    "    git push \n",
    "\n",
    "**To pull a file**\n",
    "\n",
    "    git pull \"file name\"\n",
    "    \n",
    "\n"
   ]
  },
  {
   "cell_type": "code",
   "execution_count": null,
   "metadata": {
    "collapsed": true
   },
   "outputs": [],
   "source": []
  }
 ],
 "metadata": {
  "kernelspec": {
   "display_name": "Python 2",
   "language": "python",
   "name": "python2"
  },
  "language_info": {
   "codemirror_mode": {
    "name": "ipython",
    "version": 2
   },
   "file_extension": ".py",
   "mimetype": "text/x-python",
   "name": "python",
   "nbconvert_exporter": "python",
   "pygments_lexer": "ipython2",
   "version": "2.7.10"
  }
 },
 "nbformat": 4,
 "nbformat_minor": 0
}
