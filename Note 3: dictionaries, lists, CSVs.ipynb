{
 "cells": [
  {
   "cell_type": "markdown",
   "metadata": {},
   "source": [
    "#**Do Now FOUR Monday, June 8, 2015 **\n",
    "\n",
    "*Reviewing: dictionaries, lists, CSVs* \n",
    "\n",
    "1) Print the 3rd element of a list called dogs.\n",
    "\n",
    "2) What is the output of the following code?\n",
    "\n",
    "numbers = [ 1, 2, 3, 4]\n",
    "colors = [ \"green\", \"blue\" ]\n",
    "for color in colors:\n",
    "\tfor number in numbers:\n",
    "\t\tprint number, color\n",
    "\n",
    "3) What command would you use to get the first 100 lines of data.csv, and save it into a new file named sample.csv?\n",
    "\n",
    "This is a view of the file lists.csv, used for the questions below\n",
    "make\tyear\tcolor\n",
    "Chevrolet\t2011\tblack\n",
    "Honda\t2010\tred\n",
    "Honda\t2013\tblack\n",
    "Toyota\t2001\tgold\n",
    "\n",
    "4) What is missing from the lines below? (It isn't 100% necessary, but we use it for convenience)\n",
    "\n",
    "file = open(\"lists.csv\")\n",
    "cars = csv.DictReader(file)\n",
    "\n",
    "5) Write a for loop to add up all of the years. Save it to a variable called total.\n",
    "\n",
    "6) I'd like a new list called favorites that includes all cars that are black or produced after 2010. Write a for loop to create this list.\n",
    "\n",
    "Tip: You can join things in if statements using and and or, like n > 3 or name == \"Peter\"\n"
   ]
  },
  {
   "cell_type": "code",
   "execution_count": null,
   "metadata": {
    "collapsed": true
   },
   "outputs": [],
   "source": []
  },
  {
   "cell_type": "markdown",
   "metadata": {},
   "source": [
    "**1) Print the 3rd element of a list called dogs.**"
   ]
  },
  {
   "cell_type": "markdown",
   "metadata": {},
   "source": [
    "To print the thrid elements in dogs, after defining the dogs list you print dogs[2]"
   ]
  },
  {
   "cell_type": "markdown",
   "metadata": {},
   "source": [
    "**2) What is the output of the following code?**\n"
   ]
  },
  {
   "cell_type": "code",
   "execution_count": 1,
   "metadata": {
    "collapsed": false
   },
   "outputs": [
    {
     "name": "stdout",
     "output_type": "stream",
     "text": [
      "1 green\n",
      "2 green\n",
      "3 green\n",
      "4 green\n",
      "1 blue\n",
      "2 blue\n",
      "3 blue\n",
      "4 blue\n"
     ]
    }
   ],
   "source": [
    "numbers = [ 1, 2, 3, 4] \n",
    "colors = [ \"green\", \"blue\" ] \n",
    "for color in colors: \n",
    "    for number in numbers: \n",
    "        print number, color"
   ]
  },
  {
   "cell_type": "markdown",
   "metadata": {},
   "source": [
    "**3) What command would you use to get the first 100 lines of data.csv, and save it into a new file named sample.csv?**\n",
    "*This is a view of the file lists.csv, used for the questions below*\n",
    "make year color Chevrolet 2011 black Honda 2010 red Honda 2013 black Toyota 2001 gold\n",
    "\n",
    "\n",
    "You use the command head -n 100 lists.csv\n"
   ]
  },
  {
   "cell_type": "markdown",
   "metadata": {},
   "source": [
    "**4) What is missing from the lines below? (It isn't 100% necessary, but we use it for convenience)**\n",
    "\n",
    "file = open(\"lists.csv\")\n",
    "                                            \n",
    "cars = csv.DictReader(file)\n",
    "\n",
    "*Import lists.csv is missing* needed to take the file and import it into the document. \n"
   ]
  },
  {
   "cell_type": "markdown",
   "metadata": {},
   "source": [
    "**5) Write a for loop to add up all of the years. Save it to a variable called total.**"
   ]
  },
  {
   "cell_type": "markdown",
   "metadata": {},
   "source": [
    "*If an actual file.... \n",
    "for year in year:\n",
    "\n",
    "    year = cars['year']\n",
    "    \n",
    "    year = sum(year)\n",
    "    \n",
    "    print year\n",
    "\n",
    "    "
   ]
  },
  {
   "cell_type": "markdown",
   "metadata": {},
   "source": [
    "**6) I'd like a new list called favorites that includes all cars that are black or produced after 2010. Write a for loop to create this list. Tip: You can join things in if statements using and and or, like n > 3 or name == \"Peter\"**\n"
   ]
  },
  {
   "cell_type": "markdown",
   "metadata": {},
   "source": [
    "favorites = []\n",
    "\n",
    "if car[color] == 'black' or year > 2013:\n",
    "\n",
    "       print car "
   ]
  },
  {
   "cell_type": "markdown",
   "metadata": {},
   "source": [
    "#**CLASS NOTES**"
   ]
  },
  {
   "cell_type": "markdown",
   "metadata": {},
   "source": [
    "import csv\n",
    "\n",
    "head -n 500 dogs.csv > thousand.csv\n",
    "\n",
    "file = open(\"sample.csv\")\n",
    "dogs = list(csv.DictReader(file))\n",
    "\n",
    "print dogs\n",
    "\n",
    "*Count the dogs in NYC*\n",
    "print len(dogs)\n",
    "\n",
    "*Using a list comprehension to get the boroughs*\n",
    "boroughs = [dog['borough'] for dog in dogs]\n",
    "\n",
    "*A way to get rid of duplicates*\n",
    "print list(set(boroughs))\n",
    "\n",
    "boroughs = []\n",
    "for dog in dogs:\n",
    "\tif dog['borough'] not in boroughs:\n",
    "\t\tboroughs.append(dog['borough'])\n",
    "\n",
    "for borough in boroughs:\n",
    "\tresult = 0\n",
    "\tfor dog in dogs:\n",
    "\t\tif borough == dog['borough']:\n",
    "\t\t\tresult = result + 1\n",
    "\tprint borough, result\n",
    "\n",
    "names = [dog['dog_name'] for dog in dogs]\n",
    "unique_names = list(set(names))\n",
    "print names\n",
    "print unique_names\n",
    "\n",
    "\n",
    "\n",
    "borough_counts = {\n",
    "\t'Staten Island': 0,\n",
    "\t'Brooklyn': 0,\n",
    " \t'Manhattan': 0,\n",
    " \t'Queens': 0,\n",
    " \t'Bronx': 0\n",
    " }\n",
    "print borough_counts['Staten Island']\n",
    "print borough_counts['Queens']\n",
    "print borough_counts['Bronx']\n",
    "staten_island = 12\n",
    "borough_counts['Staten Island'] = 12\n",
    "borough_counts['Queens'] = 33\n",
    "\n",
    "borough_counts = {}\n",
    "for borough in boroughs:\n",
    "\tborough_counts[borough] = 0\n",
    "\tprint borough_counts\n",
    "\n",
    "for dog in dogs:\n",
    "\tborough = dog['borough']\n",
    "\tborough_counts[borough] = borough_counts[borough] + 1\n",
    "\t# borough_counts['Bronx'] = borough_counts['Bronx'] + 1\n",
    "\n",
    " for borough in boroughs:\n",
    " \tresult = 0\n",
    " \tfor dog in dogs:\n",
    " \t\tif borough == dog['borough']:\n",
    " \t\t\tresult = result + 1\n",
    " \tprint borough, result\n"
   ]
  },
  {
   "cell_type": "code",
   "execution_count": null,
   "metadata": {
    "collapsed": true
   },
   "outputs": [],
   "source": []
  }
 ],
 "metadata": {
  "kernelspec": {
   "display_name": "Python 2",
   "language": "python",
   "name": "python2"
  },
  "language_info": {
   "codemirror_mode": {
    "name": "ipython",
    "version": 2
   },
   "file_extension": ".py",
   "mimetype": "text/x-python",
   "name": "python",
   "nbconvert_exporter": "python",
   "pygments_lexer": "ipython2",
   "version": "2.7.9"
  }
 },
 "nbformat": 4,
 "nbformat_minor": 0
}
