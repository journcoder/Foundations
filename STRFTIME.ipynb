{
 "cells": [
  {
   "cell_type": "markdown",
   "metadata": {},
   "source": [
    "##Python's strftime directives \n",
    "*from  strftime.org*\n",
    "\n",
    "Note: Examples are based on datetime.datetime(2013, 9, 3, 9, 6, 5)\n",
    "\n",
    "    Code\tMeaning\tExample\n",
    "\n",
    "    %a\tWeekday as locale’s abbreviated name.\tTue\n",
    "    %A\tWeekday as locale’s full name.\tTuesday\n",
    "    %w\tWeekday as a decimal number, where 0 is Sunday and 6 is Saturday.\t2\n",
    "    %d\tDay of the month as a zero-padded decimal number.\t03\n",
    "    %-d\tDay of the month as a decimal number. (Platform specific)\t3\n",
    "    %b\tMonth as locale’s abbreviated name.\tSep\n",
    "    %B\tMonth as locale’s full name.\tSeptember\n",
    "    %m\tMonth as a zero-padded decimal number.\t09\n",
    "    %-m\tMonth as a decimal number. (Platform specific)\t9\n",
    "    %y\tYear without century as a zero-padded decimal number.\t13\n",
    "    %Y\tYear with century as a decimal number.\t2013\n",
    "    %H\tHour (24-hour clock) as a zero-padded decimal number.\t09\n",
    "    %-H\tHour (24-hour clock) as a decimal number. (Platform specific)\t9\n",
    "    %I\tHour (12-hour clock) as a zero-padded decimal number.\t09\n",
    "    %-I\tHour (12-hour clock) as a decimal number. (Platform specific)\t9\n",
    "    %p\tLocale’s equivalent of either AM or PM.\tAM\n",
    "    %M\tMinute as a zero-padded decimal number.\t06\n",
    "    %-M\tMinute as a decimal number. (Platform specific)\t6\n",
    "    %S\tSecond as a zero-padded decimal number.\t05\n",
    "    %-S\tSecond as a decimal number. (Platform specific)\t5\n",
    "    %f\tMicrosecond as a decimal number, zero-padded on the left.\t000000\n",
    "    %z\tUTC offset in the form +HHMM or -HHMM (empty string if the the object is naive).\t\n",
    "    %Z\tTime zone name (empty string if the object is naive).\t\n",
    "    %j\tDay of the year as a zero-padded decimal number.\t246\n",
    "    %-j\tDay of the year as a decimal number. (Platform specific)\t246\n",
    "    %U\tWeek number of the year (Sunday as the first day of the week) as a zero padded decimal number. All days in a new year preceding the first Sunday are considered to be in week 0.\t35\n",
    "    %W\tWeek number of the year (Monday as the first day of the week) as a decimal number. All days in a new year preceding the first Monday are considered to be in week 0.\t35\n",
    "    %c\tLocale’s appropriate date and time representation.\tTue Sep 3 09:06:05 2013\n",
    "    %x\tLocale’s appropriate date representation.\t09/03/13\n",
    "    %X\tLocale’s appropriate time representation.\t09:06:05\n",
    "    %%\tA literal '%' character.\t%\n",
    "    \n",
    "Source: Python’s strftime documentation.\n",
    "\n",
    "\n",
    "**Platform specific directives:** The full set of format codes supported varies across platforms, because Python calls the platform C library's strftime() function, and platform variations are common. To see the full set of format codes supported on your platform, consult the strftime(3) documentation. \n",
    "\n",
    "\n",
    "The Python docs contain all the format codes that the C standard (1989 version) requires, and these work on all platforms with a standard C implementation. Note that the 1999 version of the C standard added additional format codes. These include codes for non-zero-padded numbers, that can be obtained by appending a dash (-) after the percent (%) sign.\n",
    "\n",
    "\n",
    "**Why?** I need to use Python’s strftime rarely enough that I can’t remember it off the top of my head and never bookmark it but often enough to be annoyed with having to Google “python strftime” and then find the table above in the Python documentation. So I decided to put this reference page up.\n",
    "\n",
    "\n",
    "**Who?** This was slapped together on a whim by Will McCutchen, who is just slouching on the shoulders of the awesome Python documentation team. The source code is on Github and pull requests are welcome!\n",
    "\n",
    "\n",
    "**When?** Last updated 2015-04-17."
   ]
  },
  {
   "cell_type": "markdown",
   "metadata": {
    "collapsed": true
   },
   "source": [
    "**MORE INFO** https://docs.python.org/2/library/datetime.html#strftime-strptime-behavior"
   ]
  },
  {
   "cell_type": "code",
   "execution_count": null,
   "metadata": {
    "collapsed": true
   },
   "outputs": [],
   "source": []
  }
 ],
 "metadata": {
  "kernelspec": {
   "display_name": "Python 2",
   "language": "python",
   "name": "python2"
  },
  "language_info": {
   "codemirror_mode": {
    "name": "ipython",
    "version": 2
   },
   "file_extension": ".py",
   "mimetype": "text/x-python",
   "name": "python",
   "nbconvert_exporter": "python",
   "pygments_lexer": "ipython2",
   "version": "2.7.10"
  }
 },
 "nbformat": 4,
 "nbformat_minor": 0
}
