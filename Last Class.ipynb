{
 "cells": [
  {
   "cell_type": "markdown",
   "metadata": {},
   "source": [
    "#Do Now\n",
    "\n",
    "##Monday, July 13, 2015 (last foundations class) ##\n",
    "\n",
    "*Reviewing: Googling for tools*\n",
    " \n",
    "**1) Whats' a good site for browsing unicode characters?**\n",
    "\n",
    "    unicode-table.com\n",
    "\n",
    "**2) I need to make a simple chart, but I'm not allwoed to use excel. What should I use?**\n",
    "\n",
    "    google graphics, chart builder, piktochart .. SVG = scalable vector graphics \n",
    "\n",
    "**3) I need to spend a few months learning something to make custom interactive visualizations. What language/library?**\n",
    "\n",
    "    javascript, D3 .... there's another one called processing (it's a bit more artsy and less standard/new. Not as common in journalism). \n",
    "\n",
    "**4) I need to do data analysis using Python. What are some packages that might be useful?**\n",
    "\n",
    "    NLTK - text data\n",
    "    PDF - tablue/ Cometdocs \n",
    "    prftotext \n",
    "    (IRE website has a tool)\n",
    "    OCR - optical character recognition \n",
    "  \n",
    "**5) My computer isn't powerful enough! What service can I use to get a brand new powerful \\\"computer\\\" without actually buying one?**\n",
    "\n",
    "    Amazon .... Ec2\n",
    "\n",
    "**6) I need to clean data, these addresses are a wreck. What tool do I use to clean them up? What's the process of converting them to latitude and longitude called? **\n",
    "\n",
    "     Google Refine \n",
    "\n",
    "**7) I have a huge CSV and need to make some changes to it (removing columns, merging with another CSV, etc). What command-line tool might help me?**\n",
    "\n",
    "\n",
    "    pandas (for python)\n",
    "    csv kit\n",
    "    csvstack, csvmerge, csvcut, others\n",
    "\n",
    "**8) A web page doesn't have an API, but I need to get the data from it anyway. What's that process called? What do I use?**\n",
    "\n",
    "    scrapping\n",
    "        \n",
    "**9) I need to make some charts that help me browse through my data. I don't want to use Python or anything too programming-y, is there a tool that might be helpful? **\n",
    "\n",
    "    tableu, R, accesss....\n",
    "\n",
    "**10) I need do some intense geographic data analysis. What do I use?**\n",
    "\n",
    "    geocoding, geopandas, ArcGIS, QGIS\\n\",\n",
    "\n",
    "**11) I apparently need to learn and use a \\\"relational, SQL database.\\\" Which do I pick? And give me an example of a non-SQL database if you're feeling a little wild.**\n",
    "\n",
    "    MYSQL, SQL Lite .. non SQL ... that's tricky ... \n",
    "    \n",
    "    \n",
    ".. Then we did cool things with maps. "
   ]
  },
  {
   "cell_type": "code",
   "execution_count": null,
   "metadata": {
    "collapsed": true
   },
   "outputs": [],
   "source": []
  }
 ],
 "metadata": {
  "kernelspec": {
   "display_name": "Python 2",
   "language": "python",
   "name": "python2"
  },
  "language_info": {
   "codemirror_mode": {
    "name": "ipython",
    "version": 2
   },
   "file_extension": ".py",
   "mimetype": "text/x-python",
   "name": "python",
   "nbconvert_exporter": "python",
   "pygments_lexer": "ipython2",
   "version": "2.7.10"
  }
 },
 "nbformat": 4,
 "nbformat_minor": 0
}
