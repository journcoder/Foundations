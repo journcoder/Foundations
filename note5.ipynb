{
 "cells": [
  {
   "cell_type": "markdown",
   "metadata": {},
   "source": [
    "##Do Now Wednesday, June 18, 2015\n",
    "\n",
    "*Reviewing: Google Refine, git, counting things*\n",
    "\n",
    "**1a) What does Refine call searching for text in a column?**\n",
    "\n",
    "**1b) What does Refine call examining all the values that appear in a column?**\n",
    "\n",
    "**2) When you add a new file into the folder you're tracking with git, it doesn't get automatically placed into the repository. What's the command to make that happen?**\n",
    "\n",
    "**3) There are two more steps to go through with the file. One saves your changes to the repo, one sends them up to GitHub. What are they?**\n",
    "\n",
    "[ { 'company': 'ExxonMobil', 'fine': 4500, 'date': '2011-01-02' },\n",
    "{ 'company':'BP', 'fine': 320, 'date': '2012-02-12' },\n",
    "{ 'company': 'ExxonMobil', 'fine': 7200, 'date': '2012-04-09' },\n",
    "{ 'company': 'Chevron', 'fine': 80000, 'date': '2011-01-02' } ]\n",
    "\n",
    "**4) What's the data type of the above?**\n",
    "\n",
    "**5) Count the number of times Chevron appears in the list. Tip: list comprehensions are your friend**\n",
    "\n",
    "**6) Sum up the fines that were from ExxonMobil. Tip: You can put conditions in a list comprehension! See the rather confusing but possibly helpful code below.**\n",
    "\n",
    "num = [1, 2, 3, 4]\n",
    "[num * 2 for num in numbers if num > 2]\n",
    "This will create the list [6, 8]**\n"
   ]
  },
  {
   "cell_type": "markdown",
   "metadata": {},
   "source": [
    "**1a) What does Refine call searching for text in a column?**\n",
    "\n",
    "FIlter (specifically Text Filter)"
   ]
  },
  {
   "cell_type": "markdown",
   "metadata": {},
   "source": [
    "**1b) What does Refine call examining all the values that appear in a column?**\n",
    "\n",
    "*Facets* - specifically Text Facets"
   ]
  },
  {
   "cell_type": "markdown",
   "metadata": {},
   "source": [
    "**2) When you add a new file into the folder you're tracking with git, it doesn't get automatically placed into the repository. What's the command to make that happen?**\n",
    "\n",
    "git add filename.ibynb"
   ]
  },
  {
   "cell_type": "markdown",
   "metadata": {},
   "source": [
    "**3) There are two more steps to go through with the file. One saves your changes to the repo, one sends them up to GitHub. What are they?**\n",
    "\n",
    "git commit -m \"Here's a message\" \n",
    "*to save your changes to the repository (like a checkpoint)*\n",
    "\n",
    "git push \n",
    "*to send it up to GitHub*\n",
    "\n",
    "git push -u origin master\n",
    "*for the first time, but after the -u saves it.*"
   ]
  },
  {
   "cell_type": "markdown",
   "metadata": {},
   "source": [
    "companies = [ { 'company': 'ExxonMobil', 'fine': 4500, 'date': '2011-01-02' }, { 'company':'BP', 'fine': 320, 'date': '2012-02-12' }, { 'company': 'ExxonMobil', 'fine': 7200, 'date': '2012-04-09' }, { 'company': 'Chevron', 'fine': 80000, 'date': '2011-01-02' } ]\n",
    "\n",
    "**4) What's the data type of the above?**\n",
    "\n",
    "A list of dicts. "
   ]
  },
  {
   "cell_type": "markdown",
   "metadata": {},
   "source": [
    "**5) Count the number of times Chevron appears in the list. Tip: list comprehensions are your friend**"
   ]
  },
  {
   "cell_type": "code",
   "execution_count": 2,
   "metadata": {
    "collapsed": false
   },
   "outputs": [],
   "source": [
    "companies = [ { 'company': 'ExxonMobil', 'fine': 4500, 'date': '2011-01-02' }, { 'company':'BP', 'fine': 320, 'date': '2012-02-12' }, { 'company': 'ExxonMobil', 'fine': 7200, 'date': '2012-04-09' }, { 'company': 'Chevron', 'fine': 80000, 'date': '2011-01-02' } ]\n",
    "company_names = [company['company'] for company in companies]"
   ]
  },
  {
   "cell_type": "code",
   "execution_count": 3,
   "metadata": {
    "collapsed": false
   },
   "outputs": [
    {
     "data": {
      "text/plain": [
       "['ExxonMobil', 'BP', 'ExxonMobil', 'Chevron']"
      ]
     },
     "execution_count": 3,
     "metadata": {},
     "output_type": "execute_result"
    }
   ],
   "source": [
    "company_names"
   ]
  },
  {
   "cell_type": "code",
   "execution_count": 4,
   "metadata": {
    "collapsed": false
   },
   "outputs": [
    {
     "data": {
      "text/plain": [
       "1"
      ]
     },
     "execution_count": 4,
     "metadata": {},
     "output_type": "execute_result"
    }
   ],
   "source": [
    "company_names.count(\"Chevron\")"
   ]
  },
  {
   "cell_type": "markdown",
   "metadata": {},
   "source": [
    "**6) Sum up the fines that were from ExxonMobil. Tip: You can put conditions in a list comprehension! See the rather confusing but possibly helpful code below.**\n",
    "\n",
    "    *num = [1, 2, 3, 4] \n",
    "    [num 2 for num in numbers if num > 2] \n",
    "    This will create the list [6, 8]*\n",
    "    \n",
    "    \n",
    "If it was a for loop \n",
    "\n",
    "        for company in companies:\n",
    "           if company['Company'] == 'ExxonMobil\":\n",
    "        #do stuff"
   ]
  },
  {
   "cell_type": "code",
   "execution_count": 9,
   "metadata": {
    "collapsed": false
   },
   "outputs": [],
   "source": [
    "companies = [ { 'company': 'ExxonMobil', 'fine': 4500, 'date': '2011-01-02' }, { 'company':'BP', 'fine': 320, 'date': '2012-02-12' }, { 'company': 'ExxonMobil', 'fine': 7200, 'date': '2012-04-09' }, { 'company': 'Chevron', 'fine': 80000, 'date': '2011-01-02'}]\n",
    "company_name = [company['name'] for company in companies if company['company'] == 'ExonMobil']                \n",
    "             \n",
    "             ##WHY IS THIS NOT WORKING!! "
   ]
  },
  {
   "cell_type": "code",
   "execution_count": 11,
   "metadata": {
    "collapsed": false
   },
   "outputs": [
    {
     "data": {
      "text/plain": [
       "[]"
      ]
     },
     "execution_count": 11,
     "metadata": {},
     "output_type": "execute_result"
    }
   ],
   "source": [
    "company_name"
   ]
  },
  {
   "cell_type": "code",
   "execution_count": 12,
   "metadata": {
    "collapsed": false
   },
   "outputs": [],
   "source": [
    "companies = [ { 'company': 'ExxonMobil', 'fine': 4500, 'date': '2011-01-02' }, { 'company':'BP', 'fine': 320, 'date': '2012-02-12' }, { 'company': 'ExxonMobil', 'fine': 7200, 'date': '2012-04-09' }, { 'company': 'Chevron', 'fine': 80000, 'date': '2011-01-02'}]\n",
    "fines = [company['fine'] for company in companies if company['company'] == 'ExonMobile']"
   ]
  },
  {
   "cell_type": "code",
   "execution_count": 13,
   "metadata": {
    "collapsed": false
   },
   "outputs": [
    {
     "data": {
      "text/plain": [
       "0"
      ]
     },
     "execution_count": 13,
     "metadata": {},
     "output_type": "execute_result"
    }
   ],
   "source": [
    "sum(fines) ##AGAIN NOT WORKING!! "
   ]
  },
  {
   "cell_type": "markdown",
   "metadata": {
    "collapsed": true
   },
   "source": [
    "##CLASS NOTES "
   ]
  },
  {
   "cell_type": "markdown",
   "metadata": {},
   "source": [
    "***WHY ARE WE DOING WHAT WE'RE DOING?!?***\n",
    "   \n",
    "##Different lagnuages:\n",
    "       \n",
    "**Python:** user friendly, best(ish) for data analysis, IT'S A MULTIPURPOSE LANGUAGE (can be used for data, \n",
    "       programs,website, visuals ...) ECOSYSTEM (HL)\n",
    "               \n",
    "**Javascript vs. Java**\n",
    "    ARE DIFFERENT!! \n",
    "    *Java is to Javascript as Car is to Carpet .. WHICH IS NOTHING!*\n",
    "   *JAVASCRIPT:* is only used in the web browser/but can sometimes can be used in back, but doesn't work well. It \n",
    "       makes things move. D3, jquery are all JS libaraies. \n",
    "       \n",
    "**Ruby:** user friendly, but not big group of science ppl using it (could use for data.. but not easy), RUBY ON \n",
    "      RAILS = a series of moduels put together to easily build websites or applications. (HL)\n",
    "      \n",
    "**C++:** Good lang. to use to know how things work. It's a bit more compliated, more in the CPU guts. (LL)\n",
    "\n",
    "**C#:**\n",
    "\n",
    "**CSS:** Makes things pretty with color and cool fonts and such. \n",
    "\n",
    "**HTML(5)**: like h1-h6 in html (headers) or p (paragraphs), i (italicized) .. it's a Markup language. You're marking \n",
    "             up what certain pages are supposed to be. The 5 is just a new version that added like a few tags to 3/4. \n",
    "\n",
    "**Drupal:**\n",
    "       \n",
    "**PHP:** 'Hypertext Preprocessor'?, popular among new programers/learners... especially b/c of wordpress/written \n",
    "     in PHP ... it's kindof a horrible no good language but ppl use it because its intalled on every server \n",
    "     ever. You can google actually why it sucks.(HL)\n",
    "            \n",
    "**My SQL:** Used to analyze data/organize and grab files. Not a prog. lang. It's structure query lang.\n",
    "       \n",
    "**Assembly:** super hard to read (LL) .. it moves things to diff parts of the computer. Will prob never use.\n",
    "\n",
    "**R:** like python but used specifically FOR stats. BUT there's a package for python that can use. \n",
    "\n",
    "\n",
    "#MISC. NOTES \n",
    "\n",
    "**- Overall, Beauty of PHP, Python, Ruby are all simple text languages to write/use. BUT it's not always the case... They're all a lil bit diff but kindof the same, like all languages.**\n",
    "\n",
    "LL = low level, hard(er) program to use\n",
    "HL = high level, easy to use program\n",
    "\n",
    "COMPUTERS/PROGRAMS TALK IN NUMBERS: 0101010 \n",
    "\n",
    "For lang. think backend vs. frontend. \n",
    "\n",
    "THINK PAPER DOLLS \n",
    "- HTML is just the plain doll, or the frame\n",
    "- CSS is the clothes on the doll (color, fonts, anything that isn't back text on a white background)\n",
    "- Javascript is the pin to make the doll's joint moves (advanced functionality) like popup windows, interactive viz, little butterflies that follow your mouse around. \n",
    "\n",
    "\n",
    "XML IS NOT A PROGRAMING LANGUAGE ITS JUST A MARKUP LANGUAGE. \n",
    "Plain link = html \n"
   ]
  },
  {
   "cell_type": "markdown",
   "metadata": {},
   "source": [
    "##GOOGLE REFINE NOTES\n",
    "\n",
    "- need to import dogs csv\n",
    "- convert or transform values ... \n",
    "- facet is just a command to look at adata in different ways. \n",
    "\n",
    "**GREL** = Google refine expression language \n",
    "\n",
    "\n",
    "Informally, the **Levenshtein distance** between two words is the minimum number of single-character edits (i.e. insertions, deletions or substitutions) required to change one word into the other. It is named after Vladimir Levenshtein, who considered this distance in 1965.\n",
    "\n",
    "EDIT DISTANCE just finds similar words to possibly cluster like Cat and cats can all become cat. "
   ]
  },
  {
   "cell_type": "markdown",
   "metadata": {},
   "source": [
    "#TERMINAL\n",
    "csv kit: https://csvkit.readthedocs.org/en/0.9.1/\n",
    "\n"
   ]
  },
  {
   "cell_type": "markdown",
   "metadata": {
    "collapsed": true
   },
   "source": [
    "#CLASS NOTES "
   ]
  },
  {
   "cell_type": "markdown",
   "metadata": {},
   "source": [
    "# Python\n",
    "- multi-purpose language (good for data analysis, among other things)\n",
    "- high-level language: Generally slower than lower-level languages, \n",
    "but more readable & easy to write\n",
    "\t* Hello World\n",
    "\t\tprint \"Hello World\"\n",
    "big ecosystem, lots of libraries\n",
    "\t* for building websites\n",
    "\t\tDjango\n",
    "\t* for scraping\n",
    "\t\tScraPy\n",
    "\n",
    "# Ruby\n",
    "- high-level language: Generally slower than lower-level languages, \n",
    "but more readable & easy to write\n",
    "\t* Hello World\n",
    "\t\tputs \"Hello World\"\n",
    "big ecosystem, lots of libraries\n",
    "\t* for building websites\n",
    "\t\tRuby on Rails\n",
    "\t* for scraping\n",
    "\t\tMechanize\n",
    "\n",
    "# PHP (PHP Hypertext Preprocessor)\n",
    "- high-level language: Generally slower than lower-level languages, \n",
    "but more readable & easy to write\n",
    "\t* Hello World\n",
    "\t\techo \"Hello World\"\n",
    "arguably the most popular, because of Wordpress\n",
    "terrible language, saith Soma\n",
    "\n",
    "# C++\n",
    "- high-level language (but lower-level than, say, Python: good for knowing how things work)\n",
    "\n",
    "# Assembly\n",
    "- low-level language\n",
    "\n",
    "\n",
    "In the context of web development,\n",
    "- back-end : the ones who mash your potatoes\n",
    "- front-end: the waiters\n",
    "# XML\n",
    "- markup language; not a programming language\n",
    "# HTML(5)\n",
    "the plain doll\n",
    "- markup language; not a programming language\n",
    "\t\t<h1>This is a header</h1>\n",
    "\t\t<p>This is a paragraph</p>\n",
    "\t\t<p>This is another paragraph</p>\n",
    "# CSS\n",
    "the clothes that go on a doll\n",
    "- style sheet language; not a programming language\n",
    "\t\th1{\n",
    "\t\t\tcolor:red;\n",
    "\t\t}\n",
    "\t\tp{\n",
    "\t\t\tbackground:yellow;\n",
    "\t\t}\n",
    "# JavaScript\n",
    "the doll-wigging: adds advanced functionality on a page\n",
    "Technically, its name is ECMAScript6; Java is to JavaScript what car is to carpet\n",
    "Used (mostly) inside a browser, though node.js lets you run it outside of a browser\n",
    "\t* Hello World\n",
    "\t\talert( 'Hello world' );\n",
    "libraries:\n",
    "\t\tD3.js\n",
    "\t\tjQuery\n",
    "\n",
    "# Java\n",
    "\n",
    "# C#\n",
    "\n",
    "# Drupal\n",
    "\n",
    "# R\n",
    "- for statistical analysis\n",
    "\n",
    "# MySQL\n",
    "- for querying data\n",
    "\t\tSELECT *\n",
    "\t\tFROM pages\n",
    "\t\tWHERE 10 < id AND id < 40\n",
    "\n",
    "* the main() function"
   ]
  },
  {
   "cell_type": "markdown",
   "metadata": {},
   "source": [
    "##STACKING CSV"
   ]
  },
  {
   "cell_type": "markdown",
   "metadata": {},
   "source": [
    "# ROW-JOINING CSV'S\n",
    "\n",
    " In the Terminal,\n",
    "cat part1.csv part2.csv part3.csv > joined.csv\n",
    "\n",
    "cat joined.csv\n",
    "This leaves the headers in, which we do not want.\n",
    "\n",
    "\n",
    "Google \"tools for working with csv's on the command line\"\n",
    " Install csvkit: # a command line tool as well as a Python library\n",
    " Install anaconda (We already did).\n",
    "conda install csvkit\n",
    "\n",
    "https://csvkit.readthedocs.org/en/0.9.1/scripts/csvstack.html\n",
    "csvstack FILES part1.csv part2.csv part3.csv > joined.csv\n",
    "or rather\n",
    "csvstack FILES part* > joined.csv\n",
    "\n",
    "cat joind.csv"
   ]
  },
  {
   "cell_type": "code",
   "execution_count": null,
   "metadata": {
    "collapsed": true
   },
   "outputs": [],
   "source": []
  }
 ],
 "metadata": {
  "kernelspec": {
   "display_name": "Python 2",
   "language": "python",
   "name": "python2"
  },
  "language_info": {
   "codemirror_mode": {
    "name": "ipython",
    "version": 2
   },
   "file_extension": ".py",
   "mimetype": "text/x-python",
   "name": "python",
   "nbconvert_exporter": "python",
   "pygments_lexer": "ipython2",
   "version": "2.7.10"
  }
 },
 "nbformat": 4,
 "nbformat_minor": 0
}
