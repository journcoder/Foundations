{
 "cells": [
  {
   "cell_type": "markdown",
   "metadata": {},
   "source": [
    "#Do Now Monday, June 22, 2015\n",
    "\n",
    "*Reviewing: functions*\n",
    "\n",
    "**1a) The code below tells you how fast you're driving. I figure that a lot of people are more familiar with kilometers an hour, though, so let's write a function that does the conversion.**\n",
    "\n",
    "I wrote a skeleton, now you can fill in the conversion.\n",
    "\n",
    "def to_kmh(speeed):\n",
    "    \"YOUR CODE HERE\"\n",
    "\n",
    "mph = 40\n",
    "print \"You are driving\", mph, \"in mph\"\n",
    "print \"Driving\", to_kmh(mph), \"in kmh\"\n",
    "\n",
    "**1b) Write a function called to_mpm that, when given miles per hour, computes the meters per minute.**\n",
    "\n",
    "**1c) Rewrite to_mpm to use the to_kmh function. D.R.Y.!**\n",
    "\n",
    "**2) The code below won't work. Why not?**\n",
    "\n",
    "def total(n):\n",
    "    return n * 10\n",
    "\n",
    "Here are the streets\n",
    "streets = ['10th Ave', '11th Street', '45th Ave']\n",
    "\n",
    "Let's count them up\n",
    "total = len(streets)\n",
    "\n",
    "And add one\n",
    "count = total + 1\n",
    "\n",
    "And see how many cars we have to wash\n",
    "print total(count)\n"
   ]
  },
  {
   "cell_type": "markdown",
   "metadata": {},
   "source": [
    "**1a) The code below tells you how fast you're driving. I figure that a lot of people are more familiar with kilometers an hour, though, so let's write a function that does the conversion.**\n",
    "\n",
    "I wrote a skeleton, now you can fill in the conversion.\n",
    "\n",
    "    def to_kmh(speeed): \"YOUR CODE HERE\"\n",
    "    mph = 40 print \"You are driving\", mph, \"in mph\" print \"Driving\", to_kmh(mph), \"in kmh\""
   ]
  },
  {
   "cell_type": "code",
   "execution_count": 10,
   "metadata": {
    "collapsed": false
   },
   "outputs": [
    {
     "name": "stdout",
     "output_type": "stream",
     "text": [
      "You are driving 40 in mph.\n",
      "Driving 64 in kmh.\n"
     ]
    }
   ],
   "source": [
    "def to_kmh(speed):\n",
    "    to_kmh = int(mph/.62137) #OR return int(speed * 1.60934)\n",
    "    return to_kmh\n",
    "mph = 40\n",
    "print \"You are driving\", mph, \"in mph.\"\n",
    "print \"Driving\", to_kmh(40), \"in kmh.\""
   ]
  },
  {
   "cell_type": "markdown",
   "metadata": {},
   "source": [
    "**1b) Write a function called to_mpm that, when given miles per hour, computes the meters per minute.**\n"
   ]
  },
  {
   "cell_type": "code",
   "execution_count": 12,
   "metadata": {
    "collapsed": false
   },
   "outputs": [
    {
     "name": "stdout",
     "output_type": "stream",
     "text": [
      "Driving 1072 in mpm.\n"
     ]
    }
   ],
   "source": [
    "def to_mpm(speed):\n",
    "\tto_mpm = int(mi * 26.822)\n",
    "\treturn to_mpm\n",
    "mi = 40\n",
    "print \"Driving\", to_mpm(40), \"in mpm.\""
   ]
  },
  {
   "cell_type": "markdown",
   "metadata": {},
   "source": [
    "**1c) Rewrite to_mpm to use the to_kmh function. D.R.Y.!**"
   ]
  },
  {
   "cell_type": "code",
   "execution_count": 4,
   "metadata": {
    "collapsed": false
   },
   "outputs": [
    {
     "name": "stdout",
     "output_type": "stream",
     "text": [
      "KMH\n"
     ]
    }
   ],
   "source": [
    "def size_comparison(to_kmh, to_mpm):\n",
    "\tif to_kmh > to_mpm:\n",
    "\t\treturn \"MPM\"\n",
    "\telse: \n",
    "\t\treturn \"KMH\"\n",
    "\n",
    "print size_comparison (to_kmh(40),to_mpm(40))\n"
   ]
  },
  {
   "cell_type": "markdown",
   "metadata": {},
   "source": [
    "**OR IN CLASS**\n",
    "\n",
    "What happens in the function STAYS in the function"
   ]
  },
  {
   "cell_type": "code",
   "execution_count": 16,
   "metadata": {
    "collapsed": false
   },
   "outputs": [
    {
     "name": "stdout",
     "output_type": "stream",
     "text": [
      "You are driving 40 in mph.\n",
      "Driving 64 in kmh.\n",
      "Driving 1072 in mpm.\n"
     ]
    }
   ],
   "source": [
    "def to_kmh(speed):\n",
    "    return int (speed * 1.60934)\n",
    "def to_mphp(speed):\n",
    "    #meters_per_hour = speed * 1609.344\n",
    "    #DONT USE THIS VARIABLE ANYWHERE ELSE \n",
    "    #DONT TRUST ANYTHING MADE IN A FUNCTION \n",
    "    #WHAT HAPPENS IN A FUNCTION STAYS IN A FUNCTION \n",
    "    meters_per_hour = to_kmh(speed * 1000)\n",
    "    return int(meters_per_hour / 60)\n",
    "    \n",
    "mph=40\n",
    "print \"You are driving\", mph, \"in mph.\"\n",
    "print \"Driving\", to_kmh(mph), \"in kmh.\"\n",
    "print \"Driving\", to_mpm(mph), \"in mpm.\""
   ]
  },
  {
   "cell_type": "markdown",
   "metadata": {},
   "source": [
    "**2) The code below won't work. Why not?**"
   ]
  },
  {
   "cell_type": "code",
   "execution_count": 6,
   "metadata": {
    "collapsed": false
   },
   "outputs": [
    {
     "ename": "TypeError",
     "evalue": "'int' object is not callable",
     "output_type": "error",
     "traceback": [
      "\u001b[0;31m---------------------------------------------------------------------------\u001b[0m",
      "\u001b[0;31mTypeError\u001b[0m                                 Traceback (most recent call last)",
      "\u001b[0;32m<ipython-input-6-04f98fa8cc52>\u001b[0m in \u001b[0;36m<module>\u001b[0;34m()\u001b[0m\n\u001b[1;32m     12\u001b[0m \u001b[0;34m\u001b[0m\u001b[0m\n\u001b[1;32m     13\u001b[0m \u001b[0;31m# And see how many cars we have to wash\u001b[0m\u001b[0;34m\u001b[0m\u001b[0;34m\u001b[0m\u001b[0m\n\u001b[0;32m---> 14\u001b[0;31m \u001b[0;32mprint\u001b[0m \u001b[0mtotal\u001b[0m\u001b[0;34m(\u001b[0m\u001b[0mcount\u001b[0m\u001b[0;34m)\u001b[0m\u001b[0;34m\u001b[0m\u001b[0m\n\u001b[0m",
      "\u001b[0;31mTypeError\u001b[0m: 'int' object is not callable"
     ]
    }
   ],
   "source": [
    "def total(n):\n",
    "    return n * 10\n",
    "\n",
    "# Here are the streets\n",
    "streets = ['10th Ave', '11th Street', '45th Ave']\n",
    "\n",
    "# Let's count them up\n",
    "total = len(streets)\n",
    "\n",
    "# And add one\n",
    "count = total + 1\n",
    "\n",
    "# And see how many cars we have to wash\n",
    "print total(count)\n"
   ]
  },
  {
   "cell_type": "markdown",
   "metadata": {},
   "source": [
    "The return statement is at the beginning of the code so it doesn't run the rest/below to properly print. It needs to be...\n"
   ]
  },
  {
   "cell_type": "code",
   "execution_count": 9,
   "metadata": {
    "collapsed": false
   },
   "outputs": [
    {
     "name": "stdout",
     "output_type": "stream",
     "text": [
      "40\n"
     ]
    }
   ],
   "source": [
    "def total(n):\n",
    "# Here are the streets\n",
    "    streets = ['10th Ave', '11th Street', '45th Ave']\n",
    "# Let's count them up\n",
    "    total = len(streets)\n",
    "# And add one\n",
    "    count = total + 1\n",
    "    return n * 10\n",
    "# And see how many cars we have to wash\n",
    "print total(count)\n"
   ]
  },
  {
   "cell_type": "markdown",
   "metadata": {},
   "source": [
    "In the above code, return is moved to the bottom of the function so the rest of the code can compute before it's used. "
   ]
  },
  {
   "cell_type": "markdown",
   "metadata": {},
   "source": [
    "#FUNCTIONS! NOTES "
   ]
  },
  {
   "cell_type": "code",
   "execution_count": 17,
   "metadata": {
    "collapsed": false
   },
   "outputs": [
    {
     "name": "stdout",
     "output_type": "stream",
     "text": [
      "5\n",
      "3.4\n",
      "6.0\n",
      "<function double at 0x1049d7320>\n",
      "80\n",
      "I hope you come to my wedding!!!!!!!!\n",
      "WHAT?!!!!!!!!\n",
      "3.4956\n",
      "Smaller\n"
     ]
    }
   ],
   "source": [
    "# functions.py \n",
    "\n",
    "print len(\"Hello\")\n",
    "print abs(-3.4)\n",
    "print round(5.9)\n",
    "\n",
    "\n",
    "#built-in functions list/explination: https://docs.python.org/2/library/functions.html\n",
    "#You can also write your own functions..CRAY \n",
    "\n",
    "def double(number):\n",
    "\tbigger = number * 2\n",
    "\t#you can ONLY HAVE ONE RETURN LIKE EVER \n",
    "\treturn bigger \n",
    "print double\n",
    "\n",
    "#GOOD PROG RULE, DONT REPEAT YOURSELF \n",
    "\n",
    "number = 40 \n",
    "print double(number)\n",
    "\n",
    "\n",
    "#a sentence is a PARAMETER OR AN ARGUMENT \n",
    "def exclaim(sentence):\n",
    "\treturn sentence + \"!!!!!!!!\"\n",
    "print exclaim(\"I hope you come to my wedding\")\n",
    "print exclaim(\"WHAT?\")\n",
    "#print exclaim(\"Hello\",\"Goodbye\")\n",
    "#BAD! WRONG NUMBER OF ARGUMENTS \n",
    "\n",
    "#sometimes you need more than on\n",
    "#sometimes some are optional\n",
    "print round(3.49559494840, 4)\n",
    "\n",
    "\n",
    "#DRY .. DONT REPEAT YOURSELF \n",
    "#if boat_count > car_count:\n",
    "#\tprint \"larger\"\n",
    "#else:\n",
    "#\tprint \"smaller\"\n",
    "\n",
    "#if motorcycle_count > car_count:\n",
    "#\tprint \"Larger\"\n",
    "#else:\n",
    "#\tprint \"Smaller\"\n",
    "\n",
    "\n",
    "def size_comparison(countA, countB):\n",
    "\tif countA > countB:\n",
    "\t\treturn \"Larger\"\n",
    "\telse: \n",
    "\t\treturn \"Smaller\"\n",
    "\n",
    "print size_comparison (34,56)\n"
   ]
  },
  {
   "cell_type": "markdown",
   "metadata": {},
   "source": [
    "#MORE FOUNDATIONS"
   ]
  },
  {
   "cell_type": "code",
   "execution_count": 45,
   "metadata": {
    "collapsed": false
   },
   "outputs": [
    {
     "name": "stdout",
     "output_type": "stream",
     "text": [
      "2015-06-22 12:24:55.802573\n"
     ]
    }
   ],
   "source": [
    "#dates/times \n",
    "\n",
    "earthquake = {\n",
    " 'rms': '1.85', \n",
    " 'updated': '2014-06-11T05:22:21.596Z', \n",
    " 'type': 'earthquake', \n",
    " 'magType': 'mwp', \n",
    " 'longitude': '-136.6561', \n",
    " 'gap': '48', \n",
    " 'depth': '10', \n",
    " 'dmin': '0.811', \n",
    " 'mag': '5.7', \n",
    " 'time': '2014-06-04T11:58:58.200Z', \n",
    " 'latitude': '59.0001', \n",
    " 'place': '73km WSW of Haines, Alaska', \n",
    " 'net': 'us', \n",
    " 'nst': '', \n",
    " 'id': 'usc000rauc'}\n",
    "\n",
    "happened_at = '2014-06-04T11:58:58.200Z'\n",
    "#figure out how to parse a string intro a date or time or datetime\n",
    "\n",
    "#import datetime (datetime is a library)\n",
    "#datetime.datetime.strptime(happened_at, \"%Y-%m-%dT%H:%M:%S.%f\")\n",
    "#using this thers's an error because of the pesky Z! \n",
    "\n",
    "#UTC\n",
    "#ISO 8601: Cord. universial time (it has the Z in it..) \n",
    "\n",
    "\n",
    "import datetime \n",
    "#datetime has date, time and datetime\n",
    "#we have a date and a time, so we probs want datetime.datetime\n",
    "current = datetime.datetime.now()\n",
    "print current\n"
   ]
  },
  {
   "cell_type": "code",
   "execution_count": 46,
   "metadata": {
    "collapsed": false
   },
   "outputs": [
    {
     "data": {
      "text/plain": [
       "'12:24 PM on Jun 22'"
      ]
     },
     "execution_count": 46,
     "metadata": {},
     "output_type": "execute_result"
    }
   ],
   "source": [
    "#have soemthing print out as Jun 22 \n",
    "#strftime (goes off a da or time or datetime\n",
    "#current.strftime? ... this is useless \n",
    "#python documentation SUCKS .. SO YAY GOOGLE! \n",
    "#go to STIRFTIME.ORG\n",
    "\n",
    "current.strftime(\"%I:%M %p on %b %d\")"
   ]
  },
  {
   "cell_type": "code",
   "execution_count": 51,
   "metadata": {
    "collapsed": false
   },
   "outputs": [
    {
     "data": {
      "text/plain": [
       "datetime.datetime(1900, 6, 22, 12, 24)"
      ]
     },
     "execution_count": 51,
     "metadata": {},
     "output_type": "execute_result"
    }
   ],
   "source": [
    "#strtime turns a datetime intoa string. \n",
    "#strftime turns a string into a datetime\n",
    "now_str = '12:24 PM on Jun 22'\n",
    "now_date = datetime.datetime.strptime (now_str, \"%I:%M %p on %b %d\")\n",
    "now_date"
   ]
  },
  {
   "cell_type": "code",
   "execution_count": 55,
   "metadata": {
    "collapsed": false
   },
   "outputs": [
    {
     "data": {
      "text/plain": [
       "datetime.datetime(1900, 6, 22, 12, 24, 10)"
      ]
     },
     "execution_count": 55,
     "metadata": {},
     "output_type": "execute_result"
    }
   ],
   "source": [
    "#manually sets the year\n",
    "now_date.replace(year=2015)\n",
    "now_date.replace(second=10)"
   ]
  },
  {
   "cell_type": "code",
   "execution_count": 57,
   "metadata": {
    "collapsed": true
   },
   "outputs": [],
   "source": [
    "import dateutil.parser #utility for dates"
   ]
  },
  {
   "cell_type": "code",
   "execution_count": 58,
   "metadata": {
    "collapsed": false
   },
   "outputs": [
    {
     "data": {
      "text/plain": [
       "datetime.datetime(2014, 6, 4, 11, 58, 58, 200000, tzinfo=tzutc())"
      ]
     },
     "execution_count": 58,
     "metadata": {},
     "output_type": "execute_result"
    }
   ],
   "source": [
    "dateutil.parser.parse(happened_at)"
   ]
  },
  {
   "cell_type": "code",
   "execution_count": null,
   "metadata": {
    "collapsed": true
   },
   "outputs": [],
   "source": []
  }
 ],
 "metadata": {
  "kernelspec": {
   "display_name": "Python 2",
   "language": "python",
   "name": "python2"
  },
  "language_info": {
   "codemirror_mode": {
    "name": "ipython",
    "version": 2
   },
   "file_extension": ".py",
   "mimetype": "text/x-python",
   "name": "python",
   "nbconvert_exporter": "python",
   "pygments_lexer": "ipython2",
   "version": "2.7.10"
  }
 },
 "nbformat": 4,
 "nbformat_minor": 0
}
