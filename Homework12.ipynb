{
 "cells": [
  {
   "cell_type": "markdown",
   "metadata": {},
   "source": [
    "#HOMEWORK 12\n",
    "\n",
    "*The streaming music service Spotify has a nice, API that doesn't even require a key to access! Documentation is at* https://developer.spotify.com/web-api/endpoint-reference/\n",
    "\n",
    "Reminder: the requests module is much nicer than urrllib2 + json\n",
    "\n",
    "**1) The right-hand column says what kind of authentication you need for the request. What's \"OAuth\"? Does it sound appealing?**\n",
    "\n",
    "**2) If I had an album with the ID 2hzFRVGr7Y2Lc78ymABtyv, what URL would I visit in order to get information about it?**\n",
    "\n",
    "**3) Using the API, find Taylor Swift's artist ID.**\n",
    "\n",
    "**4) Write a function called get_artist_id that takes a search term and returns the artist ID of the first result.**\n",
    "\n",
    "**5) Make an alphabetized list of Taylor Swift's album titles.**\n",
    "\n",
    "**6) How many of Taylor Swift's related artists have \"teen pop\" as one of their genres?  You can just print their names if you'd like.**\n",
    "\n",
    "**7) The hip-hop group N.W.A. was made out of five members: DJ Yella, Dr. Dre, Eazy-E, Ice Cube and MC Ren. Create a list of their names, then use a list comprehension and your function from 4 to make a list of their artist IDs (treat N.W.A. as a member).**\n",
    "\n",
    "**8) Using the multiple artists API endpoint, print out each member of N.W.A and their follower count.**\n",
    "\n",
    "**9) Using the top tracks API endpoint and the popularity measure, how do the artists compare within each other and to N.W.A itself?**\n",
    "\n",
    "**10) Create a function that takes an artist ID and returns the median popularity of their top tracks (use NumPy!). Use that function to find out which member of N.W.A. had the highest average performance.**"
   ]
  },
  {
   "cell_type": "markdown",
   "metadata": {},
   "source": [
    "**1) The right-hand column says what kind of authentication you need for the request. What's \"OAuth\"? Does it sound appealing?**"
   ]
  },
  {
   "cell_type": "markdown",
   "metadata": {},
   "source": [
    "OAuth, allows or authorizes a third-party access to the server without having the share credentials. rovides client applications a 'secure delegated access' to server resources on behalf of a resource owner. "
   ]
  },
  {
   "cell_type": "markdown",
   "metadata": {},
   "source": [
    "**2) If I had an album with the ID 2hzFRVGr7Y2Lc78ymABtyv, what URL would I visit in order to get information about it?**"
   ]
  },
  {
   "cell_type": "markdown",
   "metadata": {},
   "source": [
    "You would use: https://api.spotify.com/v1/albums/{id}.... Made with the ID: https://api.spotify.com/v1/albums/{2hzFRVGr7Y2Lc78ymABtyv}"
   ]
  },
  {
   "cell_type": "markdown",
   "metadata": {},
   "source": [
    "**3) Using the API, find Taylor Swift's artist ID.**"
   ]
  },
  {
   "cell_type": "code",
   "execution_count": 220,
   "metadata": {
    "collapsed": false
   },
   "outputs": [
    {
     "name": "stdout",
     "output_type": "stream",
     "text": [
      "06HL4z0CvFAxyc27GXpf02\n"
     ]
    }
   ],
   "source": [
    "import requests\n",
    "url = \"https://api.spotify.com/v1/search?query=Taylor+Swift&offset=0&limit=20&type=artist\"\n",
    "response = requests.get(url)\n",
    "data = response.json()\n",
    "print data['artists']['items'][0]['id']"
   ]
  },
  {
   "cell_type": "markdown",
   "metadata": {},
   "source": [
    "**4) Write a function called get_artist_id that takes a search term and returns the artist ID of the first result.**"
   ]
  },
  {
   "cell_type": "code",
   "execution_count": 221,
   "metadata": {
    "collapsed": false
   },
   "outputs": [
    {
     "name": "stdout",
     "output_type": "stream",
     "text": [
      "06HL4z0CvFAxyc27GXpf02\n"
     ]
    }
   ],
   "source": [
    "def get_artist_id(name):\n",
    "    url = \"https://api.spotify.com/v1/search?query=Taylor+Swift&offset=0&limit=20&type=artist\"\n",
    "    response = requests.get(url)\n",
    "    data = response.json()\n",
    "    return data['artists']['items'][0]['id']\n",
    "\n",
    "print get_artist_id('Taylor Swift')"
   ]
  },
  {
   "cell_type": "markdown",
   "metadata": {},
   "source": [
    "**5) Make an alphabetized list of Taylor Swift's album titles.**"
   ]
  },
  {
   "cell_type": "code",
   "execution_count": 9,
   "metadata": {
    "collapsed": false
   },
   "outputs": [
    {
     "name": "stdout",
     "output_type": "stream",
     "text": [
      "[]\n"
     ]
    }
   ],
   "source": [
    "def get_album(name):\n",
    "    url = \"https://api.spotify.com/v1/artists/06HL4z0CvFAxyc27GXpf02/albums?market=US&album_type=album\"\n",
    "    response = requests.get(url)\n",
    "    data = response.json()\n",
    "    return data['items']\n",
    "print get_album(\"Taylor Swift\")\n",
    "#yeah.. swift doesn't have her albums on here.. it was a thing. "
   ]
  },
  {
   "cell_type": "markdown",
   "metadata": {
    "collapsed": true
   },
   "source": [
    "**6) How many of Taylor Swift's related artists have \"teen pop\" as one of their genres?  You can just print their names if you'd like.**"
   ]
  },
  {
   "cell_type": "code",
   "execution_count": 235,
   "metadata": {
    "collapsed": false
   },
   "outputs": [
    {
     "name": "stdout",
     "output_type": "stream",
     "text": [
      "Carrie Underwood\n",
      "Kelly Clarkson\n",
      "Miley Cyrus\n",
      "Demi Lovato\n",
      "Lady Antebellum\n",
      "Katy Perry\n",
      "The Wreckers\n",
      "Shania Twain\n",
      "LeAnn Rimes\n",
      "Miranda Lambert\n",
      "Faith Hill\n",
      "Jennette McCurdy\n",
      "Kellie Pickler\n",
      "Jessie James\n",
      "Avril Lavigne\n",
      "Dixie Chicks\n",
      "Hilary Duff\n",
      "Justin Bieber\n",
      "Sugarland\n",
      "Jonas Brothers\n"
     ]
    }
   ],
   "source": [
    "import requests\n",
    "url = \"https://api.spotify.com/v1/artists/06HL4z0CvFAxyc27GXpf02/related-artists\"\n",
    "response = requests.get(url)\n",
    "data = response.json()\n",
    "for i in range(20):\n",
    "    print data['artists'][i]['name']"
   ]
  },
  {
   "cell_type": "markdown",
   "metadata": {},
   "source": [
    "**7) The hip-hop group N.W.A. was made out of five members: DJ Yella, Dr. Dre, Eazy-E, Ice Cube and MC Ren. Create a list of their names, then use a list comprehension and your function from 4 to make a list of their artist IDs (treat N.W.A. as a member).**"
   ]
  },
  {
   "cell_type": "code",
   "execution_count": 236,
   "metadata": {
    "collapsed": false
   },
   "outputs": [
    {
     "name": "stdout",
     "output_type": "stream",
     "text": [
      "[u'1Wfh3Tz3xOB4JjqTk2zT5K', u'6DPYiyq5kWVQS4RGwxzPC7', u'7B4hKK0S9QYnaoqa9OuwgX', u'3Mcii5XWf6E0lrY3Uky4cA', u'4fbyGOEjViyE97W58eGEgU', u'4EnEZVjo3w1cwcQYePccay']\n"
     ]
    }
   ],
   "source": [
    "DW = ['DJ+Yella', 'Dr.+Dre', 'Eazy-E', 'Ice+Cube', 'MC+Ren', 'N.W.A.']\n",
    "\n",
    "for name in DW: \n",
    "    def get_artist_id(name):\n",
    "        url = \"https://api.spotify.com/v1/search?q=\" + name + \"&type=artist\"\n",
    "        response = requests.get(url)\n",
    "        data = response.json()\n",
    "        return data['artists']['items'][0]['id']\n",
    "print [get_artist_id(name) for name in DW]"
   ]
  },
  {
   "cell_type": "markdown",
   "metadata": {},
   "source": [
    "**8) Using the multiple artists API endpoint, print out each member of N.W.A and their follower count.**"
   ]
  },
  {
   "cell_type": "code",
   "execution_count": 237,
   "metadata": {
    "collapsed": false
   },
   "outputs": [
    {
     "name": "stdout",
     "output_type": "stream",
     "text": [
      "DJ Yella\n",
      "173\n",
      "Dr. Dre\n",
      "676517\n",
      "Eazy-E\n",
      "113366\n",
      "Ice Cube\n",
      "309208\n",
      "MC Ren\n",
      "5765\n",
      "N.W.A.\n",
      "138218\n"
     ]
    }
   ],
   "source": [
    "url = \"https://api.spotify.com/v1/artists?ids=1Wfh3Tz3xOB4JjqTk2zT5K,6DPYiyq5kWVQS4RGwxzPC7,7B4hKK0S9QYnaoqa9OuwgX,3Mcii5XWf6E0lrY3Uky4cA,4fbyGOEjViyE97W58eGEgU,4EnEZVjo3w1cwcQYePccay\"\n",
    "response = requests.get(url)\n",
    "data = response.json()\n",
    "\n",
    "for i in range(6):\n",
    "    print data['artists'][i]['name']\n",
    "    print data['artists'][i]['followers']['total']"
   ]
  },
  {
   "cell_type": "markdown",
   "metadata": {},
   "source": [
    "**9) Using the top tracks API endpoint and the popularity measure, how do the artists compare within each other and to N.W.A itself?**"
   ]
  },
  {
   "cell_type": "code",
   "execution_count": 238,
   "metadata": {
    "collapsed": false
   },
   "outputs": [
    {
     "name": "stdout",
     "output_type": "stream",
     "text": [
      "[(u'DJ Yella', 17), (u'Dr. Dre', 73), (u'Eazy-E', 63), (u'Ice Cube', 57), (u'MC Ren', 40), (u'N.W.A.', 69)]\n"
     ]
    }
   ],
   "source": [
    "DW = ['1Wfh3Tz3xOB4JjqTk2zT5K','6DPYiyq5kWVQS4RGwxzPC7','7B4hKK0S9QYnaoqa9OuwgX','3Mcii5XWf6E0lrY3Uky4cA','4fbyGOEjViyE97W58eGEgU','4EnEZVjo3w1cwcQYePccay']\n",
    "\n",
    "for name in DW: \n",
    "    def get_pop(name):\n",
    "        url = \"https://api.spotify.com/v1/artists/\" + name + \"/top-tracks?country=US\"\n",
    "        response = requests.get(url)\n",
    "        data = response.json()\n",
    "        return data['tracks'][0]['artists'][0]['name'], data['tracks'][0]['popularity']\n",
    "print [get_pop(name) for name in DW]\n"
   ]
  },
  {
   "cell_type": "markdown",
   "metadata": {},
   "source": [
    "**10) Create a function that takes an artist ID and returns the median popularity of their top tracks (use NumPy!). Use that function to find out which member of N.W.A. had the highest average performance.**"
   ]
  },
  {
   "cell_type": "code",
   "execution_count": 8,
   "metadata": {
    "collapsed": false
   },
   "outputs": [
    {
     "name": "stdout",
     "output_type": "stream",
     "text": [
      "Overall, each performer scored the following on average in popularity: [(u'DJ Yella', 17.0), (u'Dr. Dre', 73.0), (u'Eazy-E', 63.0), (u'Ice Cube', 57.0), (u'MC Ren', 40.0), (u'N.W.A.', 69.0)]\n",
      "The highest overall average performance was Dr. Dre.\n"
     ]
    }
   ],
   "source": [
    "import numpy\n",
    "import requests\n",
    "DW = ['1Wfh3Tz3xOB4JjqTk2zT5K' ,'6DPYiyq5kWVQS4RGwxzPC7','7B4hKK0S9QYnaoqa9OuwgX','3Mcii5XWf6E0lrY3Uky4cA','4fbyGOEjViyE97W58eGEgU','4EnEZVjo3w1cwcQYePccay']\n",
    "\n",
    "for name in DW: \n",
    "    def get_pop(name):\n",
    "        url = \"https://api.spotify.com/v1/artists/\" + name + \"/top-tracks?country=US\"\n",
    "        response = requests.get(url)\n",
    "        data = response.json()\n",
    "        for i in range(10):\n",
    "            return data['tracks'][0]['artists'][0]['name'], numpy.median(data['tracks'][0]['popularity'])\n",
    "\n",
    "print \"Overall, each performer scored the following on average in popularity:\",[get_pop(name) for name in DW]\n",
    "print \"The highest overall average performance was Dr. Dre.\"\n"
   ]
  },
  {
   "cell_type": "code",
   "execution_count": null,
   "metadata": {
    "collapsed": true
   },
   "outputs": [],
   "source": []
  }
 ],
 "metadata": {
  "kernelspec": {
   "display_name": "Python 2",
   "language": "python",
   "name": "python2"
  },
  "language_info": {
   "codemirror_mode": {
    "name": "ipython",
    "version": 2
   },
   "file_extension": ".py",
   "mimetype": "text/x-python",
   "name": "python",
   "nbconvert_exporter": "python",
   "pygments_lexer": "ipython2",
   "version": "2.7.10"
  }
 },
 "nbformat": 4,
 "nbformat_minor": 0
}
