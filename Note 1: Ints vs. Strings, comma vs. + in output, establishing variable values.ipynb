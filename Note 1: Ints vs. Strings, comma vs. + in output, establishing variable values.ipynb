{
 "cells": [
  {
   "cell_type": "markdown",
   "metadata": {},
   "source": [
    "#DAY ONE DO NOW 2.\n",
    "**WHAT's IN THIS NOTEBOOK?**\n",
    "\n",
    "*Ints vs. Strings, comma vs. + in output, establishing variable values,*\n",
    "\n",
    "**Do Now\n",
    "Monday, June 1, 2015**\n",
    "\n",
    "*Reviewing: variables, casting, if statements*\n",
    "\n",
    "1) Given the following code, what is the output?\n",
    "\n",
    "i = 5\n",
    "print 5 * 5\n",
    "print i\n",
    "print \"cat\" + \"dog\"\n",
    "print \"cat\", \"dog\"\n",
    "\n",
    "2a) The code below doesn't work. Why not?\n",
    "\n",
    "print 5 + \"5\"\n",
    "\n",
    "2b) There are several ways to make it work! Give two possible changes and what the output would be in each case.\n",
    "\n",
    "3) What is wrong with the following if statement?\n",
    "\n",
    "if n = 2:\n",
    "  print \"Two\"\n",
    "\n",
    "4) Given the following code, what would the output be for n = 0, 10, -1, 3, and -5?\n",
    "\n",
    "print n\n",
    "if n > 0:\n",
    "  print \"A\"\n",
    "  if n >= 3:\n",
    "    print \"B\"\n",
    "    print \"C\"\n",
    "  elsif n > 2:\n",
    "    print \"D\"\n",
    "  else:\n",
    "    print \"E\"\n",
    "elsif 1 > n > -2:\n",
    "  print \"F\"\n",
    "else:\n",
    "  print \"G\"\n",
    "if n < 5:\n",
    "  print \"H\"\n"
   ]
  },
  {
   "cell_type": "markdown",
   "metadata": {},
   "source": [
    "**1) Given the following code, what is the output?**\n"
   ]
  },
  {
   "cell_type": "code",
   "execution_count": 4,
   "metadata": {
    "collapsed": false
   },
   "outputs": [
    {
     "name": "stdout",
     "output_type": "stream",
     "text": [
      "25\n",
      "5\n",
      "catdog\n",
      "cat dog\n"
     ]
    }
   ],
   "source": [
    "i = 5 \n",
    "print 5 * 5 \n",
    "print i \n",
    "print \"cat\" + \"dog\" \n",
    "print \"cat\", \"dog\"\n"
   ]
  },
  {
   "cell_type": "markdown",
   "metadata": {},
   "source": [
    "ABOVE IS THE OUTPUT... Breaking the code down: \n",
    "\n",
    "**i = 5** This establishes the value of the variable or element.\n",
    "\n",
    "**print 5 * 5** This line is simply performing 5 multipled by 5, not because of the i, but as an indepedent line. With is why the output is 15.  \n",
    "\n",
    "**print i** By commanding to print just i without anyother commands, you are asking the program to print the value if i/the element or variable. Which is why the output is simply 5, which was esablished at the beginning of the code as the value of i.\n",
    "** print \"cat\" + \"dog\"**  This is trickier because the \"\" make the variable a string or character rather than an int/integer or number. So, there are two strings cat and dog. The plus sign wants the program to \"add\" the values together, but because they're not numbers the plus sign literaly conjoins them together, creating the output catdog. \n",
    "\n",
    "** print \"cat\", \"dog\" ** Here, cat and dog are still strings because the \"\" makes it so and neither are assigned values. BUT the comma, rather than a plus sign changes things. Just like in grammar, the comma creates a break or pause. In computer talk, that means a space between the two variables creating the output cat dog. "
   ]
  },
  {
   "cell_type": "markdown",
   "metadata": {},
   "source": [
    "**2a) The code below doesn't work. Why not?**\n",
    "\n",
    "print 5 + \"5\"\n",
    "\n",
    "The above line does not work because you're comparing an int(integer or number)-5- to a str(string)-\"5\". In programming you cannot compare or combine/add ect. two different data types together. It would work for example, if it was 5 + 5 or \"5\" + \"5\"that would work because they're two of the same thing. **ANSWERING 2b) There are several ways to make it work! Give two possible changes and what the output would be in each case....** For the sake of using a bad metaphore, it's like trying to compare apples to organges.. you can't compare the two because they're two completley different unrelated things. \n",
    "\n",
    "Consistencey is key!\n",
    "\n",
    "Example in next few lines of what works and what doesn't:\n"
   ]
  },
  {
   "cell_type": "code",
   "execution_count": 5,
   "metadata": {
    "collapsed": false
   },
   "outputs": [
    {
     "ename": "TypeError",
     "evalue": "unsupported operand type(s) for +: 'int' and 'str'",
     "output_type": "error",
     "traceback": [
      "\u001b[0;31m---------------------------------------------------------------------------\u001b[0m",
      "\u001b[0;31mTypeError\u001b[0m                                 Traceback (most recent call last)",
      "\u001b[0;32m<ipython-input-5-55b3b5d4486d>\u001b[0m in \u001b[0;36m<module>\u001b[0;34m()\u001b[0m\n\u001b[0;32m----> 1\u001b[0;31m \u001b[0;32mprint\u001b[0m \u001b[0;36m5\u001b[0m\u001b[0;34m+\u001b[0m\u001b[0;34m\"5\"\u001b[0m\u001b[0;34m\u001b[0m\u001b[0m\n\u001b[0m",
      "\u001b[0;31mTypeError\u001b[0m: unsupported operand type(s) for +: 'int' and 'str'"
     ]
    }
   ],
   "source": [
    "print 5+\"5\""
   ]
  },
  {
   "cell_type": "markdown",
   "metadata": {},
   "source": [
    "OH NO! You got a type error, as it explains it's unsupported operand type(s) for +: int and str.. It's telling you they are two diferent types (an apple and an orange for instance) a int and str (integer = numbers(5) string = \"characters\") and you can't conjoin the two different things like that! \n",
    "\n",
    "Soo... what does it look like when it works... Trying to add two of the same data types together? like and int and and int or a str and a str ... "
   ]
  },
  {
   "cell_type": "code",
   "execution_count": 6,
   "metadata": {
    "collapsed": false
   },
   "outputs": [
    {
     "name": "stdout",
     "output_type": "stream",
     "text": [
      "10\n",
      "55\n"
     ]
    }
   ],
   "source": [
    "print 5 + 5\n",
    "print \"5\" + \"5\""
   ]
  },
  {
   "cell_type": "markdown",
   "metadata": {},
   "source": [
    "You get 10 as the first input because in simple basic int math you're adding 5 and 5 which = 10. In the second input don't think of it as a int or result to a math problem but like catdog, adding two strings together. So \"5\" string + \"5\" string conjoins or makes the two variables stick together as they are = 55. For an example, replace the second \"5\" with your name: \n",
    "\n",
    "print \"5\" + \"Bob\"\n",
    "\n",
    "Output:\n",
    "5Bob \n"
   ]
  },
  {
   "cell_type": "markdown",
   "metadata": {},
   "source": [
    "**3) What is wrong with the following if statement?**\n"
   ]
  },
  {
   "cell_type": "code",
   "execution_count": 7,
   "metadata": {
    "collapsed": false
   },
   "outputs": [
    {
     "ename": "SyntaxError",
     "evalue": "invalid syntax (<ipython-input-7-0e07da787c52>, line 1)",
     "output_type": "error",
     "traceback": [
      "\u001b[0;36m  File \u001b[0;32m\"<ipython-input-7-0e07da787c52>\"\u001b[0;36m, line \u001b[0;32m1\u001b[0m\n\u001b[0;31m    if n = 2:\u001b[0m\n\u001b[0m         ^\u001b[0m\n\u001b[0;31mSyntaxError\u001b[0m\u001b[0;31m:\u001b[0m invalid syntax\n"
     ]
    }
   ],
   "source": [
    "if n = 2:\n",
    "  print \"Two\""
   ]
  },
  {
   "cell_type": "markdown",
   "metadata": {},
   "source": [
    "Looking at the error, \"invalid syntax\" it's telling us something is wrong with the '=' in the line of code. \n",
    "In this case, we're not establishing the value of the 'n' variable, the code is telling the program IF the 'n' value is equal to 2... In normal written math the way it's written might work BUT this is a computer, so we need to be very literal and things can't always have two symmetrical meanigs all the time. \n",
    "SO.. If you'd rather say IF the 'n' variable's value is equal to two, it would be represented in code as: \n",
    "if n == 2 (EQUAL TO IN AN IF STATEMENT NEEDS TWO SIGNS BACKTOBACK '=='to establish if n is 2. \n",
    "\n",
    "Outside of an if loop/statement or establishing the value of the 'n' variable would be when we would use one symbol.\n",
    "For example. n = 2\n",
    "if n == 2:\n"
   ]
  },
  {
   "cell_type": "markdown",
   "metadata": {},
   "source": [
    "**4) Given the following code, what would the output be for n = 0, 10, -1, 3, and -5?**\n",
    "\n"
   ]
  },
  {
   "cell_type": "code",
   "execution_count": 12,
   "metadata": {
    "collapsed": false
   },
   "outputs": [
    {
     "name": "stdout",
     "output_type": "stream",
     "text": [
      "0\n",
      "F\n",
      "H\n"
     ]
    }
   ],
   "source": [
    "n = 0\n",
    "print n\n",
    "if n > 0:\n",
    "  print \"A\"\n",
    "  if n >= 3:\n",
    "    print \"B\"\n",
    "    print \"C\"\n",
    "  elif n > 2:\n",
    "    print \"D\"\n",
    "  else:\n",
    "    print \"E\"\n",
    "elif 1 > n > -2:\n",
    "  print \"F\"\n",
    "else:\n",
    "  print \"G\"\n",
    "if n < 5:\n",
    "  print \"H\""
   ]
  },
  {
   "cell_type": "markdown",
   "metadata": {},
   "source": [
    "This if conditional goes through like so: \n",
    "n = 0\n",
    "So if n is greater than 0, then print A .. but it's not\n",
    "So.. we go to the next one ... \n",
    "if n is greater than or equal to 3, then print B and C ... But it's not .. \n",
    "\n",
    "On to the next...\n",
    "SO, if n is greater than 2, print D .. STILL NOT \n",
    "So, if 1 is greater than n AND if n is greater than -2 ... YES! So, print F. \n",
    "\n",
    "BUT, we keep going. \n",
    "We skip the else because we used the if.. but the NEW if is if n is less than five..WHICH 0 IS! \n",
    "So that's where the H comes from. \n",
    "\n",
    "Then we go through with ea. number value. If in python, it would serve as a never ending loop and wouldn't actually have to go through for ea. value in the N list.\n"
   ]
  },
  {
   "cell_type": "code",
   "execution_count": 13,
   "metadata": {
    "collapsed": false
   },
   "outputs": [
    {
     "name": "stdout",
     "output_type": "stream",
     "text": [
      "10\n",
      "A\n",
      "B\n",
      "C\n"
     ]
    }
   ],
   "source": [
    "n =  10\n",
    "print n\n",
    "if n > 0:\n",
    "  print \"A\"\n",
    "  if n >= 3:\n",
    "    print \"B\"\n",
    "    print \"C\"\n",
    "  elif n > 2:\n",
    "    print \"D\"\n",
    "  else:\n",
    "    print \"E\"\n",
    "elif 1 > n > -2:\n",
    "  print \"F\"\n",
    "else:\n",
    "  print \"G\"\n",
    "if n < 5:\n",
    "  print \"H\""
   ]
  },
  {
   "cell_type": "markdown",
   "metadata": {},
   "source": [
    "FInd the output the same way we did above... "
   ]
  },
  {
   "cell_type": "code",
   "execution_count": 34,
   "metadata": {
    "collapsed": false
   },
   "outputs": [
    {
     "name": "stdout",
     "output_type": "stream",
     "text": [
      "-1\n",
      "F\n",
      "H\n"
     ]
    }
   ],
   "source": [
    "n =  -1\n",
    "print n\n",
    "if n > 0:\n",
    "  print \"A\"\n",
    "  if n >= 3:\n",
    "    print \"B\"\n",
    "    print \"C\"\n",
    "  elif n > 2:\n",
    "    print \"D\"\n",
    "  else:\n",
    "    print \"E\"\n",
    "elif 1 > n > -2:\n",
    "  print \"F\"\n",
    "else:\n",
    "  print \"G\"\n",
    "if n < 5:\n",
    "  print \"H\""
   ]
  },
  {
   "cell_type": "code",
   "execution_count": 16,
   "metadata": {
    "collapsed": false
   },
   "outputs": [
    {
     "name": "stdout",
     "output_type": "stream",
     "text": [
      "3\n",
      "A\n",
      "B\n",
      "C\n",
      "H\n"
     ]
    }
   ],
   "source": [
    "n =  3\n",
    "print n\n",
    "if n > 0:\n",
    "  print \"A\"\n",
    "  if n >= 3:\n",
    "    print \"B\"\n",
    "    print \"C\"\n",
    "  elif n > 2:\n",
    "    print \"D\"\n",
    "  else:\n",
    "    print \"E\"\n",
    "elif 1 > n > -2:\n",
    "  print \"F\"\n",
    "else:\n",
    "  print \"G\"\n",
    "if n < 5:\n",
    "  print \"H\""
   ]
  },
  {
   "cell_type": "code",
   "execution_count": 17,
   "metadata": {
    "collapsed": false
   },
   "outputs": [
    {
     "name": "stdout",
     "output_type": "stream",
     "text": [
      "5\n",
      "A\n",
      "B\n",
      "C\n"
     ]
    }
   ],
   "source": [
    "n = 5\n",
    "print n\n",
    "if n > 0:\n",
    "  print \"A\"\n",
    "  if n >= 3:\n",
    "    print \"B\"\n",
    "    print \"C\"\n",
    "  elif n > 2:\n",
    "    print \"D\"\n",
    "  else:\n",
    "    print \"E\"\n",
    "elif 1 > n > -2:\n",
    "  print \"F\"\n",
    "else:\n",
    "  print \"G\"\n",
    "if n < 5:\n",
    "  print \"H\""
   ]
  },
  {
   "cell_type": "markdown",
   "metadata": {},
   "source": [
    "## NOTES FROM DAY ONE CLASS "
   ]
  },
  {
   "cell_type": "markdown",
   "metadata": {},
   "source": [
    "**STUFF MENTIONED IN CLASS:**\n",
    "\n",
    "Code Academy: Doesn't tell you how to put the stuff together\n",
    "Skill Crush\n",
    "\n",
    "BBC the world at seven billion\n",
    "http://www.bbc.com/news/world-15391515\n",
    "BBC your life on earth\n",
    "http://www.bbc.com/earth/story/20141016-your-life-on-earth\n",
    "\n",
    "http://hackertyper.com/\n",
    "\n",
    "====== ====== ====== ====== ====== ====== ====== ======\n",
    "\n",
    "This stuff might be helpful if helping starters.. or forget a link or might have to redo something. \n",
    "1: join Slack (https://ledeprogram.slack.com/)\n",
    "\n",
    "2: install Sublime Text (http://www.sublimetext.com/)\n",
    "\n",
    "4: make a folder/directory for all Lede stuff .. *USE THIS ALWAYS.*\n",
    "\n",
    "**GETTING INTO TERMINAL:**\n",
    "\tmagnifying glass icon > search: terminal\n",
    "\tor\n",
    "\tapplications folder > utilitites > terminal\n",
    "\n",
    "**USING TERMINAL**\n",
    "\n",
    "\t# On a Mac, the prompt should look something like\n",
    "\t# dyn-number-number-number-number:~ MyUserName$\n",
    "\t# ~ on a Mac means /Users/MyUserName\n",
    "\n",
    "\tpwd = shows you where you are. \n",
    "\t# print working directory (shows where you are in your computer)\n",
    "\n",
    "\t# Now track down that Lede directory you made\n",
    "\n",
    "**TERMINAL COMMANDS:**\n",
    "*ls = list of options\n",
    "cd = change direction*\n",
    "\n",
    "For example: \n",
    "cd Desktop\n",
    "\tchange directory, to Desktop\n",
    "cd ..\n",
    "\tchange directory, to one directory above\n",
    "cd ~\n",
    "\tchange directory, to the home directory (/Users/MyUserName)\n",
    "\n",
    "*shortcuts:*\n",
    "\tthe tab key\n",
    "\tthe up arrow key\n",
    "\n",
    "**TO OPEN a FILE IN TERMINAL:**\n",
    "\t(go to the folder the file is in) then type python (file name)\n",
    "\n",
    "EXAMPLE FROM CLASS: (or ya know, just open and save it as something named in THE LEDE FOLDER) \n",
    "First creat the file in python/sublime and then save it to the right folder.\n",
    "\n",
    "*once the file is opened in the terminal ... you can use...*\n",
    "\n",
    "cat = what's in the file literally \n",
    "For example: \n",
    "\tcat hello.py = displays what is inside of that file\n",
    "    \n",
    "python = actually running the program to make sure it works \n",
    "\tpython hello.py = run the code\n",
    "\n",
    "BUT, sometimes you can get an error message: \n",
    "\n",
    "\tSyntaxError: EOL while scanning string literal\n",
    "\t(Time to google!) .. YAY GOOGLE .. USE STOCK \n",
    "    \n",
    "\n",
    "\n",
    "\n"
   ]
  },
  {
   "cell_type": "markdown",
   "metadata": {},
   "source": [
    "**IN PYTHON**\n",
    "*A basic understanding ...*\n",
    "\n",
    "**commenting** .. use the # before the words and it makes the comment not a part of the text. \n",
    "\t'text'= str or \"text\" = str\n",
    "    BUT \n",
    "\t\"text\" # you can't mix single and double quotes.. CONSISTENCEY! \n",
    "\n",
    "**DATA TYPES**\n",
    "*quoted text are called strings*\n",
    "\tprint \"Hello World\"\n",
    "\n",
    "*whole numbers are called integers*\n",
    "    print 10\n",
    "\n",
    "*numbers with decimal points are called floats*\n",
    "    print 10.0\n",
    "\n",
    "**DOING ARITHMETIC**\n",
    "\n",
    "    print 10 + 10 \n",
    "This prints 20 because it's simple int math.\n",
    "\n",
    "    print \"10 + 10\" \n",
    "This prints 10 + 10 because with only two quote marks aroudn the entire thing, its creating one big string. \n",
    "\n",
    "\tprint 10 + \"Hello\" \n",
    "This creates a TypeError because it's comparing two different data types, an int and a string. \n",
    "\n",
    "\tprint 10, \"Hello\" \n",
    "This prints 10 Hello because the comma isn't trying to treat them as the same thing, but just print on the same line. \n",
    "\n",
    "**Typecasting: (or changing the data type from something to another thing. like from int to str)**\n",
    "\tprint str( 10 ) + \"Hello\" \n",
    "This prints 10Hello becacause the command str() with the int inside the parenthasis makes it a string now. \n",
    "\n",
    "\tprint 10 + int( \"Hello\" ) \n",
    "This creates a ValueError because you can't make a string of characters with no int value into an int. \n",
    "\n",
    "\tprint 10 + int( \"10\" ) \n",
    "This prints 20 because even though the orig command \"10\" would be considered a string. When using the new int() command, it's able to change the orig data type assignment because 10 byitself would have an int value, unlike a series of letters. "
   ]
  },
  {
   "cell_type": "code",
   "execution_count": 18,
   "metadata": {
    "collapsed": false
   },
   "outputs": [
    {
     "name": "stdout",
     "output_type": "stream",
     "text": [
      "Hello, Soma\n"
     ]
    }
   ],
   "source": [
    "####CREATING CODE IN PYTHON \n",
    "name = \"Soma\"\n",
    "print \"Hello,\",name\n",
    "\n"
   ]
  },
  {
   "cell_type": "markdown",
   "metadata": {},
   "source": [
    "In this line of code name = a variable, which can't have spaces or dashes. So, to name a variable do something like:\n",
    "year_of_birth or yearOfBirth .. but really, the underlines are easier to read. \n",
    "\n",
    "A bad example would be: \n",
    "\n"
   ]
  },
  {
   "cell_type": "code",
   "execution_count": 19,
   "metadata": {
    "collapsed": false
   },
   "outputs": [
    {
     "name": "stdout",
     "output_type": "stream",
     "text": [
      "Hello,"
     ]
    },
    {
     "ename": "NameError",
     "evalue": "name 'lastname' is not defined",
     "output_type": "error",
     "traceback": [
      "\u001b[0;31m---------------------------------------------------------------------------\u001b[0m",
      "\u001b[0;31mNameError\u001b[0m                                 Traceback (most recent call last)",
      "\u001b[0;32m<ipython-input-19-d86374f432cd>\u001b[0m in \u001b[0;36m<module>\u001b[0;34m()\u001b[0m\n\u001b[1;32m      1\u001b[0m \u001b[0mname\u001b[0m \u001b[0;34m=\u001b[0m \u001b[0;34m\"Soma\"\u001b[0m\u001b[0;34m\u001b[0m\u001b[0m\n\u001b[0;32m----> 2\u001b[0;31m \u001b[0;32mprint\u001b[0m \u001b[0;34m\"Hello,\"\u001b[0m\u001b[0;34m,\u001b[0m\u001b[0mlastname\u001b[0m\u001b[0;34m\u001b[0m\u001b[0m\n\u001b[0m\u001b[1;32m      3\u001b[0m \u001b[0;34m\u001b[0m\u001b[0m\n\u001b[1;32m      4\u001b[0m \u001b[0;31m#this won't work because we didn't establish a variable for lastname. See:\u001b[0m\u001b[0;34m\u001b[0m\u001b[0;34m\u001b[0m\u001b[0m\n",
      "\u001b[0;31mNameError\u001b[0m: name 'lastname' is not defined"
     ]
    }
   ],
   "source": [
    "name = \"Soma\"\n",
    "print \"Hello,\",lastname\n",
    "\n",
    "#this won't work because we didn't establish a value for lastname. See:"
   ]
  },
  {
   "cell_type": "code",
   "execution_count": 22,
   "metadata": {
    "collapsed": false
   },
   "outputs": [
    {
     "name": "stdout",
     "output_type": "stream",
     "text": [
      "Enter your name: Lindsay\n",
      " Hello, Lindsay\n"
     ]
    }
   ],
   "source": [
    "##So, now that we've figured out how that works, lets ask someone to enter their name. You can do that like this: \n",
    "\n",
    "name = raw_input( \"Enter your name: \" ) ## raw input is just a command to ask for new user input ...\n",
    "##that will establish the variable's value moving forward\n",
    "print \"Hello,\",name\n"
   ]
  },
  {
   "cell_type": "markdown",
   "metadata": {},
   "source": [
    "It will first ask you for your name, once entered it wil then print: Hello, (whatever name you entered)\n"
   ]
  },
  {
   "cell_type": "markdown",
   "metadata": {},
   "source": [
    "**USING the same idea. Now ask for DOB***\n",
    "\n",
    "\n",
    "\t\n"
   ]
  },
  {
   "cell_type": "code",
   "execution_count": 23,
   "metadata": {
    "collapsed": false
   },
   "outputs": [
    {
     "name": "stdout",
     "output_type": "stream",
     "text": [
      "Enter your year of birth: 1993\n",
      "You are approximately 22 years old\n"
     ]
    }
   ],
   "source": [
    "year_of_birth = raw_input( \"Enter your year of birth: \" ) #asks for raw input/age and answer sets variable's value\n",
    "age = 2015 - int( year_of_birth ) # typecasting the year of birth, which is a string into an int to find age. \n",
    "print \"You are approximately\",age,\"years old\" #prints a string with the variable age's value. \n",
    "\n",
    "# raw_input(), int() are functions .. input is the user's information entered and int() is a typecast. \n",
    "# functions take something then does something or gives you something (that's usually different from what it took)\n",
    "\n"
   ]
  },
  {
   "cell_type": "markdown",
   "metadata": {},
   "source": [
    "In the output it will first ask for your year of birth and will then print your aprox. age based on the year of birth you entered.\n",
    "\n"
   ]
  },
  {
   "cell_type": "markdown",
   "metadata": {},
   "source": [
    "** CONTINUING WITH THIS LINE OF CODE: **\n",
    "\n",
    "    We've established the raw input and age. Now we'll determine more fun things using the same idea. \n",
    "\t"
   ]
  },
  {
   "cell_type": "code",
   "execution_count": 26,
   "metadata": {
    "collapsed": false
   },
   "outputs": [
    {
     "name": "stdout",
     "output_type": "stream",
     "text": [
      "4.15186995567\n",
      "Your age on Mercury is 91\n"
     ]
    }
   ],
   "source": [
    "\tearth_revolution = 365.24 #how long it takes for a year\n",
    "\tmercury_revolution = 87.97 #how long it takes for a year in  mercury\n",
    "\tratio = earth_revolution / mercury_revolution #this divides the two variable's values and creates a ratio.\n",
    "\tprint ratio #the result of the division\n",
    "\n",
    "\tmercury_age = int( earth_age * ratio ) #this converts the two 'strings' into an integer so they can be multipled.\n",
    "\tprint \"Your age on Mercury is\",mercury_age #printing the variable reuslt \n",
    "\n",
    "\n",
    "\n",
    "    "
   ]
  },
  {
   "cell_type": "markdown",
   "metadata": {},
   "source": [
    "The first result correlates with the first print command in our code. So it is the ratio of earth revolution and Mercury Rvolution. \n",
    "\n",
    "The second value is correlated with the second print command in the section of code, the number representing the mervury_age value calculated.\n"
   ]
  },
  {
   "cell_type": "markdown",
   "metadata": {},
   "source": [
    "**The wonders of peudocode: \"just write it out\"**\n",
    "\n"
   ]
  },
  {
   "cell_type": "markdown",
   "metadata": {},
   "source": [
    "IF you're struggling to determine how the computer's lagnuage or code would translate into a command, jsut write it out in your own words!\n",
    "\n",
    "For example, if you want to determine if the person's raw input for birth year is the same as or matches yours and if it does, print something out. WRITE THAT OUT AND THEN GOOGLE IT! \n",
    "Sometimes, it can be pretty literal. \n",
    "\n",
    "To see it in action:\n"
   ]
  },
  {
   "cell_type": "code",
   "execution_count": 30,
   "metadata": {
    "collapsed": false
   },
   "outputs": [],
   "source": [
    "#PC:If year_of_birth is equal to 1983, then say \"Hooray! Your age is the same as mine!\"\n",
    "if int( year_of_birth ) == 1983 :\n",
    "\tprint \"Hooray! Your age is the same as mine!\"\n",
    "\n"
   ]
  },
  {
   "cell_type": "code",
   "execution_count": 33,
   "metadata": {
    "collapsed": true
   },
   "outputs": [],
   "source": [
    "#PC: If year_of_birth is smaller than 1983, then say \"You are older than me.\"\n",
    "if int( year_of_birth ) < 1983 :\n",
    "    print \"You are older than me.\"\n"
   ]
  },
  {
   "cell_type": "code",
   "execution_count": 32,
   "metadata": {
    "collapsed": false
   },
   "outputs": [
    {
     "name": "stdout",
     "output_type": "stream",
     "text": [
      "You are younger than me.\n"
     ]
    }
   ],
   "source": [
    "#PC: If year_of_birth is larger than 1983, then say \"You are younger than me.\"\n",
    "if int( year_of_birth ) > 1983 :\n",
    "\tprint \"You are younger than me.\""
   ]
  },
  {
   "cell_type": "markdown",
   "metadata": {},
   "source": [
    "The last serving as an example of the output if the conditional is true."
   ]
  },
  {
   "cell_type": "code",
   "execution_count": 4,
   "metadata": {
    "collapsed": false
   },
   "outputs": [
    {
     "ename": "SyntaxError",
     "evalue": "invalid syntax (<ipython-input-4-1d78c9c1388d>, line 2)",
     "output_type": "error",
     "traceback": [
      "\u001b[0;36m  File \u001b[0;32m\"<ipython-input-4-1d78c9c1388d>\"\u001b[0;36m, line \u001b[0;32m2\u001b[0m\n\u001b[0;31m    ./nbconvert.py --format=pdf yourfile.ipynb\u001b[0m\n\u001b[0m    ^\u001b[0m\n\u001b[0;31mSyntaxError\u001b[0m\u001b[0;31m:\u001b[0m invalid syntax\n"
     ]
    }
   ],
   "source": [
    "\n",
    "./nbconvert.py --format=pdf yourfile.ipynb "
   ]
  },
  {
   "cell_type": "code",
   "execution_count": null,
   "metadata": {
    "collapsed": true
   },
   "outputs": [],
   "source": []
  }
 ],
 "metadata": {
  "kernelspec": {
   "display_name": "Python 2",
   "language": "python",
   "name": "python2"
  },
  "language_info": {
   "codemirror_mode": {
    "name": "ipython",
    "version": 2
   },
   "file_extension": ".py",
   "mimetype": "text/x-python",
   "name": "python",
   "nbconvert_exporter": "python",
   "pygments_lexer": "ipython2",
   "version": "2.7.9"
  }
 },
 "nbformat": 4,
 "nbformat_minor": 0
}
