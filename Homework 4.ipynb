{
 "cells": [
  {
   "cell_type": "markdown",
   "metadata": {},
   "source": [
    "#Stats Homework 4\n",
    "Lindsay Friedman\n",
    "\n",
    "Write code in Phython to simulate sampling distribution models using both the Central Limit Theorem and Bootstrapping approach. Generate random sample(s) from a normally distributed population with chosen mean and standard deviation. Use a relatively large sample size (>= 50). Create a histogram of the sampling distribution for both methods. For the boostrapping method, compare the mean of the resamples and the mean of the original sample to the actual population mean. (20% of HW Grade plus 10% extra credit)\n",
    "\n"
   ]
  },
  {
   "cell_type": "code",
   "execution_count": 6,
   "metadata": {
    "collapsed": false
   },
   "outputs": [
    {
     "name": "stdout",
     "output_type": "stream",
     "text": [
      "(array([ 6.,  7.,  9.,  7.,  9.,  5.,  3.,  1.,  1.,  2.]), array([ 5.5182605 ,  5.68128639,  5.84431228,  6.00733817,  6.17036406,\n",
      "        6.33338995,  6.49641584,  6.65944173,  6.82246762,  6.98549351,\n",
      "        7.14851941]), <a list of 10 Patch objects>)\n"
     ]
    },
    {
     "data": {
      "image/png": "[encoded data removed]",
      "text/plain": [
       "<matplotlib.figure.Figure at 0x106062e90>"
      ]
     },
     "metadata": {},
     "output_type": "display_data"
    }
   ],
   "source": [
    "\n",
    "%matplotlib inline\n",
    "import math\n",
    "import matplotlib.pyplot as plt\n",
    "import numpy as np\n",
    "\n",
    "sample = np.random.normal(6,.5,50)\n",
    "print plt.hist(sample)\n",
    "\n",
    "\n"
   ]
  },
  {
   "cell_type": "code",
   "execution_count": 8,
   "metadata": {
    "collapsed": false
   },
   "outputs": [
    {
     "name": "stdout",
     "output_type": "stream",
     "text": [
      "Sample length is 50\n",
      "The samples look like [ 6.0552977   6.15286806  6.18773644  5.95445335  5.5182605   6.04087368\n",
      "  6.20633039  5.80418305  7.06174809  6.5118812   6.59645087  5.79082142\n",
      "  5.82254746  7.14851941  6.82563353  6.34136992  6.10688443  6.52610456\n",
      "  5.67250491  5.6372566   6.24957897  5.98476435  5.77822755  6.39179322\n",
      "  5.98304228  5.96370329  5.70944963  5.88427509  5.85539633  5.74193334\n",
      "  6.29243407  5.95961801  5.53413873  6.21886852  6.33447202  5.54808145\n",
      "  5.95583864  6.25846845  5.55437743  6.31685572  5.83184192  6.38865777\n",
      "  6.45164908  6.18418212  6.12873647  5.97928473  6.20287124  6.79215387\n",
      "  6.09229716  6.1399354 ]\n"
     ]
    }
   ],
   "source": [
    "\n",
    "import scipy.stats as stat\n",
    "def mean(X):\n",
    "    return sum(X)/ float(len(X))\n",
    " \n",
    "def bootstrap(sample, samplesize = None, nsamples = 1000, statfunc = mean):\n",
    "    \"\"\"\n",
    "    Arguments:\n",
    "       sample - input sample of values\n",
    "       nsamples - number of samples to generate\n",
    "       samplesize - sample size of each generated sample\n",
    "       statfunc- statistical function to apply to each generated sample.\n",
    " \n",
    "    Performs resampling from sample with replacement, gathers\n",
    "    statistic in a list computed by statfunc on the each generated sample.\n",
    "    \"\"\"\n",
    "    if samplesize is None:                                                                   \n",
    "        samplesize=len(sample)\n",
    "    n = len(sample)\n",
    "    X = []\n",
    "    for i in range(nsamples):\n",
    "        resample = [sample[j] for j in stat.randint.rvs(0, n-1, size=samplesize)] \n",
    "        x = statfunc(resample)\n",
    "        X.append(x)\n",
    "    return X\n",
    "\n",
    "print \"Sample length is\", len(sample)\n",
    "print \"The samples look like\", sample\n",
    "\n"
   ]
  },
  {
   "cell_type": "code",
   "execution_count": 9,
   "metadata": {
    "collapsed": false
   },
   "outputs": [
    {
     "name": "stdout",
     "output_type": "stream",
     "text": [
      "The bootstrap has 1000 elements\n",
      "The first twenty look like [6.2234940845831037, 6.1042221737717011, 6.1085442364234197, 6.2033708542416184, 6.1155210222564129, 6.1687089112914428, 6.046571115296226, 5.9853007787635866, 6.1955762744270588, 6.1898107862341325, 6.0974214084407832, 6.1631515103936154, 6.1369272079641641, 6.1044917349917807, 6.0720609975300359, 6.1253374953927766, 6.0564553351824886, 5.9986650856951167, 6.1477890858676396, 6.1328235523311569]\n",
      "(array([  23.,   55.,  122.,  223.,  232.,  178.,  106.,   47.,   11.,    3.]), array([ 5.97009485,  6.00254386,  6.03499287,  6.06744188,  6.09989089,\n",
      "        6.1323399 ,  6.16478891,  6.19723792,  6.22968694,  6.26213595,\n",
      "        6.29458496]), <a list of 10 Patch objects>)\n"
     ]
    },
    {
     "data": {
      "image/png": "[encoded data removed]",
      "text/plain": [
       "<matplotlib.figure.Figure at 0x106a7e790>"
      ]
     },
     "metadata": {},
     "output_type": "display_data"
    }
   ],
   "source": [
    "bootstrapped = bootstrap(sample, nsamples=1000)\n",
    "print \"The bootstrap has\", len(bootstrapped), \"elements\"\n",
    "print \"The first twenty look like\", bootstrapped[:20]\n",
    "print plt.hist(bootstrapped)"
   ]
  },
  {
   "cell_type": "code",
   "execution_count": null,
   "metadata": {
    "collapsed": true
   },
   "outputs": [],
   "source": []
  }
 ],
 "metadata": {
  "kernelspec": {
   "display_name": "Python 2",
   "language": "python",
   "name": "python2"
  },
  "language_info": {
   "codemirror_mode": {
    "name": "ipython",
    "version": 2
   },
   "file_extension": ".py",
   "mimetype": "text/x-python",
   "name": "python",
   "nbconvert_exporter": "python",
   "pygments_lexer": "ipython2",
   "version": "2.7.10"
  }
 },
 "nbformat": 4,
 "nbformat_minor": 0
}
