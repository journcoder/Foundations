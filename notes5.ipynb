{
 "cells": [
  {
   "cell_type": "markdown",
   "metadata": {},
   "source": [
    "##Do Now Wednesday, June 18, 2015\n",
    "\n",
    "*Reviewing: Google Refine, git, counting things*\n",
    "\n",
    "**1a) What does Refine call searching for text in a column?**\n",
    "\n",
    "**1b) What does Refine call examining all the values that appear in a column?**\n",
    "\n",
    "**2) When you add a new file into the folder you're tracking with git, it doesn't get automatically placed into the repository. What's the command to make that happen?**\n",
    "\n",
    "**3) There are two more steps to go through with the file. One saves your changes to the repo, one sends them up to GitHub. What are they?**\n",
    "\n",
    "[ { 'company': 'ExxonMobil', 'fine': 4500, 'date': '2011-01-02' },\n",
    "{ 'company':'BP', 'fine': 320, 'date': '2012-02-12' },\n",
    "{ 'company': 'ExxonMobil', 'fine': 7200, 'date': '2012-04-09' },\n",
    "{ 'company': 'Chevron', 'fine': 80000, 'date': '2011-01-02' } ]\n",
    "\n",
    "**4) What's the data type of the above?**\n",
    "\n",
    "**5) Count the number of times Chevron appears in the list. Tip: list comprehensions are your friend**\n",
    "\n",
    "**6) Sum up the fines that were from ExxonMobil. Tip: You can put conditions in a list comprehension! See the rather confusing but possibly helpful code below.**\n",
    "\n",
    "num = [1, 2, 3, 4]\n",
    "[num * 2 for num in numbers if num > 2]\n",
    "This will create the list [6, 8]**\n"
   ]
  },
  {
   "cell_type": "markdown",
   "metadata": {},
   "source": [
    "**1a) What does Refine call searching for text in a column?**\n",
    "\n",
    "FIlter (specifically Text Filter)"
   ]
  },
  {
   "cell_type": "markdown",
   "metadata": {},
   "source": [
    "**1b) What does Refine call examining all the values that appear in a column?**\n",
    "\n",
    "*Facets* - specifically Text Facets"
   ]
  },
  {
   "cell_type": "markdown",
   "metadata": {},
   "source": [
    "**2) When you add a new file into the folder you're tracking with git, it doesn't get automatically placed into the repository. What's the command to make that happen?**\n",
    "\n",
    "git add filename.ibynb"
   ]
  },
  {
   "cell_type": "markdown",
   "metadata": {},
   "source": [
    "**3) There are two more steps to go through with the file. One saves your changes to the repo, one sends them up to GitHub. What are they?**\n",
    "\n",
    "git commit -m \"Here's a message\" \n",
    "*to save your changes to the repository (like a checkpoint)*\n",
    "\n",
    "git push \n",
    "*to send it up to GitHub*\n",
    "\n",
    "git push -u origin master\n",
    "*for the first time, but after the -u saves it.*"
   ]
  },
  {
   "cell_type": "markdown",
   "metadata": {},
   "source": [
    "companies = [ { 'company': 'ExxonMobil', 'fine': 4500, 'date': '2011-01-02' }, { 'company':'BP', 'fine': 320, 'date': '2012-02-12' }, { 'company': 'ExxonMobil', 'fine': 7200, 'date': '2012-04-09' }, { 'company': 'Chevron', 'fine': 80000, 'date': '2011-01-02' } ]\n",
    "\n",
    "**4) What's the data type of the above?**\n",
    "\n",
    "A list of dicts. "
   ]
  },
  {
   "cell_type": "markdown",
   "metadata": {},
   "source": [
    "**5) Count the number of times Chevron appears in the list. Tip: list comprehensions are your friend**"
   ]
  },
  {
   "cell_type": "code",
   "execution_count": 2,
   "metadata": {
    "collapsed": false
   },
   "outputs": [],
   "source": [
    "companies = [ { 'company': 'ExxonMobil', 'fine': 4500, 'date': '2011-01-02' }, { 'company':'BP', 'fine': 320, 'date': '2012-02-12' }, { 'company': 'ExxonMobil', 'fine': 7200, 'date': '2012-04-09' }, { 'company': 'Chevron', 'fine': 80000, 'date': '2011-01-02' } ]\n",
    "company_names = [company['company'] for company in companies]"
   ]
  },
  {
   "cell_type": "code",
   "execution_count": 3,
   "metadata": {
    "collapsed": false
   },
   "outputs": [
    {
     "data": {
      "text/plain": [
       "['ExxonMobil', 'BP', 'ExxonMobil', 'Chevron']"
      ]
     },
     "execution_count": 3,
     "metadata": {},
     "output_type": "execute_result"
    }
   ],
   "source": [
    "company_names"
   ]
  },
  {
   "cell_type": "code",
   "execution_count": 4,
   "metadata": {
    "collapsed": false
   },
   "outputs": [
    {
     "data": {
      "text/plain": [
       "1"
      ]
     },
     "execution_count": 4,
     "metadata": {},
     "output_type": "execute_result"
    }
   ],
   "source": [
    "company_names.count(\"Chevron\")"
   ]
  },
  {
   "cell_type": "markdown",
   "metadata": {},
   "source": [
    "**6) Sum up the fines that were from ExxonMobil. Tip: You can put conditions in a list comprehension! See the rather confusing but possibly helpful code below.**\n",
    "\n",
    "    *num = [1, 2, 3, 4] \n",
    "    [num 2 for num in numbers if num > 2] \n",
    "    This will create the list [6, 8]*\n",
    "    \n",
    "    \n",
    "If it was a for loop \n",
    "\n",
    "        for company in companies:\n",
    "           if company['Company'] == 'ExxonMobil\":\n",
    "        #do stuff"
   ]
  },
  {
   "cell_type": "code",
   "execution_count": 9,
   "metadata": {
    "collapsed": false
   },
   "outputs": [
    {
     "ename": "SyntaxError",
     "evalue": "invalid syntax (<ipython-input-9-7593f192e53a>, line 2)",
     "output_type": "error",
     "traceback": [
      "\u001b[0;36m  File \u001b[0;32m\"<ipython-input-9-7593f192e53a>\"\u001b[0;36m, line \u001b[0;32m2\u001b[0m\n\u001b[0;31m    [company for company in companies if company['company'] = 'ExonMobil']\u001b[0m\n\u001b[0m               ^\u001b[0m\n\u001b[0;31mSyntaxError\u001b[0m\u001b[0;31m:\u001b[0m invalid syntax\n"
     ]
    }
   ],
   "source": [
    "companies = [ { 'company': 'ExxonMobil', 'fine': 4500, 'date': '2011-01-02' }, { 'company':'BP', 'fine': 320, 'date': '2012-02-12' }, { 'company': 'ExxonMobil', 'fine': 7200, 'date': '2012-04-09' }, { 'company': 'Chevron', 'fine': 80000, 'date': '2011-01-02' }\n",
    "[company for company in companies if company['company'] == 'ExonMobil']          \n",
    "             "
   ]
  },
  {
   "cell_type": "code",
   "execution_count": 15,
   "metadata": {
    "collapsed": false
   },
   "outputs": [],
   "source": [
    "fines = [company['fine'] for company in companies if company['company'] == 'ExonMobile']"
   ]
  },
  {
   "cell_type": "code",
   "execution_count": 13,
   "metadata": {
    "collapsed": false
   },
   "outputs": [
    {
     "data": {
      "text/plain": [
       "0"
      ]
     },
     "execution_count": 13,
     "metadata": {},
     "output_type": "execute_result"
    }
   ],
   "source": [
    "sum(fines)"
   ]
  },
  {
   "cell_type": "code",
   "execution_count": null,
   "metadata": {
    "collapsed": true
   },
   "outputs": [],
   "source": []
  }
 ],
 "metadata": {
  "kernelspec": {
   "display_name": "Python 2",
   "language": "python",
   "name": "python2"
  },
  "language_info": {
   "codemirror_mode": {
    "name": "ipython",
    "version": 2
   },
   "file_extension": ".py",
   "mimetype": "text/x-python",
   "name": "python",
   "nbconvert_exporter": "python",
   "pygments_lexer": "ipython2",
   "version": "2.7.9"
  }
 },
 "nbformat": 4,
 "nbformat_minor": 0
}
