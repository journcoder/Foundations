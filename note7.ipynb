{
 "cells": [
  {
   "cell_type": "markdown",
   "metadata": {},
   "source": [
    "#Do Now Monday, June 24, 2015\n",
    "\n",
    "*Reviewing: functions, lists*\n",
    "\n",
    "**1) Write a function that takes two integers as arguments and sends back their sum.**\n",
    "\n",
    "**2) Write a function that takes one string as an argument. If the string is \"candy\" send back \"no thanks\", otherwise send back \"yes, please.\"**\n",
    "\n",
    "**3) If I had a file called doubles.py with the code below, what are the two reasons it won't display the number 9?**\n",
    "\n",
    "    def double(a):\n",
    "        a * a\n",
    "\n",
    "    double(3)\n",
    "\n",
    "**4) When the function is called, have it return the company's owner in all capital letters with three exclamation points after it. To make a string all caps, use variablename.upper().**\n",
    "\n",
    "    company = { 'name': 'Acme', 'owner': 'Wile E. Coyote', founded: '1919' }\n",
    "\n",
    "    print \"Hi there\", yelling_name(company)\n",
    "\n",
    "**5) Using the following, create a list of categories.**\n",
    "\n",
    "    nobel_winners_2014 = {\n",
    "        'Physics': 'Isamu Akasaki',\n",
    "        'Chemistry': 'Eric Betzig',\n",
    "        'Physiology': \"John O'Keefe\",\n",
    "    }\n",
    "\n",
    "**6) Using the following, create a list of categories.**\n",
    "\n",
    "    winners = [ { 'category': 'Physics', winner: 'Isamu Akasaki' }, \n",
    "    { 'category': 'Chemistry', 'winner': 'Eric Betzig' }, { 'category': 'physiology', 'winner': \"John O'Keefe\" }\n"
   ]
  },
  {
   "cell_type": "markdown",
   "metadata": {},
   "source": [
    "#WORK\n",
    "**1) Write a function that takes two integers as arguments and sends back their sum.**"
   ]
  },
  {
   "cell_type": "code",
   "execution_count": 19,
   "metadata": {
    "collapsed": false
   },
   "outputs": [
    {
     "name": "stdout",
     "output_type": "stream",
     "text": [
      "6\n"
     ]
    }
   ],
   "source": [
    "def equal(a,b):\n",
    "    return a + b\n",
    "print equal(2,4)"
   ]
  },
  {
   "cell_type": "markdown",
   "metadata": {},
   "source": [
    "**2) Write a function that takes one string as an argument. If the string is \"candy\" send back \"no thanks\", otherwise send back \"yes, please.\"**\n"
   ]
  },
  {
   "cell_type": "code",
   "execution_count": 53,
   "metadata": {
    "collapsed": false
   },
   "outputs": [
    {
     "name": "stdout",
     "output_type": "stream",
     "text": [
      "no thanks\n"
     ]
    }
   ],
   "source": [
    "def yum(content):\n",
    "    if content == 'candy':\n",
    "        return 'no thanks'\n",
    "    return 'yes please'\n",
    "print yum(content)"
   ]
  },
  {
   "cell_type": "markdown",
   "metadata": {},
   "source": [
    "**3) If I had a file called doubles.py with the code below, what are the two reasons it won't display the number 9?**\n"
   ]
  },
  {
   "cell_type": "code",
   "execution_count": 39,
   "metadata": {
    "collapsed": false
   },
   "outputs": [
    {
     "name": "stdout",
     "output_type": "stream",
     "text": [
      "9\n"
     ]
    }
   ],
   "source": [
    "def double(a): \n",
    "    return a * a\n",
    "print double(3)"
   ]
  },
  {
   "cell_type": "markdown",
   "metadata": {},
   "source": [
    "**4) Using the following, create a list of categories.**\n"
   ]
  },
  {
   "cell_type": "code",
   "execution_count": 41,
   "metadata": {
    "collapsed": false
   },
   "outputs": [
    {
     "name": "stdout",
     "output_type": "stream",
     "text": [
      "Hi there WILE E. COYOTE!!!\n"
     ]
    }
   ],
   "source": [
    "def yelling_name(company):\n",
    "        return company['owner'].upper() + \"!!!\"\n",
    "company = { 'name': 'Acme', 'owner': 'Wile E. Coyote', 'founded': '1919' }\n",
    "print \"Hi there\", yelling_name(company)\n"
   ]
  },
  {
   "cell_type": "markdown",
   "metadata": {},
   "source": [
    "**5) Using the following, create a list of categories.**\n",
    "\n"
   ]
  },
  {
   "cell_type": "code",
   "execution_count": 49,
   "metadata": {
    "collapsed": false
   },
   "outputs": [
    {
     "name": "stdout",
     "output_type": "stream",
     "text": [
      "['Chemistry', 'Physics', 'Physiology']\n"
     ]
    }
   ],
   "source": [
    "nobel_winners_2014 = {\n",
    "\t'Physics': 'Isamu Akasaki',\n",
    "\t'Chemistry': 'Eric Betzig',\n",
    "\t'Physiology': \"John O'Keefe\",\n",
    "}\n",
    "\n",
    "print nobel_winners_2014.keys()"
   ]
  },
  {
   "cell_type": "markdown",
   "metadata": {},
   "source": [
    "**6) Using the following, create a list of categories.**\n",
    "\n"
   ]
  },
  {
   "cell_type": "code",
   "execution_count": 47,
   "metadata": {
    "collapsed": false
   },
   "outputs": [
    {
     "name": "stdout",
     "output_type": "stream",
     "text": [
      "['Physics', 'Chemistry', 'physiology']\n"
     ]
    }
   ],
   "source": [
    "winners = [ { 'category': 'Physics', 'winner': 'Isamu Akasaki' }, { 'category': 'Chemistry', 'winner': 'Eric Betzig' }, { 'category': 'physiology', 'winner': \"John O'Keefe\" }]\n",
    "print [winner['category'] for winner in winners]"
   ]
  },
  {
   "cell_type": "markdown",
   "metadata": {},
   "source": [
    "#REWIEWING HOMEWORK 8 \n",
    "*FUNCTIONS*"
   ]
  },
  {
   "cell_type": "markdown",
   "metadata": {},
   "source": [
    "**First, tips:**\n",
    "- Be careful that you're doing all of your math with ints or floats instead of strings that look like ints or floats. - When you write your functions, you can pass either the entire dictionary to the function OR just the part you're \n",
    "        curious about (e.g., when you're getting the day you could send the whole earthquake dictionary or just what's \n",
    "        in the 'time' key.)\n",
    "- Writing empty functions that always return the same thing are a great way to start off. You can start saying every \n",
    "  earthquake is shallow and then fill in the actual code later.\n",
    "\n",
    "##PART ONE: Write the eq_to_sentence function\n",
    "\n",
    "Given an earthquake defined like this...\n",
    "\n",
    "    earthquake = {\n",
    "      'rms': '1.85', \n",
    "      'updated': '2014-06-11T05:22:21.596Z', \n",
    "      'type': 'earthquake', \n",
    "      'magType': 'mwp', \n",
    "      'longitude': '-136.6561', \n",
    "      'gap': '48', \n",
    "      'depth': '10', \n",
    "      'dmin': '0.811', \n",
    "      'mag': '5.7', \n",
    "      'time': '2014-06-04T11:58:58.200Z', \n",
    "      'latitude': '59.0001', \n",
    "      'place': '73km WSW of Haines, Alaska', \n",
    "      'net': 'us', \n",
    "      'nst': '', \n",
    "      'id': 'usc000rauc'}\n",
    "  \n",
    "*I want to be able to run print eq_to_sentence(earthquake) and get the following:*\n",
    "\n",
    "A DEPTH DESCRIPTION, MAGNITUDE earthquake was reported DAY TIME_OF_DAY on DATE.\n",
    "So, for example, \"A deep, huge 4.5 magnitude earthquake was reported Monday morning on June 22\".\n",
    "\n",
    "*DEPTH, DESCRIPTION, MAGNITUDE, DAY, and TIME_OF_DAY* should all come from separate functions. So you'll probably have an eq_description and an eq_time_of_day, etc\n",
    "\n",
    "**DEPTH can be determined from the USGS website -** http://earthquake.usgs.gov/learn/topics/seismology/determining_depth.php - it should be either 'shallow', 'intermediate' or 'deep'\n",
    "\n",
    "**DESCRIPTION** can be something like 'easily ignored' or 'huge' or 'very destructive' (feel free to pick your own) - look on Google Image Search for \"richter scale\" to see some possible descriptors.\n",
    "\n",
    "**MAGNITUDE** should be the actual numerical magnitude.\n",
    "\n",
    "**DAY** should be the day of the week.\n",
    "\n",
    "**TIME_OF_DAY** should be morning, afternoon, evening or night.\n",
    "\n",
    "**DATE** should be \"Monthname day\", e.g. \"June 22\".\n",
    "\n",
    "#PART TWO: Doing it in bulk\n",
    "\n",
    "*Read in the csv of the past 30 days of 1.0+ earthquke activity from* http://earthquake.usgs.gov/earthquakes/feed/v1.0/summary/1.0_month.csv\n",
    "\n",
    "Loop through each earthquake, printing sentence descriptions for the ones that are above or equal to 4.0 on the Richter scale.\n",
    "\n",
    "\n",
    "#PART THREE: The other bits\n",
    "\n",
    "If the earthquake is anything other than an earthquake (e.g. explosion or quarry blast), print\n",
    "There was also a magnitude MAGNITUDE TYPE_OF_EVENT on DATE LOCATION.\n",
    " \n",
    "For example,There was also a magnitude 1.29 quarry blast on June 19 12km SE of Tehachapi, California.\n",
    "\n",
    "with TYPE_OF_EVENT being explosion, quarry blast, etc and LOCATION being 'place' - e.g. '0km N of The Geysers, California'.\n"
   ]
  },
  {
   "cell_type": "code",
   "execution_count": 161,
   "metadata": {
    "collapsed": false
   },
   "outputs": [],
   "source": [
    "#part one\n",
    "earthquake = {\n",
    "  'rms': '1.85', \n",
    "  'updated': '2014-06-11T05:22:21.596Z', \n",
    "  'type': 'earthquake', \n",
    "  'magType': 'mwp', \n",
    "  'longitude': '-136.6561', \n",
    "  'gap': '48', \n",
    "  'depth': '10', \n",
    "  'dmin': '0.811', \n",
    "  'mag': '5.7', \n",
    "  'time': '2014-06-04T11:58:58.200Z', \n",
    "  'latitude': '59.0001', \n",
    "  'place': '73km WSW of Haines, Alaska', \n",
    "  'net': 'us', \n",
    "  'nst': '', \n",
    "  'id': 'usc000rauc'}\n",
    "\n",
    "#measurements from http://earthquake.usgs.gov/learn/topics/seismology/determining_depth.php\n",
    "# 0 - 70 is shallow \n",
    "# 70 -300 is intermediate \n",
    "# 300 + is deep \n",
    "\n"
   ]
  },
  {
   "cell_type": "code",
   "execution_count": 162,
   "metadata": {
    "collapsed": true
   },
   "outputs": [],
   "source": [
    "def eq_depth(depth): #in this case depth is just a filler/name, it could be potatoesalad if you want. \n",
    "    depth = int(depth) #but here, the value in () needs to match the filler/name ... FOR NOW DEPTH MEANS NOTHING it's any empty tennis shooter machine.\n",
    "    if depth > 70: #now depth here matches the value name we just defined above \n",
    "        return \"shallow\"\n",
    "    elif depth > 300:\n",
    "        return \"intermediate\"\n",
    "    else:\n",
    "        return \"deep\"\n",
    "    \n",
    "#NOW IF WE DID:\n",
    "# print eq_depth('10') '10' is the tennis ball or value we're sending through the function or the machine and assigns a value to depth in the function."
   ]
  },
  {
   "cell_type": "markdown",
   "metadata": {},
   "source": [
    "**MY HOMEWORK**\n",
    "\n",
    "    def quake_depth(depth):\n",
    "      depth = int(depth)\n",
    "      if 70 > depth > 1: #could've just made this part a little cleaner and used else at the end... \n",
    "        return \"shallow\"\n",
    "      elif depth < 300:\n",
    "        return \"intermediate\"\n",
    "      elif depth > 300:\n",
    "        return \"deep\"\n",
    "    depth = earthquake['depth'] \n"
   ]
  },
  {
   "cell_type": "code",
   "execution_count": 163,
   "metadata": {
    "collapsed": true
   },
   "outputs": [],
   "source": [
    "\n",
    "def eq_description(magnitude):\n",
    "    mag = float(magnitude)\n",
    "    if mag >= 5:\n",
    "        return \"strong\"\n",
    "    else:\n",
    "        return \"weak\"\n",
    "\n",
    "#we were just lazy in the examples. \n"
   ]
  },
  {
   "cell_type": "markdown",
   "metadata": {},
   "source": [
    "**MY HOMEWORK**\n",
    "\n",
    "    def quake_descript(mag):\n",
    "        mag = float(mag)\n",
    "        if mag <= 5: # again, could've just made this part make more clean\n",
    "            return \", easily ignored\"\n",
    "        elif 5 < mag < 7:\n",
    "            return \", huge\"\n",
    "        elif mag >= 7:\n",
    "            return \", destructive\"\n",
    "    mag = earthquake['mag']"
   ]
  },
  {
   "cell_type": "code",
   "execution_count": 164,
   "metadata": {
    "collapsed": false
   },
   "outputs": [],
   "source": [
    "import dateutil.parser\n",
    "def eq_date(happend_at):\n",
    "    parsed = dateutil.parser.parse(happend_at)\n",
    "    return parsed.strftime(\"%A\")\n",
    "    \n",
    "#FOR MY WORK .. LOOK FURTHER. I JUST PUT SPECIFIC TIME IN THE LAST FUCNTION. "
   ]
  },
  {
   "cell_type": "code",
   "execution_count": 165,
   "metadata": {
    "collapsed": false
   },
   "outputs": [],
   "source": [
    "#4am-12pm is morning\n",
    "#12pm-6pm is afternoon\n",
    "#6pm-9pm is evening\n",
    "#9pm-4am\n",
    "\n",
    "def eq_time_of_day(happend_at):\n",
    "    parsed = dateutil.parser.parse(happend_at)\n",
    "    hour = parsed.hour\n",
    "    if hour >= 4 and hour < 12:\n",
    "        return \"morning\"\n",
    "    if hour >= 12 and hour < 18:\n",
    "        return \"afternoon\"\n",
    "    if hour >= 18 and hour < 21:\n",
    "        return \"evening\"\n",
    "    else:\n",
    "        return \"night\"\n",
    "    \n",
    "#THIS CODE IS OK .. BUT IT DOESNT CONSIDER DIFFERENT TIME ZONES .. SOMA IS SENDING OUT SOMETHING ON HOW TO CLAC. \n",
    "\n"
   ]
  },
  {
   "cell_type": "markdown",
   "metadata": {},
   "source": [
    "**MY WORK:**\n",
    "\n",
    "    def part_of_day(hour):\n",
    "        if hour >= 0 and hour < 12:\n",
    "           return 'morning'\n",
    "        elif hour >= 12 and hour < 17:\n",
    "           return 'afternoon'\n",
    "        elif hour >= 17 and hour < 20:\n",
    "           return 'evening'\n",
    "        elif hour >= 20 and hour <= 24:\n",
    "           return 'night'"
   ]
  },
  {
   "cell_type": "code",
   "execution_count": 166,
   "metadata": {
    "collapsed": true
   },
   "outputs": [],
   "source": [
    "def eq_day(happend_at):\n",
    "    parsed = dateutil.parser.parse(happend_at)\n",
    "    hour = parsed.strftime(\"%B %d\")\n",
    "    \n",
    "#AGAIN LOOK AT MY HOMEWORK FINAL FUNCTION"
   ]
  },
  {
   "cell_type": "code",
   "execution_count": 167,
   "metadata": {
    "collapsed": true
   },
   "outputs": [],
   "source": [
    "def eq_magnitude(mag):\n",
    "    mag = float(mag)\n",
    "    return mag\n",
    "\n",
    "#I DIDNT DO THIS CAUSE JUST TO PRINT IT OUT .. IT REALLY DOESNT MATTER IF ITS AND INT OR STRING... "
   ]
  },
  {
   "cell_type": "code",
   "execution_count": 168,
   "metadata": {
    "collapsed": false
   },
   "outputs": [
    {
     "name": "stdout",
     "output_type": "stream",
     "text": [
      "A deep strong, 5.7 earthquake was reported Wednesday morning on None.\n"
     ]
    }
   ],
   "source": [
    "def eq_to_sentence(quake):\n",
    "  depth = eq_depth(quake[\"depth\"])\n",
    "  description = eq_description(quake[\"mag\"])\n",
    "  mag = eq_magnitude(quake[\"mag\"])  \n",
    "  date = eq_date(quake[\"time\"])\n",
    "  timeofday = eq_time_of_day(quake[\"time\"])\n",
    "  day = eq_day(quake[\"time\"])                           \n",
    "  return \"A %s %s, %s earthquake was reported %s %s on %s.\" % (depth, description, mag, date, timeofday, day)\n",
    "\n",
    "print eq_to_sentence(earthquake)\n"
   ]
  },
  {
   "cell_type": "markdown",
   "metadata": {},
   "source": [
    "** MY WORK ** \n",
    "\n",
    "    def eq_to_sentence(qwerty):\n",
    "      depth = quake_depth(qwerty[\"depth\"])\n",
    "      date = parser.parse(qwerty['time'])\n",
    "      day_time = date.strftime(\"%A at %-I:%M\")\n",
    "      date_time = date.strftime(\"%b %d\")\n",
    "      description = quake_descript(qwerty['mag'])\n",
    "      hour = int(date.strftime(\"%H\"))\n",
    "      return \"A \"+depth+description+\" \"+qwerty[\"mag\"]+\" magnitude earthquake was reported \"+day_time+\" in the \n",
    "      \"+part_of_day(hour)+\" on \"+date_time+\".\"\n",
    "    print eq_to_sentence(earthquake)"
   ]
  },
  {
   "cell_type": "markdown",
   "metadata": {},
   "source": [
    "**MORE OF MY WORK **\n",
    "\n",
    "    import csv \n",
    "*IT WOULD BE BETTER TO ACTUALLY PUT THIS AT THE TOP OF THE PAGE/BEGINNING*\n",
    "\n",
    "    quakes = list(csv.DictReader(open(\"/users/lindsayfriedman/desktop/lede:columbia/quakes/quake.csv\")))\n",
    "    \n",
    "*FOLLOWS DOC PATH ON CPU, wouldn't need in sublime. Just ipyhon thing.\"\n",
    "\n",
    "    print eq_to_sentence(quakes)"
   ]
  },
  {
   "cell_type": "markdown",
   "metadata": {},
   "source": [
    "**MY WORK**\n",
    "\n",
    "    For quake in quakes:\n",
    "      if float(quake['mag']) >= 4.0:\n",
    "        print eq_to_sentence(quake)"
   ]
  },
  {
   "cell_type": "markdown",
   "metadata": {},
   "source": [
    "**MY WORK PART THREE.. we didn't get to this in class:**\n",
    "\n",
    "    def eq_to_sentence(qwerty):\n",
    "        depth = quake_depth(qwerty[\"depth\"])\n",
    "        date = parser.parse(qwerty['time'])\n",
    "        return \"There was also a magnitude\"+\" \"+type['mag']+\" \"+type['type']+\" on \"+date.strftime(\"%B %d\")+\", \n",
    "        \"+type['place']+\".\"\n",
    "\n",
    "    for type in quakes:\n",
    "      if type['type'] != 'earthquake':\n",
    "        print eq_to_sentence(earthquake)\n"
   ]
  },
  {
   "cell_type": "markdown",
   "metadata": {},
   "source": [
    "#CLASS NOTES \n",
    "*learning something new!!*\n",
    "\n",
    "Link given: http://earthquake.usgs.gov/earthquakes/feed/v1.0/csv.php\n",
    "USGS Earthquake Hazards Program, responsible for monitoring, reporting, and researching earthquakes and earthquake hazards\n",
    "\n",
    "**USING ABOVE WORK CONT.**"
   ]
  },
  {
   "cell_type": "markdown",
   "metadata": {},
   "source": [
    "import urllib2\n",
    "    ... again in a whole doc this would be better to put at the top with rest .. but so we know for now.\n",
    "urllib2.urlopen(\"http://earthquake.usgs.gov/earthquakes/feed/v1.0/summary/1.0_hour.csv\") #just copy link address \n",
    "file = open(\"/users/lindsayfriedman/desktop/lede:columbia/quakes/quake.csv\") \n",
    "    ...FOLLOWS DOC PATH ON CPU, wouldn't need in sublime. Just ipyhon thing.\n",
    "quakes = list(csv.DictReader(file))\n",
    "print eq_to_sentence(quakes)\n",
    "\n",
    "*HAVE TO RUN THIS IN ACTUAL SUBBLIME OR IT WONT WORK*"
   ]
  },
  {
   "cell_type": "markdown",
   "metadata": {},
   "source": [
    "#USING CRONTAB \n",
    "*marching on .... in terminal and sublime*"
   ]
  },
  {
   "cell_type": "markdown",
   "metadata": {},
   "source": [
    "**WHAT IS IT?**\n",
    "Cron is a daemon/service that executes shell commands periodically on a given schedule. Cron is driven by a crontab, a configuration file that holds details of what commands are to be run along with a timetable of when to run them.\n",
    "\n",
    "**Create a crontab file by entering the following terminal command:**\n",
    "\n",
    "    crontab -e\n",
    "    \n",
    "Entering the above command will open a terminal editor with a new blank crontab file, or it will open an existing crontab if you already have one. You can now enter the commands to be executed, see syntax below, before saving the file and exiting the editor. As long as your entries were entered correctly your commands should now be executed at the times/dates you specified. \n",
    "\n",
    "**You can see a list of active crontab entries by entering the following terminal command:**\n",
    "\n",
    "    crontab -l\n",
    " \n",
    "**CRONTAB SYNTAX**\n",
    "\n",
    "A crontab file has six fields for specifying minute, hour, day of month, month, day of week and the command to be run at that interval. See below:\n",
    "    *     *     *     *     *  command to be executed\n",
    "    -     -     -     -     -\n",
    "    |     |     |     |     |\n",
    "    |     |     |     |     +----- day of week (0 - 6) (Sunday=0)\n",
    "    |     |     |     +------- month (1 - 12)\n",
    "    |     |     +--------- day of month (1 - 31)\n",
    "    |     +----------- hour (0 - 23)\n",
    "    +------------- min (0 - 59)\n",
    "\n",
    "**Crontab examples**\n",
    "\n",
    "Writing a crontab file can be a somewhat confusing for first time users, therefore I have listed below some crontab examples:\n",
    "\n",
    "    * * * * * <command> #Runs every minute\n",
    "    30 * * * * <command> #Runs at 30 minutes past the hour\n",
    "    45 6 * * * <command> #Runs at 6:45 am every day\n",
    "    45 18 * * * <command> #Runs at 6:45 pm every day\n",
    "    00 1 * * 0 <command> #Runs at 1:00 am every Sunday\n",
    "    00 1 * * 7 <command> #Runs at 1:00 am every Sunday\n",
    "    00 1 * * Sun <command> #Runs at 1:00 am every Sunday\n",
    "    30 8 1 * * <command> #Runs at 8:30 am on the first day of every month\n",
    "    00 0-23/2 02 07 * <command> #Runs every other hour on the 2nd of July\n",
    "*As well as the above there are also special strings that can be used:*\n",
    "\n",
    "    @reboot <command> #Runs at boot\n",
    "    @yearly <command> #Runs once a year [0 0 1 1 *]\n",
    "    @annually <command> #Runs once a year [0 0 1 1 *]\n",
    "    @monthly <command> #Runs once a month [0 0 1 * *]\n",
    "    @weekly <command> #Runs once a week [0 0 * * 0]\n",
    "    @daily <command> #Runs once a day [0 0 * * *]\n",
    "    @midnight <command> #Runs once a day [0 0 * * *]\n",
    "    @hourly <command> #Runs once an hour [0 * * * *]\n",
    "\n",
    "**Multiple commands**\n",
    "\n",
    "A double-ampersand “&&” can be used to run multiple commands consecutively. \n",
    "*The following example would run command_01 and then command_02 once a day:*\n",
    "\n",
    "    @daily <command_01> && <command_02>\n",
    "\n",
    "**Disabling email notifications**\n",
    "\n",
    "By default a cron job will send an email to the user account executing the cronjob. If this is not needed put the following command at the end of the cron job line:\n",
    "\n",
    "    >/dev/null 2>&1\n",
    "\n",
    "**Specifying a crontab file to use**\n",
    "\n",
    "As mentioned at the top of this post, you can create a new crontab file with the “crontab -e” command. However, you may already have a crontab file, if you do you can set it to be used with the following command:\n",
    "\n",
    "    crontab -u <username> <crontab file>\n",
    "    \n",
    "Therefore the following command…\n",
    "\n",
    "    crontab -u tux ~/crontab\n",
    "…would set Tux’s crontab file to that of the file named “crontab” residing in Tux’s home directory.\n",
    "\n",
    "**Removing a crontab file**\n",
    "\n",
    "To remove your crontab file simply enter the following terminal command:\n",
    "\n",
    "    crontab -r\n",
    "    \n",
    "**Further information**\n",
    "\n",
    "Refer to the man page for further information about crontab. Enter the terminal command:\n",
    "man crontab\n",
    "\n",
    "source: https://www.google.com/search?q=terminal+cron+tab&oq=terminal+cron+tab&aqs=chrome..69i57.2335j0j4&sourceid=chrome&es_sm=91&ie=UTF-8\n",
    "\n",
    "MORE: http://www.nncron.ru/help/EN/working/cron-format.htm"
   ]
  },
  {
   "cell_type": "markdown",
   "metadata": {},
   "source": [
    "**FROM THE TERMINAL AUTOMATED MAN**\n",
    "\n",
    "The first form of this command is used to install a new crontab from some\n",
    "     named file or standard input if the pseudo-filename `-' is given.\n",
    "\n",
    "     The following options are available:\n",
    "\n",
    "     -u      Specify the name of the user whose crontab is to be tweaked.  If\n",
    "             this option is not given, crontab examines ``your'' crontab,\n",
    "             i.e., the crontab of the person executing the command.  Note that\n",
    "             su(1) can confuse crontab and that if you are running inside of\n",
    "             su(1) you should always use the -u option for safety's sake.\n",
    "\n",
    "     -l      Display the current crontab on standard output.\n",
    "\n",
    "     -r      Remove the current crontab.\n",
    "\n",
    "     -e      Edit the current crontab using the editor specified by the VISUAL\n",
    "             or EDITOR environment variables.  The specified editor must edit\n",
    "             the file in place; any editor that unlinks the file and recreates\n",
    "             it cannot be used.  After you exit from the editor, the modified\n",
    "             crontab will be installed automatically."
   ]
  },
  {
   "cell_type": "markdown",
   "metadata": {
    "collapsed": true
   },
   "source": [
    "#CLASS NOTES ON CRONJOBS "
   ]
  },
  {
   "cell_type": "markdown",
   "metadata": {},
   "source": [
    "\n",
    "# 1: MAKE YOUR MAC SAY STUFF\n",
    "\n",
    "In the terminal, type:\n",
    "    \n",
    "    say 'I am your father Luke'\n",
    "\n",
    "OR, to specify a voice:\n",
    "    In the terminal,type:\n",
    "        say -v Agnes 'I am your father Luke'\n",
    "\n",
    "For more voices:\n",
    "http://www.gabrielserafini.com/blog/2008/08/19/mac-os-x-voices-for-using-with-the-say-command/\n",
    "\n",
    "\n",
    "\n",
    "# 2: MAKE YOUR MAC SAY STUFF WHEN YOU RUN A PYTHON FILE\n",
    "\n",
    "In SublimeText,create a file in your Lede folder called whatever.py\n",
    "and type:\n",
    "\n",
    "    import os\n",
    "    os.system( \"say 'I am your father Luke'\" )\n",
    "\n",
    "In the terminal, run whatever.py\n",
    "\n",
    "\n",
    "FOR EXAMPLE:\n",
    "So in your homework 8, you can add\n",
    "\n",
    "    import os\n",
    "    for quake in quakes:\n",
    "        os.system( \"say \"+eq_to_sentence( quake ) )\n",
    "*Run your python file, and listen to earthquake reports!*\n",
    "\n",
    "\n",
    "# 3: MAKE YOUR MAC DO STUFF REPEATEDLY\n",
    "\n",
    "In the terminal, type man crontab\n",
    "\n",
    "    *(manual) This is a manual for the command `crontab`*\n",
    "    - d for down\n",
    "    - b for back\n",
    "    - q for quit\n",
    "*Probably not too helpful. I mean, who writes like that?*\n",
    "\n",
    "\n",
    "\n",
    "In SublimeText,create a file in your Lede folder called cron.txt and type\n",
    "\n",
    "    * * * * * * say \"It's a new minute\"\n",
    "    And ADD AN EXTRA BLANK LINE.\n",
    "    * * * * * * tells your computer to run this every minute.\n",
    "\n",
    "In the terminal, move to your Lede folder and type:\n",
    "\n",
    "    crontab cron.txt\n",
    "        OR, to save the error messages to a file in the Lede folder called cron_error.txt:\n",
    "    crontab cron.txt  2>> cron_error.txt\n",
    "        # If you get a message saying \"you have mail\", you can erase those in the terminal by typing\n",
    "        > /var/mail/$USER\n",
    "\n",
    "\n",
    "*OR, to run python files repeatedly:*\n",
    "In SublimeText,create a file in your Lede folder called whatever.py\n",
    "and type:\n",
    "\n",
    "    import os\n",
    "    os.system( \"say 'I am your father Luke'\" )\n",
    "    print \"print whut\"\n",
    "\n",
    "In SublimeText, create a file in your Lede folder called cron.txt\n",
    "and type:\n",
    "\n",
    "    * * * * * ~/anaconda/bin/python ~/Desktop/Lede/whatever.py  >> ~/Desktop/Lede/whatever_output.txt  2>> \n",
    "    ~/Desktop/Lede/whatever_error.txt\n",
    "    And ADD AN EXTRA BLANK LINE.\n",
    "    * * * * * * tells your computer to run this every minute.\n",
    "\n",
    "In the terminal, move to your Lede folder and type:\n",
    "\n",
    "    crontab cron.txt\n",
    "... And blah blah blah same points as above.\n",
    "\n",
    "\n",
    "*You can specify how often this runs:*\n",
    "    \n",
    "    http://www.nncron.ru/help/EN/working/cron-format.htm\n",
    "\n",
    "     * * * * * * tells your computer to run this every minute.\n",
    "\tthe 1st * means \"do this every single minute\"\n",
    "\tthe 2nd * means \"do this every single hour\"\n",
    "\tthe 3rd * means \"do this every single day of the month\"\n",
    "\tthe 4th * means \"do this every single month\"\n",
    "\tthe 5th * means \"do this every single day of the week\"\n",
    "\tthe 6th * means \"do this every single year\"\n",
    "\n",
    "    */5 * * * * * tells your computer to run this every 5 minutes.\n",
    "\n",
    "    50 12 * * * * tells your computer to run this whenever it's 12:50.\n",
    "\n",
    "    0 13 * 6,7 1,3 say -v Bells \"Class is over\"\n",
    "    \n",
    "    tells your computer to say \"Class is over\" whenever it's 13:00 on June and July Mondays and Wednesdays.\n",
    "\n",
    "\n",
    "**If you want to see what you've told cron to do,**\n",
    "\n",
    "    crontab -l\n",
    "    \n",
    "OR, to save it to a file in the Lede folder called cron_existing.txt:\n",
    "    \n",
    "    crontab -l  > cron_existing.txt\n",
    "\n",
    "If you get tired of it,\n",
    "\n",
    "    crontab -r\n",
    "    removes your crontab file.\n",
    "\n",
    "\n",
    "#4: MAKE YOUR PC DO STUFF REPEATEDLY\n",
    "\n",
    "    https://technet.microsoft.com/en-us/library/cc725744.aspx\n",
    "    Courtesy of Mr. Sebastian Munoz-Najar Galvez!"
   ]
  },
  {
   "cell_type": "markdown",
   "metadata": {},
   "source": [
    "#GENERAL NOTES FROM CLASS"
   ]
  },
  {
   "cell_type": "markdown",
   "metadata": {},
   "source": [
    "The danger of automatically generated stories:\n",
    "\n",
    "http://projects.propublica.org/schools/\n",
    "http://projects.propublica.org/schools/schools/362058001928\n",
    "\"and it has two teachers on staff.\"\n",
    "\n",
    "########################################################################\n",
    "\n",
    "**Commas work with `print`, not with `return`!**\n",
    "\n",
    "    def dummy0():\n",
    "        return \"A\",\"shallow\",\"strong\",\",\",\"4.5\",\"earthquake was reported\",\"Tuesday\",\"morning\",\"on \",\"June 6\",\".\"\n",
    "    print \"Using commas(,) with `return` gives you a tuple:\\n\",dummy0()\n",
    "\n",
    "** Alternatives: **\n",
    "\n",
    "    def dummy1():\n",
    "\treturn \"A %s %s, %s earthquake was reported %s %s on %s.\" % ( \"shallow\",\"strong\",\"4.5\",\"Tuesday\",\"morning\",\"June \n",
    "    6\" )\n",
    "        # %s # string\n",
    "        # %i # integer\n",
    "        # %d # float?\n",
    "        # %r\n",
    "    print dummy1()\n",
    "\n",
    "    def dummy2():\n",
    "        return \"A \"+\"shallow\"+\" \"+\"strong\"+\", \"+\"4.5\"+\" earthquake was reported \"+\"Tuesday\"+\" \"+\"morning\"+\" on \"+\"June \n",
    "        6\"+\".\"\n",
    "    print dummy2()\n",
    "\n",
    "\n",
    "\n",
    "# How to make a list of dictionary from CSVs online\n",
    "\n",
    "    import csv,urllib2\n",
    "    ourlistofdicts = list( csv.DictReader( urllib2.urlopen( \n",
    "    \"http://earthquake.usgs.gov/earthquakes/feed/v1.0/summary/1.0_hour.csv\" ) ) )\n",
    "\n",
    "\n"
   ]
  },
  {
   "cell_type": "code",
   "execution_count": null,
   "metadata": {
    "collapsed": true
   },
   "outputs": [],
   "source": []
  }
 ],
 "metadata": {
  "kernelspec": {
   "display_name": "Python 2",
   "language": "python",
   "name": "python2"
  },
  "language_info": {
   "codemirror_mode": {
    "name": "ipython",
    "version": 2
   },
   "file_extension": ".py",
   "mimetype": "text/x-python",
   "name": "python",
   "nbconvert_exporter": "python",
   "pygments_lexer": "ipython2",
   "version": "2.7.10"
  }
 },
 "nbformat": 4,
 "nbformat_minor": 0
}
