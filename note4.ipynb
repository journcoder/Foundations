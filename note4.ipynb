{
 "cells": [
  {
   "cell_type": "markdown",
   "metadata": {},
   "source": [
    "#**Do Now FIVE Wednesday, June 10, 2015**\n",
    "\n",
    "*Reviewing: dictionaries, lists, CSVs*\n",
    "\n",
    "\n",
    "1) What's the output of the following lines?\n",
    "\n",
    "name = \"Max\"\n",
    "print \"hello\", \"name\"\n",
    "print \"hello\", name\n",
    "\n",
    "2) What is the output of the following code? Which lines give you errors?\n",
    "\n",
    "borough_name = 'Manhattan'\n",
    "\n",
    "z = [ 'Manhattan', 'Queens' ]\n",
    "\n",
    "x = { 'borough_name': 'Manhattan', 'population': 500 }\n",
    "\n",
    "y = {\n",
    "'Manhattan': 500,\n",
    "'Queens': 200\n",
    "}\n",
    "\n",
    "\n",
    "print x['borough_name']\n",
    "\n",
    "print x[borough_name]\n",
    "\n",
    "print x[0]\n",
    "\n",
    "print y['borough_name']\n",
    "\n",
    "print y[borough_name]\n",
    "\n",
    "print y[0]\n",
    "\n",
    "print z['borough_name']\n",
    "\n",
    "print z[borough_name]\n",
    "\n",
    "print z[0]\n",
    "\n",
    "3) We have a list called numbers, but we had an off-by-one error: add one to every element of the list, then sum the results. Do this in one line.\n",
    "\n",
    "4a) Given the following, write code to calculate how many murders we have in total.\n",
    "\n",
    "murders = { 'Albany': 23, 'Kings County': 10, 'Rochester': 7, 'Yonkers: 9 }\n",
    "\n",
    "4b) Write code to calculate the percentage of the murders happened in Kings County.\n"
   ]
  },
  {
   "cell_type": "markdown",
   "metadata": {},
   "source": [
    "**1) What's the output of the following lines?**\n",
    "\n",
    "name = \"Max\" \n",
    "\n",
    "print \"hello\", \"name\" \n",
    "\n",
    "print \"hello\", name\n",
    "\n",
    "-- hello, name (because quotes make it a string)\n",
    "-- hello, max (not a string, use name defined value(s))"
   ]
  },
  {
   "cell_type": "markdown",
   "metadata": {},
   "source": [
    "**2) What is the output of the following code? Which lines give you errors?**\n",
    "\n",
    "borough_name = 'Manhattan'\n",
    "\n",
    "z = [ 'Manhattan', 'Queens' ]\n",
    "\n",
    "x = { 'borough_name': 'Manhattan', 'population': 500 }\n",
    "\n",
    "y = {\n",
    "'Manhattan': 500,\n",
    "'Queens': 200\n",
    "}\n",
    "\n",
    "\n",
    "a. print x['borough_name']\n",
    "\n",
    "b. print x[borough_name]\n",
    "\n",
    "c. print x[0]\n",
    "\n",
    "d. print y['borough_name']\n",
    "\n",
    "e. print y[borough_name]\n",
    "\n",
    "f. print y[0]\n",
    "\n",
    "g. print z['borough_name']\n",
    "\n",
    "h. print z[borough_name]\n",
    "\n",
    "i. print z[0]\n"
   ]
  },
  {
   "cell_type": "markdown",
   "metadata": {},
   "source": [
    "a output: n/a because of the quote marks \n",
    "\n",
    "b output: Manhatan b/c no value quotes\n",
    "\n",
    "c output: n/a because you can't count dict values.\n",
    "\n",
    "d output: n/a because of the quote marks \n",
    "\n",
    "e output: Manhattan, Queens\n",
    "\n",
    "f. n/a because you can't count dict values.\n",
    "\n",
    "g output: n/a because of the quote marks \n",
    "\n",
    "h output: n/a becuse it's a list. \n",
    "\n",
    "i output: Manhattan"
   ]
  },
  {
   "cell_type": "markdown",
   "metadata": {},
   "source": [
    "**3) We have a list called numbers, but we had an off-by-one error: add one to every element of the list, then sum the results. Do this in one line.**\n",
    "\n",
    "\n",
    "*I forget how to do this and the next two ... we just did this in the last class....*"
   ]
  },
  {
   "cell_type": "markdown",
   "metadata": {},
   "source": [
    "**4a) Given the following, write code to calculate how many murders we have in total.\n",
    "murders = { 'Albany': 23, 'Kings County': 10, 'Rochester': 7, 'Yonkers: 9 }**\n"
   ]
  },
  {
   "cell_type": "markdown",
   "metadata": {},
   "source": [
    "**4b) Write code to calculate the percentage of the murders happened in Kings County.**"
   ]
  },
  {
   "cell_type": "markdown",
   "metadata": {},
   "source": [
    "## NOT MUCH NOTES FROM THIS CLASS B/C WE WENT OVER IPHYTHON NOTEBOOKS... \n",
    "\n",
    "GO INTO terminal ... \n",
    "open your lede file ... ipython noteboook "
   ]
  },
  {
   "cell_type": "code",
   "execution_count": null,
   "metadata": {
    "collapsed": true
   },
   "outputs": [],
   "source": []
  }
 ],
 "metadata": {
  "kernelspec": {
   "display_name": "Python 2",
   "language": "python",
   "name": "python2"
  },
  "language_info": {
   "codemirror_mode": {
    "name": "ipython",
    "version": 2
   },
   "file_extension": ".py",
   "mimetype": "text/x-python",
   "name": "python",
   "nbconvert_exporter": "python",
   "pygments_lexer": "ipython2",
   "version": "2.7.9"
  }
 },
 "nbformat": 4,
 "nbformat_minor": 0
}
